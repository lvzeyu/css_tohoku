{
 "cells": [
  {
   "attachments": {},
   "cell_type": "markdown",
   "metadata": {},
   "source": [
    "# GitとGitHub\n",
    "\n",
    "## 紹介\n",
    "\n",
    "[Git](https://git-scm.com/)は「**パージョン管理システム(Version Control System)**」と呼ばれるものの一つです。\n",
    "\n",
    "パージョン管理システムは、バージョン管理とは、一つのファイルやファイルの集合に対して時間とともに加えられていく変更を記録するシステムで、後で特定バージョンを呼び出すことができるようにするためのものです。\n",
    "\n",
    "ファイルの「パージョン(変更履歴)」を記録して、いつでも過去の状況に戻したり、過去の変更履歴を比較したり、どのタイミングで問題が起こっているかといった様々なことができるようになって、プログラム開発やファイル管理を補助するシステムです。\n",
    "\n",
    "```{margin}\n",
    "様々な方法でGitを使うことができます。この授業はコマンドラインツールとVSCodeでGitを使うことにします。コマンドラインツールを利用しますので、Macの場合はターミナル、Windowsの場合はコマンド・プロンプトやPowerShellを起動する方法を調べてください。\n",
    "```\n",
    "\n",
    "パージョン管理システムはたくさんの種類がありますが、現在最も利用されているのはGitです。さらに、[**GitHub**](https://github.com/)などの**リモートリポジトリ**と組み合わせることで、クラウドでデータを管理したり、プロジェクトを共同開発するとき強力なツールとなります。\n",
    "\n",
    "![](./Figure/remote.png)"
   ]
  },
  {
   "attachments": {},
   "cell_type": "markdown",
   "metadata": {},
   "source": [
    "## インストール\n",
    "\n",
    "### Git\n",
    "\n",
    "#### Gitインストール\n",
    "\n",
    "[公式サイト](https://git-scm.com/downloads)からGitをインストールする。\n",
    "\n",
    "#### Gitの初期設定\n",
    "- ターミナルを開きます。\n",
    "- 次の git コマンドでユーザー情報を設定する。\n",
    "```\n",
    "git config --global user.name \"First-name Family-name\"\n",
    "git config --global user.email \"username@example.com\"\n",
    "```\n",
    "- 次の git コマンドでSSHキーを生成する。\n",
    "```\n",
    "cd ~/.ssh\n",
    "ssh-keygen -t rsa\n",
    "```\n",
    "- 任意のパスフレーズを入力してEnter（2回）。パスフレーズが不要であれば空欄のままEnterでよい。\n",
    "- SSH Keyを格納するディレクトリに移動します。```ls```でファイルを確認します。```id_rsa.pub```というファイルがあるはずです。\n",
    "- ```cat id_rsa.pub```でSSHキーを開く、```ssh-rsa XXX```を全てコピーします。\n",
    "- Githubのページの右上で、プロフィール画像をクリックし、続いてSettings→Access→New SSH key→Add SSH keyをクリックしてください。\n",
    "- キーを ```Key``` フィールドに貼り付けます。\n",
    "- ```Add SSH key```をクリックしてください。\n",
    "- ターミナルで```ssh -T git@github.com```を実行します。もしGitHubの連携できたら、以下の内容が表示されます。\n",
    "```\n",
    "Hi USERNAME! You've successfully authenticated, but GitHub does not provide shell access.\n",
    "```\n",
    "\n",
    "### VSCodeのインストール\n",
    "\n",
    "[公式サイト](https://code.visualstudio.com/)からVsCodeをインストールする。\n",
    "\n",
    "```{note}\n",
    "VSCodeは強力なコードエディターであり、様々なプログラミング言語に機能を提供する幅広い拡張機能を備えた軽量の汎用統合開発環境 (IDE) です。VSCodeでより簡単的に・効率的にGitを操作できます。また、VSCodeでは便利な機能が豊富に搭載されている[Python拡張機能](https://learn.microsoft.com/ja-jp/training/modules/python-install-vscode/5-exercise-install-python-extension?pivots=linux)もたくさんありますので、Python開発にもよく活用されています。\n",
    "```"
   ]
  },
  {
   "attachments": {},
   "cell_type": "markdown",
   "metadata": {},
   "source": []
  }
 ],
 "metadata": {
  "language_info": {
   "name": "python"
  },
  "orig_nbformat": 4
 },
 "nbformat": 4,
 "nbformat_minor": 2
}
