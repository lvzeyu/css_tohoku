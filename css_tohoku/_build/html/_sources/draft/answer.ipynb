{
 "cells": [
  {
   "cell_type": "code",
   "execution_count": 1,
   "metadata": {},
   "outputs": [
    {
     "ename": "SyntaxError",
     "evalue": "unterminated string literal (detected at line 9) (3016892037.py, line 9)",
     "output_type": "error",
     "traceback": [
      "\u001b[0;36m  Cell \u001b[0;32mIn[1], line 9\u001b[0;36m\u001b[0m\n\u001b[0;31m    Let's go with B.\u001b[0m\n\u001b[0m       ^\u001b[0m\n\u001b[0;31mSyntaxError\u001b[0m\u001b[0;31m:\u001b[0m unterminated string literal (detected at line 9)\n"
     ]
    }
   ],
   "source": [
    "<details><summary>Answer</summary>\n",
    "\n",
    "The two heads are getting the same input data so they will be calculating the same gradients and will end up learning the same thing. We have two options:\n",
    "\n",
    "A. Feed the two networks different data. This would essentially mean training the two networks independently or restructuring our data so that batch sizes of treated and control units can be split equally after input.\n",
    "\n",
    "B. Somehow ensure that each head only receives error gradients for the correct treatment group. This will require writing a custom loss function.\n",
    "\n",
    "Let's go with B.\n",
    "</details>"
   ]
  },
  {
   "cell_type": "code",
   "execution_count": 1,
   "metadata": {},
   "outputs": [
    {
     "name": "stdout",
     "output_type": "stream",
     "text": [
      "クラスタリングの精度: 0.9666666666666667\n"
     ]
    }
   ],
   "source": [
    "import pandas as pd\n",
    "from sklearn.datasets import load_iris\n",
    "from sklearn.mixture import GaussianMixture\n",
    "from sklearn.metrics import accuracy_score\n",
    "\n",
    "# アイリスデータセットの読み込み\n",
    "iris = load_iris()\n",
    "X = iris.data\n",
    "y_true = iris.target\n",
    "\n",
    "# GMMモデルのインスタンス化と学習\n",
    "gmm = GaussianMixture(n_components=3, random_state=42)  # クラスタ数を3に設定\n",
    "gmm.fit(X)\n",
    "\n",
    "# クラスタリング結果のラベルを取得\n",
    "y_pred = gmm.predict(X)\n",
    "\n",
    "df_clustering = pd.DataFrame({'cluster': y_pred, 'target': y_true})\n",
    "df_clustering[\"cluster\"]=df_clustering[\"cluster\"].map({0:2, 1:0, 2:1}) # クラスタ番号を元のラベルに対応させる\n",
    "\n",
    "# クラスタリングの精度を計算\n",
    "accuracy = accuracy_score(df_clustering[\"cluster\"], df_clustering[\"target\"])\n",
    "\n",
    "# 結果の表示\n",
    "print(f\"クラスタリングの精度: {accuracy}\")"
   ]
  },
  {
   "cell_type": "markdown",
   "metadata": {},
   "source": [
    "シーケンス型（sequence types）とは、データが順序付けられているデータ型のことを指します。Pythonなどのプログラミング言語における主なシーケンス型には以下のようなものがあります：\n",
    "\n",
    "リスト（List）: 可変的で、異なるデータ型の要素を含むことができます。\n",
    "タプル（Tuple）: 不変的で、一度作成後にはその内容を変更することができません。\n",
    "文字列（String）: 不変的で、文字の並びを表します。\n",
    "レンジ（Range）: 数値のシーケンスを生成するために使われます。"
   ]
  },
  {
   "cell_type": "code",
   "execution_count": 1,
   "metadata": {},
   "outputs": [
    {
     "data": {
      "text/plain": [
       "(525949.0, 12.0)"
      ]
     },
     "execution_count": 1,
     "metadata": {},
     "output_type": "execute_result"
    }
   ],
   "source": [
    "# 定義された一年の平均日数\n",
    "average_days_per_year = 365.2425\n",
    "\n",
    "# 1日は24時間、1時間は60分、1分は60秒である\n",
    "seconds_per_day = 24 * 60 * 60\n",
    "\n",
    "# 一年の秒数を計算\n",
    "seconds_per_year = average_days_per_year * seconds_per_day\n",
    "\n",
    "# 一年の秒数を分と秒に変換\n",
    "minutes_per_year = seconds_per_year // 60  # 整数分のみ取得\n",
    "seconds_remaining = seconds_per_year % 60  # 残りの秒数\n",
    "\n",
    "minutes_per_year, seconds_remaining"
   ]
  },
  {
   "cell_type": "code",
   "execution_count": null,
   "metadata": {},
   "outputs": [],
   "source": [
    "# Example 1: check if a string is palindrome or not\n",
    "\n",
    "my_str = 'aIbohPhoBiA'\n",
    "\n",
    "# make it suitable for caseless comparison\n",
    "my_str = my_str.casefold()\n",
    "\n",
    "# reverse the string\n",
    "rev_str = reversed(my_str)\n",
    "\n",
    "# check if the string is equal to its reverse\n",
    "if list(my_str) == list(rev_str):\n",
    "    print(\"The string is a palindrome.\")\n",
    "else:\n",
    "    print(\"The string is not a palindrome.\")"
   ]
  },
  {
   "cell_type": "code",
   "execution_count": null,
   "metadata": {},
   "outputs": [],
   "source": [
    "# Example 2: check if a string is a Palindrome.\n",
    "\n",
    "string=str(input(\"Enter string:\"))\n",
    "if(string==string[::-1]):\n",
    "    print(\"The string is a palindrome\")\n",
    "else:\n",
    "    print(\"The string isn't a palindrome\")\n",
    "\n",
    "'''\n",
    ">>Output/Runtime Test Cases\n",
    "     \n",
    "Case 1:\n",
    "Enter string:madam\n",
    "The string is a palindrome\n",
    "\n",
    "Case 2:\n",
    "Enter string:hello\n",
    "The string isn't a palindrome\n",
    "'''"
   ]
  },
  {
   "cell_type": "code",
   "execution_count": null,
   "metadata": {},
   "outputs": [],
   "source": [
    "if num > 1:\n",
    "   # check for factors\n",
    "   for i in range(2,num):\n",
    "        if (num % i) == 0:\n",
    "            print(num,\"is not a prime number\")\n",
    "            print(i,\"times\",num//i,\"is\",num)\n",
    "            break\n",
    "   else:\n",
    "        print(num,\"is a prime number\")\n",
    "       \n",
    "# if input number is less than\n",
    "# or equal to 1, it is not prime\n",
    "else:\n",
    "    print(num,\"is not a prime number\")"
   ]
  },
  {
   "cell_type": "code",
   "execution_count": null,
   "metadata": {},
   "outputs": [],
   "source": [
    "# Example 1: display all the prime numbers within an interval\n",
    "\n",
    "lower = 900\n",
    "upper = 1000\n",
    "\n",
    "print(\"Prime numbers between\", lower, \"and\", upper, \"are:\")\n",
    "\n",
    "for num in range(lower, upper + 1):\n",
    "   # all prime numbers are greater than 1\n",
    "   if num > 1:\n",
    "        for i in range(2, num):\n",
    "            if (num % i) == 0:\n",
    "                break\n",
    "        else:\n",
    "            print(num)\n",
    "    "
   ]
  },
  {
   "cell_type": "code",
   "execution_count": null,
   "metadata": {},
   "outputs": [],
   "source": [
    "# Example 1: display the Fibonacci sequence up to n-th term\n",
    "\n",
    "nterms = int(input(\"How many terms? \"))\n",
    "\n",
    "# first two terms\n",
    "n1, n2 = 0, 1\n",
    "count = 0\n",
    "\n",
    "# check if the number of terms is valid\n",
    "if nterms <= 0:\n",
    "    print(\"Please enter a positive integer\")\n",
    "# if there is only one term, return n1\n",
    "elif nterms == 1:\n",
    "    print(\"Fibonacci sequence upto\",nterms,\":\")\n",
    "    print(n1)\n",
    "# generate fibonacci sequence\n",
    "else:\n",
    "    print(\"Fibonacci sequence:\")\n",
    "    while count < nterms:\n",
    "        print(n1)\n",
    "        nth = n1 + n2\n",
    "        # update values\n",
    "        n1 = n2\n",
    "        n2 = nth"
   ]
  },
  {
   "cell_type": "code",
   "execution_count": null,
   "metadata": {},
   "outputs": [],
   "source": []
  },
  {
   "cell_type": "code",
   "execution_count": null,
   "metadata": {},
   "outputs": [],
   "source": [
    "import random\n",
    "import math\n",
    "\n",
    "BOARD_SIZE = 5  # ボードサイズを定義\n",
    "\n",
    "def generate_position(board_size):\n",
    "    # スイカとプレイヤーの初期位置をランダムに生成\n",
    "    return (random.randrange(0, board_size), random.randrange(0, board_size))\n",
    "\n",
    "def determine_move(player_pos, target_pos):\n",
    "    # スイカに向かってプレイヤーを移動させる方向を決定\n",
    "    current_x, current_y = player_pos\n",
    "    target_x, target_y = target_pos\n",
    "\n",
    "    move_x = 1 if current_x < target_x else -1 if current_x > target_x else 0\n",
    "    move_y = 1 if current_y < target_y else -1 if current_y > target_y else 0\n",
    "\n",
    "    return (move_x, move_y)\n",
    "\n",
    "def move_player(player_pos, move_x, move_y):\n",
    "    # プレイヤーの位置を更新\n",
    "    new_x = player_pos[0] + move_x\n",
    "    new_y = player_pos[1] + move_y\n",
    "    return (new_x, new_y)\n",
    "\n",
    "def play_game(board_size):\n",
    "    suika_pos = generate_position(board_size)\n",
    "    player_pos = generate_position(board_size)\n",
    "\n",
    "    while suika_pos != player_pos:\n",
    "        move_x, move_y = determine_move(player_pos, suika_pos)\n",
    "        player_pos = move_player(player_pos, move_x, move_y)\n",
    "        print(\"プレイヤーが移動しました:\", player_pos)\n",
    "\n",
    "    print(\"スイカを見つけました！\")\n",
    "\n",
    "# ゲームを開始\n",
    "play_game(BOARD_SIZE)"
   ]
  },
  {
   "cell_type": "code",
   "execution_count": 1,
   "metadata": {},
   "outputs": [
    {
     "name": "stdout",
     "output_type": "stream",
     "text": [
      "スイカの位置: (1, 1)\n",
      "プレイヤー 1 が移動しました: (3, 1)\n",
      "プレイヤー 2 が移動しました: (2, 2)\n",
      "プレイヤー 3 が移動しました: (1, 3)\n",
      "プレイヤー 1 が移動しました: (2, 1)\n",
      "プレイヤー 2 が移動しました: (1, 1)\n",
      "プレイヤー 2 がスイカを見つけました！\n"
     ]
    }
   ],
   "source": [
    "import random\n",
    "import math\n",
    "\n",
    "BOARD_SIZE = 5  # ボードサイズを定義\n",
    "NUM_PLAYERS = 3  # プレイヤーの数\n",
    "\n",
    "def generate_position(board_size):\n",
    "    # スイカとプレイヤーの初期位置をランダムに生成\n",
    "    return (random.randrange(0, board_size), random.randrange(0, board_size))\n",
    "\n",
    "def determine_move(player_pos, target_pos):\n",
    "    # スイカに向かってプレイヤーを移動させる方向を決定\n",
    "    current_x, current_y = player_pos\n",
    "    target_x, target_y = target_pos\n",
    "\n",
    "    move_x = 1 if current_x < target_x else -1 if current_x > target_x else 0\n",
    "    move_y = 1 if current_y < target_y else -1 if current_y > target_y else 0\n",
    "\n",
    "    return (move_x, move_y)\n",
    "\n",
    "def move_player(player_pos, move_x, move_y):\n",
    "    # プレイヤーの位置を更新\n",
    "    new_x = player_pos[0] + move_x\n",
    "    new_y = player_pos[1] + move_y\n",
    "    return (new_x, new_y)\n",
    "\n",
    "def play_game(board_size, num_players):\n",
    "    suika_pos = generate_position(board_size)\n",
    "    player_positions = [generate_position(board_size) for _ in range(num_players)]\n",
    "\n",
    "    print(\"スイカの位置:\", suika_pos)\n",
    "\n",
    "    winner = None\n",
    "    while winner is None:\n",
    "        for i in range(num_players):\n",
    "            if player_positions[i] == suika_pos:\n",
    "                winner = i\n",
    "                break\n",
    "            \n",
    "            move_x, move_y = determine_move(player_positions[i], suika_pos)\n",
    "            player_positions[i] = move_player(player_positions[i], move_x, move_y)\n",
    "            print(f\"プレイヤー {i + 1} が移動しました:\", player_positions[i])\n",
    "\n",
    "            if player_positions[i] == suika_pos:\n",
    "                winner = i\n",
    "                break\n",
    "\n",
    "    print(f\"プレイヤー {winner + 1} がスイカを見つけました！\")\n",
    "\n",
    "# ゲームを開始\n",
    "play_game(BOARD_SIZE, NUM_PLAYERS)"
   ]
  },
  {
   "cell_type": "code",
   "execution_count": null,
   "metadata": {},
   "outputs": [],
   "source": [
    "average = lambda numbers: sum(numbers) / len(numbers) if numbers else 0\n",
    "even_numbers = [x for x in numbers if (lambda y: y % 2 == 0)(x)]\n",
    "numbers = [1, 2, 3, 4, 5, 6, 7, 8, 9, 10]\n"
   ]
  }
 ],
 "metadata": {
  "kernelspec": {
   "display_name": "jupyterbook",
   "language": "python",
   "name": "python3"
  },
  "language_info": {
   "codemirror_mode": {
    "name": "ipython",
    "version": 3
   },
   "file_extension": ".py",
   "mimetype": "text/x-python",
   "name": "python",
   "nbconvert_exporter": "python",
   "pygments_lexer": "ipython3",
   "version": "3.12.1"
  },
  "orig_nbformat": 4
 },
 "nbformat": 4,
 "nbformat_minor": 2
}
