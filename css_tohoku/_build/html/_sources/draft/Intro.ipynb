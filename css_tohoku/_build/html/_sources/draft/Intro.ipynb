{
 "cells": [
  {
   "attachments": {},
   "cell_type": "markdown",
   "metadata": {},
   "source": [
    "# 授業の概要\n",
    "\n",
    "Pythonは世界中でよく使われているプログラミング言語です。特に、科学計算とデータ分析のコミュニティの発展に伴う、Pythonはデータサイエンス、機械学習などの領域において、最も重要な言語の一つと変わっていきました。\n",
    "\n",
    "この授業は、プログラミング言語Pythonを用いて計算社会科学的なデータ操作・処理・分析用プログラムを書くための基本的な技術を習得することを目的とします。その以外、プログラミングとデータ分析のために必要な知識と技術も学びます。\n",
    "\n",
    "## 授業の資料について\n",
    "\n",
    "この授業の資料は、[Jupyter Notebook](https://jupyter-notebook.readthedocs.io/en/stable/)形式で作成されたソースファイルを[Jupyter Book](https://jupyterbook.org/en/stable/intro.html)を用いて変換することで作成されたコンテンツになっている。\n",
    "\n",
    "\n",
    "- 授業の資料はこちらのリンクで閲覧できます。\n",
    "- `.ipynb`形式のソースファイルの管理と共有には、GitHubと呼ばれる環境を利用していて、ソースファイルは[こちら](https://github.com/lvzeyu/css_tohoku)からも閲覧できる。\n",
    "- [Google Colaboratory](https://colab.research.google.com/)というサービスを利用してGoogleのクラウド環境上でJupyter Nootebookを編集・実行することができます (手持ちのPCの動作に不安がある方は、Google Colaboratoryを利用してください)。\n",
    "```{note}\n",
    "Google Colaboratory上でノートブックを開くには、ロケットの形をしたボタンにマウスオーバーして”Colab”から開く。\n",
    "```"
   ]
  },
  {
   "attachments": {},
   "cell_type": "markdown",
   "metadata": {},
   "source": [
    "# Python"
   ]
  },
  {
   "attachments": {},
   "cell_type": "markdown",
   "metadata": {},
   "source": [
    "## Pythonとは？"
   ]
  },
  {
   "attachments": {},
   "cell_type": "markdown",
   "metadata": {},
   "source": [
    "Pythonはデータ解析・機械学習のためのライブラリが充実しており、データ解析や機械学習の分野で最もよく使われている言語である。"
   ]
  },
  {
   "attachments": {},
   "cell_type": "markdown",
   "metadata": {},
   "source": [
    "### NumPy\n",
    "[**NumPy**](https://numpy.org/doc/)は、プログラミング言語Pythonにおいて数値計算を効率的に行うための拡張モジュールである。効率的な数値計算を行うための型付きの多次元配列（numpy.ndarray）のサポートをPythonに加えるとともに、それらを操作するための大規模な高水準の数学関数ライブラリを提供する。\n",
    "\n",
    "### pandas\n",
    "\n",
    "[**pandas**](https://pandas.pydata.org/docs/)とは、データ解析を容易にする機能を提供するPythonのデータ解析ライブラリです。\n",
    "Pandasの特徴は、データ操作のための高速で効率的なデータフレーム (DataFrame) という高いレベルのデータ構造データを提供しています。構造化されるデータ形式で、データの調整や変形など様々な処理が可能です。\n",
    "\n",
    "### matplotlib\n",
    "\n",
    " [**matplotlib**](https://matplotlib.org/stable/index.html)は、グラフ描画ライブラリである。オブジェクト指向のAPIを提供しており、様々な種類のグラフを描画する能力を持つ。Pythonで使える可視化ためのライブライは他にもありますが、Matplotlibは最も広く使われているため、他のライブライとうまく連携しやすくなっています。\n",
    "\n",
    "### scikit-learn\n",
    "\n",
    "[**scikit-learn**](https://scikit-learn.org/stable/)は機械学習ライブラリである。教師あり学習、教師なし学習に関するアルゴリズム(SVM、Random Forest、回帰、クラスタリングなど)の効率的な実装を提供しています。\n"
   ]
  },
  {
   "attachments": {},
   "cell_type": "markdown",
   "metadata": {},
   "source": [
    "# Jupyter\n",
    "\n",
    "Jupyter Notebookとは、ブラウザの強力な表示機能を活用したインターフェイスです。Pythonコードの実行だけでなく、Markdownテキスト・数式・図などを含んだドキュメント作成の機能も備えています。\n",
    "\n",
    "## Jupyterの基本\n",
    "- Jupyterにはコマンドモードとエディットモードがあります。セルをダブルクリックするか、選択して```enter```を押すと、そのセルのエディットモードになります。エディットモードで```esc```を押すか、別のセルをクリックするとコマンドモードに戻ります。\n",
    "- jupyterはセルを基本的な要素としています。セルにはいくつか種類がありますが、CodeとMarkdownの２種類だけ覚えてください。\n",
    "- [ショートカット](https://qiita.com/zawawahoge/items/baa2a5318df079c5f7e5)はいろいろありますが、最低限次だけは覚えましょう。\n",
    "\n",
    "```{コマンドモード}\n",
    "shift+enterを押す: コードを実行し、下のセルに移動する.\n",
    "Mを押す: マークダウンセルにする\n",
    "Yを押す: コードセルにする\n",
    "Dを二回押す: セルを削除する\n",
    "Oを押す: セルの出力結果の表示・非表示\n",
    "Aを押す: 上にセルを追加する\n",
    "Bを押す: 下にセルを追加する  \t\n",
    "```\n",
    "## Markdown\n",
    "\n",
    "Markdown（マークダウン）は、文書を記述するための言語のひとつです。基本的なMarkdown記法を覚えておきましょう。\n",
    "\n",
    "### 見出し\n",
    "```\n",
    "# 見出し1\n",
    "## 見出し2\n",
    "### 見出し3\n",
    "#### 見出し4\n",
    "##### 見出し5\n",
    "###### 見出し6\n",
    "```\n",
    "\n",
    "### 箇条書きリスト\n",
    "```\n",
    "- リスト1\n",
    "    - ネスト リスト1_1\n",
    "        - ネスト リスト1_1_1\n",
    "        - ネスト リスト1_1_2\n",
    "    - ネスト リスト1_2\n",
    "- リスト2\n",
    "- リスト3\n",
    "```"
   ]
  },
  {
   "attachments": {},
   "cell_type": "markdown",
   "metadata": {},
   "source": [
    "- リスト1\n",
    "    - ネスト リスト1_1\n",
    "        - ネスト リスト1_1_1\n",
    "        - ネスト リスト1_1_2\n",
    "    - ネスト リスト1_2\n",
    "- リスト2\n",
    "- リスト3"
   ]
  },
  {
   "attachments": {},
   "cell_type": "markdown",
   "metadata": {},
   "source": [
    "### 番号付きリスト\n",
    "```\n",
    "1. 番号付きリスト1\n",
    "    1. 番号付きリスト1_1\n",
    "    1. 番号付きリスト1_2\n",
    "1. 番号付きリスト2\n",
    "1. 番号付きリスト3\n",
    "```"
   ]
  },
  {
   "attachments": {},
   "cell_type": "markdown",
   "metadata": {},
   "source": [
    "1. 番号付きリスト1\n",
    "    1. 番号付きリスト1_1\n",
    "    1. 番号付きリスト1_2\n",
    "1. 番号付きリスト2\n",
    "1. 番号付きリスト3"
   ]
  },
  {
   "attachments": {},
   "cell_type": "markdown",
   "metadata": {},
   "source": [
    "### 引用\n",
    "```\n",
    ">社会学（しゃかいがく、仏: sociologie、英:Sociology）は、社会現象の実態や、現象の起こる原因に関するメカニズム（因果関係）を体験・統計・データなどを用いて分析することで解明する学問である。\n",
    "```"
   ]
  },
  {
   "attachments": {},
   "cell_type": "markdown",
   "metadata": {},
   "source": [
    ">社会学（しゃかいがく、仏: sociologie、英:Sociology）は、社会現象の実態や、現象の起こる原因に関するメカニズム（因果関係）を体験・統計・データなどを用いて分析することで解明する学問である\n"
   ]
  },
  {
   "attachments": {},
   "cell_type": "markdown",
   "metadata": {},
   "source": [
    "## Python環境\n",
    "\n",
    "### Anaconda\n",
    "\n",
    "数あるPython の環境を構築する方法の中で、 [Anaconda](https://www.anaconda.com/)を利用することをお勧めします。\n",
    "Anaconda はデータサイエンス向けの環境を提供するプラットフォームです。科学技術計算などを中心とした、多くのモジュールやツールのコンパイル済みバイナリファイルを提供しており、簡単にPythonを利用する環境を構築・管理できます。Windows, Linux, macOS向けのパッケージが提供されています。\n"
   ]
  },
  {
   "attachments": {},
   "cell_type": "markdown",
   "metadata": {},
   "source": [
    "#### Anacondaのインストール\n",
    "\n",
    "下記の記事を参照してAnacondaをインストールします\n",
    "\n",
    "\n",
    "- [Windows版Anacondaのインストール](https://www.python.jp/install/anaconda/windows/install.html)\n",
    "- [MacOS版Anacondaのインストール](https://www.python.jp/install/anaconda/macos/install.html)\n",
    "- [Linux版Anacondaのインストール](https://www.python.jp/install/anaconda/unix/install.html)"
   ]
  },
  {
   "attachments": {},
   "cell_type": "markdown",
   "metadata": {},
   "source": [
    "#### Conda環境の作成\n",
    "- Conda環境は、```conda create```コマンドでPython環境を作成します。つぎのコマンドは、```chss``` という名前で、```Python 3.10```の環境を作成します。\n",
    "```\n",
    "conda create --name chss python=3.10\n",
    "```\n",
    "- 作成した環境を確認します。\n",
    "```\n",
    "conda info -e\n",
    "```\n",
    "- 作成した環境を有効にする。\n",
    "```\n",
    "conda activate chss\n",
    "```"
   ]
  },
  {
   "attachments": {},
   "cell_type": "markdown",
   "metadata": {},
   "source": [
    "#### Pythonコードの実行\n",
    "- ターミナルでpythonを呼び出します\n",
    "```\n",
    "python\n",
    "```\n",
    "- 定番なコードを実行しましょう"
   ]
  },
  {
   "cell_type": "code",
   "execution_count": 5,
   "metadata": {},
   "outputs": [
    {
     "name": "stdout",
     "output_type": "stream",
     "text": [
      "Hello world\n"
     ]
    }
   ],
   "source": [
    "print(\"Hello world\")"
   ]
  },
  {
   "attachments": {},
   "cell_type": "markdown",
   "metadata": {},
   "source": [
    "# GitHub"
   ]
  },
  {
   "cell_type": "markdown",
   "metadata": {},
   "source": []
  },
  {
   "cell_type": "markdown",
   "metadata": {},
   "source": []
  }
 ],
 "metadata": {
  "kernelspec": {
   "display_name": "base",
   "language": "python",
   "name": "python3"
  },
  "language_info": {
   "codemirror_mode": {
    "name": "ipython",
    "version": 3
   },
   "file_extension": ".py",
   "mimetype": "text/x-python",
   "name": "python",
   "nbconvert_exporter": "python",
   "pygments_lexer": "ipython3",
   "version": "3.9.7"
  },
  "orig_nbformat": 4,
  "vscode": {
   "interpreter": {
    "hash": "40d3a090f54c6569ab1632332b64b2c03c39dcf918b08424e98f38b5ae0af88f"
   }
  }
 },
 "nbformat": 4,
 "nbformat_minor": 2
}
