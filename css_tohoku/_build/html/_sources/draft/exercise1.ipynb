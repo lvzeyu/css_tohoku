{
 "cells": [
  {
   "cell_type": "markdown",
   "metadata": {},
   "source": [
    "# 練習課題"
   ]
  },
  {
   "cell_type": "markdown",
   "metadata": {},
   "source": [
    "## 問題1 文字列が回文かどうかをチェック"
   ]
  },
  {
   "cell_type": "markdown",
   "metadata": {},
   "source": [
    "回文(Palindrome)とは、前から読んでも後ろから読んでも同じ文字列のことです。例えば、「```dad```」という単語は、前から読んでも後ろから読んでも同じです。\n",
    "\n",
    "以下の文字列は回文かどうかをチェックするプログラムを書いてください。\n",
    "\n",
    "- 回文である場合、「The string is a palindrome」を出力する\n",
    "- 回文ではない場合、「The string is not a palindrome」を出力する"
   ]
  },
  {
   "cell_type": "code",
   "execution_count": 5,
   "metadata": {},
   "outputs": [],
   "source": [
    "my_str = 'aibohphobia'\n",
    "my_str2 = 'たけやぶやけた'\n",
    "my_str3 = 'Tohoku'"
   ]
  },
  {
   "cell_type": "markdown",
   "metadata": {},
   "source": [
    "## 問題2 文字列の最初の文字を大文字にする\n",
    "\n",
    "```.upper()```メソッドは、文字列内のすべての小文字を大文字に変換し、それを返します。\n",
    "\n",
    "my_stringにおける各単語の最初の文字を大文字にしなさい(Computational Social Science)."
   ]
  },
  {
   "cell_type": "code",
   "execution_count": 6,
   "metadata": {},
   "outputs": [],
   "source": [
    "my_string = \"computational social science\"\n"
   ]
  },
  {
   "cell_type": "markdown",
   "metadata": {},
   "source": [
    "## 問題 3 二つのリストに重複している項目を削除する\n",
    "\n",
    "```list1```から```list_2```に含まれる要素を削除する"
   ]
  },
  {
   "cell_type": "code",
   "execution_count": 7,
   "metadata": {},
   "outputs": [],
   "source": [
    "list_1 = [1, 3, 1, 6, 9]\n",
    "list_2 = [7, 5, 2, 8]"
   ]
  },
  {
   "cell_type": "code",
   "execution_count": null,
   "metadata": {},
   "outputs": [],
   "source": []
  }
 ],
 "metadata": {
  "kernelspec": {
   "display_name": "Python 3",
   "language": "python",
   "name": "python3"
  },
  "language_info": {
   "codemirror_mode": {
    "name": "ipython",
    "version": 3
   },
   "file_extension": ".py",
   "mimetype": "text/x-python",
   "name": "python",
   "nbconvert_exporter": "python",
   "pygments_lexer": "ipython3",
   "version": "3.9.6"
  }
 },
 "nbformat": 4,
 "nbformat_minor": 2
}
