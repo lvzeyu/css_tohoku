{
 "cells": [
  {
   "cell_type": "markdown",
   "metadata": {},
   "source": [
    "# 練習課題"
   ]
  },
  {
   "cell_type": "markdown",
   "metadata": {},
   "source": [
    "## 問題1 ある数字が素数かどうかをチェック"
   ]
  },
  {
   "cell_type": "markdown",
   "metadata": {},
   "source": [
    "回文(Palindrome)とは、前から読んでも後ろから読んでも同じ文字列のことです。例えば、「```dad```」という単語は、前から読んでも後ろから読んでも同じです。\n",
    "\n",
    "以下の文字列は回文かどうかをチェックするプログラムを書いてください。\n",
    "\n",
    "- 回文である場合、「The string is a palindrome」を出力する\n",
    "- 回文ではない場合、「The string is not a palindrome」を出力する"
   ]
  },
  {
   "cell_type": "code",
   "execution_count": 5,
   "metadata": {},
   "outputs": [],
   "source": [
    "my_str = 'aibohphobia'\n",
    "my_str2 = 'たけやぶやけた'\n",
    "my_str3 = 'Tohoku'"
   ]
  },
  {
   "cell_type": "markdown",
   "metadata": {},
   "source": [
    "## 問題 2 ある数字が素数かどうかをチェック\n",
    "\n",
    "素数とは、2 以上の自然数で、正の約数が 1 と自分自身のみであるもののことである。\n",
    "\n",
    "例えば、2, 3, 5, 7は素数である。一方で、$2\\times3=6$のため、6は素数ではない。\n",
    "\n",
    "以下の文字列は素数かどうかをチェックするプログラムを書いてください。\n",
    "\n",
    "- 素数である場合、「The number is a prime number」を出力する\n",
    "- 素数ではない場合、「The string is not a prime number」を出力する"
   ]
  },
  {
   "cell_type": "code",
   "execution_count": 2,
   "metadata": {},
   "outputs": [],
   "source": [
    "num = 39\n",
    "# num = 29"
   ]
  },
  {
   "cell_type": "markdown",
   "metadata": {},
   "source": [
    "## 問題3 区間内のすべての素数を表示する\n",
    "\n",
    "900から1000の間に素数である数字をリストに格納しなさい"
   ]
  },
  {
   "cell_type": "code",
   "execution_count": 3,
   "metadata": {},
   "outputs": [],
   "source": [
    "prime_nums=[]"
   ]
  },
  {
   "cell_type": "code",
   "execution_count": null,
   "metadata": {},
   "outputs": [],
   "source": []
  }
 ],
 "metadata": {
  "kernelspec": {
   "display_name": "Python 3",
   "language": "python",
   "name": "python3"
  },
  "language_info": {
   "codemirror_mode": {
    "name": "ipython",
    "version": 3
   },
   "file_extension": ".py",
   "mimetype": "text/x-python",
   "name": "python",
   "nbconvert_exporter": "python",
   "pygments_lexer": "ipython3",
   "version": "3.9.6"
  }
 },
 "nbformat": 4,
 "nbformat_minor": 2
}
