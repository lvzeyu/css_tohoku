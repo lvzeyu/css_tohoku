{
 "cells": [
  {
   "attachments": {},
   "cell_type": "markdown",
   "metadata": {},
   "source": [
    "# ```py```ファイル"
   ]
  },
  {
   "attachments": {},
   "cell_type": "markdown",
   "metadata": {},
   "source": [
    "Pythonの実行ファイルとしては、主に```.ipynb```ファイルと```.py```ファイル二つがあります。"
   ]
  },
  {
   "attachments": {},
   "cell_type": "markdown",
   "metadata": {},
   "source": [
    "- ipynbファイルは、Jupyter Notebookと呼ばれる対話型の環境で使用されるファイル形式です。拡張子は.ipynbです。Jupyter Notebookは、コード、テキスト、図、グラフなどを組み合わせたドキュメントを作成できる環境であり、プログラムの実行や結果の可視化が可能です。ipynbファイルは、セルと呼ばれるブロックに分割されており、各セルにはコードやテキストを記述できます。\n",
    "- pyファイルは、Pythonのソースコードを含むテキストファイルです。\n",
    "  - pyファイルは、コマンドラインから直接実行できます。実行時には、ファイル内のコードが順番に実行されます。\n",
    "  - pyファイルは、他のPythonファイルからモジュールとしてインポートして使用することもできます。これにより、コードの再利用やモジュール化が可能となります。"
   ]
  },
  {
   "attachments": {},
   "cell_type": "markdown",
   "metadata": {},
   "source": [
    "## モジュールのインポート\n",
    "\n",
    "Pythonでは、モジュールをインポートすることで、そのモジュール内で定義された関数、クラス、変数などにアクセスすることができます。\n",
    "\n",
    "```import module```という形でモジュールをインポートします。ここで、*module*はpyファイルのファイル名から拡張子の```.py```を取り除いたものです。"
   ]
  },
  {
   "attachments": {},
   "cell_type": "markdown",
   "metadata": {},
   "source": [
    "モジュールをインポートする際に、検索パスに含まれるディレクトリを順番に調べ、最初に見つかったモジュールを使用します。\n",
    "- 現在のディレクトリ: 実行中のスクリプトが存在するディレクトリ。\n",
    "- 環境変数```PYTHONPATH```で指定したディレクトリ\n",
    "- 標準ライブラリのためのディレクトリ\n",
    "- インストールしたサードパーティライブラリのための```site-packages```ディレクトリ"
   ]
  },
  {
   "cell_type": "code",
   "execution_count": 1,
   "metadata": {},
   "outputs": [
    {
     "name": "stdout",
     "output_type": "stream",
     "text": [
      "/Users/ryozawau/css_tohoku/css_tohoku/draft\n",
      "/opt/anaconda3/envs/jupyterbook/lib/python310.zip\n",
      "/opt/anaconda3/envs/jupyterbook/lib/python3.10\n",
      "/opt/anaconda3/envs/jupyterbook/lib/python3.10/lib-dynload\n",
      "\n",
      "/Users/ryozawau/.local/lib/python3.10/site-packages\n",
      "/opt/anaconda3/envs/jupyterbook/lib/python3.10/site-packages\n"
     ]
    }
   ],
   "source": [
    "import sys\n",
    "for place in sys.path:\n",
    "    print(place)"
   ]
  },
  {
   "attachments": {},
   "cell_type": "markdown",
   "metadata": {},
   "source": [
    "## ```py```ファイルの実行"
   ]
  },
  {
   "attachments": {},
   "cell_type": "markdown",
   "metadata": {},
   "source": [
    "```if __name__ == “__main__”:```を使うことで、スクリプトから直接にコードを実行することができます。\n",
    "\n",
    "具体的には、以下のようなコードを考えてみましょう："
   ]
  },
  {
   "cell_type": "code",
   "execution_count": 2,
   "metadata": {},
   "outputs": [],
   "source": [
    "def some_function():\n",
    "    # 何らかの処理\n",
    "    pass\n",
    "def main():\n",
    "    # メインの処理\n",
    "    pass\n",
    "if __name__ == \"__main__\":\n",
    "    main()"
   ]
  },
  {
   "attachments": {},
   "cell_type": "markdown",
   "metadata": {},
   "source": [
    "- ```some_function```という関数と```main```というメインの処理を行う関数が定義されています。\n",
    "- ```__name__``` はモジュールとして読み込まれた時にはモジュール名でしたが、スクリプトとして実行された場合には、__main__ に変わります。この性質を利用することで、スクリプトとして実行された場合にのみ、ある処理を実行したいと言った処理を実現できます。\n",
    "\n",
    "- この仕組みにより、```python ファイル.py```スクリプトとして実行された場合、```__name__```変数には```__main__```という値が割り当てられます。したがって、```if __name__ == \"__main__\":```のブロック内のコード ```main()```関数が呼び出され、スクリプトから直接に実行されます。\n"
   ]
  },
  {
   "cell_type": "markdown",
   "metadata": {},
   "source": [
    "## ```argparse```によるコマンドラインオプションの設定\n",
    "\n",
    "```argparse```はコマンドライン引数を設定・処理するためのツールです。\n",
    "\n",
    "```.py```フィアルで```argparse```を使うことで、コマンドラインからプログラムに引数を渡す、動作を制御することができます。\n",
    "\n",
    "「コマンドライン引数」とは、以下のようにPythonファイルを呼び出す際に渡せる値のことです。\n",
    "\n",
    "```\n",
    "python main.py --n cardene --age 30\n",
    "```"
   ]
  },
  {
   "cell_type": "markdown",
   "metadata": {},
   "source": [
    "- ```ArgumentParser```クラスを使用して、プログラムの説明と引数を定義します。"
   ]
  },
  {
   "cell_type": "code",
   "execution_count": 3,
   "metadata": {},
   "outputs": [],
   "source": [
    "import argparse\n",
    "parser = argparse.ArgumentParser(\n",
    "                    prog='ProgramName',\n",
    "                    description='What the program does',\n",
    "                    epilog='Text at the bottom of help')"
   ]
  },
  {
   "cell_type": "markdown",
   "metadata": {},
   "source": [
    "- ```add_argument``` メソッドを使って、引数を定義します。\n",
    "- 引数の名前、オプション、型、デフォルト値などを指定することができます。\n",
    "\n"
   ]
  },
  {
   "cell_type": "code",
   "execution_count": 4,
   "metadata": {},
   "outputs": [
    {
     "data": {
      "text/plain": [
       "_StoreAction(option_strings=['--favorite_color'], dest='favorite_color', nargs=None, const=None, default=None, type=None, choices=['red', 'green', 'blue'], required=False, help='好きな色', metavar=None)"
      ]
     },
     "execution_count": 4,
     "metadata": {},
     "output_type": "execute_result"
    }
   ],
   "source": [
    "parser.add_argument(\"--age\", type=int, default=30, help=\"年齢\")\n",
    "parser.add_argument(\"--favorite_color\", choices=[\"red\", \"green\", \"blue\"], help=\"好きな色\")"
   ]
  },
  {
   "cell_type": "markdown",
   "metadata": {},
   "source": [
    "```{note}\n",
    "Google Colab で Drive をマウントし、ディレクトリを変更するには、以下の手順を実行します。\n",
    "\n",
    "- 以下のコードを実行して、Drive をマウントします。\n",
    "\n",
    "`\n",
    "from google.colab import drive\n",
    "drive.mount('/content/drive')\n",
    "`\n",
    "\n",
    "- os.chdir() 関数を使用してディレクトリを変更できます。\n",
    "\n",
    "```"
   ]
  }
 ],
 "metadata": {
  "kernelspec": {
   "display_name": "base",
   "language": "python",
   "name": "python3"
  },
  "language_info": {
   "codemirror_mode": {
    "name": "ipython",
    "version": 3
   },
   "file_extension": ".py",
   "mimetype": "text/x-python",
   "name": "python",
   "nbconvert_exporter": "python",
   "pygments_lexer": "ipython3",
   "version": "3.10.9"
  }
 },
 "nbformat": 4,
 "nbformat_minor": 2
}