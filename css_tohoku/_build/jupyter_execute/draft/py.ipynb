{
 "cells": [
  {
   "attachments": {},
   "cell_type": "markdown",
   "metadata": {},
   "source": [
    "# ```py```ファイル"
   ]
  },
  {
   "attachments": {},
   "cell_type": "markdown",
   "metadata": {},
   "source": [
    "Pythonの実行ファイルとしては、主に```.ipynb```ファイルと```.py```ファイル二つがあります。"
   ]
  },
  {
   "attachments": {},
   "cell_type": "markdown",
   "metadata": {},
   "source": [
    "- ipynbファイルは、Jupyter Notebookと呼ばれる対話型の環境で使用されるファイル形式です。拡張子は.ipynbです。Jupyter Notebookは、コード、テキスト、図、グラフなどを組み合わせたドキュメントを作成できる環境であり、プログラムの実行や結果の可視化が可能です。ipynbファイルは、セルと呼ばれるブロックに分割されており、各セルにはコードやテキストを記述できます。\n",
    "- pyファイルは、Pythonのソースコードを含むテキストファイルです。\n",
    "  - pyファイルは、コマンドラインから直接実行できます。実行時には、ファイル内のコードが順番に実行されます。\n",
    "  - pyファイルは、他のPythonファイルからモジュールとしてインポートして使用することもできます。これにより、コードの再利用やモジュール化が可能となります。"
   ]
  },
  {
   "attachments": {},
   "cell_type": "markdown",
   "metadata": {},
   "source": [
    "## モジュールのインポート\n",
    "\n",
    "Pythonでは、モジュールをインポートすることで、そのモジュール内で定義された関数、クラス、変数などにアクセスすることができます。\n",
    "\n",
    "```import module```という形でモジュールをインポートします。ここで、*module*はpyファイルのファイル名から拡張子の```.py```を取り除いたものです。"
   ]
  },
  {
   "attachments": {},
   "cell_type": "markdown",
   "metadata": {},
   "source": [
    "モジュールをインポートする際に、検索パスに含まれるディレクトリを順番に調べ、最初に見つかったモジュールを使用します。\n",
    "- 現在のディレクトリ: 実行中のスクリプトが存在するディレクトリ。\n",
    "- 環境変数```PYTHONPATH```で指定したディレクトリ\n",
    "- 標準ライブラリのためのディレクトリ\n",
    "- インストールしたサードパーティライブラリのための```site-packages```ディレクトリ"
   ]
  },
  {
   "cell_type": "code",
   "execution_count": 1,
   "metadata": {},
   "outputs": [
    {
     "name": "stdout",
     "output_type": "stream",
     "text": [
      "/Users/ryozawau/css_tohoku/css_tohoku/draft\n",
      "/opt/anaconda3/envs/jupyterbook/lib/python310.zip\n",
      "/opt/anaconda3/envs/jupyterbook/lib/python3.10\n",
      "/opt/anaconda3/envs/jupyterbook/lib/python3.10/lib-dynload\n",
      "\n",
      "/Users/ryozawau/.local/lib/python3.10/site-packages\n",
      "/opt/anaconda3/envs/jupyterbook/lib/python3.10/site-packages\n"
     ]
    }
   ],
   "source": [
    "import sys\n",
    "for place in sys.path:\n",
    "    print(place)"
   ]
  },
  {
   "attachments": {},
   "cell_type": "markdown",
   "metadata": {},
   "source": [
    "## ```py```ファイルの実行\n"
   ]
  },
  {
   "attachments": {},
   "cell_type": "markdown",
   "metadata": {},
   "source": [
    "```if __name__ == “__main__”:```を使うことで、スクリプトから直接にコードを実行することができます。\n",
    "\n",
    "具体的には、以下のようなコードを考えてみましょう："
   ]
  },
  {
   "cell_type": "code",
   "execution_count": 2,
   "metadata": {},
   "outputs": [],
   "source": [
    "def some_function():\n",
    "    # 何らかの処理\n",
    "    pass\n",
    "def main():\n",
    "    # メインの処理\n",
    "    pass\n",
    "if __name__ == \"__main__\":\n",
    "    main()"
   ]
  },
  {
   "attachments": {},
   "cell_type": "markdown",
   "metadata": {},
   "source": [
    "- ```some_function```という関数と```main```というメインの処理を行う関数が定義されています。\n",
    "- ```__name__``` はモジュールとして読み込まれた時にはモジュール名でしたが、スクリプトとして実行された場合には、__main__ に変わります。この性質を利用することで、スクリプトとして実行された場合にのみ、ある処理を実行したいと言った処理を実現できます。\n",
    "\n",
    "- この仕組みにより、```python ファイル.py```スクリプトとして実行された場合、```__name__```変数には```__main__```という値が割り当てられます。したがって、```if __name__ == \"__main__\":```のブロック内のコード ```main()```関数が呼び出され、スクリプトから直接に実行されます。\n"
   ]
  }
 ],
 "metadata": {
  "kernelspec": {
   "display_name": "base",
   "language": "python",
   "name": "python3"
  },
  "language_info": {
   "codemirror_mode": {
    "name": "ipython",
    "version": 3
   },
   "file_extension": ".py",
   "mimetype": "text/x-python",
   "name": "python",
   "nbconvert_exporter": "python",
   "pygments_lexer": "ipython3",
   "version": "3.10.9"
  }
 },
 "nbformat": 4,
 "nbformat_minor": 2
}