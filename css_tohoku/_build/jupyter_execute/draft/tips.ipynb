{
 "cells": [
  {
   "attachments": {},
   "cell_type": "markdown",
   "metadata": {},
   "source": [
    "# Tips"
   ]
  },
  {
   "attachments": {},
   "cell_type": "markdown",
   "metadata": {},
   "source": [
    "## VSCode"
   ]
  },
  {
   "attachments": {},
   "cell_type": "markdown",
   "metadata": {},
   "source": [
    "### 作業リポジトリを指定する\n",
    "\n",
    "gitリポジトリ内で複数のgitリポジトリの履歴を管理することができますが、場合による混乱になることもありますので、作業リポジトリを指定して、VSCodeを使う方がいいです。"
   ]
  },
  {
   "attachments": {},
   "cell_type": "markdown",
   "metadata": {},
   "source": [
    "- メニュー　→　ファイル　→ 新しいウィンドウ\n",
    "- 新しいウィンドウで、左側のツールバー　→　エクスプローラー　→ フォルダーを開く\n",
    "- 子ディレクトリを選択"
   ]
  },
  {
   "attachments": {},
   "cell_type": "markdown",
   "metadata": {},
   "source": [
    "## Git/GitHub\n"
   ]
  },
  {
   "attachments": {},
   "cell_type": "markdown",
   "metadata": {},
   "source": [
    "### 指定するリポジトリから```git pull```をする方法\n"
   ]
  },
  {
   "attachments": {},
   "cell_type": "markdown",
   "metadata": {},
   "source": [
    "```git pull <original_repository>```という形で、指定するリポジトリから```git pull```をすることができます。\n",
    "\n",
    "```https://github.com/lvzeyu/chss_2023_assignment```から最新の状況を同期する操作を例として説明します。"
   ]
  },
  {
   "attachments": {},
   "cell_type": "markdown",
   "metadata": {},
   "source": [
    "````{tab-set}\n",
    "\n",
    "```{tab-item} ターミナル操作\n",
    "\n",
    "- ```cd ~/chss_2023_assignment```\n",
    "- ```git remote -v```でgitリポジトリに関連付けられたリモートリポジトリの一覧とそのURLを表示する\n",
    "- ```origin/upstream  git@github.com:lvzeyu/chss_2023_assignment.git```というリモートリポジトリが表示されることを確認\n",
    "- ```git branch <branch_name>```で自分のブランチを作成・移動\n",
    "- ```git pull origin main```または ```git pull upstream main```でローカルリポジトリブランチをリポジトリの最新状態に更新します。\n",
    "```\n",
    "\n",
    "```{tab-item} VSCode操作\n",
    "-「ソース管理」→「...」をクリックします。\n",
    "- 「プル、プッシュ」→ 「指定元からプル」\n",
    "- リモートリポジトリのブランチを指定してください。基本的には```origin main```または```upstream main```であるはずです。\n",
    "\n",
    "```"
   ]
  },
  {
   "attachments": {},
   "cell_type": "markdown",
   "metadata": {},
   "source": [
    "## print文\n"
   ]
  },
  {
   "cell_type": "markdown",
   "metadata": {},
   "source": [
    "### print文の基本\n"
   ]
  },
  {
   "cell_type": "markdown",
   "metadata": {},
   "source": [
    "```print()```関数の引数には数値、配列、タプル、オブジェクトなどを指定することができます。\n"
   ]
  },
  {
   "cell_type": "code",
   "execution_count": 1,
   "metadata": {},
   "outputs": [
    {
     "name": "stdout",
     "output_type": "stream",
     "text": [
      "3\n",
      "[1, 2, 3]\n",
      "(1, 2, 3)\n",
      "{'k1': 10, 'k2': 20}\n"
     ]
    }
   ],
   "source": [
    "print(3)                   #=> 3\n",
    "print([1, 2, 3])           #=> [1, 2, 3]\n",
    "print((1, 2, 3))           #=> (1, 2, 3)\n",
    "print({'k1':10, 'k2':20})  #=> {'k2': 20, 'k1': 10}"
   ]
  },
  {
   "cell_type": "markdown",
   "metadata": {},
   "source": [
    "引数をカンマ(```,```)で複数指定すると、ひとつのスペースで区切って複数の値を表示します。"
   ]
  },
  {
   "cell_type": "code",
   "execution_count": 2,
   "metadata": {},
   "outputs": [
    {
     "name": "stdout",
     "output_type": "stream",
     "text": [
      "AAA BBB 30\n"
     ]
    }
   ],
   "source": [
    "print(\"AAA\", \"BBB\", 30)         #=> AAA BBB"
   ]
  },
  {
   "cell_type": "markdown",
   "metadata": {},
   "source": [
    "### フォーマットされた出力"
   ]
  },
  {
   "cell_type": "markdown",
   "metadata": {},
   "source": [
    "より高度的な使い方として、出力結果をよりわかりやすく整形することができます。\n",
    "\n",
    "#### ```.format()```\n",
    "\n",
    "```.format()```メソッドを使う基本的な構文は、中括弧```{}```を使って文字列内にプレースホルダーを設定し、それに```.format()```で値を渡す形です。"
   ]
  },
  {
   "cell_type": "code",
   "execution_count": 3,
   "metadata": {},
   "outputs": [
    {
     "name": "stdout",
     "output_type": "stream",
     "text": [
      "名前：山田 年齢：25\n"
     ]
    }
   ],
   "source": [
    "name = \"山田\"\n",
    "age = 25\n",
    "print(\"名前：{} 年齢：{}\".format(name, age))  #=> 名前：山田 年齢：25"
   ]
  },
  {
   "cell_type": "markdown",
   "metadata": {},
   "source": [
    "プレースホルダーに位置を指定することもできます。これにより、引数の順序を自由に変更したり、同じ値を複数回使用したりできます。"
   ]
  },
  {
   "cell_type": "code",
   "execution_count": 4,
   "metadata": {},
   "outputs": [
    {
     "name": "stdout",
     "output_type": "stream",
     "text": [
      "名前：山田 年齢：25\n"
     ]
    }
   ],
   "source": [
    "name = \"山田\"\n",
    "age = 25\n",
    "print(\"名前：{1} 年齢：{0}\".format(age, name))  #=> 名前：山田 年齢：25"
   ]
  },
  {
   "cell_type": "markdown",
   "metadata": {},
   "source": [
    "キーワード引数を使って値を指定することができます。"
   ]
  },
  {
   "cell_type": "code",
   "execution_count": 5,
   "metadata": {},
   "outputs": [
    {
     "name": "stdout",
     "output_type": "stream",
     "text": [
      "名前：木村、職業：学生\n"
     ]
    }
   ],
   "source": [
    "print(\"名前：{name}、職業：{job}\".format(name=\"木村\", job=\"学生\"))"
   ]
  },
  {
   "cell_type": "markdown",
   "metadata": {},
   "source": [
    "#### f-strings\n",
    "\n",
    "Python 3.6以降では、文字列内で変数を直接埋め込むためのf-stringsが導入されました。\n",
    "\n",
    "f-stringを使用するには、文字列の前に```f```または```F```を置き、波括弧```{}```の中に変数名や式を書きます。"
   ]
  },
  {
   "cell_type": "code",
   "execution_count": 6,
   "metadata": {},
   "outputs": [
    {
     "name": "stdout",
     "output_type": "stream",
     "text": [
      "名前：山田、年齢：25\n"
     ]
    }
   ],
   "source": [
    "name = \"山田\"\n",
    "age = 25\n",
    "print(f\"名前：{name}、年齢：{age}\")"
   ]
  },
  {
   "cell_type": "markdown",
   "metadata": {},
   "source": [
    "f-stringsでは、値の書式を指定することもできます。これは、値を特定の形式（例えば、小数点以下の桁数を指定する）で表示したい場合に便利です。"
   ]
  },
  {
   "cell_type": "code",
   "execution_count": 7,
   "metadata": {},
   "outputs": [
    {
     "name": "stdout",
     "output_type": "stream",
     "text": [
      "円周率は約 3.14\n"
     ]
    }
   ],
   "source": [
    "# 小数点以下の桁数を指定\n",
    "pi = 3.14159265359\n",
    "print(f\"円周率は約 {pi:.2f}\")  # 円周率は約 3.14"
   ]
  },
  {
   "cell_type": "code",
   "execution_count": 8,
   "metadata": {},
   "outputs": [
    {
     "name": "stdout",
     "output_type": "stream",
     "text": [
      "12.3450%\n"
     ]
    }
   ],
   "source": [
    "# パーセンテージ表示\n",
    "y = 0.12345\n",
    "print(f\"{y:.4%}\") # 12.3450% (パーセンテージ表示)\n"
   ]
  },
  {
   "cell_type": "markdown",
   "metadata": {},
   "source": []
  }
 ],
 "metadata": {
  "kernelspec": {
   "display_name": "jupyterbook",
   "language": "python",
   "name": "python3"
  },
  "language_info": {
   "codemirror_mode": {
    "name": "ipython",
    "version": 3
   },
   "file_extension": ".py",
   "mimetype": "text/x-python",
   "name": "python",
   "nbconvert_exporter": "python",
   "pygments_lexer": "ipython3",
   "version": "3.10.9"
  }
 },
 "nbformat": 4,
 "nbformat_minor": 2
}