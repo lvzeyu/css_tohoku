{
 "cells": [
  {
   "attachments": {},
   "cell_type": "markdown",
   "metadata": {},
   "source": [
    "# 変数\n",
    "\n",
    "## 変数の命名\n",
    "\n",
    "```{margin}\n",
    "Pythonにおいて**すべての数、文字列、データ構造、関数、クラス、モジュールがオブジェクト**です。初心者にとってやや理解しにくいかもしれませんが、ここではさしあたり、オブジェクトのイメージを簡単に説明します。\n",
    "```\n",
    "\n",
    "Pythonで変数を定義できます。変数とは、プログラムで使いたいメモリ上の値に名前を付けたものです。\n",
    "Pythonで変数の作成は、いくつかのルールがあります。\n",
    "\n",
    "- 大文字と小文字を区別する：```chss```,```Chss```, ```CHSS```はすべて異なる名前です。\n",
    "- 先頭で数字は使えないです。例えば、```1a```は無効な変数名です。\n",
    "- Pythonの予約語を避けます。\n",
    "# 予約語の一覧を表示\n",
    "help(\"keywords\")\n",
    "```{note}\n",
    "強制ではないですが、可読性を向上するために、できるだけ推奨される変数の命名規則にしたがった方が良いです。\n",
    "<table class=\"table2\">\n",
    "    <thead>\n",
    "<tr>\n",
    "<th style=\"text-align: center\">対象</th>\n",
    "<th style=\"text-align: center\">ルール</th>\n",
    "<th style=\"text-align: center\">例</th>\n",
    "</tr>\n",
    "</thead>\n",
    "<tbody>\n",
    "<tr>\n",
    "<td style=\"text-align: center\">パッケージ</td>\n",
    "<td style=\"text-align: center\">全小文字 なるべく短くアンダースコア非推奨</td>\n",
    "<td style=\"text-align: center\">tqdm, requests ...</td>\n",
    "</tr>\n",
    "<tr>\n",
    "<td style=\"text-align: center\">モジュール</td>\n",
    "<td style=\"text-align: center\">全小文字 なるべく短くアンダースコア可</td>\n",
    "<td style=\"text-align: center\">sys, os,...</td>\n",
    "</tr>\n",
    "<tr>\n",
    "<td style=\"text-align: center\">クラス</td>\n",
    "<td style=\"text-align: center\">最初大文字 + 大文字区切り</td>\n",
    "<td style=\"text-align: center\">MyFavoriteClass</td>\n",
    "</tr>\n",
    "<tr>\n",
    "<td style=\"text-align: center\">例外</td>\n",
    "<td style=\"text-align: center\">最初大文字 + 大文字区切り</td>\n",
    "<td style=\"text-align: center\">MyFuckingError</td>\n",
    "</tr>\n",
    "<tr>\n",
    "<td style=\"text-align: center\">型変数</td>\n",
    "<td style=\"text-align: center\">最初大文字 + 大文字区切り</td>\n",
    "<td style=\"text-align: center\">MyFavoriteType</td>\n",
    "</tr>\n",
    "<tr>\n",
    "<td style=\"text-align: center\">メソッド</td>\n",
    "<td style=\"text-align: center\">全小文字 + アンダースコア区切り</td>\n",
    "<td style=\"text-align: center\">my_favorite_method</td>\n",
    "</tr>\n",
    "<tr>\n",
    "<td style=\"text-align: center\">関数</td>\n",
    "<td style=\"text-align: center\">全小文字 + アンダースコア区切り</td>\n",
    "<td style=\"text-align: center\">my_favorite_funcion</td>\n",
    "</tr>\n",
    "<tr>\n",
    "<td style=\"text-align: center\">変数</td>\n",
    "<td style=\"text-align: center\">全小文字 + アンダースコア区切り</td>\n",
    "<td style=\"text-align: center\">my_favorite_instance</td>\n",
    "</tr>\n",
    "<tr>\n",
    "<td style=\"text-align: center\">定数</td>\n",
    "<td style=\"text-align: center\">\n",
    "<strong>全大文字</strong> + アンダースコア区切り</td>\n",
    "<td style=\"text-align: center\">MY_FAVORITE_CONST</td>\n",
    "</tr>\n",
    "</tbody>\n",
    "</table>\n",
    "```\n",
    "## 代入\n",
    "```=```を使って変数に値を代入する。"
   ]
  },
  {
   "cell_type": "code",
   "execution_count": 1,
   "metadata": {},
   "outputs": [
    {
     "name": "stdout",
     "output_type": "stream",
     "text": [
      "5\n",
      "10\n"
     ]
    }
   ],
   "source": [
    "a=5\n",
    "print(a)\n",
    "print(a+5)"
   ]
  },
  {
   "attachments": {},
   "cell_type": "markdown",
   "metadata": {},
   "source": [
    "`````{admonition} Advanced\n",
    ":class: important\n",
    "多くのプログラミング言語では、変数自体が型を持ち、メモリ位置が固定されているが、Pythonの場合、**変数はただの名前です**。\n",
    "```{figure} ./Figure/immutable.png\n",
    "---\n",
    "scale: 50%\n",
    "align: left\n",
    "---\n",
    "```\n",
    "つまり、代入は値をコピーするわけではない、**データを入れてあるオブジェクトに名前を付けるだけです**。名前はものの**参照手段**であり、もの自体ではないです。\n",
    "\n",
    "変数の代入は、メモリ内のどこかにあるオブジェクトに長いヒモで繋がるというイメージです。そのため、```C```や```JAVA```のような静的言語では変数の型を明確的に指定しなければないが、Pythonでは型を指定する必要はありません。\n",
    "\n",
    "```{figure} ./Figure/immutable2.png\n",
    "---\n",
    "scale: 40%\n",
    "align: left\n",
    "---\n",
    "```\n",
    "\n",
    "```{figure} ./Figure/immutable3.png\n",
    "---\n",
    "scale: 40%\n",
    "align: right\n",
    "---\n",
    "```\n",
    "`````"
   ]
  },
  {
   "cell_type": "code",
   "execution_count": 2,
   "metadata": {},
   "outputs": [
    {
     "name": "stdout",
     "output_type": "stream",
     "text": [
      "a:4514513264,b:4514513264,5:4514513264\n"
     ]
    }
   ],
   "source": [
    "#新たに生成したように見えるbは同じ値を指しているので、変数も値そのものもIDは同じになります。\n",
    "a=5\n",
    "b=5\n",
    "print(\"a:{},b:{},5:{}\".format(id(a),id(b),id(5)))"
   ]
  },
  {
   "cell_type": "code",
   "execution_count": 3,
   "metadata": {},
   "outputs": [
    {
     "name": "stdout",
     "output_type": "stream",
     "text": [
      "a:4516956720,'5':4516956720,b:4514513264,5:4514513264\n"
     ]
    }
   ],
   "source": [
    "#変数の型が異なるなら、変数IDも異なっています。\n",
    "a='5'\n",
    "b=5\n",
    "print(\"a:{},'5':{},b:{},5:{}\".format(id(a),id('5'),id(b),id(5)))"
   ]
  },
  {
   "cell_type": "markdown",
   "metadata": {},
   "source": []
  }
 ],
 "metadata": {
  "kernelspec": {
   "display_name": "jupyterbook",
   "language": "python",
   "name": "python3"
  },
  "language_info": {
   "codemirror_mode": {
    "name": "ipython",
    "version": 3
   },
   "file_extension": ".py",
   "mimetype": "text/x-python",
   "name": "python",
   "nbconvert_exporter": "python",
   "pygments_lexer": "ipython3",
   "version": "3.10.9"
  },
  "vscode": {
   "interpreter": {
    "hash": "c21d0b6a919d310bd60a0ede171f4e491a4a994c03d2daac7f672b79e598f441"
   }
  }
 },
 "nbformat": 4,
 "nbformat_minor": 2
}