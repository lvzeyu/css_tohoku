{
 "cells": [
  {
   "cell_type": "markdown",
   "metadata": {
    "id": "LbxErkx7F8Q-"
   },
   "source": [
    "# 誤差逆伝播法\n",
    "\n",
    "\n",
    "#### 前回の内容\n",
    "- 逆伝播が**連鎖律**によって成り立つ：合成関数の偏微分は、**連鎖律によって複数の偏微分の積の形に変形できる**。\n",
    "- 簡単のレイヤーで逆伝播を実装することで、逆伝播の原理を理解した\n",
    "\n",
    "\n",
    "#### 今回の内容\n",
    "- ニューラルネットワーク全体に対して誤差逆伝播法によるパラメータを更新する流れを理解する。\n",
    "- ニューラルネットワークで誤差逆伝播法で複数のパラメータ最適化を実装し、手書き数字を識別する。\n"
   ]
  },
  {
   "cell_type": "markdown",
   "metadata": {
    "id": "GIsrr9weJqW7"
   },
   "source": [
    "![誤差逆伝播法 (backpropagation) の計算過程](https://tutorials.chainer.org/ja/_images/13_backpropagation.gif)"
   ]
  },
  {
   "cell_type": "markdown",
   "metadata": {
    "id": "r0KqpyzuXA6m"
   },
   "source": [
    "### Affineレイヤー\n",
    "\n"
   ]
  },
  {
   "cell_type": "markdown",
   "metadata": {
    "id": "q5o_tCN_tGkx"
   },
   "source": [
    "$$\n",
    "\\mathbf{Y} = \\mathbf{X}\\mathbf{W}+\\mathbf{B}\n",
    "$$\n",
    "$$\n",
    "\\mathbf{L} = Z (\\mathbf{Y})\n",
    "$$\n"
   ]
  },
  {
   "cell_type": "markdown",
   "metadata": {
    "id": "2O6g2Yn7OmSv"
   },
   "source": [
    "<img src=\"https://qiita-user-contents.imgix.net/https%3A%2F%2Fqiita-image-store.s3.amazonaws.com%2F0%2F121304%2F409245cd-9b50-b40f-3a4d-b3adbf2da0df.png?ixlib=rb-4.0.0&auto=format&gif-q=60&q=75&w=1400&fit=max&s=394ef3d3f33c088000b6a67debf0c11d\" alt=\"drawing\" width=\"500\"/>\n"
   ]
  },
  {
   "cell_type": "markdown",
   "metadata": {
    "id": "KXXv-Fj6Ox_A"
   },
   "source": [
    "入力として$\\boldsymbol{x} = (x_1\\; x_2)$の２次元だとします。 この入力に対して、第１層目への出力を３つにしたい場合、$(2, 3)$の行列を右からかけます。\n",
    "\n",
    "$$\n",
    "\\boldsymbol{W}= \\begin{pmatrix}\n",
    "w_{11} & w_{21} & w_{31} \\\\\n",
    "w_{12} & w_{22} & w_{32} \n",
    "\\end{pmatrix}\n",
    "$$\n",
    "出力$\\boldsymbol{Y}$は\n",
    "\n",
    "\\begin{align}\n",
    "\\boldsymbol{Y} &= \\boldsymbol{X} \\cdot \\boldsymbol{W} \\\\\n",
    "&=\n",
    "\\begin{pmatrix}\n",
    "x_1 & x_2\n",
    "\\end{pmatrix}\n",
    "\\begin{pmatrix}\n",
    "w_{11} & w_{21} & w_{31} \\\\\n",
    "w_{12} & w_{22} & w_{32} \n",
    "\\end{pmatrix} \\\\\n",
    "&= \n",
    "\\begin{pmatrix}\n",
    "w_{11}x_1+w_{12}x_2 & w_{21}x_1+w_{22}x_2 & w_{31}x_1+w_{32}x_2\n",
    "\\end{pmatrix} \\\\\n",
    "&=\n",
    "\\begin{pmatrix}\n",
    "y_1 & y_2 & y_3\n",
    "\\end{pmatrix}　\\tag{1.1}\n",
    "\\end{align}\n",
    "となります。 損失関数$L$の入力$\\boldsymbol{X}$による偏微分は$x_1, x_2$が$y_1, y_2, y_3$に出てくることに注意すると、\n",
    "\n",
    "\\begin{align}\n",
    "\\frac{\\partial L}{\\partial \\boldsymbol{X}} &= \n",
    "\\begin{pmatrix}\n",
    "\\frac{\\partial L}{\\partial x_1} & \\frac{\\partial L}{\\partial x_2}\n",
    "\\end{pmatrix} \\\\\n",
    "&=\n",
    "\\begin{pmatrix}\n",
    "\\frac{\\partial L}{\\partial \\boldsymbol{Y}} \\cdot \\frac{\\partial \\boldsymbol{Y}}{\\partial x_1} & \\frac{\\partial L}{\\partial \\boldsymbol{Y}} \\cdot \\frac{\\partial \\boldsymbol{Y}}{\\partial x_2}\n",
    "\\end{pmatrix} \n",
    "\\end{align}\n",
    "ここで\n",
    "\n",
    "\\begin{align}\n",
    "\\frac{\\partial L}{\\partial \\boldsymbol{Y}} \\cdot \\frac{\\partial \\boldsymbol{Y}}{\\partial x_1} = \n",
    "\\begin{pmatrix}\n",
    "\\frac{\\partial L}{\\partial y_1} & \\frac{\\partial L}{\\partial y_2} & \\frac{\\partial L}{\\partial y_3}\n",
    "\\end{pmatrix}\n",
    "\\cdot\n",
    "\\begin{pmatrix}\n",
    "\\frac{\\partial y_1}{\\partial x_1} \\\\\n",
    "\\frac{\\partial y_2}{\\partial x_1} \\\\\n",
    "\\frac{\\partial y_3}{\\partial x_1} \n",
    "\\end{pmatrix}\n",
    "\\end{align}\n"
   ]
  },
  {
   "attachments": {},
   "cell_type": "markdown",
   "metadata": {
    "id": "cep5vIUKQAAl"
   },
   "source": [
    "\\begin{aligned}\n",
    "$\\frac{\\partial L}{\\partial \\boldsymbol{X}}$ = \n",
    "\\begin{pmatrix}\n",
    "\\frac{\\partial L}{\\partial y_1} \\frac{\\partial y_1}{\\partial x_1} +\n",
    "\\frac{\\partial L}{\\partial y_2} \\frac{\\partial y_2}{\\partial x_1} +\n",
    "\\frac{\\partial L}{\\partial y_3} \\frac{\\partial y_3}{\\partial x_1} &\n",
    "\\frac{\\partial L}{\\partial y_1} \\frac{\\partial y_1}{\\partial x_2} +\n",
    "\\frac{\\partial L}{\\partial y_2} \\frac{\\partial y_2}{\\partial x_2} +\n",
    "\\frac{\\partial L}{\\partial y_3} \\frac{\\partial y_3}{\\partial x_2} \n",
    "\\end{pmatrix} \\\\\n",
    "=\n",
    "\\begin{pmatrix}\n",
    "\\frac{\\partial L}{\\partial y_1} w_{11} +\n",
    "\\frac{\\partial L}{\\partial y_2} w_{21} +\n",
    "\\frac{\\partial L}{\\partial y_3} w_{31} &\n",
    "\\frac{\\partial L}{\\partial y_1} w_{12} +\n",
    "\\frac{\\partial L}{\\partial y_2} w_{22} +\n",
    "\\frac{\\partial L}{\\partial y_3} w_{32}\n",
    "\\end{pmatrix} \\\\\n",
    "=\n",
    "\\begin{pmatrix}\n",
    "\\frac{\\partial L}{\\partial y_1} & \\frac{\\partial L}{\\partial y_2} & \\frac{\\partial L}{\\partial y_3}\n",
    "\\end{pmatrix} \n",
    "\\begin{pmatrix}\n",
    "w_{11} & w_{12} \\\\\n",
    "w_{21} & w_{22} \\\\\n",
    "w_{31} & w_{32}\n",
    "\\end{pmatrix} \\\\\n",
    "= $\\frac{\\partial L}{\\partial \\boldsymbol{Y}}\\cdot \\boldsymbol{W}^T$\n",
    "\\end{aligned}\n"
   ]
  },
  {
   "attachments": {},
   "cell_type": "markdown",
   "metadata": {},
   "source": [
    "\\begin{aligned}\n",
    "$\\frac{\\partial L}{\\partial \\boldsymbol{X}}$ = \n",
    "\\begin{pmatrix}\n",
    "\\frac{\\partial L}{\\partial y_1} \\frac{\\partial y_1}{\\partial x_1} +\n",
    "\\frac{\\partial L}{\\partial y_2} \\frac{\\partial y_2}{\\partial x_1} +\n",
    "\\frac{\\partial L}{\\partial y_3} \\frac{\\partial y_3}{\\partial x_1} &\n",
    "\\frac{\\partial L}{\\partial y_1} \\frac{\\partial y_1}{\\partial x_2} +\n",
    "\\frac{\\partial L}{\\partial y_2} \\frac{\\partial y_2}{\\partial x_2} +\n",
    "\\frac{\\partial L}{\\partial y_3} \\frac{\\partial y_3}{\\partial x_2} \n",
    "\\end{pmatrix} \\\\\n",
    "=\n",
    "\\begin{pmatrix}\n",
    "\\frac{\\partial L}{\\partial y_1} w_{11} +\n",
    "\\frac{\\partial L}{\\partial y_2} w_{21} +\n",
    "\\frac{\\partial L}{\\partial y_3} w_{31} &\n",
    "\\frac{\\partial L}{\\partial y_1} w_{12} +\n",
    "\\frac{\\partial L}{\\partial y_2} w_{22} +\n",
    "\\frac{\\partial L}{\\partial y_3} w_{32}\n",
    "\\end{pmatrix} \\\\\n",
    "=\n",
    "\\begin{pmatrix}\n",
    "\\frac{\\partial L}{\\partial y_1} & \\frac{\\partial L}{\\partial y_2} & \\frac{\\partial L}{\\partial y_3}\n",
    "\\end{pmatrix} \n",
    "\\begin{pmatrix}\n",
    "w_{11} & w_{12} \\\\\n",
    "w_{21} & w_{22} \\\\\n",
    "w_{31} & w_{32}\n",
    "\\end{pmatrix} \\\\\n",
    "= $\\frac{\\partial L}{\\partial \\boldsymbol{Y}}\\cdot \\boldsymbol{W}^T$\n",
    "\\end{aligned}"
   ]
  },
  {
   "cell_type": "markdown",
   "metadata": {
    "id": "o52fUFQwREQL"
   },
   "source": [
    "一方、損失関数$L$の重み$\\boldsymbol{W}$による偏微分は\n",
    "\n",
    "\\begin{align}\n",
    "\\frac{\\partial L}{\\partial \\boldsymbol{W}} &= \n",
    "\\begin{pmatrix}\n",
    "\\frac{\\partial L}{\\partial w_{11}} & \\frac{\\partial L}{\\partial w_{21}} & \\frac{\\partial L}{\\partial w_{31}} \\\\\n",
    "\\frac{\\partial L}{\\partial w_{12}} & \\frac{\\partial L}{\\partial w_{22}} & \\frac{\\partial L}{\\partial w_{32}} \n",
    "\\end{pmatrix} \\\\\n",
    "\\end{align}\n",
    "です。 ここで、$(1.1)$式において、$w_{11}$は$y_1$だけに、$w_{12}$は$y_1$だけに、・・・$w_{31}$は$y_3$だけに、$w_{32}$は$y_3$だけに出てくることに注意すると、\n",
    "\n",
    "\\begin{align}\n",
    "\\frac{\\partial L}{\\partial w_{11}} &= \\frac{\\partial L}{\\partial y_1}\\frac{\\partial y_1}{\\partial w_{11}} \\\\\n",
    "\\frac{\\partial L}{\\partial w_{12}} &= \\frac{\\partial L}{\\partial y_1}\\frac{\\partial y_1}{\\partial w_{12}} \\\\\n",
    "\\frac{\\partial L}{\\partial w_{21}} &= \\frac{\\partial L}{\\partial y_2}\\frac{\\partial y_2}{\\partial w_{21}} \\\\\n",
    "\\frac{\\partial L}{\\partial w_{22}} &= \\frac{\\partial L}{\\partial y_2}\\frac{\\partial y_2}{\\partial w_{22}} \\\\\n",
    "\\frac{\\partial L}{\\partial w_{31}} &= \\frac{\\partial L}{\\partial y_3}\\frac{\\partial y_3}{\\partial w_{31}} \\\\\n",
    "\\frac{\\partial L}{\\partial w_{32}} &= \\frac{\\partial L}{\\partial y_3}\\frac{\\partial y_3}{\\partial w_{32}}\n",
    "\\end{align}\n",
    "となります。 したがって、$\\frac{\\partial L}{\\partial \\boldsymbol{W}}$は\n",
    "\n",
    "\\begin{align}\n",
    "\\frac{\\partial L}{\\partial \\boldsymbol{W}} &= \n",
    "\\begin{pmatrix}\n",
    "\\frac{\\partial L}{\\partial w_{11}} & \\frac{\\partial L}{\\partial w_{21}} & \\frac{\\partial L}{\\partial w_{31}} \\\\\n",
    "\\frac{\\partial L}{\\partial w_{12}} & \\frac{\\partial L}{\\partial w_{22}} & \\frac{\\partial L}{\\partial w_{32}} \n",
    "\\end{pmatrix} \\\\\n",
    "&= \n",
    "\\begin{pmatrix}\n",
    "\\frac{\\partial L}{\\partial y_1}\\frac{\\partial y_1}{\\partial w_{11}} &\n",
    "\\frac{\\partial L}{\\partial y_2}\\frac{\\partial y_2}{\\partial w_{21}} &\n",
    "\\frac{\\partial L}{\\partial y_3}\\frac{\\partial y_3}{\\partial w_{31}} \\\\\n",
    "\\frac{\\partial L}{\\partial y_1}\\frac{\\partial y_1}{\\partial w_{12}} & \\frac{\\partial L}{\\partial y_2}\\frac{\\partial y_2}{\\partial w_{22}} &\n",
    "\\frac{\\partial L}{\\partial y_3}\\frac{\\partial y_3}{\\partial w_{32}}\n",
    "\\end{pmatrix} \\\\\n",
    "&=\n",
    "\\begin{pmatrix}\n",
    "\\frac{\\partial L}{\\partial y_1}x_1 &\n",
    "\\frac{\\partial L}{\\partial y_2}x_1 &\n",
    "\\frac{\\partial L}{\\partial y_3}x_1 \\\\\n",
    "\\frac{\\partial L}{\\partial y_1}x_2 &\n",
    "\\frac{\\partial L}{\\partial y_2}x_2 &\n",
    "\\frac{\\partial L}{\\partial y_3}x_2\n",
    "\\end{pmatrix} \\\\\n",
    "&= \\begin{pmatrix}\n",
    "x_1 \\\\\n",
    "x_2\n",
    "\\end{pmatrix}\n",
    "\\begin{pmatrix}\n",
    "\\frac{\\partial L}{\\partial y_1} &\n",
    "\\frac{\\partial L}{\\partial y_2} &\n",
    "\\frac{\\partial L}{\\partial y_3} \n",
    "\\end{pmatrix} \\\\\n",
    "&= \\boldsymbol{X}^T \\cdot \\frac{\\partial L}{\\partial \\boldsymbol{Y}}\n",
    "\\end{align}\n",
    "これで、\n",
    "\n",
    "\\begin{align}\n",
    "\\frac{\\partial L}{\\partial \\boldsymbol{W}} &=\n",
    "\\boldsymbol{X}^T \\cdot \\frac{\\partial L}{\\partial \\boldsymbol{Y}}\n",
    "\\end{align}\n",
    "の導出が（低次元で、活性化関数も考慮していませんが）できました。\n",
    "\n"
   ]
  },
  {
   "cell_type": "markdown",
   "metadata": {
    "id": "BjD4HyOxuhbA"
   },
   "source": [
    "$$\n",
    "\\frac{\\partial L}{\\partial \\mathbf{X}}= \\frac{\\partial L}{\\partial \\mathbf{Y}} W^\\mathrm{T} \n",
    "$$\n",
    "\n",
    "$$\n",
    "\\frac{\\partial L}{\\partial \\mathbf{W}}= X^\\mathrm{T} \\frac{\\partial L}{\\partial \\mathbf{Y}}  \n",
    "$$"
   ]
  },
  {
   "cell_type": "markdown",
   "metadata": {
    "id": "-YJMUE7TSAsB"
   },
   "source": [
    "### バッチ版Affineレイヤの逆伝播\n",
    "\n",
    "複数の層の場合にも対応できるような説明を加えます"
   ]
  },
  {
   "cell_type": "markdown",
   "metadata": {
    "id": "qIqNWaNIU1y6"
   },
   "source": [
    "#### 順伝播の確認\n",
    "\n",
    "第1層の入力$\\mathbf{X}$は、行数がバッチサイズ$N$、列数がピクセルデータ数$28^2$に対応するため、$N \\times 784$の行列とします。<br />\n",
    "　これに対応する(第1層の)重み$\\mathbf{W}$は、行数がピクセルデータ数、列数が隠れ層のニューロン数に対応するため、$ 784\\times M$の行列になります。隠れ層のニューロン数は自由に決められるため$M$とします。最終層の重みであれば、行数は最終層の入力の列数、列数は0から9の数字の数10に対応します。この項では1層のニューラルネットワークを扱うため、重み$\\mathbf{W}$は$784 \\times 10$の行列とします。<br />\n",
    "バイアス$\\mathbf{B}$は、要素数が10の1次元配列とします。\n",
    "$$\n",
    "\\mathbf{X}\n",
    "    = \\begin{pmatrix}\n",
    "          x_{11} & x_{12} & \\cdots & x_{1,784} \\\\\n",
    "          x_{21} & x_{22} & \\cdots & x_{2,784} \\\\\n",
    "          \\vdots & \\vdots & \\ddots & \\vdots \\\\\n",
    "          x_{N1} & x_{N2} & \\cdots & x_{N,784}\n",
    "      \\end{pmatrix}\n",
    ",\\ \n",
    "\\mathbf{W}\n",
    "    = \\begin{pmatrix}\n",
    "          w_{11} & w_{12} & \\cdots & w_{1,10} \\\\\n",
    "          w_{21} & w_{22} & \\cdots & w_{2,10} \\\\\n",
    "          \\vdots & \\vdots & \\ddots & \\vdots \\\\\n",
    "          w_{784,1} & w_{784,2} & \\cdots & w_{784,10}\n",
    "      \\end{pmatrix}\n",
    "$$\n",
    "\n",
    "バイアス$\\mathbf{B}$は、要素数が10の1次元配列とします。\n",
    "$$\n",
    "\\mathbf{B}\n",
    "    = (b_1, b_2, \\cdots, b_{10})\n",
    "$$\n",
    "\n",
    "本来は行列と1次元配列の和は計算できません。これは複数の画像データを1枚ずつ(forループのように)処理するとき、同じバイアス変数を使って計算することに対応します。つまり次のような行列との和を計算するイメージです。\n",
    "\n",
    "$$\n",
    "\\mathbf{B}\n",
    "    = \\begin{pmatrix}\n",
    "          b_1 & b_2 & \\cdots & b_{10} \\\\\n",
    "          b_1 & b_2 & \\cdots & b_{10} \\\\\n",
    "          \\vdots & \\vdots & \\ddots & \\vdots \\\\\n",
    "          b_1 & b_2 & \\cdots & b_{10}\n",
    "      \\end{pmatrix}\n",
    "$$\n",
    "\n",
    "```\n",
    "  def backward(self, dout):\n",
    "        dx = np.dot(dout, self.W.T)\n",
    "        self.dW = np.dot(self.x.T, dout)\n",
    "        self.db = np.sum(dout, axis=0)\n",
    "```\n",
    "\n",
    "従って第1層のAffineレイヤの順伝播の出力(計算結果)$\\mathbf{Y}$は\n",
    "\n",
    "$$\n",
    "\\begin{aligned}\n",
    "\\mathbf{Y}\n",
    "   &= \\mathbf{X} \\mathbf{W}\n",
    "      + \\mathbf{B}\n",
    "\\\\\n",
    "   &= \\begin{pmatrix}\n",
    "          \\sum_{j=1}^{784} x_{1j} w_{j1} + b_1 & \\sum_{j=1}^{784} x_{1j} w_{j2} + b_2 & \\cdots & \\sum_{j=1}^{784} x_{1j} w_{j,10} + b_{10} \\\\\n",
    "          \\sum_{j=1}^{784} x_{2j} w_{j1} + b_1 & \\sum_{j=1}^{784} x_{2,j} w_{j2} + b_2 & \\cdots & \\sum_{j=1}^{784} x_{2j} w_{j,10} + b_{10} \\\\\n",
    "          \\vdots & \\vdots & \\ddots & \\vdots \\\\\n",
    "          \\sum_{j=1}^{784} x_{Nj} w_{j1} + b_1 & \\sum_{j=1}^{784} x_{Nj} w_{j2} + b_2 & \\cdots & \\sum_{j=1}^{784} x_{Nj} w_{j,10} + b_{10}\n",
    "      \\end{pmatrix}\n",
    "\\\\\n",
    "   &= \\begin{pmatrix}\n",
    "          y_{11} & y_{12} & \\cdots & y_{1,10} \\\\\n",
    "          y_{21} & y_{22} & \\cdots & y_{2,10} \\\\\n",
    "          \\vdots & \\vdots & \\ddots & \\vdots \\\\\n",
    "          y_{N1} & y_{N2} & \\cdots & y_{N,10}\n",
    "      \\end{pmatrix}\n",
    "\\end{aligned}\n",
    "$$"
   ]
  },
  {
   "cell_type": "markdown",
   "metadata": {
    "id": "CAwLnI0GWmkL"
   },
   "source": [
    "#### 逆伝播の導出\n",
    "\n",
    "最終層のAffineレイヤの出力$\\mathbf{Y}$は、損失関数レイヤの入力となり、交差エントロピー誤差$L$として出力されるのでした。よって最終層のAffineレイヤには、$L$を$\\mathbf{Y}$で微分した\n",
    "$$\n",
    "\\frac{\\partial L}{\\partial \\mathbf{Y}}\n",
    "    = \\begin{pmatrix}\n",
    "          \\frac{\\partial L}{\\partial y_{11}} & \\frac{\\partial L}{\\partial y_{12}} & \\cdots & \\frac{\\partial L}{\\partial y_{1,10}} \\\\\n",
    "          \\frac{\\partial L}{\\partial y_{21}} & \\frac{\\partial L}{\\partial y_{22}} & \\cdots & \\frac{\\partial L}{\\partial y_{2,10}} \\\\\n",
    "          \\vdots & \\vdots & \\ddots & \\vdots \\\\\n",
    "          \\frac{\\partial L}{\\partial y_{N1}} & \\frac{\\partial L}{\\partial y_{N2}} & \\cdots & \\frac{\\partial L}{\\partial y_{N,10}} \\\\\n",
    "      \\end{pmatrix}\n",
    "$$\n",
    "\n",
    "重み$\\mathbf{W}$の微分を例として計算してみます。\n",
    "\n",
    "$L$に対する入力$\\mathbf{W}$の微分$\\frac{\\partial L}{\\partial \\mathbf{W}}$を考えます。これも連鎖率より\n",
    "$$\n",
    "\\frac{\\partial L}{\\partial \\mathbf{W}}\n",
    "    = \\frac{\\partial L}{\\partial \\mathbf{Y}}\n",
    "      \\frac{\\partial \\mathbf{Y}}{\\partial \\mathbf{W}}\n",
    "$$\n",
    "\n",
    "まずは、重み$\\mathbf{W}$の1行1列目の要素$w_{11}$による$L$の微分を考えます。$\\frac{\\partial L}{\\partial w_{11}}$は、連鎖率より\n",
    "\n",
    "$$\n",
    "\\frac{\\partial L}{\\partial w_{11}}\n",
    "    = \\frac{\\partial L}{\\partial \\mathbf{y}_{\\cdot 1}}\n",
    "      \\frac{\\partial \\mathbf{y}_{\\cdot 1}}{\\partial w_{11}}\n",
    "$$\n",
    "\n",
    "と分解できます。\n",
    "\n",
    "ここで、重みの1列目に対応する$\\mathbf{Y}$の1列目を$\\mathbf{y}_{\\cdot 1}$としています。$\\mathbf{y}_{\\cdot 1}$は$10 \\times 1$の行列です。各要素を詳しくみると\n",
    "\n",
    "$$\n",
    "\\mathbf{y}_{\\cdot 1}\n",
    "    = \\begin{pmatrix}\n",
    "          y_{11} \\\\\n",
    "          y_{12} \\\\\n",
    "          \\vdots \\\\\n",
    "          y_{1,10}\n",
    "      \\end{pmatrix}\n",
    "    = \\begin{pmatrix}\n",
    "          \\sum_{j=1}^{784} x_{1j} w_{j1} + b_1 \\\\\n",
    "          \\sum_{j=1}^{784} x_{2j} w_{j1} + b_1 \\\\\n",
    "          \\vdots \\\\\n",
    "          \\sum_{j=1}^{784} x_{Nj} w_{j1} + b_1\n",
    "      \\end{pmatrix}\n",
    "$$\n",
    "\n",
    "どの要素も$w_{11}$を含んでいることが分かります。\n",
    "\n",
    "これを$w_{11}$で微分すると、各要素において$w_{11}$の係数になっている項(入力$x_{i1}$)だけが残るので\n",
    "$$\n",
    "\\frac{\\partial \\mathbf{y}_{\\cdot 1}}{\\partial w_{11}}\n",
    "    = \\begin{pmatrix}\n",
    "          x_{11} & x_{21} & \\cdots & x_{N1}\n",
    "      \\end{pmatrix}\n",
    "$$\n",
    "\n",
    "これを連鎖率の式に代入すると\n",
    "\n",
    "$$\n",
    "\\begin{aligned}\n",
    "\\frac{\\partial L}{\\partial w_{11}}\n",
    "    &= \\frac{\\partial L}{\\partial \\mathbf{y}_{\\cdot 1}}\n",
    "       \\frac{\\partial \\mathbf{y}_{\\cdot 1}}{\\partial w_{11}}\n",
    " \\\\\n",
    "    &= \\begin{pmatrix}\n",
    "           \\frac{\\partial L}{\\partial y_{11}} \\\\\n",
    "           \\frac{\\partial L}{\\partial y_{21}} \\\\\n",
    "           \\vdots \\\\\n",
    "           \\frac{\\partial L}{\\partial y_{N1}}\n",
    "       \\end{pmatrix}\n",
    "       \\begin{pmatrix}\n",
    "          x_{11} & x_{21} & \\cdots & x_{N1}\n",
    "      \\end{pmatrix}\n",
    "\\\\\n",
    "    &= \\begin{pmatrix}\n",
    "           \\frac{\\partial L}{\\partial y_{11}} x_{11} & \\frac{\\partial L}{\\partial y_{11}} x_{21} & \\cdots & \\frac{\\partial L}{\\partial y_{11}} x_{N1} \\\\\n",
    "           \\frac{\\partial L}{\\partial y_{21}} x_{11} & \\frac{\\partial L}{\\partial y_{21}} x_{21} & \\cdots & \\frac{\\partial L}{\\partial y_{21}} x_{N1} \\\\\n",
    "           \\vdots & \\vdots & \\ddots & \\vdots \\\\\n",
    "           \\frac{\\partial L}{\\partial y_{N1}} x_{11} & \\frac{\\partial L}{\\partial y_{N1}} x_{21} & \\cdots & \\frac{\\partial L}{\\partial y_{N1}} x_{N1}\n",
    "       \\end{pmatrix}\n",
    "\\end{aligned}\n",
    "$$\n",
    "\n",
    "\n",
    "\n",
    "$$\n",
    "\\begin{aligned}\n",
    "\\frac{\\partial L}{\\partial w_{11}}\n",
    "   &= \\frac{\\partial L}{\\partial y_{11}} x_{11}\n",
    "      + \\frac{\\partial L}{\\partial y_{21}} x_{21}\n",
    "      + \\cdots\n",
    "      + \\frac{\\partial L}{\\partial y_{N1}} x_{N1}\n",
    "\\\\\n",
    "   &= \\sum_{i=1}^N \\frac{\\partial L}{\\partial y_{i1}} x_{i1}\n",
    "\\end{aligned}\n",
    "$$\n",
    "\n",
    "$L$と$w_{11}$はスカラなので、その微分もスカラになります。\n",
    "\n",
    "重み$\\mathbf{W}$の1行目を$\\mathbf{w}_{1 \\cdot} = (w_{11}, w_{12}, \\cdots, w_{1,10})$として、他の要素についても同様に求めると、$\\mathbf{w}_{1 \\cdot}$による$L$微分は次のようになる\n",
    "\n",
    "$$\n",
    "\\begin{aligned}\n",
    "\\frac{\\partial L}{\\partial \\mathbf{w}_{1 \\cdot}}\n",
    "   &= \\begin{pmatrix}\n",
    "           \\sum_{i=1}^N \\frac{\\partial L}{\\partial y_{i1}} x_{i1} & \\sum_{i=1}^N \\frac{\\partial L}{\\partial y_{i2}} x_{i1} & \\cdots & \\sum_{i=1}^N \\frac{\\partial L}{\\partial y_{i,10}} x_{i1}\n",
    "      \\end{pmatrix}\n",
    "\\end{aligned}\n",
    "$$\n",
    "\n",
    "スカラ$L$を$1 \\times 784$行列$\\mathbf{w}_{1 \\cdot}$で微分した結果は、同じ形状である$1 \\times 784$の行列となります。\n",
    "\n",
    "更に、全ての要素$\\mathbf{W}$での微分について考えると\n",
    "\n",
    "$$\n",
    "\\begin{aligned}\n",
    "\\frac{\\partial L}{\\partial \\mathbf{X}}\n",
    "   &= \\frac{\\partial L}{\\partial \\mathbf{Y}}\n",
    "      \\frac{\\partial \\mathbf{Y}}{\\partial \\mathbf{X}}\n",
    "\\\\\n",
    "   &= \\begin{pmatrix}\n",
    "          \\sum_{i=1}^N \\frac{\\partial L}{\\partial y_{i1}} x_{i1} & \\sum_{i=1}^N \\frac{\\partial L}{\\partial y_{i2}} x_{i1} & \\cdots & \\sum_{i=1}^N \\frac{\\partial L}{\\partial y_{i,10}} x_{i1} \\\\\n",
    "          \\sum_{i=1}^N \\frac{\\partial L}{\\partial y_{i1}} x_{i2} & \\sum_{i=1}^N \\frac{\\partial L}{\\partial y_{i2}} x_{i2} & \\cdots & \\sum_{i=1}^N \\frac{\\partial L}{\\partial y_{i,10}} x_{i2} \\\\\n",
    "          \\vdots & \\vdots & \\ddots & \\vdots \\\\\n",
    "          \\sum_{i=1}^N \\frac{\\partial L}{\\partial y_{i1}} x_{i,784} & \\sum_{i=1}^N \\frac{\\partial L}{\\partial y_{i2}} x_{i,784} & \\cdots & \\sum_{i=1}^N\\frac{\\partial L}{\\partial y_{i10}} x_{i,784}\n",
    "      \\end{pmatrix}\n",
    "\\end{aligned}\n",
    "$$\n",
    "となります。\n",
    "\n",
    "この計算結果は、次のように分解できます。\n",
    "\n",
    "$$\n",
    "\\begin{align}\n",
    "\\frac{\\partial L}{\\partial \\mathbf{W}}\n",
    "   &= \\begin{pmatrix}\n",
    "          x_{11} & x_{21} & \\cdots & x_{N1} \\\\\n",
    "          x_{12} & x_{22} & \\cdots & x_{N2} \\\\\n",
    "          \\vdots & \\vdots & \\ddots & \\vdots \\\\\n",
    "          x_{1,784} & x_{2,784} & \\cdots & x_{N,784}\n",
    "      \\end{pmatrix}\n",
    "      \\begin{pmatrix}\n",
    "          \\frac{\\partial L}{\\partial y_{11}} & \\frac{\\partial L}{\\partial y_{12}} & \\cdots & \\frac{\\partial L}{\\partial y_{1,10}} \\\\\n",
    "          \\frac{\\partial L}{\\partial y_{21}} & \\frac{\\partial L}{\\partial y_{22}} & \\cdots & \\frac{\\partial L}{\\partial y_{2,10}} \\\\\n",
    "          \\vdots & \\vdots & \\ddots & \\vdots \\\\\n",
    "          \\frac{\\partial L}{\\partial y_{N1}} & \\frac{\\partial L}{\\partial y_{N2}} & \\cdots & \\frac{\\partial L}{\\partial y_{N,10}}\n",
    "      \\end{pmatrix}\n",
    "\\\\\n",
    "   &= \\mathbf{X}^{\\mathrm{T}}\n",
    "      \\frac{\\partial L}{\\partial \\mathbf{Y}}\n",
    "\\tag{5.13.1}\n",
    "\\end{align}\n",
    "$$"
   ]
  },
  {
   "cell_type": "markdown",
   "metadata": {
    "id": "g42gDs2xUzxt"
   },
   "source": [
    "### ミニバッチ学習\n",
    "\n",
    "1. 訓練データセットから一様ランダムに $N_{b} \\ (>0)$ 個のデータを抽出する\n",
    "2. その $N_{b}$ 個のデータをまとめてニューラルネットワークに入力し、それぞれのデータに対する目的関数の値を計算する\n",
    "3. $N_b$ 個の目的関数の値の平均をとる\n",
    "4. この平均の値に対する各パラメータの勾配を求める\n",
    "5. 求めた勾配を使ってパラメータを更新する\n",
    "\n",
    "\n",
    "\n"
   ]
  },
  {
   "cell_type": "markdown",
   "metadata": {
    "id": "aULWZmB0XX14"
   },
   "source": [
    "\n",
    "### 誤差逆伝播法の実装\n",
    "\n",
    "ここまで、Afflineレイヤーまた活性化関数に対して逆伝播で値を計算する方法を理解できたと思います。<br /> 実際のニューラルネットワークで逆伝播を活用する場合は**誤差逆伝播法**になります。<br />\n",
    "\n",
    "ニューラルネットワークを構成する関数が持つパラメータについての**目的関数の勾配**を、順伝播で通った経路を逆向きにたどるようにして**途中の関数の勾配の掛け算**によって求める\n",
    "\n",
    "ここから、手計算を通じて誤差逆伝播法の実装を理解しましよう。\n",
    "\n",
    "<img src=\"https://images2015.cnblogs.com/blog/853467/201606/853467-20160630142019140-402363317.png\" alt=\"drawing\" width=\"500\"/>\n",
    "\n",
    "入力\n",
    "$$\n",
    "i_{1} = 0.05,i_{2} = 0.10\n",
    "$$\n",
    "初期パラメータ\n",
    "$$\n",
    "w_{1} = 0.15,w_{2} = 0.20,w_{3} = 0.25,w_{4} = 0.30\n",
    "$$\n",
    "$$\n",
    "w_{5} = 0.40,w_{6} = 0.45,w_{7} = 0.50,w_{8} = 0.55\n",
    "$$\n",
    "\n",
    "教師データ\n",
    "$$\n",
    "o_{1} = 0.01,o_{2} = 0.99\n",
    "$$\n",
    "\n",
    "目的関数には以下の平均二乗誤差関数を用いることにします。\n",
    "\n",
    "$$\n",
    "L = \\dfrac{1}{N} \\sum_{n=1}^{N} (t_{n} - y_{n})^2\n",
    "$$\n"
   ]
  },
  {
   "cell_type": "markdown",
   "metadata": {
    "id": "7KvKlGw5arrv"
   },
   "source": [
    "#### 入力層から隠れ層\n",
    "$$\n",
    "net_{h_{1}}=w_{1}*i_{1}+w_{2}*i_{2}+b_{1}*1\n",
    "$$\n",
    "$$\n",
    "out_{h_{1}}= Sigmoid(net_{h_{1}})\n",
    "$$"
   ]
  },
  {
   "cell_type": "code",
   "execution_count": 1,
   "metadata": {},
   "outputs": [
    {
     "ename": "ModuleNotFoundError",
     "evalue": "No module named 'matplotlib'",
     "output_type": "error",
     "traceback": [
      "\u001b[0;31m---------------------------------------------------------------------------\u001b[0m",
      "\u001b[0;31mModuleNotFoundError\u001b[0m                       Traceback (most recent call last)",
      "Cell \u001b[0;32mIn[1], line 2\u001b[0m\n\u001b[1;32m      1\u001b[0m \u001b[38;5;28;01mimport\u001b[39;00m \u001b[38;5;21;01mnumpy\u001b[39;00m \u001b[38;5;28;01mas\u001b[39;00m \u001b[38;5;21;01mnp\u001b[39;00m\n\u001b[0;32m----> 2\u001b[0m \u001b[38;5;28;01mimport\u001b[39;00m \u001b[38;5;21;01mmatplotlib\u001b[39;00m\u001b[38;5;21;01m.\u001b[39;00m\u001b[38;5;21;01mpyplot\u001b[39;00m \u001b[38;5;28;01mas\u001b[39;00m \u001b[38;5;21;01mplt\u001b[39;00m\n\u001b[1;32m      3\u001b[0m \u001b[38;5;28;01mimport\u001b[39;00m \u001b[38;5;21;01msys\u001b[39;00m\u001b[38;5;241m,\u001b[39m \u001b[38;5;21;01mos\u001b[39;00m\n\u001b[1;32m      4\u001b[0m \u001b[38;5;28;01mimport\u001b[39;00m \u001b[38;5;21;01mtime\u001b[39;00m\n",
      "\u001b[0;31mModuleNotFoundError\u001b[0m: No module named 'matplotlib'"
     ]
    }
   ],
   "source": [
    "import numpy as np\n",
    "import matplotlib.pyplot as plt\n",
    "import sys, os\n",
    "import time\n",
    "\n",
    "os.chdir(\"/content/drive/MyDrive/Colab Notebooks/deep-learning-from-scratch\")\n",
    "from common.layers import *\n",
    "from common.gradient import numerical_gradient\n",
    "from collections import OrderedDict\n",
    "import torch\n",
    "from dataset.mnist import load_mnist\n",
    "from ch05.two_layer_net import TwoLayerNet\n",
    "from common.functions import softmax # ソフトマックス関数:バッチ対応版\n",
    "from common.functions import cross_entropy_error # 交差エントロピー誤差:4.2.4項"
   ]
  },
  {
   "cell_type": "code",
   "execution_count": null,
   "metadata": {
    "colab": {
     "base_uri": "https://localhost:8080/"
    },
    "id": "yXgfZ1rqW_xd",
    "outputId": "6dc073a1-8fb0-4f0d-dcb9-3c644c694013"
   },
   "outputs": [
    {
     "name": "stdout",
     "output_type": "stream",
     "text": [
      "net_h1=0.3775\n",
      "out_h1=0.5932700037956238\n"
     ]
    }
   ],
   "source": [
    "net_h1= (0.15)*(0.05)+(0.2)*(0.1)+0.35\n",
    "print(\"net_h1={}\".format(net_h1))\n",
    "out_h1 = torch.sigmoid(torch.tensor(net_h1))\n",
    "print(\"out_h1={}\".format(out_h1))"
   ]
  },
  {
   "cell_type": "code",
   "execution_count": null,
   "metadata": {
    "colab": {
     "base_uri": "https://localhost:8080/"
    },
    "id": "bothaNASdlg2",
    "outputId": "8883e978-48a4-453e-a68f-ccc6c050f802"
   },
   "outputs": [
    {
     "name": "stdout",
     "output_type": "stream",
     "text": [
      "net_h2=0.39249999999999996\n",
      "out_h2=0.5968843698501587\n"
     ]
    }
   ],
   "source": [
    "net_h2= (0.25)*(0.05)+(0.3)*(0.1)+0.35\n",
    "print(\"net_h2={}\".format(net_h2))\n",
    "out_h2 = torch.sigmoid(torch.tensor(net_h2))\n",
    "print(\"out_h2={}\".format(out_h2))"
   ]
  },
  {
   "cell_type": "markdown",
   "metadata": {
    "id": "sFkqwPx_eUDk"
   },
   "source": [
    "#### 隠れ層から出力層\n",
    "$$\n",
    "net_{o_{1}}=w_{5}*out_{h_{1}}+w_{6}*out_{h_{2}}+b_{2}*1\n",
    "$$\n",
    "$$\n",
    "out_{o_{1}}= Sigmoid(net_{o_{1}})\n",
    "$$"
   ]
  },
  {
   "cell_type": "code",
   "execution_count": null,
   "metadata": {
    "colab": {
     "base_uri": "https://localhost:8080/"
    },
    "id": "WaQ0AIp3fHQi",
    "outputId": "4b6889f9-fe74-41b7-8f51-22c207b513d5"
   },
   "outputs": [
    {
     "name": "stdout",
     "output_type": "stream",
     "text": [
      "net_h1=1.1059060096740723\n",
      "out_o1=0.751365065574646\n"
     ]
    },
    {
     "name": "stderr",
     "output_type": "stream",
     "text": [
      "/usr/local/lib/python3.7/dist-packages/ipykernel_launcher.py:3: UserWarning: To copy construct from a tensor, it is recommended to use sourceTensor.clone().detach() or sourceTensor.clone().detach().requires_grad_(True), rather than torch.tensor(sourceTensor).\n",
      "  This is separate from the ipykernel package so we can avoid doing imports until\n"
     ]
    }
   ],
   "source": [
    "net_o1= (0.4)*out_h1+(0.45)*out_h2+0.6\n",
    "print(\"net_h1={}\".format(net_o1))\n",
    "out_o1 = torch.sigmoid(torch.tensor(net_o1))\n",
    "print(\"out_o1={}\".format(out_o1))"
   ]
  },
  {
   "cell_type": "code",
   "execution_count": null,
   "metadata": {
    "colab": {
     "base_uri": "https://localhost:8080/"
    },
    "id": "SPuzq6E9fHEL",
    "outputId": "5a33b936-e2cf-4a58-8cc1-fb3875712be2"
   },
   "outputs": [
    {
     "name": "stdout",
     "output_type": "stream",
     "text": [
      "net_o2=1.224921464920044\n",
      "out_o2=0.7729284763336182\n"
     ]
    },
    {
     "name": "stderr",
     "output_type": "stream",
     "text": [
      "/usr/local/lib/python3.7/dist-packages/ipykernel_launcher.py:3: UserWarning: To copy construct from a tensor, it is recommended to use sourceTensor.clone().detach() or sourceTensor.clone().detach().requires_grad_(True), rather than torch.tensor(sourceTensor).\n",
      "  This is separate from the ipykernel package so we can avoid doing imports until\n"
     ]
    }
   ],
   "source": [
    "net_o2= (0.5)*out_h1+(0.55)*out_h2+0.6\n",
    "print(\"net_o2={}\".format(net_o2))\n",
    "out_o2 = torch.sigmoid(torch.tensor(net_o2))\n",
    "print(\"out_o2={}\".format(out_o2))"
   ]
  },
  {
   "cell_type": "markdown",
   "metadata": {
    "id": "zVutQS0Lge9H"
   },
   "source": [
    "$[0.751365065574646,0.7729284763336182]$と$[0.05,0.10]$に比べて大きな差がありますので、パラメータを調整する必要がある。"
   ]
  },
  {
   "cell_type": "markdown",
   "metadata": {
    "id": "KoJxijFYhfy0"
   },
   "source": [
    "#### 平均二乗誤差\n",
    "\n",
    "$$\n",
    "L = \\dfrac{1}{N} \\sum_{n=1}^{N} (t_{n} - y_{n})^2\n",
    "$$"
   ]
  },
  {
   "cell_type": "code",
   "execution_count": null,
   "metadata": {
    "colab": {
     "base_uri": "https://localhost:8080/"
    },
    "id": "Qkc9J8rxoIiQ",
    "outputId": "3ef6c23a-eb1f-4e62-e310-e3d7ffee594c"
   },
   "outputs": [
    {
     "name": "stdout",
     "output_type": "stream",
     "text": [
      "Lost Value=0.29837110342067186\n"
     ]
    }
   ],
   "source": [
    "L_1 = 0.5 * np.square(0.01-out_o1.numpy())\n",
    "L_2 = 0.5 * np.square(0.99-out_o2.numpy())\n",
    "L = L_1+L_2\n",
    "print(\"Lost Value={}\".format(L))"
   ]
  },
  {
   "cell_type": "markdown",
   "metadata": {
    "id": "NSGJwcEjq3yf"
   },
   "source": [
    "#### 逆伝播\n",
    "<img src=\"https://images2015.cnblogs.com/blog/853467/201606/853467-20160630152018906-1524325812.png\" alt=\"drawing\" width=\"500\"/>\n"
   ]
  },
  {
   "cell_type": "markdown",
   "metadata": {
    "id": "FWDhFGTrqB6F"
   },
   "source": [
    "$$\n",
    "\\frac{\\partial L}{\\partial w_5} = \\frac{\\partial L}{\\partial out_{o1}}\\frac{\\partial out_{o1}}{\\partial net_{o1}}\\frac{\\partial net_{o1}}{\\partial w_5}\n",
    "$$"
   ]
  },
  {
   "cell_type": "markdown",
   "metadata": {
    "id": "Q6o1ZLZIsHry"
   },
   "source": [
    "$\\frac{\\partial L}{\\partial out_{o1}}$を計算する\n",
    "\n",
    "$$\n",
    "L= \\frac{1}{2}(target_{o_{1}}-out_{o_{1}})^2+\\frac{1}{2}(target_{o_{2}}-out_{o_{2}})^2\n",
    "$$\n",
    "合成関数の微分$g(f(x))= g^{\\prime}(f(x))f^{\\prime}(x)$によって\n",
    "$$\n",
    "\\frac{\\partial L}{\\partial out_{o1}}= 2*\\frac{1}{2}(target_{o_{1}}-out_{o_{1}})*-1+0\n",
    "$$"
   ]
  },
  {
   "cell_type": "code",
   "execution_count": null,
   "metadata": {
    "colab": {
     "base_uri": "https://localhost:8080/"
    },
    "id": "tCEHsqpKoIqH",
    "outputId": "1b72ff4d-37df-4f2e-fdd3-d132b53de347"
   },
   "outputs": [
    {
     "name": "stdout",
     "output_type": "stream",
     "text": [
      "d_out_o1=0.741365065574646\n"
     ]
    }
   ],
   "source": [
    "d_out_o1 = -(0.01-out_o1.numpy())\n",
    "print(\"d_out_o1={}\".format(d_out_o1))"
   ]
  },
  {
   "cell_type": "markdown",
   "metadata": {
    "id": "R7fVhzpWvkD2"
   },
   "source": [
    "$\\frac{\\partial out_{o1}}{\\partial net_{o1}}$を計算する\n",
    "$$\n",
    "out_{o1}= sigmod(net_{o_{1}})\n",
    "$$\n",
    "Sigmoid関数の微分は$f^{\\prime}(x)=f(x)(1-f(X))$なので\n",
    "$$\n",
    "\\frac{\\partial out_{o1}}{\\partial net_{o1}}= out_{o1}(1-out_{o1})\n",
    "$$\n",
    "\n",
    "#####Note\n",
    "　シグモイド関数の勾配の証明\n",
    "\n",
    "$$\n",
    "\\begin{aligned}\n",
    "\\frac{\\partial a_1({\\bf u}_1)}{\\partial {\\bf u}_1}\n",
    "&= -\\frac{-(\\exp(-{\\bf u}_1))}{(1 + \\exp(-{\\bf u}_1))^2} \\\\\n",
    "&= \\frac{1}{1 + \\exp(-{\\bf u}_1)} \\cdot \\frac{\\exp(-{\\bf u}_1)}{1 + \\exp(-{\\bf u}_1)} \\\\\n",
    "&= \\frac{1}{1 + \\exp(-{\\bf u}_1)} \\cdot \\frac{1 + \\exp(-{\\bf u}_1) - 1}{1 + \\exp(-{\\bf u}_1)} \\\\\n",
    "&= \\frac{1}{1 + \\exp(-{\\bf u}_1)} \\left(1 - \\frac{1}{1 + \\exp(-{\\bf u}_1)}\\right) \\\\\n",
    "&= a_1({\\bf u}_1)\\left(1 - a_1({\\bf u}_1)\\right) \\\\\n",
    "&= {\\bf h}_1 ( 1 - {\\bf h}_1 )\n",
    "\\end{aligned}\n",
    "$$\n",
    "\n"
   ]
  },
  {
   "cell_type": "code",
   "execution_count": null,
   "metadata": {
    "colab": {
     "base_uri": "https://localhost:8080/"
    },
    "id": "QZsCl6BpxXtQ",
    "outputId": "fc10b0f3-a548-410b-c06c-4128552a6f34"
   },
   "outputs": [
    {
     "name": "stdout",
     "output_type": "stream",
     "text": [
      "d_net_o1=0.18681560380865392\n"
     ]
    }
   ],
   "source": [
    "d_net_o1 = out_o1.numpy()*(1-out_o1.numpy())\n",
    "print(\"d_net_o1={}\".format(d_net_o1))"
   ]
  },
  {
   "cell_type": "markdown",
   "metadata": {
    "id": "0M3OqGrI2v4a"
   },
   "source": [
    "$\\frac{\\partial net_{o1}}{\\partial w_5}$を計算する\n",
    "$$\n",
    "net_{o_{1}}=w_{5}*out_{h_{1}}+w_{6}*out_{h_{2}}+b_{2}*1\n",
    "$$\n",
    "$$\n",
    "\\frac{\\partial net_{o1}}{\\partial w_5}= out_{h_{1}}= 0.5932700037956238 \n",
    "$$\n"
   ]
  },
  {
   "cell_type": "markdown",
   "metadata": {
    "id": "VkWwd61H4Cyz"
   },
   "source": [
    "$\n",
    "\\frac{\\partial L}{\\partial w_5} = \\frac{\\partial L}{\\partial out_{o1}}\\frac{\\partial out_{o1}}{\\partial net_{o1}}\\frac{\\partial net_{o1}}{\\partial w_5}\n",
    "$に代入すると"
   ]
  },
  {
   "cell_type": "code",
   "execution_count": null,
   "metadata": {
    "colab": {
     "base_uri": "https://localhost:8080/"
    },
    "id": "OBuKM7uD4QFC",
    "outputId": "6a8d3151-7e6b-4f7d-b22f-ce959599e5df"
   },
   "outputs": [
    {
     "name": "stdout",
     "output_type": "stream",
     "text": [
      "d_w5=0.08216704428195953\n"
     ]
    }
   ],
   "source": [
    "d_w5= d_out_o1*d_net_o1*out_h1\n",
    "print(\"d_w5={}\".format(d_w5))"
   ]
  },
  {
   "cell_type": "markdown",
   "metadata": {
    "id": "lzQbBWtn5bb3"
   },
   "source": [
    "パラメータを更新する\n",
    "$$w_5^+ = w_{5}- \\eta \\frac{\\partial net_{o1}}{\\partial w_5}$$"
   ]
  },
  {
   "cell_type": "markdown",
   "metadata": {
    "id": "hiAPcvP4Z6yi"
   },
   "source": [
    "### Softmax-with-Lossレイヤ\n",
    "ソフトマックス関数の順伝播について、$i$番目のデータに関する入力を$\\mathbf{a}_i = (a_{i1}, a_{i2}, \\cdots, a_{i,10})$、出力を$\\mathbf{y}_i = (y_{i1}, a_{i2}, \\cdots, y_{i,10})$とすると、$k$番目の項の計算式は次のようになります。\n",
    "$$\n",
    "y_{ik} = \\frac{\n",
    "          \\exp(a_{ik})\n",
    "      }{\n",
    "          \\sum_{k'=1}^{10} \\exp(a_{ik'})\n",
    "      }\n",
    "$$\n",
    "\n",
    "バッチ版交差エントロピー誤差の順伝播について、入力を$\\mathbf{Y} = (y_{11}, \\cdots, y_{N,10})$、教師データを$\\mathbf{T} = (t_{11}, \\cdots, t_{N,10})$、出力を$L$とすると、計算式は次のようになります。\n",
    "\n",
    "$$\n",
    "L   = - \\frac{1}{N}\n",
    "        \\sum_{i=1}^N \\sum_{k=1}^{10}\n",
    "          t_{ik} \\log y_{ik}\n",
    "$$\n",
    "\n",
    "ソフトマックス関数と交差エントロピー誤差の逆伝播について、ソフトマックス関数の出力$\\mathbf{Y}$と教師データ$\\mathbf{T}$を用いて、$i$行$k$列目の項の出力(微分)の計算式は次のようになります。\n",
    "\n",
    "$$\n",
    "\\frac{\\partial L}{\\partial a_{ik}}\n",
    "    = \\frac{1}{N} \\left(\n",
    "          y_{ik} - t_{ik}\n",
    "    \\right)\n",
    "$$\n",
    "\n",
    "証明は[ソフトマックス関数と交差エントロピー誤差の逆伝播【ゼロつく1のノート(数学)】](https://www.anarchive-beta.com/entry/2020/08/06/180000)にご参照くだい。\n"
   ]
  },
  {
   "cell_type": "code",
   "execution_count": null,
   "metadata": {
    "colab": {
     "base_uri": "https://localhost:8080/"
    },
    "id": "mVQF-lBebilg",
    "outputId": "bbccf0c8-d5ff-4fed-9b58-2aa7b81fbcc9"
   },
   "outputs": [
    {
     "name": "stdout",
     "output_type": "stream",
     "text": [
      "仮の入力(3, 10)\n",
      "仮の教師データ(3, 10)\n"
     ]
    }
   ],
   "source": [
    "A = np.array([\n",
    "    [1.0, 3.0, 5.0, 7.0, 9.0, 1.5, 3.5, 5.5, 7.5, 9.5], \n",
    "    [1.0, 1.0, 1.0, 1.0, 1.0, 1.0, 1.0, 1.0, 1.0, 1.0], \n",
    "    [-10.0, -8.0, -6.0, -4.0,-2.0, 0.0, 2.0, 4.0, 6.0, 8.0]\n",
    "])\n",
    "print(\"仮の入力{}\".format(A.shape))\n",
    "\n",
    "T = np.array([\n",
    "    [0, 0, 0, 0, 0, 0, 0, 1, 0, 0], \n",
    "    [0, 0, 0, 0, 1, 0, 0, 0, 0, 0], \n",
    "    [0, 0, 0, 0, 0, 0, 0, 0, 0, 1]\n",
    "])\n",
    "print(\"仮の教師データ{}\".format(T.shape))\n"
   ]
  },
  {
   "cell_type": "code",
   "execution_count": null,
   "metadata": {
    "colab": {
     "base_uri": "https://localhost:8080/"
    },
    "id": "SYXCHwtwbiPN",
    "outputId": "db9defa9-e5f2-42b6-bd25-874c08f97c09"
   },
   "outputs": [
    {
     "name": "stdout",
     "output_type": "stream",
     "text": [
      "ソフトマックス関数による活性化\n",
      "[[1.09515437e-04 8.09215708e-04 5.97934026e-03 4.41816806e-02\n",
      "  3.26460917e-01 1.80560431e-04 1.33417115e-03 9.85826548e-03\n",
      "  7.28432766e-02 5.38243058e-01]\n",
      " [1.00000000e-01 1.00000000e-01 1.00000000e-01 1.00000000e-01\n",
      "  1.00000000e-01 1.00000000e-01 1.00000000e-01 1.00000000e-01\n",
      "  1.00000000e-01 1.00000000e-01]\n",
      " [1.31688261e-08 9.73051952e-08 7.18993546e-07 5.31268365e-06\n",
      "  3.92557175e-05 2.90062699e-04 2.14328955e-03 1.58368867e-02\n",
      "  1.17019645e-01 8.64664719e-01]]\n",
      "出力の和は１\n",
      "[1. 1. 1.]\n",
      "交差エントロピー誤差を計算\n",
      "2.355810776839421\n"
     ]
    }
   ],
   "source": [
    "## 順伝播\n",
    "\n",
    "print(\"ソフトマックス関数による活性化\")\n",
    "Y = softmax(A)\n",
    "print(Y)\n",
    "print(\"出力の和は１\")\n",
    "\n",
    "print(np.sum(Y, axis=1))\n",
    "\n",
    "print(\"交差エントロピー誤差を計算\")\n",
    "\n",
    "L = cross_entropy_error(Y, T)\n",
    "print(L)"
   ]
  },
  {
   "cell_type": "code",
   "execution_count": null,
   "metadata": {
    "colab": {
     "base_uri": "https://localhost:8080/"
    },
    "id": "Uec5X0dXd7HN",
    "outputId": "b088ca14-b945-455d-9a04-03e585317037"
   },
   "outputs": [
    {
     "name": "stdout",
     "output_type": "stream",
     "text": [
      "3\n",
      "[[ 3.65051457e-05  2.69738569e-04  1.99311342e-03  1.47272269e-02\n",
      "   1.08820306e-01  6.01868102e-05  4.44723717e-04 -3.30047245e-01\n",
      "   2.42810922e-02  1.79414353e-01]\n",
      " [ 3.33333333e-02  3.33333333e-02  3.33333333e-02  3.33333333e-02\n",
      "  -3.00000000e-01  3.33333333e-02  3.33333333e-02  3.33333333e-02\n",
      "   3.33333333e-02  3.33333333e-02]\n",
      " [ 4.38960872e-09  3.24350651e-08  2.39664515e-07  1.77089455e-06\n",
      "   1.30852392e-05  9.66875662e-05  7.14429851e-04  5.27896225e-03\n",
      "   3.90065482e-02 -4.51117605e-02]]\n"
     ]
    }
   ],
   "source": [
    "# バッチサイズを取得\n",
    "batch_size = T.shape[0]\n",
    "print(batch_size)\n",
    "\n",
    "# 逆伝播\n",
    "dA = (Y - T) / batch_size\n",
    "print(dA)"
   ]
  },
  {
   "cell_type": "markdown",
   "metadata": {
    "id": "VEk_g_Io1VVW"
   },
   "source": [
    "### Mnistでの実装"
   ]
  },
  {
   "cell_type": "code",
   "execution_count": null,
   "metadata": {
    "id": "CDrDREWAG-QD"
   },
   "outputs": [],
   "source": [
    "(x_train, t_train), (x_test, t_test) = load_mnist(normalize=True, one_hot_label=True)\n",
    "\n",
    "network = TwoLayerNet(input_size=784, hidden_size=50, output_size=10)"
   ]
  },
  {
   "cell_type": "markdown",
   "metadata": {
    "id": "jTa0WR7NaMsR"
   },
   "source": [
    "Mnistの中身を確認"
   ]
  },
  {
   "cell_type": "code",
   "execution_count": null,
   "metadata": {
    "colab": {
     "base_uri": "https://localhost:8080/",
     "height": 864
    },
    "id": "mDq-CxJ0zLS5",
    "outputId": "da16cf05-ee8c-4565-87dc-59ea9a63c2d3"
   },
   "outputs": [
    {
     "data": {
      "image/png": "[encoded data removed]",
      "text/plain": [
       "<Figure size 1008x864 with 70 Axes>"
      ]
     },
     "metadata": {
      "filenames": {
       "image/png": "/Users/luzeyu/css_tohoku/css_tohoku/_build/jupyter_execute/draft/backpropagation_42_0.png"
      },
      "tags": []
     },
     "output_type": "display_data"
    }
   ],
   "source": [
    "plt.figure(figsize=(14,12))\n",
    "for digit_num in range(0,70):\n",
    "    plt.subplot(7,10,digit_num+1)\n",
    "    grid_data = x_train[digit_num].reshape(28,28)  # reshape from 1d to 2d pixel array\n",
    "    plt.imshow(grid_data, interpolation = \"none\", cmap = \"afmhot\")\n",
    "    plt.xticks([])\n",
    "    plt.yticks([])\n",
    "    plt.title(np.argmax(t_train[digit_num],axis=0))\n",
    "plt.tight_layout()"
   ]
  },
  {
   "cell_type": "markdown",
   "metadata": {
    "id": "aQZx6W69XppL"
   },
   "source": [
    "#### 勾配確認"
   ]
  },
  {
   "cell_type": "code",
   "execution_count": null,
   "metadata": {
    "id": "FeAb1dxqX0lT"
   },
   "outputs": [],
   "source": [
    "grad_numerical = network.numerical_gradient(x_batch, t_batch)\n",
    "grad_backprop = network.gradient(x_batch, t_batch)"
   ]
  },
  {
   "cell_type": "markdown",
   "metadata": {
    "id": "_CvnqcPMYiU7"
   },
   "source": [
    "##### **network.numerical_gradient**を解読しましょう\n",
    "network.numerical_gradientという関数はchp.4で紹介されたが、当時の議論で説明しきれない部分がありますので、改めて説明します。\n",
    "\n",
    "\n",
    "\n",
    "\n",
    "---\n",
    "\n",
    "\n",
    "---\n",
    "\n",
    "\n",
    "\n",
    "\n",
    "```\n",
    "def numerical_gradient(self, x, t):\n",
    "        loss_W = lambda W: self.loss(x, t)\n",
    "        \n",
    "        grads = {}\n",
    "        grads['W1'] = numerical_gradient(loss_W, self.params['W1'])\n",
    "        grads['b1'] = numerical_gradient(loss_W, self.params['b1'])\n",
    "        grads['W2'] = numerical_gradient(loss_W, self.params['W2'])\n",
    "        grads['b2'] = numerical_gradient(loss_W, self.params['b2'])\n",
    "        \n",
    "        return grads\n",
    "```\n",
    "\n",
    "\n",
    "---\n",
    "\n",
    "\n",
    "```\n",
    " def loss(self, x, t):\n",
    "        y = self.predict(x)\n",
    "        # prefictは順伝播の関数\n",
    "        return cross_entropy_error(y, t)\n",
    "```\n",
    "\n",
    "\n",
    "\n",
    "\n",
    "---\n",
    "\n",
    "\n",
    "```\n",
    "def numerical_gradient(f, x):\n",
    "    h = 1e-4 # 0.0001\n",
    "    grad = np.zeros_like(x)\n",
    "    \n",
    "    it = np.nditer(x, flags=['multi_index'], op_flags=['readwrite'])\n",
    "    while not it.finished:\n",
    "        idx = it.multi_index\n",
    "        tmp_val = x[idx]\n",
    "        x[idx] = tmp_val + h\n",
    "        fxh1 = f(x) # f(x+h)\n",
    "        \n",
    "        x[idx] = tmp_val - h \n",
    "        fxh2 = f(x) # f(x-h)\n",
    "        grad[idx] = (fxh1 - fxh2) / (2*h)\n",
    "        \n",
    "        x[idx] = tmp_val # 値を元に戻す\n",
    "        it.iternext()   \n",
    "        \n",
    "    return grad\n",
    "```\n",
    "\n",
    "\n",
    "---\n",
    "\n",
    "\n",
    "\n",
    "\n"
   ]
  },
  {
   "cell_type": "markdown",
   "metadata": {
    "id": "yqlPmVSp1Amw"
   },
   "source": [
    "#### pedict functionで順伝播の結果を計算する"
   ]
  },
  {
   "cell_type": "markdown",
   "metadata": {
    "id": "p0YsxQLC1Q4t"
   },
   "source": [
    "ランダムに初期パラメータを生成"
   ]
  },
  {
   "cell_type": "code",
   "execution_count": null,
   "metadata": {
    "id": "pKuN9Evsdpet"
   },
   "outputs": [],
   "source": [
    "input_size, hidden_size, output_size = 784,50,10\n",
    "weight_init_std= 0.01\n",
    "params = {}\n",
    "params['W1'] = weight_init_std * np.random.randn(input_size, hidden_size)\n",
    "params['b1'] = np.zeros(hidden_size)\n",
    "params['W2'] = weight_init_std * np.random.randn(hidden_size, output_size)\n",
    "params['b2'] = np.zeros(output_size)"
   ]
  },
  {
   "cell_type": "code",
   "execution_count": null,
   "metadata": {
    "id": "_I166zSWeOYB"
   },
   "outputs": [],
   "source": [
    "W1, W2 = params['W1'], params['W2']\n",
    "b1, b2 = params['b1'], params['b2']"
   ]
  },
  {
   "cell_type": "markdown",
   "metadata": {
    "id": "bs3N6XcV1ZZf"
   },
   "source": [
    "入力データを用意する"
   ]
  },
  {
   "cell_type": "code",
   "execution_count": null,
   "metadata": {
    "id": "xpflHClU1iTg"
   },
   "outputs": [],
   "source": [
    "x_batch = x_train[:3]\n",
    "t_batch = t_train[:3]"
   ]
  },
  {
   "cell_type": "code",
   "execution_count": null,
   "metadata": {
    "colab": {
     "base_uri": "https://localhost:8080/"
    },
    "id": "VBgNlS8ye5bK",
    "outputId": "dc8e9261-254f-4c68-96b0-57c3d585fe36"
   },
   "outputs": [
    {
     "data": {
      "text/plain": [
       "(3, 784)"
      ]
     },
     "execution_count": 25,
     "metadata": {
      "tags": []
     },
     "output_type": "execute_result"
    }
   ],
   "source": [
    "# 3はバッチ内三つのデータがあると、784は一つの画像データ\n",
    "x_batch.shape"
   ]
  },
  {
   "cell_type": "code",
   "execution_count": null,
   "metadata": {
    "id": "hVg58G28ez-5"
   },
   "outputs": [],
   "source": [
    "a1 = np.dot(x_batch, W1) + b1\n",
    "z1 = sigmoid(a1)\n",
    "a2 = np.dot(z1, W2) + b2\n",
    "y = softmax(a2)"
   ]
  },
  {
   "cell_type": "code",
   "execution_count": null,
   "metadata": {
    "colab": {
     "base_uri": "https://localhost:8080/"
    },
    "id": "xv7MufNEe87C",
    "outputId": "a1604a1d-b3f0-4c0c-cfbb-1c87b6f10441"
   },
   "outputs": [
    {
     "name": "stdout",
     "output_type": "stream",
     "text": [
      "予測値は6,真の値は5\n",
      "予測値は6,真の値は0\n",
      "予測値は6,真の値は4\n"
     ]
    }
   ],
   "source": [
    "for p,t in zip(y,t_batch):\n",
    "  print(\"予測値は{},真の値は{}\".format(np.argmax(p),np.argmax(t)))"
   ]
  },
  {
   "cell_type": "markdown",
   "metadata": {
    "id": "7FjOBKY71oSb"
   },
   "source": [
    "cross_entropy_error functionで誤差を計算する\n",
    "\n"
   ]
  },
  {
   "cell_type": "code",
   "execution_count": null,
   "metadata": {
    "id": "9Q5pC4qxgpTw"
   },
   "outputs": [],
   "source": [
    "def cross_entropy_error(y, t):\n",
    "    if y.ndim == 1:\n",
    "        t = t.reshape(1, t.size)\n",
    "        y = y.reshape(1, y.size)\n",
    "        \n",
    "    # 教師データがone-hot-vectorの場合、正解ラベルのインデックスに変換\n",
    "    if t.size == y.size:\n",
    "        t = t.argmax(axis=1)\n",
    "             \n",
    "    batch_size = y.shape[0]\n",
    "    return -np.sum(np.log(y[np.arange(batch_size), t] + 1e-7)) / batch_size"
   ]
  },
  {
   "cell_type": "code",
   "execution_count": null,
   "metadata": {
    "colab": {
     "base_uri": "https://localhost:8080/"
    },
    "id": "TjwM2fYMgpJ5",
    "outputId": "5a65578c-180c-4ea2-f7cf-a09dfce982f3"
   },
   "outputs": [
    {
     "name": "stdout",
     "output_type": "stream",
     "text": [
      "loss=2.317030625734852\n"
     ]
    }
   ],
   "source": [
    "loss= cross_entropy_error(y,t_batch)\n",
    "print(\"loss={}\".format(loss))"
   ]
  },
  {
   "cell_type": "markdown",
   "metadata": {
    "id": "D6W-_4LA2CMZ"
   },
   "source": [
    "元のコードはnet.Wに引数が格納されて、そして関数に渡すという形で計算している。\\\n",
    "その中身は、以下のように分解できる。"
   ]
  },
  {
   "cell_type": "code",
   "execution_count": null,
   "metadata": {
    "id": "cf4yUy-WivLI"
   },
   "outputs": [],
   "source": [
    "def loss_a(x,t,W1,W2,b1,b2):\n",
    "  #W1, W2 = params['W1'], params['W2']\n",
    "  #b1, b2 = params['b1'], params['b2']  \n",
    "  a1 = np.dot(x, W1) + b1\n",
    "  z1 = sigmoid(a1)\n",
    "  a2 = np.dot(z1, W2) + b2\n",
    "  y = softmax(a2)\n",
    "  error = cross_entropy_error(y, t)\n",
    "\n",
    "  return error "
   ]
  },
  {
   "cell_type": "code",
   "execution_count": null,
   "metadata": {
    "colab": {
     "base_uri": "https://localhost:8080/"
    },
    "id": "uDy8OVkSivCG",
    "outputId": "a2a0f907-c263-45e4-c56e-b30f80489820"
   },
   "outputs": [
    {
     "name": "stdout",
     "output_type": "stream",
     "text": [
      "loss=2.317030625734852\n"
     ]
    }
   ],
   "source": [
    "loss= loss_a(x_batch,t_batch,W1,W2,b1,b2)\n",
    "print(\"loss={}\".format(loss))"
   ]
  },
  {
   "cell_type": "markdown",
   "metadata": {
    "id": "fev87HgC3KEC"
   },
   "source": [
    "パラメータの勾配を求めるための関数"
   ]
  },
  {
   "cell_type": "code",
   "execution_count": null,
   "metadata": {
    "id": "E9WRJDaZZfTQ"
   },
   "outputs": [],
   "source": [
    "def numerical_gradient(f, x):\n",
    "    h = 1e-4 # 0.0001\n",
    "    grad = np.zeros_like(x)\n",
    " \n",
    "    it = np.nditer(x, flags=['multi_index'], op_flags=['readwrite'])\n",
    "    while not it.finished:\n",
    "        idx = it.multi_index\n",
    "        tmp_val = x[idx]\n",
    "        x[idx] = tmp_val + h\n",
    "        fxh1 = f(x) # f(x+h)\n",
    " \n",
    "        x[idx] = tmp_val - h \n",
    "        fxh2 = f(x) # f(x-h)\n",
    "        grad[idx] = (fxh1 - fxh2) / (2*h)\n",
    " \n",
    "        x[idx] = tmp_val # 値を元に戻す\n",
    "        it.iternext()   \n",
    " \n",
    "    return grad"
   ]
  },
  {
   "cell_type": "markdown",
   "metadata": {
    "id": "J1zvXKBM3Zmk"
   },
   "source": [
    "$W_{1}$を例として勾配を求める "
   ]
  },
  {
   "cell_type": "code",
   "execution_count": null,
   "metadata": {
    "id": "7EHRDii_sels"
   },
   "outputs": [],
   "source": [
    "h = 1e-4 # 0.0001\n",
    "grad = np.zeros_like(W1)\n",
    "it = np.nditer(W1, flags=['multi_index'], op_flags=['readwrite'])\n",
    "while not it.finished:\n",
    "  idx = it.multi_index\n",
    "  tmp_val = W1[idx]\n",
    "  W1[idx] = tmp_val + h\n",
    "  fxh1 = loss_a(x_batch,t_batch,W1,W2,b1,b2) # f(x+h)\n",
    "  #print(fxh1)\n",
    " \n",
    "  W1[idx] = tmp_val - h \n",
    "  fxh2 = loss_a(x_batch,t_batch,W1,W2,b1,b2) # f(x-h)\n",
    "  #print(fxh2)\n",
    "\n",
    "  grad[idx] = (fxh1 - fxh2) / (2*h)\n",
    "  #print(grad[idx])\n",
    " \n",
    "  W1[idx] = tmp_val # 値を元に戻す\n",
    "  it.iternext()   "
   ]
  },
  {
   "cell_type": "markdown",
   "metadata": {
    "id": "ZLk20ZKH4VRo"
   },
   "source": [
    "勾配の出力を確認"
   ]
  },
  {
   "cell_type": "code",
   "execution_count": null,
   "metadata": {
    "colab": {
     "base_uri": "https://localhost:8080/"
    },
    "id": "fzs3WQRxm-42",
    "outputId": "429045c1-60f2-4d9f-885d-cf66e8ee11bc"
   },
   "outputs": [
    {
     "data": {
      "text/plain": [
       "array([ 5.69242111e-04, -6.18326670e-04, -1.28256750e-03, -2.03223776e-04,\n",
       "       -3.08951502e-04,  1.99019308e-04, -9.75491812e-04, -1.45852949e-03,\n",
       "       -1.55624225e-04, -1.29169697e-04, -4.56087927e-04, -8.46577148e-04,\n",
       "       -3.63986912e-04, -1.93852367e-04,  1.26751025e-03,  7.90685952e-04,\n",
       "        1.60055621e-03, -4.31397682e-04, -1.15269719e-03,  1.55349045e-03,\n",
       "        9.02198316e-05, -5.36035107e-04, -1.10255616e-03,  6.98183789e-04,\n",
       "       -5.47497381e-05, -7.77203717e-04, -1.98334624e-04,  2.28447849e-03,\n",
       "        4.36187761e-04, -1.57837103e-03,  8.94897523e-04, -1.17622086e-03,\n",
       "        7.86152703e-04,  2.70975099e-03, -1.32384242e-03, -1.16573846e-03,\n",
       "        3.63739669e-04, -2.40548281e-04,  9.67891147e-04, -1.38734022e-03,\n",
       "       -2.88489055e-05, -5.27855630e-04,  2.37560815e-04,  1.45131605e-03,\n",
       "       -1.09416075e-03,  1.16527607e-03,  1.44329201e-03,  1.66018105e-03,\n",
       "       -2.03529262e-04,  6.87555117e-04])"
      ]
     },
     "execution_count": 85,
     "metadata": {
      "tags": []
     },
     "output_type": "execute_result"
    }
   ],
   "source": [
    "grad[600]"
   ]
  },
  {
   "cell_type": "markdown",
   "metadata": {
    "id": "QcjbEbZ14SF4"
   },
   "source": [
    "##### **network.numerical_gradient**はただこの前に紹介した計算方法をパッチに対応させた\n",
    "\n",
    "\n",
    "```\n",
    " def gradient(self, x, t):\n",
    "        W1, W2 = self.params['W1'], self.params['W2']\n",
    "        b1, b2 = self.params['b1'], self.params['b2']\n",
    "        grads = {}\n",
    "        \n",
    "        batch_num = x.shape[0]\n",
    "        \n",
    "        # forward\n",
    "        a1 = np.dot(x, W1) + b1\n",
    "        z1 = sigmoid(a1)\n",
    "        a2 = np.dot(z1, W2) + b2\n",
    "        y = softmax(a2)\n",
    "        \n",
    "        # backward\n",
    "        dy = (y - t) / batch_num\n",
    "        grads['W2'] = np.dot(z1.T, dy)\n",
    "        grads['b2'] = np.sum(dy, axis=0)\n",
    "        \n",
    "        dz1 = np.dot(dy, W2.T)\n",
    "        da1 = sigmoid_grad(a1) * dz1\n",
    "        grads['W1'] = np.dot(x.T, da1)\n",
    "        grads['b1'] = np.sum(da1, axis=0)\n",
    "\n",
    "        return grads\n",
    "```\n",
    "\n"
   ]
  },
  {
   "cell_type": "code",
   "execution_count": null,
   "metadata": {
    "colab": {
     "base_uri": "https://localhost:8080/"
    },
    "id": "G_uL_fXz6fYX",
    "outputId": "1e432687-43e7-44f8-ce65-a8afb96167a0"
   },
   "outputs": [
    {
     "name": "stdout",
     "output_type": "stream",
     "text": [
      "---数値微分 11.26956295967102 seconds ---\n"
     ]
    }
   ],
   "source": [
    "start_time = time.time()\n",
    "grad_numerical = network.numerical_gradient(x_batch, t_batch)\n",
    "print(\"---数値微分 %s seconds ---\" % (time.time() - start_time))"
   ]
  },
  {
   "cell_type": "code",
   "execution_count": null,
   "metadata": {
    "colab": {
     "base_uri": "https://localhost:8080/"
    },
    "id": "l24NrNtE6sBq",
    "outputId": "2578f8f9-d1e6-4581-fc94-fe2008a63a14"
   },
   "outputs": [
    {
     "name": "stdout",
     "output_type": "stream",
     "text": [
      "---誤差逆伝播法 0.0012819766998291016 seconds ---\n"
     ]
    }
   ],
   "source": [
    "start_time = time.time()\n",
    "grad_backprop = network.gradient(x_batch, t_batch)\n",
    "print(\"---誤差逆伝播法 %s seconds ---\" % (time.time() - start_time))"
   ]
  },
  {
   "cell_type": "markdown",
   "metadata": {
    "id": "EUKJXjNMhkTU"
   },
   "source": [
    "2つの方法による勾配の差がほぼ0です"
   ]
  },
  {
   "cell_type": "code",
   "execution_count": null,
   "metadata": {
    "colab": {
     "base_uri": "https://localhost:8080/"
    },
    "id": "y7h-RwdmX6ZH",
    "outputId": "a3b04528-2a38-422a-a194-912d875b7cc5"
   },
   "outputs": [
    {
     "name": "stdout",
     "output_type": "stream",
     "text": [
      "W1:4.1028438097724164e-10\n",
      "b1:2.5420138896414074e-09\n",
      "W2:4.343378962498192e-09\n",
      "b2:1.3970555004100272e-07\n"
     ]
    }
   ],
   "source": [
    "for key in grad_numerical.keys():\n",
    "    diff = np.average(np.abs(grad_backprop[key] - grad_numerical[key]) )\n",
    "    print(key + \":\" + str(diff))"
   ]
  },
  {
   "cell_type": "markdown",
   "metadata": {
    "id": "P4NXTwK67f-a"
   },
   "source": [
    "### 誤差逆伝播法を使った学習"
   ]
  },
  {
   "cell_type": "code",
   "execution_count": null,
   "metadata": {
    "colab": {
     "base_uri": "https://localhost:8080/"
    },
    "id": "ucTQt1AcIKjg",
    "outputId": "53bc111a-2654-4113-b97f-dbff1f250ae1"
   },
   "outputs": [
    {
     "name": "stdout",
     "output_type": "stream",
     "text": [
      "iter:0\n",
      "train_acc=0.12608333333333333, test_acc=0.1334\n",
      "iter:500\n",
      "train_acc=0.89915, test_acc=0.9023\n",
      "iter:1000\n",
      "train_acc=0.9173833333333333, test_acc=0.9206\n",
      "iter:1500\n",
      "train_acc=0.92855, test_acc=0.9248\n",
      "iter:2000\n",
      "train_acc=0.9381833333333334, test_acc=0.9369\n",
      "iter:2500\n",
      "train_acc=0.9425666666666667, test_acc=0.9408\n",
      "iter:3000\n",
      "train_acc=0.95025, test_acc=0.9491\n",
      "iter:3500\n",
      "train_acc=0.9535166666666667, test_acc=0.9527\n",
      "iter:4000\n",
      "train_acc=0.9570333333333333, test_acc=0.9559\n",
      "iter:4500\n",
      "train_acc=0.9616166666666667, test_acc=0.9583\n",
      "iter:5000\n",
      "train_acc=0.9610666666666666, test_acc=0.9575\n",
      "iter:5500\n",
      "train_acc=0.96615, test_acc=0.9618\n",
      "iter:6000\n",
      "train_acc=0.9682, test_acc=0.9621\n",
      "iter:6500\n",
      "train_acc=0.9710166666666666, test_acc=0.9651\n",
      "iter:7000\n",
      "train_acc=0.9712, test_acc=0.9654\n",
      "iter:7500\n",
      "train_acc=0.97365, test_acc=0.9675\n",
      "iter:8000\n",
      "train_acc=0.9748166666666667, test_acc=0.968\n",
      "iter:8500\n",
      "train_acc=0.9743, test_acc=0.9676\n",
      "iter:9000\n",
      "train_acc=0.9766333333333334, test_acc=0.9672\n",
      "iter:9500\n",
      "train_acc=0.9781666666666666, test_acc=0.9705\n"
     ]
    }
   ],
   "source": [
    "iters_num = 10000\n",
    "train_size = x_train.shape[0]\n",
    "batch_size = 100\n",
    "learning_rate = 0.1\n",
    "\n",
    "train_loss_list = []\n",
    "train_acc_list = []\n",
    "test_acc_list = []\n",
    "\n",
    "iter_per_epoch = max(train_size / batch_size, 1)\n",
    "\n",
    "for i in range(iters_num):\n",
    "    batch_mask = np.random.choice(train_size, batch_size)\n",
    "    x_batch = x_train[batch_mask]\n",
    "    t_batch = t_train[batch_mask]\n",
    "    \n",
    "    # 勾配\n",
    "    #grad = network.numerical_gradient(x_batch, t_batch)\n",
    "    grad = network.gradient(x_batch, t_batch)\n",
    "      \n",
    "\n",
    "\n",
    "    # 更新\n",
    "    for key in ('W1', 'b1', 'W2', 'b2'):\n",
    "        network.params[key] -= learning_rate * grad[key]\n",
    "    \n",
    "    \n",
    "    loss = network.loss(x_batch, t_batch)\n",
    "    train_loss_list.append(loss)\n",
    "    \n",
    "    if i % 500 == 0:\n",
    "        train_acc = network.accuracy(x_train, t_train)\n",
    "        test_acc = network.accuracy(x_test, t_test)\n",
    "        train_acc_list.append(train_acc)\n",
    "        test_acc_list.append(test_acc)\n",
    "        print(\"iter:{}\".format(i))\n",
    "        print(\"train_acc={}, test_acc={}\".format(train_acc, test_acc))"
   ]
  },
  {
   "cell_type": "code",
   "execution_count": null,
   "metadata": {
    "colab": {
     "base_uri": "https://localhost:8080/",
     "height": 300
    },
    "id": "SPHm13N1g6uJ",
    "outputId": "a53ba1b2-a9c0-44ea-f60f-7cbe0b2e623b"
   },
   "outputs": [
    {
     "data": {
      "image/png": "[encoded data removed]",
      "text/plain": [
       "<Figure size 432x288 with 1 Axes>"
      ]
     },
     "metadata": {
      "filenames": {
       "image/png": "/Users/luzeyu/css_tohoku/css_tohoku/_build/jupyter_execute/draft/backpropagation_74_0.png"
      },
      "needs_background": "light",
      "tags": []
     },
     "output_type": "display_data"
    }
   ],
   "source": [
    "x = np.arange(iters_num)\n",
    "\n",
    "\n",
    "plt.plot(x, train_loss_list)\n",
    "plt.xlabel(\"iteration\") \n",
    "plt.ylabel(\"loss\") \n",
    "plt.title(\"Cross Entropy Error\", fontsize=20) \n",
    "plt.show()"
   ]
  },
  {
   "cell_type": "code",
   "execution_count": null,
   "metadata": {
    "colab": {
     "base_uri": "https://localhost:8080/",
     "height": 300
    },
    "id": "cH0YO_y_hHha",
    "outputId": "46ffbdc6-0198-4a69-ec15-aa4c7e5ac2b5"
   },
   "outputs": [
    {
     "data": {
      "image/png": "[encoded data removed]",
      "text/plain": [
       "<Figure size 432x288 with 1 Axes>"
      ]
     },
     "metadata": {
      "filenames": {
       "image/png": "/Users/luzeyu/css_tohoku/css_tohoku/_build/jupyter_execute/draft/backpropagation_75_0.png"
      },
      "needs_background": "light",
      "tags": []
     },
     "output_type": "display_data"
    }
   ],
   "source": [
    "x = np.arange(len(train_acc_list))\n",
    "from matplotlib import pyplot\n",
    "\n",
    "\n",
    "pyplot.plot(x, train_acc_list,'-o' , label=\"train acc\")\n",
    "pyplot.plot(x, test_acc_list, '-o', label=\"test acc\", linestyle=\"--\") \n",
    "pyplot.xlabel(\"epochs\")\n",
    "pyplot.ylabel(\"accuracy\") \n",
    "pyplot.ylim(0, 1) \n",
    "pyplot.legend() \n",
    "pyplot.title(\"Accuracy\", fontsize=20) \n",
    "pyplot.show()"
   ]
  },
  {
   "cell_type": "markdown",
   "metadata": {
    "id": "otJ5VOouG8j0"
   },
   "source": [
    "学習済みのモデルで予測を行う"
   ]
  },
  {
   "cell_type": "code",
   "execution_count": null,
   "metadata": {
    "id": "VqsAEvwiGcv6"
   },
   "outputs": [],
   "source": [
    "predict_value= network.predict(x_train[:10])\n",
    "predict_value = np.argmax(predict_value, axis=1)"
   ]
  },
  {
   "cell_type": "code",
   "execution_count": null,
   "metadata": {
    "colab": {
     "base_uri": "https://localhost:8080/",
     "height": 118
    },
    "id": "Omc8hrChDxuO",
    "outputId": "1aa787db-79d4-45aa-8b1a-6484705f84df"
   },
   "outputs": [
    {
     "data": {
      "image/png": "[encoded data removed]",
      "text/plain": [
       "<Figure size 1008x864 with 10 Axes>"
      ]
     },
     "metadata": {
      "filenames": {
       "image/png": "/Users/luzeyu/css_tohoku/css_tohoku/_build/jupyter_execute/draft/backpropagation_78_0.png"
      },
      "tags": []
     },
     "output_type": "display_data"
    }
   ],
   "source": [
    "predict_value= network.predict(x_train[:10])\n",
    "predict_value = np.argmax(predict_value, axis=1)\n",
    "plt.figure(figsize=(14,12))\n",
    "for digit_num in range(0,10):\n",
    "    plt.subplot(1,10,digit_num+1)\n",
    "    grid_data = x_train[digit_num].reshape(28,28)  # reshape from 1d to 2d pixel array\n",
    "    plt.imshow(grid_data, interpolation = \"none\", cmap = \"afmhot\")\n",
    "    plt.xticks([])\n",
    "    plt.yticks([])\n",
    "    plt.title(\"pedict_value:{}\".format(predict_value[digit_num]))\n",
    "plt.tight_layout()"
   ]
  },
  {
   "cell_type": "markdown",
   "metadata": {
    "id": "-Pycba9QeQm7"
   },
   "source": [
    "## 参考になった資料\n",
    "1. [バッチ版Affineレイヤの逆伝播【ゼロつく1のノート(数学)】](https://www.anarchive-beta.com/entry/2020/08/04/180000)\n",
    "2. [ソフトマックス関数と交差エントロピー誤差の逆伝播【ゼロつく1のノート(数学)】](https://www.anarchive-beta.com/entry/2020/08/06/180000)\n",
    "3. [ニューラルネットワークの基礎](https://tutorials.chainer.org/ja/13_Basics_of_Neural_Networks.html)\n",
    "4. [DeepNotes](https://deepnotes.io/)\n",
    "5. [3Blue1Brown](https://www.3blue1brown.com/)\n"
   ]
  }
 ],
 "metadata": {
  "colab": {
   "provenance": []
  },
  "kernelspec": {
   "display_name": "Python 3",
   "name": "python3"
  },
  "language_info": {
   "codemirror_mode": {
    "name": "ipython",
    "version": 3
   },
   "file_extension": ".py",
   "mimetype": "text/x-python",
   "name": "python",
   "nbconvert_exporter": "python",
   "pygments_lexer": "ipython3",
   "version": "3.10.8"
  }
 },
 "nbformat": 4,
 "nbformat_minor": 0
}