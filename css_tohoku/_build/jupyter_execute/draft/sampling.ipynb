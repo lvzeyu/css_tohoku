{
 "cells": [
  {
   "attachments": {},
   "cell_type": "markdown",
   "metadata": {},
   "source": [
    "# 標本分布と近似"
   ]
  },
  {
   "attachments": {},
   "cell_type": "markdown",
   "metadata": {},
   "source": [
    "## 統計量と標本分布"
   ]
  },
  {
   "attachments": {},
   "cell_type": "markdown",
   "metadata": {},
   "source": [
    "推測統計(inferential statistics)では、母集団に確率モデルを想定し、その確率分布に従う確率変数の実現値としてデータを捉えます。\n",
    "\n",
    "$X_1,...,X_n$がランダムサンプルとは、$X_1,...,X_n$がお互いに独立に分布していて、各$X_i$が同一の確率分布$F$に従うことを意味する。これを、$X_1,...,X_n$はお互いに独立に同一分布に従う(independently and identically distributed)といいます。\n",
    "\n",
    "$$X_1,...,X_n,\\  i,i,d, \\sim F$$\n",
    "\n",
    "推測統計はでは、このように、データ$x_1,...,x_n$を確率変数$X_1,...,X_n$の一つの実現値と捉えることによって、推定、検定、予測などの推測に関して信頼性を見積もることを可能にしています。"
   ]
  },
  {
   "attachments": {},
   "cell_type": "markdown",
   "metadata": {},
   "source": [
    "母集団の平均$\\mu$や分散$\\sigma ^2$を母平均(population mean),母分散(population variance)といいます。\n",
    "\n",
    "母数は標本$X_1,...,X_n$に基づいて推定されます。\n",
    "$$ \n",
    "\\bar{X}=\\frac{1}{n}\\sum_{i=1}^n X_i,\\ S^2=\\frac{1}{n}\\sum_{i=1}^n (X_i-\\bar{X})^2\n",
    "$$"
   ]
  },
  {
   "attachments": {},
   "cell_type": "markdown",
   "metadata": {},
   "source": [
    "はそれぞれ標本平均と標本分散と呼ばれます。実際には$\\mu$は$\\bar{X}$の実現値$\\bar{x}=\\frac{\\sum_{i=1}^n x_i}{n}$で推定されることになるが、信頼区間や推定誤差などその推定値の信頼性を与えるためには、確率変数$\\bar{X}$の確率分布を求める必要があります。\n",
    "\n",
    "一般に、$\\bar{X}$, $S^2$のように、標本$X_1,...,X_n$に基づいて関数で母数を含んでいないもの$t(X_1,...,X_n)$を統計量といい、その確率分布を標本分布(sampling distribution)といいます。\n",
    "\n",
    "平均$\\mu$, 分散$\\sigma ^2$の確率分布を母集団とするランダムサンプルで、\n",
    "$\\bar{X}$の平均は、\n",
    "$$\n",
    "E[\\bar{X}]=\\frac{1}{n}\\sum_{i=1}^n E[X_i] = \\frac{1}{n}\\sum_{i=1}^n \\mu = \\mu\n",
    "$$\n",
    "$S^2$の期待値については、まず、\n",
    "\\begin{align*}\n",
    "&\\sum_{i=1}^n(X_i-\\bar{X})^2\\\\\n",
    "&= \\sum_{i=1}^n (X_i - \\mu + \\mu - \\bar{X})^2\\\\\n",
    "&= \\sum_{i=1}^n(X_i - \\mu)^2 + 2 \\sum_{i=1}^n (X_i - \\mu)(\\mu - \\overline{X}) + \\sum_{i=1}^n(\\mu - \\overline{X})^2 \\\\\n",
    "&= \\sum_{i=1}^n (X_i - \\mu)^2 -n (\\overline{X}-\\mu)^2 \n",
    "\\end{align*}\n",
    "より、標本分散の期待値は\n",
    "\\begin{align*}\n",
    "&E[S^2] = E[\\frac{1}{n} \\sum_{i=1}^n (X_i - \\mu)^2 -n (\\overline{X}-\\mu)^2] \\\\\n",
    "&= \\sigma ^2 -n(\\frac{\\sigma ^2}{n})\\\\\n",
    "&= \\frac{n-1}{n} \\sigma ^2\n",
    "\\end{align*}\n",
    "\n",
    "母分散を得るためには、\n",
    "\\begin{align*}\n",
    "E(\\frac{n}{n-1}S^2)=\\sigma ^2\n",
    "\\end{align*}\n",
    "ここで、$E(\\frac{n}{n-1}S^2)$が母分散$\\sigma ^2$の不偏推定量を示しています。母分散に対する不偏分散$u^2$は次式で表される。\n",
    "\n",
    "$$\n",
    "u^2=\\frac{n}{n-1}S^2=\\frac{1}{n-1} \\sum_{i=1}^n(X_i-\\bar{X})^2\n",
    "$$\n",
    "\n",
    "標本平均の推定誤差は$n$とともに小さくなることを示しています。"
   ]
  },
  {
   "attachments": {},
   "cell_type": "markdown",
   "metadata": {},
   "source": [
    "## 標本平均と標本分散の独立性"
   ]
  },
  {
   "attachments": {},
   "cell_type": "markdown",
   "metadata": {},
   "source": [
    "平均$\\mu$、分散$\\sigma ^2$の正規分布に従う母集団から、ランダム・サンプルが取られているとする\n",
    "$$\n",
    "X_1,...,X_n, i.i.d. \\sim N(\\mu, \\sigma ^2)\n",
    "$$\n",
    "\n",
    "標本平均$\\bar{X}$, 不偏分散$V^2$について次の定理が成り立つ\n",
    "\n",
    "1. $\\bar{X}$と$V^2$は独立に分布する\n",
    "2. $\\bar{X} \\sim N(\\mu,\\frac{\\sigma ^2}{n})$\n",
    "3. $\\frac{(n-1)V^2}{\\sigma ^2} \\sim x_{n-1}^2$"
   ]
  },
  {
   "attachments": {},
   "cell_type": "markdown",
   "metadata": {},
   "source": []
  }
 ],
 "metadata": {
  "language_info": {
   "codemirror_mode": {
    "name": "ipython",
    "version": 3
   },
   "file_extension": ".py",
   "mimetype": "text/x-python",
   "name": "python",
   "nbconvert_exporter": "python",
   "pygments_lexer": "ipython3",
   "version": "3.9.16"
  }
 },
 "nbformat": 4,
 "nbformat_minor": 2
}