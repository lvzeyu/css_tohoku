{
 "cells": [
  {
   "attachments": {},
   "cell_type": "markdown",
   "metadata": {},
   "source": [
    "# Pythonの基本構文\n",
    "\n",
    "## 改行\n",
    "\n",
    "Python では、改行が文の区切りとなります。\n"
   ]
  },
  {
   "cell_type": "code",
   "execution_count": 1,
   "metadata": {},
   "outputs": [
    {
     "name": "stdout",
     "output_type": "stream",
     "text": [
      "Hello\n",
      "World\n"
     ]
    }
   ],
   "source": [
    "print(\"Hello\")\n",
    "print(\"World\")"
   ]
  },
  {
   "cell_type": "markdown",
   "metadata": {},
   "source": [
    "または、セミコロン(```;```)で区切ることもできます。"
   ]
  },
  {
   "cell_type": "code",
   "execution_count": 2,
   "metadata": {},
   "outputs": [
    {
     "name": "stdout",
     "output_type": "stream",
     "text": [
      "8\n"
     ]
    }
   ],
   "source": [
    "a = 5; b = 3; c = a + b\n",
    "print(c)"
   ]
  },
  {
   "cell_type": "markdown",
   "metadata": {},
   "source": [
    "文を数行に分けて記述したい場合は、行末にバックスラッシュ(```\\```)を書きます。"
   ]
  },
  {
   "cell_type": "code",
   "execution_count": 3,
   "metadata": {},
   "outputs": [
    {
     "name": "stdout",
     "output_type": "stream",
     "text": [
      "1368\n"
     ]
    }
   ],
   "source": [
    "total = 123 \\\n",
    "      + 456 \\\n",
    "      + 789\n",
    "print(total)"
   ]
  },
  {
   "cell_type": "markdown",
   "metadata": {},
   "source": [
    "## コメント(```#```)\n",
    "\n",
    "ハッシュ(```#```)から行末まではコメントとみなされます。\n",
    "\n",
    "コメントはプログラムの実行には影響せず、プログラムのコードを読む人に向けたメモや説明のために使われます。\n"
   ]
  },
  {
   "cell_type": "code",
   "execution_count": 4,
   "metadata": {},
   "outputs": [
    {
     "name": "stdout",
     "output_type": "stream",
     "text": [
      "Hello\n"
     ]
    }
   ],
   "source": [
    "print(\"Hello\")      # Helloと表示します"
   ]
  },
  {
   "cell_type": "markdown",
   "metadata": {},
   "source": [
    "## インデント\n",
    "\n",
    "Python ではインデント(行頭の空白文字の数)が重要な意味を持ち、同じ数の空白やタブ文字でインデントされた文がブロックとみなされます。\n",
    "\n",
    "インデントは通常4個の空白文字を使用します。\n",
    "\n",
    "- 同じブロックのコードは同じ量のインデントが必要です：あるブロック（例えば、関数の本体、ループの内部、条件文の内部など）内のすべての行は同じレベルのインデントでなければなりません。\n",
    "- ブロックが終了すると、インデントは元に戻ります：ブロックの最後の行に到達すると、次の行はそのブロックを開始する前のインデントレベルに戻ります。"
   ]
  },
  {
   "cell_type": "code",
   "execution_count": 5,
   "metadata": {},
   "outputs": [
    {
     "name": "stdout",
     "output_type": "stream",
     "text": [
      "0\n",
      "1\n",
      "2\n",
      "3\n",
      "Found three!\n",
      "4\n",
      "Loop finished\n"
     ]
    }
   ],
   "source": [
    "for i in range(5):\n",
    "    print(i)  # ループの内部でインデントされています\n",
    "    if i == 3:\n",
    "        print(\"Found three!\")  # 条件文の内部でさらにインデントされています\n",
    "\n",
    "print(\"Loop finished\")  # ループの外で、インデントは元に戻ります"
   ]
  },
  {
   "cell_type": "markdown",
   "metadata": {},
   "source": [
    "## 変数"
   ]
  },
  {
   "cell_type": "markdown",
   "metadata": {},
   "source": [
    "### 変数の命名\n",
    "\n",
    "```{margin}\n",
    "Pythonにおいて**すべての数、文字列、データ構造、関数、クラス、モジュールがオブジェクト**です。初心者にとってやや理解しにくいかもしれませんが、ここではさしあたり、オブジェクトのイメージを簡単に説明します。\n",
    "```\n",
    "\n",
    "Pythonで変数を定義できます。変数とは、プログラムで使いたいメモリ上の値に名前を付けたものです。値を保存したり参照したりするために使用されます。\n",
    "\n",
    "Pythonで変数の作成は、いくつかのルールがあります。\n",
    "\n",
    "- 大文字と小文字を区別する：```chss```,```Chss```, ```CHSS```はすべて異なる名前です。\n",
    "- 先頭で数字は使えないです。例えば、```1a```は無効な変数名です。\n",
    "- Pythonの予約語を避けます。"
   ]
  },
  {
   "cell_type": "markdown",
   "metadata": {},
   "source": [
    "### 予約語の一覧を表示\n",
    "```{note}\n",
    "強制ではないですが、可読性を向上するために、できるだけ推奨される命名規則にしたがった方が良いです。\n",
    "<table class=\"table2\">\n",
    "    <thead>\n",
    "<tr>\n",
    "<th style=\"text-align: center\">対象</th>\n",
    "<th style=\"text-align: center\">ルール</th>\n",
    "<th style=\"text-align: center\">例</th>\n",
    "</tr>\n",
    "</thead>\n",
    "<tbody>\n",
    "<tr>\n",
    "<td style=\"text-align: center\">パッケージ</td>\n",
    "<td style=\"text-align: center\">全小文字 なるべく短くアンダースコア非推奨</td>\n",
    "<td style=\"text-align: center\">tqdm, requests ...</td>\n",
    "</tr>\n",
    "<tr>\n",
    "<td style=\"text-align: center\">モジュール</td>\n",
    "<td style=\"text-align: center\">全小文字 なるべく短くアンダースコア可</td>\n",
    "<td style=\"text-align: center\">sys, os,...</td>\n",
    "</tr>\n",
    "<tr>\n",
    "<td style=\"text-align: center\">クラス</td>\n",
    "<td style=\"text-align: center\">最初大文字 + 大文字区切り</td>\n",
    "<td style=\"text-align: center\">MyFavoriteClass</td>\n",
    "</tr>\n",
    "<tr>\n",
    "<td style=\"text-align: center\">例外</td>\n",
    "<td style=\"text-align: center\">最初大文字 + 大文字区切り</td>\n",
    "<td style=\"text-align: center\">MyFuckingError</td>\n",
    "</tr>\n",
    "<tr>\n",
    "<td style=\"text-align: center\">型変数</td>\n",
    "<td style=\"text-align: center\">最初大文字 + 大文字区切り</td>\n",
    "<td style=\"text-align: center\">MyFavoriteType</td>\n",
    "</tr>\n",
    "<tr>\n",
    "<td style=\"text-align: center\">メソッド</td>\n",
    "<td style=\"text-align: center\">全小文字 + アンダースコア区切り</td>\n",
    "<td style=\"text-align: center\">my_favorite_method</td>\n",
    "</tr>\n",
    "<tr>\n",
    "<td style=\"text-align: center\">関数</td>\n",
    "<td style=\"text-align: center\">全小文字 + アンダースコア区切り</td>\n",
    "<td style=\"text-align: center\">my_favorite_funcion</td>\n",
    "</tr>\n",
    "<tr>\n",
    "<td style=\"text-align: center\">変数</td>\n",
    "<td style=\"text-align: center\">全小文字 + アンダースコア区切り</td>\n",
    "<td style=\"text-align: center\">my_favorite_instance</td>\n",
    "</tr>\n",
    "<tr>\n",
    "<td style=\"text-align: center\">定数</td>\n",
    "<td style=\"text-align: center\">\n",
    "<strong>全大文字</strong> + アンダースコア区切り</td>\n",
    "<td style=\"text-align: center\">MY_FAVORITE_CONST</td>\n",
    "</tr>\n",
    "</tbody>\n",
    "</table>\n",
    "```"
   ]
  },
  {
   "cell_type": "code",
   "execution_count": 6,
   "metadata": {},
   "outputs": [
    {
     "name": "stdout",
     "output_type": "stream",
     "text": [
      "\n",
      "Here is a list of the Python keywords.  Enter any keyword to get more help.\n",
      "\n",
      "False               class               from                or\n",
      "None                continue            global              pass\n",
      "True                def                 if                  raise\n",
      "and                 del                 import              return\n",
      "as                  elif                in                  try\n",
      "assert              else                is                  while\n",
      "async               except              lambda              with\n",
      "await               finally             nonlocal            yield\n",
      "break               for                 not                 \n",
      "\n"
     ]
    }
   ],
   "source": [
    "help(\"keywords\")"
   ]
  },
  {
   "cell_type": "markdown",
   "metadata": {},
   "source": [
    "### 代入\n",
    "```=```を使って変数に値を代入する。"
   ]
  },
  {
   "cell_type": "code",
   "execution_count": 7,
   "metadata": {},
   "outputs": [
    {
     "name": "stdout",
     "output_type": "stream",
     "text": [
      "5\n",
      "10\n"
     ]
    }
   ],
   "source": [
    "a=5\n",
    "print(a)\n",
    "print(a+5)"
   ]
  },
  {
   "cell_type": "markdown",
   "metadata": {},
   "source": [
    "`````{admonition} Advanced\n",
    ":class: important\n",
    "多くのプログラミング言語では、変数自体が型を持ち、メモリ位置が固定されているが、Pythonの場合、**変数はただの名前です**。\n",
    "```{figure} ./Figure/immutable.png\n",
    "---\n",
    "scale: 50%\n",
    "align: left\n",
    "---\n",
    "```\n",
    "つまり、代入は値をコピーするわけではない、**データを入れてあるオブジェクトに名前を付けるだけです**。名前はものの**参照手段**であり、もの自体ではないです。\n",
    "\n",
    "変数の代入は、メモリ内のどこかにあるオブジェクトに長いヒモで繋がるというイメージです。そのため、```C```や```JAVA```のような静的言語では変数の型を明確的に指定しなければないが、Pythonでは型を指定する必要はありません。\n",
    "\n",
    "```{figure} ./Figure/immutable2.png\n",
    "---\n",
    "scale: 40%\n",
    "align: left\n",
    "---\n",
    "```\n",
    "\n",
    "```{figure} ./Figure/immutable3.png\n",
    "---\n",
    "scale: 40%\n",
    "align: right\n",
    "---\n",
    "```\n",
    "`````"
   ]
  },
  {
   "cell_type": "code",
   "execution_count": 8,
   "metadata": {},
   "outputs": [
    {
     "name": "stdout",
     "output_type": "stream",
     "text": [
      "a:4335260912,b:4335260912,5:4335260912\n"
     ]
    }
   ],
   "source": [
    "#新たに生成したように見えるbは同じ値を指しているので、変数も値そのものもIDは同じになります。\n",
    "a=5\n",
    "b=5\n",
    "print(\"a:{},b:{},5:{}\".format(id(a),id(b),id(5)))"
   ]
  },
  {
   "cell_type": "code",
   "execution_count": 9,
   "metadata": {},
   "outputs": [
    {
     "name": "stdout",
     "output_type": "stream",
     "text": [
      "a:4335321936,'5':4335321936,b:4335260912,5:4335260912\n"
     ]
    }
   ],
   "source": [
    "#変数の型が異なるなら、変数IDも異なっています。\n",
    "a='5'\n",
    "b=5\n",
    "print(\"a:{},'5':{},b:{},5:{}\".format(id(a),id('5'),id(b),id(5)))"
   ]
  }
 ],
 "metadata": {
  "kernelspec": {
   "display_name": "Python 3",
   "language": "python",
   "name": "python3"
  },
  "language_info": {
   "codemirror_mode": {
    "name": "ipython",
    "version": 3
   },
   "file_extension": ".py",
   "mimetype": "text/x-python",
   "name": "python",
   "nbconvert_exporter": "python",
   "pygments_lexer": "ipython3",
   "version": "3.12.1"
  },
  "vscode": {
   "interpreter": {
    "hash": "31f2aee4e71d21fbe5cf8b01ff0e069b9275f58929596ceb00d14d90e3e16cd6"
   }
  }
 },
 "nbformat": 4,
 "nbformat_minor": 2
}