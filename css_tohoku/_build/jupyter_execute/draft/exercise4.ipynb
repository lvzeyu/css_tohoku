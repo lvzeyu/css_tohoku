{
 "cells": [
  {
   "cell_type": "markdown",
   "metadata": {},
   "source": [
    "# 練習課題\n",
    "\n",
    "## 課題1\n",
    "以下の指示に従って、```Sphere```というクラスを作成しなさい。\n",
    "\n",
    "- インスタンス化時に```radius```という値を受け取る\n",
    "- ```surface_area```というメソッドで表面積を計算する\n",
    "\n",
    "$$ S = 4 \\pi r^2 \\$$\n",
    "\n",
    "- ```volume```というメソッドで体積を計算する\n",
    "\n",
    "$$ V = \\frac{4}{3} \\pi r^3 \\$$\n"
   ]
  },
  {
   "cell_type": "code",
   "execution_count": 1,
   "metadata": {},
   "outputs": [],
   "source": [
    "class Sphere():\n",
    "    pass"
   ]
  },
  {
   "cell_type": "code",
   "execution_count": 2,
   "metadata": {},
   "outputs": [
    {
     "ename": "TypeError",
     "evalue": "Sphere() takes no arguments",
     "output_type": "error",
     "traceback": [
      "\u001b[0;31m---------------------------------------------------------------------------\u001b[0m",
      "\u001b[0;31mTypeError\u001b[0m                                 Traceback (most recent call last)",
      "Cell \u001b[0;32mIn[2], line 1\u001b[0m\n\u001b[0;32m----> 1\u001b[0m s \u001b[38;5;241m=\u001b[39m \u001b[43mSphere\u001b[49m\u001b[43m(\u001b[49m\u001b[38;5;241;43m1\u001b[39;49m\u001b[43m)\u001b[49m\n",
      "\u001b[0;31mTypeError\u001b[0m: Sphere() takes no arguments"
     ]
    }
   ],
   "source": [
    "s = Sphere(1)"
   ]
  },
  {
   "cell_type": "code",
   "execution_count": null,
   "metadata": {},
   "outputs": [],
   "source": [
    "s.surface_area()"
   ]
  },
  {
   "cell_type": "code",
   "execution_count": null,
   "metadata": {},
   "outputs": [],
   "source": [
    "s.volume()"
   ]
  },
  {
   "cell_type": "markdown",
   "metadata": {},
   "source": [
    "## 課題2\n",
    "\n",
    "「スイカ割りゲーム」のプログラムをクラスの形に整理してください。"
   ]
  },
  {
   "cell_type": "code",
   "execution_count": 1,
   "metadata": {},
   "outputs": [
    {
     "name": "stdout",
     "output_type": "stream",
     "text": [
      "プレイヤーが移動しました: (1, 0)\n",
      "プレイヤーが移動しました: (2, 0)\n",
      "プレイヤーが移動しました: (3, 0)\n",
      "スイカを見つけました！\n"
     ]
    }
   ],
   "source": [
    "import random\n",
    "import math\n",
    "\n",
    "BOARD_SIZE = 5  # ボードサイズを定義\n",
    "\n",
    "def generate_position(board_size):\n",
    "    # スイカとプレイヤーの初期位置をランダムに生成\n",
    "    return (random.randrange(0, board_size), random.randrange(0, board_size))\n",
    "\n",
    "def determine_move(player_pos, target_pos):\n",
    "    # スイカに向かってプレイヤーを移動させる方向を決定\n",
    "    current_x, current_y = player_pos\n",
    "    target_x, target_y = target_pos\n",
    "\n",
    "    move_x = 1 if current_x < target_x else -1 if current_x > target_x else 0\n",
    "    move_y = 1 if current_y < target_y else -1 if current_y > target_y else 0\n",
    "\n",
    "    return (move_x, move_y)\n",
    "\n",
    "def move_player(player_pos, move_x, move_y):\n",
    "    # プレイヤーの位置を更新\n",
    "    new_x = player_pos[0] + move_x\n",
    "    new_y = player_pos[1] + move_y\n",
    "    return (new_x, new_y)\n",
    "\n",
    "def play_game(board_size):\n",
    "    suika_pos = generate_position(board_size)\n",
    "    player_pos = generate_position(board_size)\n",
    "\n",
    "    while suika_pos != player_pos:\n",
    "        move_x, move_y = determine_move(player_pos, suika_pos)\n",
    "        player_pos = move_player(player_pos, move_x, move_y)\n",
    "        print(\"プレイヤーが移動しました:\", player_pos)\n",
    "\n",
    "    print(\"スイカを見つけました！\")\n",
    "\n",
    "# ゲームを開始\n",
    "play_game(BOARD_SIZE)"
   ]
  },
  {
   "cell_type": "markdown",
   "metadata": {},
   "source": [
    "- 属性\n",
    "    - ```board_size```\n",
    "    - ```suika_pos```\n",
    "    - ```player_pos```\n",
    "- メソッド\n",
    "    - ```calc_distance```: 二点間のユークリッド距離を計算\n",
    "    - ```move_player```: プレイヤーをスイカに向かって一歩移動させます。プレイヤーの位置を更新します。\n",
    "    - ```play_game```: ゲームのループを実行します。プレイヤーがスイカの位置に到達するまで、プレイヤーを移動させます。"
   ]
  },
  {
   "cell_type": "code",
   "execution_count": 2,
   "metadata": {},
   "outputs": [],
   "source": [
    "class WatermelonHunt:\n",
    "    pass"
   ]
  },
  {
   "cell_type": "code",
   "execution_count": 3,
   "metadata": {
    "tags": [
     "hide-input"
    ]
   },
   "outputs": [],
   "source": [
    "import random\n",
    "import math\n",
    "\n",
    "class WatermelonHunt:\n",
    "    def __init__(self, board_size=5):\n",
    "        self.board_size = board_size\n",
    "        self.suika_pos = (random.randrange(0, self.board_size), random.randrange(0, self.board_size))\n",
    "        self.player_pos = (random.randrange(0, self.board_size), random.randrange(0, self.board_size))\n",
    "    \n",
    "    def calc_distance(self, pos1, pos2):\n",
    "        diff_x = pos1[0] - pos2[0]\n",
    "        diff_y = pos1[1] - pos2[1]\n",
    "        return math.sqrt(diff_x**2 + diff_y**2)\n",
    "\n",
    "    def move_player(self):\n",
    "        current_x, current_y = self.player_pos\n",
    "        target_x, target_y = self.suika_pos\n",
    "\n",
    "        if current_x < target_x:\n",
    "            current_x += 1\n",
    "        elif current_x > target_x:\n",
    "            current_x -= 1\n",
    "\n",
    "        if current_y < target_y:\n",
    "            current_y += 1\n",
    "        elif current_y > target_y:\n",
    "            current_y -= 1\n",
    "\n",
    "        self.player_pos = (current_x, current_y)\n",
    "        print(\"プレイヤーが移動しました:\", self.player_pos)\n",
    "    \n",
    "    def play_game(self):\n",
    "        while self.suika_pos != self.player_pos:\n",
    "            distance = self.calc_distance(self.suika_pos, self.player_pos)\n",
    "            print(\"スイカまでの距離:\", distance)\n",
    "            self.move_player()\n",
    "        \n",
    "        print(\"スイカを見つけました！\")"
   ]
  },
  {
   "cell_type": "code",
   "execution_count": 7,
   "metadata": {},
   "outputs": [
    {
     "name": "stdout",
     "output_type": "stream",
     "text": [
      "スイカまでの距離: 8.06225774829855\n",
      "プレイヤーが移動しました: (6, 3)\n",
      "スイカまでの距離: 6.708203932499369\n",
      "プレイヤーが移動しました: (5, 4)\n",
      "スイカまでの距離: 5.385164807134504\n",
      "プレイヤーが移動しました: (4, 5)\n",
      "スイカまでの距離: 4.123105625617661\n",
      "プレイヤーが移動しました: (3, 6)\n",
      "スイカまでの距離: 3.0\n",
      "プレイヤーが移動しました: (3, 7)\n",
      "スイカまでの距離: 2.0\n",
      "プレイヤーが移動しました: (3, 8)\n",
      "スイカまでの距離: 1.0\n",
      "プレイヤーが移動しました: (3, 9)\n",
      "スイカを見つけました！\n"
     ]
    }
   ],
   "source": [
    "game = WatermelonHunt(board_size=10)\n",
    "game.play_game()"
   ]
  },
  {
   "cell_type": "markdown",
   "metadata": {},
   "source": [
    "## 課題3\n",
    "\n",
    "```verbose```という属性を追加する。\n",
    "\n",
    "verboseがTrueの場合、プレイヤーの移動やスイカまでの距離などの情報(```print(...)```)が出力されます。逆にverboseがFalseの場合、これらの情報は出力されません。"
   ]
  },
  {
   "cell_type": "code",
   "execution_count": null,
   "metadata": {
    "tags": [
     "hide-input"
    ]
   },
   "outputs": [],
   "source": [
    "import random\n",
    "import math\n",
    "\n",
    "class WatermelonHunt:\n",
    "    def __init__(self, board_size=5, verbose=True):\n",
    "        self.board_size = board_size\n",
    "        self.suika_pos = (random.randrange(0, self.board_size), random.randrange(0, self.board_size))\n",
    "        self.player_pos = (random.randrange(0, self.board_size), random.randrange(0, self.board_size))\n",
    "        self.verbose = verbose\n",
    "    pass"
   ]
  },
  {
   "cell_type": "markdown",
   "metadata": {},
   "source": [
    "## 課題4\n",
    "\n",
    "クラスに移動数をカウントするメソッドを追加する。\n",
    "\n",
    "そのメソッドは、指定された回数のゲームをプレイし、それぞれのゲームでの移動回数の平均を計算します。これにより、ボードのサイズに応じてプレイヤーがスイカに到達するまでに必要な平均移動回数を推定することができます。"
   ]
  },
  {
   "cell_type": "code",
   "execution_count": null,
   "metadata": {},
   "outputs": [],
   "source": []
  },
  {
   "cell_type": "markdown",
   "metadata": {},
   "source": [
    "## 課題5\n",
    "\n",
    "複数のプレイヤーが参加し、最初にスイカに到達したプレイヤーが勝つゲームを想定します。\n",
    "\n",
    "```player_num```という属性を追加し、プレイヤーの数を制御します。\n",
    "\n",
    "各プレイヤーはそれぞれ独立してスイカに向かって移動し、ゲームの進行は各ターンで全プレイヤーが一度ずつ移動する。あるプレイヤーがスイカに到達したら、ゲームは終了します。\n"
   ]
  },
  {
   "cell_type": "markdown",
   "metadata": {},
   "source": []
  },
  {
   "cell_type": "code",
   "execution_count": 8,
   "metadata": {
    "tags": [
     "hide-input"
    ]
   },
   "outputs": [],
   "source": [
    "import random\n",
    "import math\n",
    "\n",
    "class WatermelonHunt:\n",
    "    def __init__(self, board_size=5, player_num=2):\n",
    "        self.board_size = board_size\n",
    "        self.suika_pos = (random.randrange(0, self.board_size), random.randrange(0, self.board_size))\n",
    "        self.player_positions = [(random.randrange(0, self.board_size), random.randrange(0, self.board_size)) for _ in range(self.player_num)]\n",
    "        self.player_num = player_num\n",
    "        self.winner = None\n",
    "\n",
    "    def calc_distance(self, pos1, pos2):\n",
    "        diff_x = pos1[0] - pos2[0]\n",
    "        diff_y = pos1[1] - pos2[1]\n",
    "        return math.sqrt(diff_x**2 + diff_y**2)\n",
    "\n",
    "    def move_player(self, player_index):\n",
    "        current_x, current_y = self.player_positions[player_index]\n",
    "        target_x, target_y = self.suika_pos\n",
    "\n",
    "        if current_x < target_x:\n",
    "            current_x += 1\n",
    "        elif current_x > target_x:\n",
    "            current_x -= 1\n",
    "\n",
    "        if current_y < target_y:\n",
    "            current_y += 1\n",
    "        elif current_y > target_y:\n",
    "            current_y -= 1\n",
    "\n",
    "        self.player_positions[player_index] = (current_x, current_y)\n",
    "        print(f\"プレイヤー {player_index + 1} が移動しました: {self.player_positions[player_index]}\")\n",
    "        \n",
    "        if self.player_positions[player_index] == self.suika_pos:\n",
    "            self.winner = player_index + 1\n",
    "\n",
    "    def play_game(self):\n",
    "        while self.winner is None:\n",
    "            for i in range(self.player_num):\n",
    "                pass\n",
    "        \n",
    "        print(f\"プレイヤー {self.winner} がスイカを見つけました！\")\n"
   ]
  },
  {
   "cell_type": "code",
   "execution_count": null,
   "metadata": {},
   "outputs": [],
   "source": []
  }
 ],
 "metadata": {
  "kernelspec": {
   "display_name": "jupyterbook",
   "language": "python",
   "name": "python3"
  },
  "language_info": {
   "codemirror_mode": {
    "name": "ipython",
    "version": 3
   },
   "file_extension": ".py",
   "mimetype": "text/x-python",
   "name": "python",
   "nbconvert_exporter": "python",
   "pygments_lexer": "ipython3",
   "version": "3.10.9"
  }
 },
 "nbformat": 4,
 "nbformat_minor": 2
}