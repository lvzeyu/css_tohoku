{
 "cells": [
  {
   "attachments": {},
   "cell_type": "markdown",
   "metadata": {},
   "source": [
    "# オブジェクトとクラス\n",
    "\n",
    "今までさまざまな箇所で触れたように、Pythonに含まれるすべての要素がオブジェクトとして扱われます。\n",
    "\n",
    "オブジェクトは、**データ**と**メソッド**を持っています。\n",
    "\n",
    "例えば、```num=10```と書けば、値10の**整数型のオブジェクト**を作って、numという名前にオブジェクト参照を代入できます。整数型のオブジェクトは加算や乗算などのメソッドを持つため、```num+10```や```num*10```などの計算は可能です。\n",
    "\n",
    "もちろん、```\"cat\"```や```\"dog\"```などの文字列もオプジェットであり、メソッドを持っています。文字列のオプジェットに定義されるメソッドによる、```\"cat\"+\"dog\"```で文字列の結合のような文字列のオプジェット特有な操作が可能です。\n"
   ]
  },
  {
   "attachments": {},
   "cell_type": "markdown",
   "metadata": {},
   "source": [
    "Pythonのオブジェクトは**クラス**に基づいて作成されます。クラスはオブジェクトの設計図であり、オブジェクトが持つデータとメソッドを定義します。\n",
    "\n",
    "Pythonには、文字列、リスト、辞書などの標準データ型を作るための組み込みクラスがあります。\n",
    "\n",
    "新しいオブジェクトを作成する時、オブジェクトの内容と機能を規定するクラスを作る必要があります。"
   ]
  },
  {
   "attachments": {},
   "cell_type": "markdown",
   "metadata": {},
   "source": [
    "## ```class```によるクラスの定義"
   ]
  },
  {
   "attachments": {},
   "cell_type": "markdown",
   "metadata": {},
   "source": [
    "一般にクラス定義は、以下のような形をしています。\n",
    "\n",
    "```\n",
    "class クラス名:\n",
    "    def __init__(self):\n",
    "        実行文\n",
    "    def メソッド名(self, 引数, ...):\n",
    "        実行文\n",
    "    def メソッド名(self, 引数, ...):\n",
    "        実行文\n",
    "```\n",
    "\n",
    "### 初期化\n",
    "\n",
    "オプジェットを作成する際値を代入する場合は多いです。その場合。```__init__```という特殊なメソッドで、クラスのインスタンス化時に自動的に初期設定を行います。\n",
    "\n",
    "### メソッド\n",
    "\n",
    "ここで示したように、**メソッド**は、クラスの中の関数のことです。\n",
    "\n",
    "メソッド定義は関数定義と同じ形をしていますが、その最初の引数には慣例として```self```という名前を付けます。 この引数には、メソッドが呼び出されたオブジェクト自身が渡されます。メソッド内で自身の属性や他のメソッドにアクセスするために使用されます。"
   ]
  },
  {
   "cell_type": "code",
   "execution_count": 1,
   "metadata": {},
   "outputs": [],
   "source": [
    "class Person:\n",
    "    def __init__(self, name):\n",
    "        self.name = name\n",
    "\n",
    "    def say_hello(self):\n",
    "        print(\"Hello,\", self.name)"
   ]
  },
  {
   "cell_type": "code",
   "execution_count": 2,
   "metadata": {},
   "outputs": [],
   "source": [
    "marx=Person(\"Marx\")"
   ]
  },
  {
   "attachments": {},
   "cell_type": "markdown",
   "metadata": {},
   "source": [
    "上記の例では、\n",
    "- Personというクラスを定義する\n",
    "- ```Person(\"Marx\")```でオブジェクトのインスタンスを生成する\n",
    "- ```self```として新しい作ったオブジェクト、```name```としてもう一つの引数```\"Marx\"```を渡して、オブジェクトの```__init()__```メソッドを呼び出す\n",
    "- ```name```の値をオブジェクトに格納する\n",
    "- 新しいオブジェクトを返す、```Marx```という名前を与える"
   ]
  },
  {
   "attachments": {},
   "cell_type": "markdown",
   "metadata": {},
   "source": [
    "オブジェクトにおける値は、属性としてオブジェクトとともに保存されますので、直接に読み書きできます。"
   ]
  },
  {
   "cell_type": "code",
   "execution_count": 3,
   "metadata": {},
   "outputs": [
    {
     "data": {
      "text/plain": [
       "'Marx'"
      ]
     },
     "execution_count": 3,
     "metadata": {},
     "output_type": "execute_result"
    }
   ],
   "source": [
    "marx.name"
   ]
  },
  {
   "attachments": {},
   "cell_type": "markdown",
   "metadata": {},
   "source": [
    "オブジェクトのメソッドを呼び出します。"
   ]
  },
  {
   "cell_type": "code",
   "execution_count": 4,
   "metadata": {},
   "outputs": [
    {
     "name": "stdout",
     "output_type": "stream",
     "text": [
      "Hello, Marx\n"
     ]
    }
   ],
   "source": [
    "marx.say_hello()"
   ]
  },
  {
   "attachments": {},
   "cell_type": "markdown",
   "metadata": {},
   "source": [
    "- ここで注意してほしいのは、```Personクラス```内部では、```name```属性には```self.name```という形でアクセスできます。"
   ]
  },
  {
   "attachments": {},
   "cell_type": "markdown",
   "metadata": {},
   "source": [
    "異なる値を渡せば、```Personクラス```から新しいオブジェクトを作成できます。"
   ]
  },
  {
   "cell_type": "code",
   "execution_count": 5,
   "metadata": {},
   "outputs": [],
   "source": [
    "webber=Person(\"Webber\")"
   ]
  },
  {
   "cell_type": "code",
   "execution_count": 6,
   "metadata": {},
   "outputs": [
    {
     "data": {
      "text/plain": [
       "'Webber'"
      ]
     },
     "execution_count": 6,
     "metadata": {},
     "output_type": "execute_result"
    }
   ],
   "source": [
    "webber.name"
   ]
  },
  {
   "cell_type": "code",
   "execution_count": 7,
   "metadata": {},
   "outputs": [
    {
     "name": "stdout",
     "output_type": "stream",
     "text": [
      "Hello, Webber\n"
     ]
    }
   ],
   "source": [
    "webber.say_hello()"
   ]
  },
  {
   "attachments": {},
   "cell_type": "markdown",
   "metadata": {},
   "source": [
    "### 属性とメソッドの追加\n",
    "\n",
    "同じような形式で、属性とメソッドの追加しましょう。\n",
    "\n",
    "例えば、```Personクラス```に```birth```属性と```print_birth()```メソッドを追加するなら"
   ]
  },
  {
   "cell_type": "code",
   "execution_count": 8,
   "metadata": {},
   "outputs": [],
   "source": [
    "class Person:\n",
    "    def __init__(self, name, birth):\n",
    "        self.name = name\n",
    "        self.birth = birth\n",
    "\n",
    "    def say_hello(self):\n",
    "        print(\"Hello,\", self.name)\n",
    "    \n",
    "    def print_birth(self):\n",
    "        print(\"{} was born in {}\".format(self.name,self.birth))"
   ]
  },
  {
   "cell_type": "code",
   "execution_count": 9,
   "metadata": {},
   "outputs": [],
   "source": [
    "marx=Person(\"Marx\", 1818)"
   ]
  },
  {
   "cell_type": "code",
   "execution_count": 10,
   "metadata": {},
   "outputs": [
    {
     "name": "stdout",
     "output_type": "stream",
     "text": [
      "Marx was born in 1818\n"
     ]
    }
   ],
   "source": [
    "marx.print_birth()"
   ]
  },
  {
   "attachments": {},
   "cell_type": "markdown",
   "metadata": {},
   "source": [
    "````{tab-set}\n",
    "```{tab-item} 実習問題1\n",
    "```Personクラス```に```death```という属性で没年を受け取って、```print_death()```メソッドを追加する。\n",
    "```\n",
    "\n",
    "```{tab-item} 実習問題2\n",
    "```Personクラス```に享年を計算するメソッドを追加する。\n",
    "\n",
    "```\n",
    "\n",
    "````"
   ]
  },
  {
   "attachments": {},
   "cell_type": "markdown",
   "metadata": {},
   "source": []
  }
 ],
 "metadata": {
  "kernelspec": {
   "display_name": "jupyterbook",
   "language": "python",
   "name": "python3"
  },
  "language_info": {
   "codemirror_mode": {
    "name": "ipython",
    "version": 3
   },
   "file_extension": ".py",
   "mimetype": "text/x-python",
   "name": "python",
   "nbconvert_exporter": "python",
   "pygments_lexer": "ipython3",
   "version": "3.10.9"
  }
 },
 "nbformat": 4,
 "nbformat_minor": 2
}