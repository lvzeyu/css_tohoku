{
 "cells": [
  {
   "attachments": {},
   "cell_type": "markdown",
   "metadata": {},
   "source": [
    "# 分岐\n",
    "\n",
    "ここまでは一文だけの命令を作ってきました。でも、本格的なプログラミングのためには、複数の文を繰返し実行したり、条件分岐させたりということが必要になります。これを制御文と言います。比較演算子や論理演算子について学んだので、いろいろな条件を使ってプログラムを実行させることができるようになりました。"
   ]
  },
  {
   "attachments": {},
   "cell_type": "markdown",
   "metadata": {},
   "source": [
    "## if文とブロックの書き方\n",
    "\n",
    "- ```if``` の後に条件を書きます。そして条件が満たされているときは**ブロック**の中身を実行します。\n",
    "- ここで**ブロック**という概念が初めて出てきました。```if```の条件の後の:がブロックを示します。Pythonの特徴として、ブロックの領域はインデントを利用して示します。インデントがないとエラーになります。通常は、スペース4つでインデントします。\n",
    "- ```else```ブロックはif以下の条件を満たさないときに実行されます。"
   ]
  },
  {
   "attachments": {},
   "cell_type": "markdown",
   "metadata": {},
   "source": [
    "```{margin}\n",
    "ここでついでにpythonでのコメントの書き方も学んでおきます。コードの中に、```#```で始まる文を書くと、以後の文は実行時に無視されます。プログラムを書くときは、それぞれのコードで何をしようとしているか、細かくコメントを書いておくことが重要です。\n",
    "```"
   ]
  },
  {
   "cell_type": "code",
   "execution_count": 1,
   "metadata": {},
   "outputs": [
    {
     "name": "stdout",
     "output_type": "stream",
     "text": [
      "不正解です。\n"
     ]
    }
   ],
   "source": [
    "# 正解／不正解を返すプログラムを作る\n",
    "var = 1863\n",
    "if var == 1864:\n",
    "    print('正解です！')\n",
    "else:\n",
    "    print('不正解です。')"
   ]
  },
  {
   "attachments": {},
   "cell_type": "markdown",
   "metadata": {},
   "source": [
    "```{margin}\n",
    "初心者がよく間違いましたが、pythonにおける```=```は変数の代入に使われます。一方、```==```は等しいかどうかをテストするための演算子です。\n",
    "```"
   ]
  },
  {
   "attachments": {},
   "cell_type": "markdown",
   "metadata": {},
   "source": [
    "- 条件分岐が3種類以上に分かれる場合には、\n",
    "    - 最初の条件で```if```\n",
    "    - 間の条件で```elif```\n",
    "    - 最後で```else```"
   ]
  },
  {
   "cell_type": "code",
   "execution_count": 2,
   "metadata": {},
   "outputs": [
    {
     "name": "stdout",
     "output_type": "stream",
     "text": [
      "おやすみ\n"
     ]
    }
   ],
   "source": [
    "hour = 23\n",
    "if hour <= 10:\n",
    "    print(\"おはよう\")\n",
    "elif hour>22:\n",
    "    print(\"おやすみ\")\n",
    "else:\n",
    "    print(\"こんにちは\")"
   ]
  },
  {
   "attachments": {},
   "cell_type": "markdown",
   "metadata": {},
   "source": [
    "````{tab-set}\n",
    "```{tab-item} 実習問題\n",
    "$x$を入力し、以下の数式で$f(x)$を計算するプログラミングを書いてください。\n",
    "```\n",
    "````"
   ]
  },
  {
   "attachments": {},
   "cell_type": "markdown",
   "metadata": {},
   "source": [
    "\\begin{equation}\n",
    "\n",
    "f(x) = \\left\\{\n",
    "\\begin{array}{ll}\n",
    "x+5 & (x \\lt 0) \\\\\n",
    "0 & (x = 0) \\\\\n",
    "x^2 & (x > 0)\n",
    "\\end{array}\n",
    "\\right.\n",
    " \\end{equation} \n"
   ]
  },
  {
   "cell_type": "code",
   "execution_count": 3,
   "metadata": {},
   "outputs": [],
   "source": [
    "# ここからかいてみよう\n",
    "x=12"
   ]
  },
  {
   "cell_type": "code",
   "execution_count": null,
   "metadata": {},
   "outputs": [],
   "source": []
  }
 ],
 "metadata": {
  "kernelspec": {
   "display_name": "jupyterbook",
   "language": "python",
   "name": "python3"
  },
  "language_info": {
   "codemirror_mode": {
    "name": "ipython",
    "version": 3
   },
   "file_extension": ".py",
   "mimetype": "text/x-python",
   "name": "python",
   "nbconvert_exporter": "python",
   "pygments_lexer": "ipython3",
   "version": "3.10.9"
  }
 },
 "nbformat": 4,
 "nbformat_minor": 2
}