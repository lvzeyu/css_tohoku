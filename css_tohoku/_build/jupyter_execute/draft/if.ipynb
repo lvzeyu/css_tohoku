{
 "cells": [
  {
   "attachments": {},
   "cell_type": "markdown",
   "metadata": {},
   "source": [
    "# 分岐\n",
    "\n",
    "ここまでは一文だけの命令を作ってきました。でも、本格的なプログラミングのためには、複数の文を繰返し実行したり、条件分岐させたりということが必要になります。これを制御文と言います。比較演算子や論理演算子について学んだので、いろいろな条件を使ってプログラムを実行させることができるようになりました。"
   ]
  },
  {
   "attachments": {},
   "cell_type": "markdown",
   "metadata": {},
   "source": [
    "## if文とブロックの書き方\n",
    "\n",
    "- ```if``` の後に条件を書きます。そして条件が満たされているときは**ブロック**の中身を実行します。\n",
    "- ここで**ブロック**という概念が初めて出てきました。```if```の条件の後の:がブロックを示します。Pythonの特徴として、ブロックの領域はインデントを利用して示します。インデントがないとエラーになります。通常は、スペース4つでインデントします。\n",
    "- ```else```ブロックはif以下の条件を満たさないときに実行されます。"
   ]
  },
  {
   "attachments": {},
   "cell_type": "markdown",
   "metadata": {},
   "source": [
    "```{margin}\n",
    "ここでついでにpythonでのコメントの書き方も学んでおきます。コードの中に、```#```で始まる文を書くと、以後の文は実行時に無視されます。プログラムを書くときは、それぞれのコードで何をしようとしているか、細かくコメントを書いておくことが重要です。\n",
    "```"
   ]
  },
  {
   "cell_type": "code",
   "execution_count": 1,
   "metadata": {},
   "outputs": [
    {
     "name": "stdout",
     "output_type": "stream",
     "text": [
      "不正解です。\n"
     ]
    }
   ],
   "source": [
    "# 正解／不正解を返すプログラムを作る\n",
    "var = 1863\n",
    "if var == 1864:\n",
    "    print('正解です！')\n",
    "else:\n",
    "    print('不正解です。')"
   ]
  },
  {
   "attachments": {},
   "cell_type": "markdown",
   "metadata": {},
   "source": [
    "```{margin}\n",
    "初心者がよく間違いましたが、pythonにおける```=```は変数の代入に使われます。一方、```==```は等しいかどうかをテストするための演算子です。\n",
    "```"
   ]
  },
  {
   "attachments": {},
   "cell_type": "markdown",
   "metadata": {},
   "source": [
    "- 条件分岐が3種類以上に分かれる場合には、\n",
    "    - 最初の条件で```if```\n",
    "    - 間の条件で```elif```\n",
    "    - 最後で```else```"
   ]
  },
  {
   "cell_type": "code",
   "execution_count": 2,
   "metadata": {},
   "outputs": [
    {
     "name": "stdout",
     "output_type": "stream",
     "text": [
      "おやすみ\n"
     ]
    }
   ],
   "source": [
    "hour = 23\n",
    "if hour <= 10:\n",
    "    print(\"おはよう\")\n",
    "elif hour>22:\n",
    "    print(\"おやすみ\")\n",
    "else:\n",
    "    print(\"こんにちは\")"
   ]
  },
  {
   "attachments": {},
   "cell_type": "markdown",
   "metadata": {},
   "source": [
    "````{tab-set}\n",
    "```{tab-item} 実習問題\n",
    "$x$を入力し、以下の数式で$f(x)$を計算するプログラミングを書いてください。\n",
    "```\n",
    "````"
   ]
  },
  {
   "attachments": {},
   "cell_type": "markdown",
   "metadata": {},
   "source": [
    "\\begin{equation}\n",
    "\n",
    "f(x) = \\left\\{\n",
    "\\begin{array}{ll}\n",
    "x+5 & (x \\lt 0) \\\\\n",
    "0 & (x = 0) \\\\\n",
    "x^2 & (x > 0)\n",
    "\\end{array}\n",
    "\\right.\n",
    " \\end{equation} \n"
   ]
  },
  {
   "cell_type": "code",
   "execution_count": 3,
   "metadata": {},
   "outputs": [],
   "source": [
    "# ここからかいてみよう\n",
    "x=12 #xの値を変えてみよう\n",
    "if x<10:\n",
    "    pass # passを削除し、ここから書いてみよう"
   ]
  },
  {
   "attachments": {},
   "cell_type": "markdown",
   "metadata": {},
   "source": [
    "## 様々な条件\n",
    "\n",
    "if の右などに来る条件として様々なものを書くことができます。\n",
    "\n",
    "### 演算子"
   ]
  },
  {
   "attachments": {},
   "cell_type": "markdown",
   "metadata": {},
   "source": [
    "| 演算子   | 意味 |\n",
    "|----------|------|\n",
    "| x < y     | x は y より小さい |\n",
    "| x <= y    | x は y 以下 |\n",
    "| x > y | x は y より大きい |\n",
    "| x >= y | x は y 以上 |\n",
    "| **x == y**  | **x と y は等しい** |\n",
    "| **x != y**    | **x と y は等しくない** |"
   ]
  },
  {
   "attachments": {},
   "cell_type": "markdown",
   "metadata": {},
   "source": [
    "### 複数の条件\n",
    "\n",
    "な基本的な条件を、 ```and``` と````or````などの倫理演算子を用いて組み合わせることができます。"
   ]
  },
  {
   "cell_type": "code",
   "execution_count": 4,
   "metadata": {},
   "outputs": [
    {
     "data": {
      "text/plain": [
       "True"
      ]
     },
     "execution_count": 4,
     "metadata": {},
     "output_type": "execute_result"
    }
   ],
   "source": [
    "x=10\n",
    "x>5 and x<15"
   ]
  },
  {
   "cell_type": "code",
   "execution_count": 5,
   "metadata": {},
   "outputs": [
    {
     "data": {
      "text/plain": [
       "False"
      ]
     },
     "execution_count": 5,
     "metadata": {},
     "output_type": "execute_result"
    }
   ],
   "source": [
    "x=20\n",
    "x>5 and x<15"
   ]
  },
  {
   "attachments": {},
   "cell_type": "markdown",
   "metadata": {},
   "source": [
    "### ```in/not in```による多重比較\n",
    "\n",
    "所属関係を調べる際は```in```演算子を使います。"
   ]
  },
  {
   "cell_type": "code",
   "execution_count": 6,
   "metadata": {},
   "outputs": [
    {
     "data": {
      "text/plain": [
       "False"
      ]
     },
     "execution_count": 6,
     "metadata": {},
     "output_type": "execute_result"
    }
   ],
   "source": [
    "x=12\n",
    "x in [1,2,3,4,5,6,7,8,9,10]"
   ]
  },
  {
   "cell_type": "code",
   "execution_count": 7,
   "metadata": {},
   "outputs": [
    {
     "data": {
      "text/plain": [
       "True"
      ]
     },
     "execution_count": 7,
     "metadata": {},
     "output_type": "execute_result"
    }
   ],
   "source": [
    "x=12\n",
    "x not in [1,2,3,4,5,6,7,8,9,10]"
   ]
  },
  {
   "cell_type": "code",
   "execution_count": 8,
   "metadata": {},
   "outputs": [
    {
     "data": {
      "text/plain": [
       "True"
      ]
     },
     "execution_count": 8,
     "metadata": {},
     "output_type": "execute_result"
    }
   ],
   "source": [
    "\"s\" in \"sociology\""
   ]
  },
  {
   "attachments": {},
   "cell_type": "markdown",
   "metadata": {},
   "source": [
    "```{note} 真理値を返す関数\n",
    "真理値とは、 ```True``` または ```False``` のどちらかの値のことです。 これらは変数ではなく、組み込み定数であることに注意してください。\n",
    "- ```True``` は、正しいこと（真）を表します。\n",
    "- ```False``` は、間違ったこと（偽）を表します。\n",
    "```if``` の後の条件の式は、```True``` か ```False``` を値として持ちます。\n",
    "```"
   ]
  },
  {
   "attachments": {},
   "cell_type": "markdown",
   "metadata": {},
   "source": [
    "````{tab-set}\n",
    "```{tab-item} 実習問題1\n",
    "ユーザーの年齢に応じて、入場料金を計算するプログラムを作成してください。条件は以下の通りです。\n",
    "\n",
    "3歳以下: 無料\n",
    "4歳から12歳まで: 500円\n",
    "13歳以上: 1000円\n",
    "```\n",
    "```{tab-item} 実習問題2\n",
    "ユーザーが入力した言語が特定の言語リストに含まれるかどうかを判定し、結果を表示するプログラムを作成してください。条件は以下の通りです。\n",
    "\n",
    "- ユーザーが入力した言語がリスト languages に含まれている場合は、「サポートされている言語です」と表示します。\n",
    "- ユーザーが入力した言語がリスト languages に含まれていない場合で、リスト supported_languages に含まれている場合は、「他の言語でもサポートされています」と表示します。\n",
    "- 上記のいずれの場合でもない場合は、「サポートされていない言語です」と表示します。\n",
    "```\n",
    "````"
   ]
  },
  {
   "cell_type": "code",
   "execution_count": 9,
   "metadata": {},
   "outputs": [],
   "source": [
    "languages = [\"Python\", \"Java\", \"C++\", \"JavaScript\"]\n",
    "supported_languages = [\"Ruby\", \"Go\", \"PHP\"]\n",
    "\n",
    "user_language = \"Python\" # user_languageを変えてみよう\n"
   ]
  },
  {
   "attachments": {},
   "cell_type": "markdown",
   "metadata": {},
   "source": []
  }
 ],
 "metadata": {
  "kernelspec": {
   "display_name": "jupyterbook",
   "language": "python",
   "name": "python3"
  },
  "language_info": {
   "codemirror_mode": {
    "name": "ipython",
    "version": 3
   },
   "file_extension": ".py",
   "mimetype": "text/x-python",
   "name": "python",
   "nbconvert_exporter": "python",
   "pygments_lexer": "ipython3",
   "version": "3.9.16"
  }
 },
 "nbformat": 4,
 "nbformat_minor": 2
}