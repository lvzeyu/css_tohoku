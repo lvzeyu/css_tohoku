{
 "cells": [
  {
   "attachments": {},
   "cell_type": "markdown",
   "metadata": {},
   "source": [
    "# Python環境\n",
    "\n",
    "## Anaconda\n",
    "\n",
    "数あるPython の環境を構築する方法の中で、 [Anaconda](https://www.anaconda.com/)を利用することをお勧めします。\n",
    "Anaconda はデータサイエンス向けの環境を提供するプラットフォームです。科学技術計算などを中心とした、多くのモジュールやツールのコンパイル済みバイナリファイルを提供しており、簡単にPythonを利用する環境を構築・管理できます。Windows, Linux, macOS向けのパッケージが提供されています。\n",
    "\n",
    "### Anacondaのインストール\n",
    "\n",
    "下記の記事を参照してAnacondaをインストールします\n",
    "\n",
    "\n",
    "- [Windows版Anacondaのインストール](https://www.python.jp/install/anaconda/windows/install.html)\n",
    "- [MacOS版Anacondaのインストール](https://www.python.jp/install/anaconda/macos/install.html)\n",
    "- [Linux版Anacondaのインストール](https://www.python.jp/install/anaconda/unix/install.html)\n",
    "\n",
    "### Conda環境の作成\n",
    "- Conda環境は、```conda create```コマンドでPython環境を作成します。つぎのコマンドは、```chss``` という名前で、```Python 3.10```の環境を作成します。\n",
    "```\n",
    "conda create --name chss python=3.10\n",
    "```\n",
    "- 作成した環境を確認します。\n",
    "```\n",
    "conda info -e\n",
    "```\n",
    "- 作成した環境を有効にする。\n",
    "```\n",
    "conda activate chss\n",
    "```"
   ]
  },
  {
   "attachments": {},
   "cell_type": "markdown",
   "metadata": {},
   "source": [
    "![](./Figure/conda.png)"
   ]
  },
  {
   "attachments": {},
   "cell_type": "markdown",
   "metadata": {},
   "source": [
    "## Jupyter Notebook\n",
    "\n",
    "Jupyter Notebookとは、ブラウザの強力な表示機能を活用したインターフェイスです。コードのインタラクティブな実行だけでなく、Markdownテキスト・数式・図などを含んだドキュメント作成の機能も備えています。\n",
    "\n",
    "### Jupyterの基本\n",
    "- Jupyterにはコマンドモードとエディットモードがあります。セルをダブルクリックするか、選択して```enter```を押すと、そのセルのエディットモードになります。エディットモードで```esc```を押すか、別のセルをクリックするとコマンドモードに戻ります。\n",
    "- jupyterはセルを基本的な要素としています。セルにはいくつか種類がありますが、CodeとMarkdownの２種類だけ覚えてください。\n",
    "- [ショートカット](https://qiita.com/zawawahoge/items/baa2a5318df079c5f7e5)はいろいろありますが、最低限次だけは覚えましょう。\n",
    "\n",
    "```\n",
    "shift+enterを押す: コードを実行し、下のセルに移動する.\n",
    "Mを押す: マークダウンセルにする\n",
    "Yを押す: コードセルにする\n",
    "Dを二回押す: セルを削除する\n",
    "Oを押す: セルの出力結果の表示・非表示\n",
    "Aを押す: 上にセルを追加する\n",
    "Bを押す: 下にセルを追加する  \t\n",
    "```\n",
    "\n",
    "### カーネル\n",
    "\n",
    "Jupyter Notebookにおけるカーネル(Kernel)とは、プログラミング言語の機能を提供することを指します。本授業の場合は、基本的にはIpythonカーネルを指します。\n",
    "\n",
    "Jupyter Notebook自身は、あくまでもWebアプリケーションとしてのインタフェースにすぎません。Ipythonカーネルを通じて、Jupyter NotebookのインタフェースとPythonに繋ぎます。\n",
    "\n",
    "VsCodeでは利用可能なカーネルを検索してくれるので、右上の```Select Kernel```でPython環境を指定することができます。\n",
    "\n",
    "### Markdown\n",
    "\n",
    "Markdown（マークダウン）は、文書を記述するための言語のひとつです。基本的なMarkdown記法を覚えておきましょう。\n",
    "\n",
    "#### 見出し\n",
    "```\n",
    "# 見出し1\n",
    "## 見出し2\n",
    "### 見出し3\n",
    "#### 見出し4\n",
    "##### 見出し5\n",
    "###### 見出し6\n",
    "```\n",
    "\n",
    "#### 箇条書きリスト\n",
    "```\n",
    "- リスト1\n",
    "    - ネスト リスト1_1\n",
    "        - ネスト リスト1_1_1\n",
    "        - ネスト リスト1_1_2\n",
    "    - ネスト リスト1_2\n",
    "- リスト2\n",
    "- リスト3\n",
    "```"
   ]
  },
  {
   "attachments": {},
   "cell_type": "markdown",
   "metadata": {},
   "source": [
    "- リスト1\n",
    "    - ネスト リスト1_1\n",
    "        - ネスト リスト1_1_1\n",
    "        - ネスト リスト1_1_2\n",
    "    - ネスト リスト1_2\n",
    "- リスト2\n",
    "- リスト3"
   ]
  },
  {
   "attachments": {},
   "cell_type": "markdown",
   "metadata": {},
   "source": [
    "#### 番号付きリスト\n",
    "```\n",
    "1. 番号付きリスト1\n",
    "    1. 番号付きリスト1_1\n",
    "    1. 番号付きリスト1_2\n",
    "1. 番号付きリスト2\n",
    "1. 番号付きリスト3\n",
    "```"
   ]
  },
  {
   "attachments": {},
   "cell_type": "markdown",
   "metadata": {},
   "source": [
    "1. 番号付きリスト1\n",
    "    1. 番号付きリスト1_1\n",
    "    1. 番号付きリスト1_2\n",
    "1. 番号付きリスト2\n",
    "1. 番号付きリスト3"
   ]
  },
  {
   "attachments": {},
   "cell_type": "markdown",
   "metadata": {},
   "source": [
    "#### 引用\n",
    "```\n",
    ">社会学（しゃかいがく、仏: sociologie、英:Sociology）は、社会現象の実態や、現象の起こる原因に関するメカニズム（因果関係）を体験・統計・データなどを用いて分析することで解明する学問である。\n",
    "```"
   ]
  },
  {
   "attachments": {},
   "cell_type": "markdown",
   "metadata": {},
   "source": [
    "#### 数式\n",
    "\n",
    "Latex書式で数式を記述することができます。\n",
    "\n",
    "$\\frac{n!}{k!(n-k)!} = \\binom{n}{k}$\n"
   ]
  }
 ],
 "metadata": {
  "kernelspec": {
   "display_name": "jupyterbook",
   "language": "python",
   "name": "python3"
  },
  "language_info": {
   "codemirror_mode": {
    "name": "ipython",
    "version": 3
   },
   "file_extension": ".py",
   "mimetype": "text/x-python",
   "name": "python",
   "nbconvert_exporter": "python",
   "pygments_lexer": "ipython3",
   "version": "3.9.16"
  },
  "vscode": {
   "interpreter": {
    "hash": "c21d0b6a919d310bd60a0ede171f4e491a4a994c03d2daac7f672b79e598f441"
   }
  }
 },
 "nbformat": 4,
 "nbformat_minor": 2
}