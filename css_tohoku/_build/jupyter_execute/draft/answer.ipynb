{
 "cells": [
  {
   "cell_type": "code",
   "execution_count": 1,
   "metadata": {},
   "outputs": [
    {
     "ename": "SyntaxError",
     "evalue": "unterminated string literal (detected at line 9) (3016892037.py, line 9)",
     "output_type": "error",
     "traceback": [
      "\u001b[0;36m  Cell \u001b[0;32mIn[1], line 9\u001b[0;36m\u001b[0m\n\u001b[0;31m    Let's go with B.\u001b[0m\n\u001b[0m       ^\u001b[0m\n\u001b[0;31mSyntaxError\u001b[0m\u001b[0;31m:\u001b[0m unterminated string literal (detected at line 9)\n"
     ]
    }
   ],
   "source": [
    "<details><summary>Answer</summary>\n",
    "\n",
    "The two heads are getting the same input data so they will be calculating the same gradients and will end up learning the same thing. We have two options:\n",
    "\n",
    "A. Feed the two networks different data. This would essentially mean training the two networks independently or restructuring our data so that batch sizes of treated and control units can be split equally after input.\n",
    "\n",
    "B. Somehow ensure that each head only receives error gradients for the correct treatment group. This will require writing a custom loss function.\n",
    "\n",
    "Let's go with B.\n",
    "</details>"
   ]
  },
  {
   "cell_type": "code",
   "execution_count": 1,
   "metadata": {},
   "outputs": [
    {
     "name": "stdout",
     "output_type": "stream",
     "text": [
      "クラスタリングの精度: 0.9666666666666667\n"
     ]
    }
   ],
   "source": [
    "import pandas as pd\n",
    "from sklearn.datasets import load_iris\n",
    "from sklearn.mixture import GaussianMixture\n",
    "from sklearn.metrics import accuracy_score\n",
    "\n",
    "# アイリスデータセットの読み込み\n",
    "iris = load_iris()\n",
    "X = iris.data\n",
    "y_true = iris.target\n",
    "\n",
    "# GMMモデルのインスタンス化と学習\n",
    "gmm = GaussianMixture(n_components=3, random_state=42)  # クラスタ数を3に設定\n",
    "gmm.fit(X)\n",
    "\n",
    "# クラスタリング結果のラベルを取得\n",
    "y_pred = gmm.predict(X)\n",
    "\n",
    "df_clustering = pd.DataFrame({'cluster': y_pred, 'target': y_true})\n",
    "df_clustering[\"cluster\"]=df_clustering[\"cluster\"].map({0:2, 1:0, 2:1}) # クラスタ番号を元のラベルに対応させる\n",
    "\n",
    "# クラスタリングの精度を計算\n",
    "accuracy = accuracy_score(df_clustering[\"cluster\"], df_clustering[\"target\"])\n",
    "\n",
    "# 結果の表示\n",
    "print(f\"クラスタリングの精度: {accuracy}\")"
   ]
  },
  {
   "cell_type": "code",
   "execution_count": null,
   "metadata": {},
   "outputs": [],
   "source": []
  }
 ],
 "metadata": {
  "kernelspec": {
   "display_name": "jupyterbook",
   "language": "python",
   "name": "python3"
  },
  "language_info": {
   "codemirror_mode": {
    "name": "ipython",
    "version": 3
   },
   "file_extension": ".py",
   "mimetype": "text/x-python",
   "name": "python",
   "nbconvert_exporter": "python",
   "pygments_lexer": "ipython3",
   "version": "3.12.1"
  }
 },
 "nbformat": 4,
 "nbformat_minor": 2
}