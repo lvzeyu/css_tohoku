{
 "cells": [
  {
   "cell_type": "markdown",
   "id": "b28b8996",
   "metadata": {},
   "source": [
    "# Attention"
   ]
  },
  {
   "cell_type": "markdown",
   "id": "0776b4e5",
   "metadata": {},
   "source": [
    "## 8.1 Attention の仕組み"
   ]
  },
  {
   "cell_type": "markdown",
   "id": "b2a92b8c",
   "metadata": {},
   "source": [
    "### 8.1.1 seq2seqの問題点\n",
    "seq2seqでは、「Encoder側の最後の隠れ状態$\\mathbf{h}_{T-1} = (h_{0,0}^{(T-1)}, \\cdots, h_{N-1,H-1}^{(T-1)})$」を「Decoder側の最初のLSTMレイヤ」に入力しました。"
   ]
  },
  {
   "cell_type": "code",
   "execution_count": 1,
   "id": "df22f868",
   "metadata": {
    "hide_input": true
   },
   "outputs": [
    {
     "data": {
      "text/html": [
       "\n",
       "    <video alt=\"hydrangea\" width=\"640\" height=\"480\" controls>\n",
       "        <source src=\"https://lena-voita.github.io/resources/lectures/seq2seq/general/seq2seq_training_with_target.mp4\">\n",
       "    </video>\n"
      ],
      "text/plain": [
       "<IPython.core.display.HTML object>"
      ]
     },
     "execution_count": 1,
     "metadata": {},
     "output_type": "execute_result"
    }
   ],
   "source": [
    "from IPython.display import HTML\n",
    "\n",
    "HTML(\"\"\"\n",
    "    <video alt=\"hydrangea\" width=\"640\" height=\"480\" controls>\n",
    "        <source src=\"https://lena-voita.github.io/resources/lectures/seq2seq/general/seq2seq_training_with_target.mp4\">\n",
    "    </video>\n",
    "\"\"\")"
   ]
  },
  {
   "cell_type": "markdown",
   "id": "d6565545",
   "metadata": {},
   "source": [
    "Encoderは無理やりに情報を固定長のベクトルへと押し込むので、時系列サイズ$T$が大きいと全ての単語の情報がDecoderに伝わらない可能性があります。\n",
    "\n",
    "![seq2seq_problem](https://lena-voita.github.io/resources/lectures/seq2seq/attention/bottleneck-min.png \"seq2seq_problem\")\n"
   ]
  },
  {
   "cell_type": "markdown",
   "id": "243389cd",
   "metadata": {},
   "source": [
    "### 8.1.2 Encoderの改良"
   ]
  },
  {
   "cell_type": "markdown",
   "id": "28511a00",
   "metadata": {},
   "source": [
    "**ポイント**: 入力する文章の長さ(単語の数)に応じてEncoderの長さを変化すべきです。\n",
    "\n",
    "![seq2seq_attention](https://camo.qiitausercontent.com/0672413a2ed55d707906253eaef08a4fe012896e/68747470733a2f2f71696974612d696d6167652d73746f72652e73332e61702d6e6f727468656173742d312e616d617a6f6e6177732e636f6d2f302f3230393730352f32353233333635302d313135352d653730382d613265662d3835616230626661346538362e706e67 \"seq2seq_attention\")"
   ]
  },
  {
   "cell_type": "markdown",
   "id": "db6294a3",
   "metadata": {},
   "source": [
    "### 8.1.3 Decoderの改良"
   ]
  },
  {
   "cell_type": "markdown",
   "id": "3bd8bed5",
   "metadata": {},
   "source": [
    "Decoderの基本構造\n",
    "- Enocoder最後の隠れ状態ベクトル $\\mathbf{h}$ は, Decoder最初のLSTMレイヤに渡すことにします。\n",
    "- **Attention**: 各時刻においてLSTMレイヤの隠れ状態とEncoderからの $\\mathbf{hs}$ を受け取って、そして必要な情報だけに注意を向けさせ、その情報から時系列変化を行います。\n",
    "\n",
    "\n",
    "- **Attention_weight**\n",
    " - Encoderの<strong>ベクトルhs0〜hs4</strong>とDecoderの<strong>ベクトルh</strong>の<strong>積</strong>を求め、それぞれ<strong>列方向(axis=2)</strong>で足した数値は、２つののベクトルの<strong>類似度が高いほど大きく</strong>なります。この数値にSoftmaxを通すと、ベクトルhs0〜hs4を<strong>どういう重み付けでアテンション(参照)すべき</strong>かを表す<strong>ベクトルa</strong>が得られます。</p>\n",
    "\n"
   ]
  },
  {
   "cell_type": "markdown",
   "id": "9f161822",
   "metadata": {},
   "source": [
    "![attention](https://qiita-user-contents.imgix.net/https%3A%2F%2Fqiita-image-store.s3.ap-northeast-1.amazonaws.com%2F0%2F209705%2F10f8f28c-f6da-dbf4-cf53-309b76b96662.png?ixlib=rb-4.0.0&auto=format&gif-q=60&q=75&w=1400&fit=max&s=85733fb2feb2f18afaac729b04b72b1f\"attention\")"
   ]
  },
  {
   "cell_type": "markdown",
   "id": "29a3fda9",
   "metadata": {},
   "source": []
  }
 ],
 "metadata": {
  "kernelspec": {
   "display_name": "Python 3 (ipykernel)",
   "language": "python",
   "name": "python3"
  },
  "language_info": {
   "codemirror_mode": {
    "name": "ipython",
    "version": 3
   },
   "file_extension": ".py",
   "mimetype": "text/x-python",
   "name": "python",
   "nbconvert_exporter": "python",
   "pygments_lexer": "ipython3",
   "version": "3.12.1"
  },
  "varInspector": {
   "cols": {
    "lenName": 16,
    "lenType": 16,
    "lenVar": 40
   },
   "kernels_config": {
    "python": {
     "delete_cmd_postfix": "",
     "delete_cmd_prefix": "del ",
     "library": "var_list.py",
     "varRefreshCmd": "print(var_dic_list())"
    },
    "r": {
     "delete_cmd_postfix": ") ",
     "delete_cmd_prefix": "rm(",
     "library": "var_list.r",
     "varRefreshCmd": "cat(var_dic_list()) "
    }
   },
   "types_to_exclude": [
    "module",
    "function",
    "builtin_function_or_method",
    "instance",
    "_Feature"
   ],
   "window_display": false
  }
 },
 "nbformat": 4,
 "nbformat_minor": 5
}