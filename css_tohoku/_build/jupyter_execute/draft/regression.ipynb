{
 "cells": [
  {
   "attachments": {},
   "cell_type": "markdown",
   "metadata": {},
   "source": [
    "# 線型回帰モデル"
   ]
  },
  {
   "attachments": {},
   "cell_type": "markdown",
   "metadata": {},
   "source": [
    "$n$個のデータ$(x_1,y_1),...(x_n,y_n)$が観測され、各$y_i$が\n",
    "$$\n",
    "y_i=\\alpha +\\beta x_i+u_i,\\ i=1,...,n\n",
    "$$"
   ]
  },
  {
   "attachments": {},
   "cell_type": "markdown",
   "metadata": {},
   "source": [
    "- 説明変数$x_1,...x_n$は確率変数ではなく、与えられた定数である\n",
    "- $E[u_i]=0,\\ i=1,...,n$\n",
    "- $E[u_i u_j]=0(i\\neq j)$\n",
    "- $Var(u_i)= \\sigma ^2$, すなわち分散は均一である"
   ]
  },
  {
   "attachments": {},
   "cell_type": "markdown",
   "metadata": {},
   "source": [
    "## 最小二乗法\n",
    "\n",
    "最小二乗法の目標は、与えられたデータセットに対して予測された値（モデルの出力）と実際の値（データセットの出力）の差を最小化することである。\n",
    "\n",
    "$$\n",
    "h(\\alpha,\\beta)= \\sum_{i=1}^n (y_i-\\alpha-\\beta x_i)^2\n",
    "$$\n"
   ]
  },
  {
   "attachments": {},
   "cell_type": "markdown",
   "metadata": {},
   "source": [
    "$E[h(\\alpha,\\beta)]=0$から,母集団における$\\alpha$と$\\beta$を求めるが、これはあくまでも母集団の概念である。実際に持っているのは母集団に対応する標本であって、母集団そのもののは手に入りません。"
   ]
  },
  {
   "attachments": {},
   "cell_type": "markdown",
   "metadata": {},
   "source": [
    "$$\n",
    "\\frac{1}{n} \\sum_{i=1}^n (y_i-\\hat{\\alpha}-\\hat{\\beta}x_i)=0\n",
    "$$"
   ]
  },
  {
   "attachments": {},
   "cell_type": "markdown",
   "metadata": {},
   "source": [
    "データから得られる推定値を$\\hat{\\alpha}, \\hat{\\beta}$で定義する。"
   ]
  },
  {
   "attachments": {},
   "cell_type": "markdown",
   "metadata": {},
   "source": [
    "$$\n",
    "\\frac{1}{n} \\sum_{i=1}^n (y_i-\\hat{\\alpha}-\\hat{\\beta}x_i)\n",
    "\\\\\n",
    "=\\frac{1}{n} \\sum_{i=1}^n (y_i)-\\frac{1}{n} \\sum_{i=1}^n \\hat{\\alpha}- \\frac{1}{n} \\sum_{i=1}^n \\hat{\\beta}x_i \n",
    "\\\\\n",
    "=\\frac{1}{n} \\sum_{i=1}^n (y_i)- \\hat{\\alpha}- \\hat{\\beta} \\frac{1}{n} \\sum_{i=1}^n x_i\n",
    "\\\\\n",
    "= \\bar{y} - \\hat{\\alpha} - \\hat{\\beta}\\bar{x}\n",
    "$$"
   ]
  },
  {
   "attachments": {},
   "cell_type": "markdown",
   "metadata": {},
   "source": [
    "ここで、$\\bar{y}$は標本平均と呼ぶ。この式を切片について書き直すと、"
   ]
  },
  {
   "attachments": {},
   "cell_type": "markdown",
   "metadata": {},
   "source": [
    "$$\\hat{\\alpha}　= \\bar{y}  - \\hat{\\beta}\\bar{x}$$"
   ]
  },
  {
   "attachments": {},
   "cell_type": "markdown",
   "metadata": {},
   "source": [
    "この式を　\n",
    "$$\n",
    "\\frac{1}{n} \\sum_{i=1}^n x_i(y_i-\\hat{\\alpha}-\\hat{\\beta}x_i)=0 (条件付き期待値ゼロ仮定　E(u|x)=0 より)\n",
    "$$\n",
    "に代入すると"
   ]
  },
  {
   "attachments": {},
   "cell_type": "markdown",
   "metadata": {},
   "source": [
    "$$\n",
    "\\sum_{i=1}^n x_i(y_i-(\\bar{y}  - \\hat{\\beta}\\bar{x})-\\hat{\\beta}x_i)=0\n",
    "$$\n",
    "\n",
    "$$\n",
    "\\sum_{i=1}^n x_i(y_i-\\bar{y})=\\hat{\\beta} \\sum_{i=1}^n x_i(\\bar{x}-x_i)\n",
    "$$"
   ]
  },
  {
   "attachments": {},
   "cell_type": "markdown",
   "metadata": {},
   "source": [
    "ここで、\n",
    "$$\n",
    "\\sum_{i=1}^n (x_i-\\bar{x})(y_i-\\bar{y}) = \\sum_{i=1}^n x_i(y_i-\\bar{y}) = \\sum_{i=1}^n y_i(x_i-\\bar{x})\n",
    "$$\n",
    "\n",
    "$$\n",
    "\\sum_{i=1}^n (x_i-\\bar{x})^2 = \\sum_{i=1}^n x_i^2-n(\\bar{x})^2\n",
    "$$"
   ]
  },
  {
   "attachments": {},
   "cell_type": "markdown",
   "metadata": {},
   "source": [
    "この式から$\\hat{\\beta}$を解くと、"
   ]
  },
  {
   "attachments": {},
   "cell_type": "markdown",
   "metadata": {},
   "source": [
    "$$\n",
    "\\hat{\\beta}=\\frac{\\sum_{i=1}^n (x_i-\\bar{x})(y_i-\\bar{y})}{\\sum_{i=1}^n (x_i-\\bar{x})^2}=\\frac{標本共分散(x_i,y_i)}{標本分散(x_i)}\n",
    "$$\n",
    "そして、$\\hat{\\alpha}$も得られる\n",
    "$$\n",
    "\\hat{\\alpha}=\\hat{y}-\\hat{\\beta}\\bar{x}\n",
    "$$"
   ]
  },
  {
   "attachments": {},
   "cell_type": "markdown",
   "metadata": {},
   "source": [
    "任意の推定値$\\hat{\\alpha},\\hat{\\beta}$に関して、$i$に関する当てはめる値(fitted value)を\n",
    "$$\n",
    "\\hat{y_i}=\\hat{\\alpha} +\\hat{\\beta} x_i\n",
    "$$\n",
    "と定義する。\n",
    "\n",
    "回帰直線と観測値との差\n",
    "$$\n",
    "\\hat{u_i}=y_i-\\hat{y_i}\n",
    "$$\n",
    "を残差(residual)といいます。\n",
    "\n",
    "残差の二乗の和をとったもの\n",
    "$$\n",
    "RSS=\\sum_{i=1}^n \\hat{u_i}^2\n",
    "$$\n",
    "を残差平方和(residual sum of squares, RSS)といいます。"
   ]
  },
  {
   "attachments": {},
   "cell_type": "markdown",
   "metadata": {},
   "source": [
    "ここで、残差平方和を最小にするような$\\hat{\\alpha}$と$\\hat{\\beta}$を選びます。"
   ]
  },
  {
   "cell_type": "code",
   "execution_count": 1,
   "metadata": {},
   "outputs": [],
   "source": [
    "import numpy as np\n",
    "\n",
    "# サンプルデータ\n",
    "# パラメータ\n",
    "beta_0 = 2.5  # 切片\n",
    "beta_1 = 0.8  # 傾き\n",
    "n = 100  # データ数\n",
    "\n",
    "# 説明変数を一様分布から生成\n",
    "x = np.random.uniform(low=0, high=10, size=n)\n",
    "\n",
    "# ノイズ項を標準正規分布から生成\n",
    "epsilon = np.random.normal(loc=0, scale=1, size=n)\n",
    "\n",
    "# 目的変数を生成\n",
    "y = beta_0 + beta_1 * x + epsilon"
   ]
  },
  {
   "cell_type": "code",
   "execution_count": 2,
   "metadata": {},
   "outputs": [
    {
     "name": "stdout",
     "output_type": "stream",
     "text": [
      "beta:  0.7399836553184265\n",
      "alpha:  2.76837607262028\n"
     ]
    }
   ],
   "source": [
    "# パラメータの推定\n",
    "x_mean = np.mean(x)\n",
    "y_mean = np.mean(y)\n",
    "\n",
    "# β₁の推定\n",
    "numerator = np.sum((x - x_mean) * (y - y_mean))\n",
    "denominator = np.sum((x - x_mean) ** 2)\n",
    "beta = numerator / denominator\n",
    "print(\"beta: \", beta)\n",
    "# β₀の推定\n",
    "alpha = y_mean - beta * x_mean\n",
    "\n",
    "print(\"alpha: \", alpha)"
   ]
  },
  {
   "cell_type": "code",
   "execution_count": 3,
   "metadata": {},
   "outputs": [
    {
     "name": "stdout",
     "output_type": "stream",
     "text": [
      "残差の合計: 4.973799150320701e-14\n"
     ]
    }
   ],
   "source": [
    "# 予測値の計算\n",
    "y_pred = alpha + beta * x\n",
    "\n",
    "# 残差の計算\n",
    "residuals = y - y_pred\n",
    "\n",
    "# 残差の合計の確認\n",
    "residual_sum = np.sum(residuals)\n",
    "\n",
    "print(\"残差の合計:\", residual_sum)"
   ]
  },
  {
   "cell_type": "code",
   "execution_count": 4,
   "metadata": {},
   "outputs": [
    {
     "ename": "ModuleNotFoundError",
     "evalue": "No module named 'proplot'",
     "output_type": "error",
     "traceback": [
      "\u001b[0;31m---------------------------------------------------------------------------\u001b[0m",
      "\u001b[0;31mModuleNotFoundError\u001b[0m                       Traceback (most recent call last)",
      "Cell \u001b[0;32mIn[4], line 2\u001b[0m\n\u001b[1;32m      1\u001b[0m \u001b[38;5;28;01mimport\u001b[39;00m \u001b[38;5;21;01mnumpy\u001b[39;00m \u001b[38;5;28;01mas\u001b[39;00m \u001b[38;5;21;01mnp\u001b[39;00m\n\u001b[0;32m----> 2\u001b[0m \u001b[38;5;28;01mimport\u001b[39;00m \u001b[38;5;21;01mproplot\u001b[39;00m \u001b[38;5;28;01mas\u001b[39;00m \u001b[38;5;21;01mplt\u001b[39;00m\n\u001b[1;32m      5\u001b[0m \u001b[38;5;66;03m# Creating a figure and axes\u001b[39;00m\n\u001b[1;32m      6\u001b[0m fig, ax \u001b[38;5;241m=\u001b[39m plt\u001b[38;5;241m.\u001b[39msubplots(refwidth\u001b[38;5;241m=\u001b[39m\u001b[38;5;241m4\u001b[39m)\n",
      "\u001b[0;31mModuleNotFoundError\u001b[0m: No module named 'proplot'"
     ]
    }
   ],
   "source": [
    "import numpy as np\n",
    "import proplot as plt\n",
    "\n",
    "\n",
    "# Creating a figure and axes\n",
    "fig, ax = plt.subplots(refwidth=4)\n",
    "\n",
    "# Scatter plot of the data points\n",
    "ax.scatter(x, y, color='blue', label='Data Points',alpha=0.6)\n",
    "\n",
    "# Regression line\n",
    "x_line = np.linspace(0, 10, 100)\n",
    "y_line = beta_0 + beta_1 * x_line\n",
    "ax.plot(x_line, y_line, color='red', label='Regression Line')\n",
    "\n",
    "# Vertical lines and residuals\n",
    "for i in range(n):\n",
    "    x_i = x[i]\n",
    "    y_i = y[i]\n",
    "    y_pred_i = beta_0 + beta_1 * x_i\n",
    "    ax.vlines(x_i, y_i, y_pred_i, color='gray', linestyle='dotted')\n",
    "\n",
    "# Plot settings\n",
    "ax.format(xlabel='x', ylabel='y', title='Linear Regression')\n",
    "ax.legend(loc=\"lower right\")\n",
    "\n",
    "# Display the plot\n",
    "plt.show()"
   ]
  },
  {
   "attachments": {},
   "cell_type": "markdown",
   "metadata": {},
   "source": [
    "## 決定係数\n"
   ]
  },
  {
   "attachments": {},
   "cell_type": "markdown",
   "metadata": {},
   "source": [
    "- 総変動(total sum of squares; SST)\n",
    "$$\n",
    "SST=\\sum_{i=1}^n (y_i-\\bar{y})^2\n",
    "$$\n",
    "\n",
    "- 説明された変動(explained sum of squares; SSE)\n",
    "$$\n",
    "SSE=\\sum_{i=1}^n (\\hat{y_i}-\\bar{y})^2\n",
    "$$\n",
    "\n",
    "- 残差二乗和(residual sum of squares; SSR)\n",
    "$$\n",
    "SSR=\\sum_{i=1}^n (\\hat{u_i})^2\n",
    "$$"
   ]
  },
  {
   "attachments": {},
   "cell_type": "markdown",
   "metadata": {},
   "source": [
    "$y_i$の全変動のうち、$x_i$で説明される割合を\n",
    "$$\n",
    "R^2=\\frac{SSE}{SST}=1-\\frac{SSR}{SST}\n",
    "$$"
   ]
  },
  {
   "attachments": {},
   "cell_type": "markdown",
   "metadata": {},
   "source": [
    "決定係数と呼ばれます。"
   ]
  },
  {
   "attachments": {},
   "cell_type": "markdown",
   "metadata": {},
   "source": [
    "## 推定量の確率的性質\n",
    "\n",
    "OLSの仮定に基づいて、母集団から繰り返しサンプリングするごとに、それぞれ異なる推定値($\\hat{\\beta_1}$)が得られたが、十分な回数にわたってランダムに抽出されると、平均で真のパラメータ($\\beta$)に等しいという信念が与えてくれます。この性質を、**不偏性(unbiasedness)** と呼ばれます。\n",
    "\n",
    "$$\n",
    "E(\\hat{\\beta})=\\beta\n",
    "$$\n",
    "\n",
    "\n",
    "OLSが不偏性を持つためにはいくつかの仮定が必要です。\n",
    "\n",
    "- パラメータに関する線型: 母集団モデル　$y=\\alpha +\\beta x+u$　を仮定します。\n",
    "- ランダムサンプリング: 母集団モデルに従う、大きさ$n$のランダム標本 ${(x_i,y_i):i=1,...,n}$ を仮定します。それぞれの$i$を母集団からランダムに抽出していれば、$i$について$y_i=\\alpha +\\beta x_i+u_i,\\ i=1,...,n$と書くことができます。\n",
    "- 説明変数の標本変更: ある標本において、$x_i$が全て同じではないです。\n",
    "- 条件付き期待値ゼロ仮定:母集団において、説明変数の値に関わらず誤差項の平均が$0$です。$E(u|x)=E(u)=0$\n",
    "\n",
    "これらの仮定のもとで、ランダムに抽出された標本からパラメータを推定したとき、$\\hat{\\beta}$の期待値が$\\beta$の周りに集まることを示す必要があります。\n",
    "\n",
    "\n",
    "### 均一分散(homoskedasticity)\n",
    "\n",
    "サンプリングに伴う推定量の分布のばらつき、つまり分散と標準偏差、を測る必要があります。\n",
    "\n",
    "\n",
    "均一分散は、母集団の誤差項$u$が、説明変数$x$のいかなる値においても、同じ分散をもつことを意味しています。\n",
    "$$\n",
    "V(u|x)=\\sigma ^2\n",
    "$$\n",
    "誤差項がランダムに平均$0$,分散$\\sigma ^2$で分布していることは、$y_i$の変動を回帰直線で説明しきれない部分に何ら情報や傾向性が存在しない時に、単回帰モデルの当てはまりがよいことになります。そのため、誤差項$u_i$の推定値である残差に何らかの傾向性が残っている時に回帰直線での近似だけでは不十分です。"
   ]
  },
  {
   "attachments": {},
   "cell_type": "markdown",
   "metadata": {},
   "source": [
    "$$\n",
    "\\hat{\\beta}-\\beta =\\frac{\\sum_{i=1}^n (x_i-\\bar{x})(y_i-\\bar{y})-\\beta (x_i-\\bar{x})^2 }{\\sum_{i=1}^n (x_i-\\bar{x})^2} = \\frac{\\sum_{i=1}^n [(x_i-\\bar{x})(y_i-\\bar{y})- (x_i-\\bar{x})\\beta] }{\\sum_{i=1}^n (x_i-\\bar{x})^2}=\\frac{\\sum_{i=1}^n (x_i-\\bar{x})(u_i-\\bar{u})}{\\sum_{i=1}^n (x_i-\\bar{x})^2}=\\frac{\\sum_{i=1}^n (x_i-\\bar{x})u_i}{\\sum_{i=1}^n (x_i-\\bar{x})^2}\n",
    "$$"
   ]
  },
  {
   "attachments": {},
   "cell_type": "markdown",
   "metadata": {},
   "source": [
    "これより、\n",
    "\n",
    "$$\n",
    "E[\\hat{\\beta}-\\beta]=0\n",
    "$$\n",
    "\n",
    "$$\n",
    "Var[\\hat{\\beta}]=E[(\\hat{\\beta}-\\beta)^2]= \\frac{\\sum_{i=1}^n (x_i-\\bar{x})^2 E(u_i^2)}{ \\sum_{i=1}^n (x_i-\\bar{x})^2}= \\frac{\\sigma ^2}{\\sum_{i=1}^n (x_i-\\bar{x})^2}\n",
    "$$"
   ]
  },
  {
   "attachments": {},
   "cell_type": "markdown",
   "metadata": {},
   "source": [
    "$\\beta$に影響を与える要因は、\n",
    "- 誤差の分散$\\sigma ^2$が大きくなると、推定値の分散も大きくなります。つまり$y$と$x$の関係にノイズが多い($u$の変動が大きい)と、$\\beta$に関して読み取るのは難しくなります。\n",
    "- $x_i$の分散が大きいほど$\\hat{\\beta}$の推定精度が高くなります。\n",
    "\n",
    "また、母集団の分散は$\\frac{\\sum_{i=1}^n (x_i-\\bar{x})^2}{n-1}$であり、標本分散は$\\frac{\\sum_{i=1}^n (x_i-\\bar{x})^2}{n}$であるため、$n$が大きくなると、$x$の標本分散は母集団の分散である$\\sigma ^2$に近づいていきます。そのため、サンプルサイズが増やすと、サンプリングの伴う推定値の分散が小さくすることができます。"
   ]
  },
  {
   "cell_type": "code",
   "execution_count": 1,
   "metadata": {},
   "outputs": [],
   "source": [
    "import numpy as np\n",
    "\n",
    "# サンプルデータ\n",
    "# パラメータ\n",
    "beta_0 = 2.5  # 切片\n",
    "beta_1 = 0.8  # 傾き\n",
    "n = 10000  # データ数\n",
    "\n",
    "# 説明変数を一様分布から生成\n",
    "x = np.random.uniform(low=0, high=10, size=n)\n",
    "\n",
    "# ノイズ項を標準正規分布から生成\n",
    "epsilon = np.random.normal(loc=0, scale=1, size=n)\n",
    "\n",
    "# 目的変数を生成\n",
    "y = beta_0 + beta_1 * x + epsilon"
   ]
  },
  {
   "cell_type": "code",
   "execution_count": 2,
   "metadata": {},
   "outputs": [
    {
     "name": "stdout",
     "output_type": "stream",
     "text": [
      "切片の推定値: 2.5095748687836283\n",
      "傾きの推定値: 0.7973409699012524\n"
     ]
    }
   ],
   "source": [
    "# サンプリング回数とサンプルサイズ\n",
    "n_sampling = 300\n",
    "sample_size = 100\n",
    "\n",
    "# 推定値の格納用配列\n",
    "beta_0_estimates = np.zeros(n_sampling)\n",
    "beta_1_estimates = np.zeros(n_sampling)\n",
    "\n",
    "# 繰り返しサンプリングと推定\n",
    "for i in range(n_sampling):\n",
    "    indices = np.random.choice(10000, size=sample_size, replace=False)\n",
    "    x_sample = x[indices]\n",
    "    y_sample = y[indices]\n",
    "\n",
    "    x_mean = np.mean(x_sample)\n",
    "    y_mean = np.mean(y_sample)\n",
    "    numerator = np.sum((x_sample - x_mean) * (y_sample - y_mean))\n",
    "    denominator = np.sum((x_sample - x_mean) ** 2)\n",
    "    beta_1_estimates[i] = numerator / denominator\n",
    "    beta_0_estimates[i] = y_mean - beta_1_estimates[i] * x_mean\n",
    "\n",
    "# 推定値の平均\n",
    "beta_0_mean = np.mean(beta_0_estimates)\n",
    "beta_1_mean = np.mean(beta_1_estimates)\n",
    "\n",
    "print(\"切片の推定値:\", beta_0_mean)\n",
    "print(\"傾きの推定値:\", beta_1_mean)"
   ]
  },
  {
   "cell_type": "code",
   "execution_count": 3,
   "metadata": {},
   "outputs": [
    {
     "data": {
      "image/png": "[encoded data removed]",
      "text/plain": [
       "Figure(nrows=1, ncols=1, refwidth=2.5)"
      ]
     },
     "metadata": {
      "image/png": {
       "height": 318,
       "width": 302
      }
     },
     "output_type": "display_data"
    }
   ],
   "source": [
    "import numpy as np\n",
    "import proplot as plt\n",
    "\n",
    "# Estimated slope values\n",
    "\n",
    "# Creating a figure and axes\n",
    "fig, ax = plt.subplots()\n",
    "\n",
    "# Histogram of estimated slope values\n",
    "ax.hist(beta_1_estimates, bins='auto', color='blue', alpha=0.7, edgecolor='black')\n",
    "ax.axvline(beta_1_mean, color='red', linestyle='--', label='Mean Estimate')\n",
    "\n",
    "# Plot settings\n",
    "ax.format(xlabel='Estimated Slope', ylabel='Frequency', title='Distribution of Estimated Slope')\n",
    "\n",
    "# Display the plot\n",
    "plt.show()"
   ]
  },
  {
   "cell_type": "code",
   "execution_count": 4,
   "metadata": {},
   "outputs": [],
   "source": [
    "def estimate_slope(x_population, y_population, n_sampling, sample_size):\n",
    "    # 推定値の格納用配列\n",
    "    beta_1_estimates = np.zeros((n_sampling, sample_size))\n",
    "\n",
    "    # 繰り返しサンプリングと推定\n",
    "    for i in range(n_sampling):\n",
    "        indices = np.random.choice(len(x_population), size=sample_size, replace=False)\n",
    "        x_sample = x_population[indices]\n",
    "        y_sample = y_population[indices]\n",
    "\n",
    "        x_mean = np.mean(x_sample)\n",
    "        y_mean = np.mean(y_sample)\n",
    "        numerator = np.sum((x_sample - x_mean) * (y_sample - y_mean))\n",
    "        denominator = np.sum((x_sample - x_mean) ** 2)\n",
    "        beta_1_estimates[i] = numerator / denominator\n",
    "\n",
    "    return beta_1_estimates\n",
    "\n",
    "# 母集団データの生成\n",
    "np.random.seed(1)\n",
    "x_population = np.random.uniform(low=0, high=10, size=10000)\n",
    "epsilon_population = np.random.normal(loc=0, scale=1, size=10000)\n",
    "y_population = 2.5 + 0.8 * x_population + epsilon_population\n",
    "\n",
    "# サンプリング回数とサンプルサイズ\n",
    "n_sampling = 300\n",
    "sample_size_1 = 100\n",
    "sample_size_2 = 500\n",
    "sample_size_3 = 1000\n",
    "# 傾きの推定値を計算\n",
    "beta_1_estimates_1 = estimate_slope(x_population, y_population, n_sampling, sample_size_1)\n",
    "beta_1_estimates_2 = estimate_slope(x_population, y_population, n_sampling, sample_size_2)\n",
    "beta_1_estimates_3 = estimate_slope(x_population, y_population, n_sampling, sample_size_3)\n"
   ]
  },
  {
   "cell_type": "code",
   "execution_count": 5,
   "metadata": {},
   "outputs": [
    {
     "data": {
      "image/png": "[encoded data removed]",
      "text/plain": [
       "Figure(nrows=1, ncols=1, refwidth=2.5)"
      ]
     },
     "metadata": {
      "image/png": {
       "height": 349,
       "width": 383
      }
     },
     "output_type": "display_data"
    }
   ],
   "source": [
    "# Creating a figure and axes\n",
    "fig, ax = plt.subplots()\n",
    "\n",
    "# Histogram of estimated slope values (100 samples)\n",
    "ax.hist(beta_1_estimates_1.flatten(), color='blue', alpha=0.7, edgecolor='black', label='{} Samples'.format(sample_size_1))\n",
    "\n",
    "# Histogram of estimated slope values (500 samples)\n",
    "ax.hist(beta_1_estimates_2.flatten(),  color='green', alpha=0.9, edgecolor='black', label='{} Samples'.format(sample_size_2))\n",
    "\n",
    "# Histogram of estimated slope values (1000 samples)\n",
    "ax.hist(beta_1_estimates_3.flatten(),  color='red', alpha=0.7, edgecolor='black', label='{} Samples'.format(sample_size_3))\n",
    "\n",
    "# Plot settings\n",
    "ax.format(xlabel='Estimated Slope', ylabel='Frequency', title='Comparison of Slope Distribution')\n",
    "ax.legend(loc='bottom')\n",
    "\n",
    "# Display the plot\n",
    "plt.show()"
   ]
  },
  {
   "cell_type": "code",
   "execution_count": null,
   "metadata": {},
   "outputs": [],
   "source": []
  }
 ],
 "metadata": {
  "kernelspec": {
   "display_name": "base",
   "language": "python",
   "name": "python3"
  },
  "language_info": {
   "codemirror_mode": {
    "name": "ipython",
    "version": 3
   },
   "file_extension": ".py",
   "mimetype": "text/x-python",
   "name": "python",
   "nbconvert_exporter": "python",
   "pygments_lexer": "ipython3",
   "version": "3.12.1"
  }
 },
 "nbformat": 4,
 "nbformat_minor": 2
}