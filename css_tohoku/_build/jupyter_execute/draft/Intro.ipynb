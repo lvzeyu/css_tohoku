{
 "cells": [
  {
   "attachments": {},
   "cell_type": "markdown",
   "metadata": {},
   "source": [
    "## Esstential Python Libraries"
   ]
  },
  {
   "attachments": {},
   "cell_type": "markdown",
   "metadata": {},
   "source": [
    "### NumPy\n",
    "**NumPy**は、プログラミング言語Pythonにおいて数値計算を効率的に行うための拡張モジュールである。効率的な数値計算を行うための型付きの多次元配列（numpy.ndarray）のサポートをPythonに加えるとともに、それらを操作するための大規模な高水準の数学関数ライブラリを提供する。\n",
    "\n",
    "### pandas\n",
    "\n",
    "**pandas**とは、データ解析を容易にする機能を提供するPythonのデータ解析ライブラリです。\n",
    "Pandasの特徴には、データ操作のための高速で効率的なデータフレーム (DataFrame) という独自のデータ構造が提供されており、データの調整や変形など様々な処理が可能です。\n",
    "\n",
    "### matplotlib\n",
    "\n",
    " matplotlibは、グラフ描画ライブラリである。オブジェクト指向のAPIを提供しており、様々な種類のグラフを描画する能力を持つ。\n",
    "\n",
    "### scikit-learn\n",
    "\n",
    "scikit-learnは機械学習ライブラリである。教師あり学習、教師なし学習に関するアルゴリズム(SVM、Random Forest、回帰、クラスタリングなど)が一通り利用出来る上、データセットが豊富に揃っている。\n"
   ]
  },
  {
   "attachments": {},
   "cell_type": "markdown",
   "metadata": {},
   "source": [
    "## Python環境構築\n",
    "\n",
    "### Anaconda\n",
    "\n",
    "Python の環境を構築するもう一つの方法として [Anaconda](https://www.anaconda.com/)を利用することもできます。\n",
    "Anaconda はデータサイエンス向けの環境を提供するプラットフォームです。科学技術計算などを中心とした、多くのモジュールやツールのコンパイル済みバイナリファイルを提供しており、簡単にPythonを利用する環境を構築・管理できます。\n"
   ]
  },
  {
   "attachments": {},
   "cell_type": "markdown",
   "metadata": {},
   "source": [
    "### Anacondaのインストール\n",
    "\n",
    "下記の記事を参照してAnacondaをインストールします\n",
    "\n",
    "- [Windows版Anacondaのインストール](https://www.python.jp/install/anaconda/windows/install.html)\n",
    "- [MacOS版Anacondaのインストール](https://www.python.jp/install/anaconda/macos/install.html)\n",
    "- [Linux版Anacondaのインストール](https://www.python.jp/install/anaconda/unix/install.html)"
   ]
  },
  {
   "attachments": {},
   "cell_type": "markdown",
   "metadata": {},
   "source": [
    "### Conda環境の作成\n",
    "Conda環境は、```conda create```コマンドでPython環境を作成します。\n",
    "つぎのコマンドは、```chss``` という名前で、```Python 3.10```の環境を作成します。\n",
    "```\n",
    "(base) $ conda create --name chss python=3.10\n",
    "```\n",
    "作成した環境を確認します。\n",
    "```\n",
    "(base) $ conda info -e\n",
    "```"
   ]
  },
  {
   "cell_type": "code",
   "execution_count": 1,
   "metadata": {},
   "outputs": [
    {
     "name": "stdout",
     "output_type": "stream",
     "text": [
      "# conda environments:\r\n",
      "#\r\n",
      "base                     /opt/anaconda3\r\n",
      "chss                     /opt/anaconda3/envs/chss\r\n",
      "jupyterbook           *  /opt/anaconda3/envs/jupyterbook\r\n",
      "\r\n"
     ]
    }
   ],
   "source": [
    "!conda info -e"
   ]
  },
  {
   "cell_type": "markdown",
   "metadata": {},
   "source": []
  }
 ],
 "metadata": {
  "kernelspec": {
   "display_name": "base",
   "language": "python",
   "name": "python3"
  },
  "language_info": {
   "codemirror_mode": {
    "name": "ipython",
    "version": 3
   },
   "file_extension": ".py",
   "mimetype": "text/x-python",
   "name": "python",
   "nbconvert_exporter": "python",
   "pygments_lexer": "ipython3",
   "version": "3.10.9"
  },
  "vscode": {
   "interpreter": {
    "hash": "40d3a090f54c6569ab1632332b64b2c03c39dcf918b08424e98f38b5ae0af88f"
   }
  }
 },
 "nbformat": 4,
 "nbformat_minor": 2
}