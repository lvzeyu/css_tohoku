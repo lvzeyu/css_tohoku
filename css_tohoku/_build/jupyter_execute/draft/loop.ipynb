{
 "cells": [
  {
   "attachments": {},
   "cell_type": "markdown",
   "metadata": {},
   "source": [
    "# ループ"
   ]
  },
  {
   "attachments": {},
   "cell_type": "markdown",
   "metadata": {},
   "source": [
    "プログラムでは、同じ処理を繰り返し行いたい（ループさせたい）ことが多くあります。\n",
    "\n",
    "Pythonには**while**と**for**の2種類のループがあります。"
   ]
  },
  {
   "attachments": {},
   "cell_type": "markdown",
   "metadata": {},
   "source": [
    "## forループ"
   ]
  },
  {
   "attachments": {},
   "cell_type": "markdown",
   "metadata": {},
   "source": [
    "```for```ループはリストやタプルといった集合的データ構造に対して、それぞれの要素に順番に処理するために用いられます。"
   ]
  },
  {
   "cell_type": "code",
   "execution_count": 1,
   "metadata": {},
   "outputs": [
    {
     "name": "stdout",
     "output_type": "stream",
     "text": [
      "a\n",
      "b\n",
      "c\n",
      "d\n",
      "e\n"
     ]
    }
   ],
   "source": [
    "t=['a','b','c','d','e']\n",
    "for i in t:\n",
    "    print (i)"
   ]
  },
  {
   "attachments": {},
   "cell_type": "markdown",
   "metadata": {},
   "source": [
    "```range()```という関数を使うと連続する数値からなるデータを得ることができますので、これを用いてfor文を書くことができます。主な目的は、ループの回数を指定したり、リストやタプルを作成したりする際に範囲を指定することです。\n",
    "\n",
    "```range(start, stop, step)```\n",
    "\n",
    "- ```start```: 範囲の開始値を指定します（デフォルトは$0$）\n",
    "- ```stop```:  範囲の終了値を指定します（指定した値より小さい値まで範囲が生成されます）\n",
    "- ```step```: 範囲内の値の間隔を指定します（デフォルトは$1$）"
   ]
  },
  {
   "cell_type": "code",
   "execution_count": 2,
   "metadata": {},
   "outputs": [
    {
     "name": "stdout",
     "output_type": "stream",
     "text": [
      "1\n",
      "2\n",
      "3\n",
      "4\n",
      "5\n"
     ]
    }
   ],
   "source": [
    "for i in range(1,6):\n",
    "  print (i)"
   ]
  },
  {
   "cell_type": "code",
   "execution_count": 3,
   "metadata": {},
   "outputs": [
    {
     "name": "stdout",
     "output_type": "stream",
     "text": [
      "0\n",
      "1\n",
      "2\n",
      "3\n",
      "4\n",
      "5\n"
     ]
    }
   ],
   "source": [
    "#startを省略した場合、デフォルトで0から開始されます。\n",
    "for i in range(6):\n",
    "  print (i)"
   ]
  },
  {
   "cell_type": "code",
   "execution_count": 4,
   "metadata": {},
   "outputs": [
    {
     "name": "stdout",
     "output_type": "stream",
     "text": [
      "1\n",
      "3\n",
      "5\n"
     ]
    }
   ],
   "source": [
    "for i in range(1,6,2):\n",
    "  print (i)"
   ]
  },
  {
   "attachments": {},
   "cell_type": "markdown",
   "metadata": {},
   "source": [
    "## whileループ\n",
    "\n",
    "```while```文では```while```の後の条件式が```False```となるまで、実行文グループを繰り返します"
   ]
  },
  {
   "cell_type": "code",
   "execution_count": 5,
   "metadata": {},
   "outputs": [
    {
     "name": "stdout",
     "output_type": "stream",
     "text": [
      "2 1\n",
      "3 3\n",
      "4 6\n",
      "5 10\n",
      "6 15\n",
      "7 21\n",
      "8 28\n",
      "9 36\n",
      "10 45\n",
      "11 55\n"
     ]
    }
   ],
   "source": [
    "x = 1\n",
    "total = 0\n",
    "while x <= 10:\n",
    "    total += x\n",
    "    x += 1\n",
    "    print(x, total)"
   ]
  },
  {
   "attachments": {},
   "cell_type": "markdown",
   "metadata": {},
   "source": [
    "## 制御構造\n",
    "プログラムを実行中に、ループを途中で抜けたり、終わらせたくなるときがあります。\n",
    "\n",
    "- ```continue```は以後の処理をとばして次の処理へいきます。以下の例では、```item==3```のとき、```print(item)```を飛ばして、```item==4```となるループに進みます。"
   ]
  },
  {
   "cell_type": "code",
   "execution_count": 6,
   "metadata": {},
   "outputs": [
    {
     "name": "stdout",
     "output_type": "stream",
     "text": [
      "a\n",
      "b\n",
      "d\n",
      "e\n"
     ]
    }
   ],
   "source": [
    "for item in t:\n",
    "    if item=='c':\n",
    "        continue\n",
    "    print (item)"
   ]
  },
  {
   "attachments": {},
   "cell_type": "markdown",
   "metadata": {},
   "source": [
    "- ```break```はループ自体を終了します。下の例では、```item==c```のときは```break```となり、ループが終了します。"
   ]
  },
  {
   "cell_type": "code",
   "execution_count": 7,
   "metadata": {},
   "outputs": [
    {
     "name": "stdout",
     "output_type": "stream",
     "text": [
      "a\n",
      "b\n"
     ]
    }
   ],
   "source": [
    "for item in t:\n",
    "    if item=='c':\n",
    "        break\n",
    "    print (item)"
   ]
  },
  {
   "attachments": {},
   "cell_type": "markdown",
   "metadata": {},
   "source": [
    "- ```pass```は「何もしない」ことを示す命令です。コードブロック内で必要なアクションがないことを示す時でよく用いられます。"
   ]
  },
  {
   "cell_type": "code",
   "execution_count": 8,
   "metadata": {},
   "outputs": [
    {
     "name": "stdout",
     "output_type": "stream",
     "text": [
      "a\n",
      "b\n",
      "c\n",
      "d\n",
      "e\n"
     ]
    }
   ],
   "source": [
    "for item in t:\n",
    "    if item=='c':\n",
    "        pass\n",
    "    print (item)"
   ]
  },
  {
   "attachments": {},
   "cell_type": "markdown",
   "metadata": {},
   "source": [
    "````{tab-set}\n",
    "```{tab-item} 実習問題\n",
    "ここで、ユークリッドの互除法というアルゴリズムの実装にトライしてみましょう。\n",
    "\n",
    "ユークリッドの互除法とは、2つの整数、aとbの最大公約数を求めるアルゴリズムです。例えば、2485と1162の最大公約数を求めたい場合\n",
    "\n",
    "$2485 \\div 1162 = 2 余り 161$ \n",
    "\n",
    "$1162 \\div 161 = 7 余り 35$ \n",
    "\n",
    "$161 \\div 35 = 4 余り 21$ \n",
    "\n",
    "$35 \\div 21 = 1 余り 14$\n",
    "\n",
    "$21 \\div 14 = 1 余り 7$\n",
    "\n",
    "$14 \\div 7 = 2 余り 0$\n",
    "\n",
    "割る数と余りを次回の割られる数と割る数にして、次々と計算し、最後に割り切れたら終わりで、最後の割る数が最大公約数です。\n",
    "\n",
    "```\n",
    "````"
   ]
  },
  {
   "cell_type": "code",
   "execution_count": 9,
   "metadata": {},
   "outputs": [],
   "source": [
    "#答え\n",
    "a = 2485\n",
    "b = 1162"
   ]
  },
  {
   "attachments": {},
   "cell_type": "markdown",
   "metadata": {},
   "source": [
    "## 例外処理\n",
    "\n",
    "プログラムが実行されると、実行中に予期しないエラーが発生することがあります。この場合、プログラムは停止してしまいます。\n",
    "\n",
    "「エラーを無視してとにかくプログラムを最後まで実行させたい」「エラーが起こるときにエラーを回避するような仕組みをプログラム自体に実装したい」といった状況もあります。\n",
    "\n",
    "```try-except```文を使用すると、エラーが発生した場合に特定の処理を実行し、プログラムの実行を継続することができます。\n",
    "\n",
    "```try-except```文の基本的な構文は以下のとおりです。\n",
    "- ```try```ブロック内には、エラーが発生する可能性があるコードが含まれます。\n",
    "\n",
    "- エラーが発生しない場合は、```except```ブロックは実行されません。\n",
    "\n",
    "- エラーが発生した場合は、対応する```except```ブロックが実行されます。"
   ]
  },
  {
   "attachments": {},
   "cell_type": "markdown",
   "metadata": {},
   "source": [
    "```\n",
    "try:\n",
    "    # ここにエラーが発生する可能性のあるコードを書く\n",
    "except <エラーの種類>:\n",
    "    # エラーが発生した場合に実行されるコードを書く\n",
    "\n",
    "```"
   ]
  },
  {
   "cell_type": "code",
   "execution_count": 10,
   "metadata": {},
   "outputs": [
    {
     "name": "stdout",
     "output_type": "stream",
     "text": [
      "1.0\n",
      "2.0\n",
      "4.0\n"
     ]
    },
    {
     "ename": "ValueError",
     "evalue": "math domain error",
     "output_type": "error",
     "traceback": [
      "\u001b[0;31m---------------------------------------------------------------------------\u001b[0m",
      "\u001b[0;31mValueError\u001b[0m                                Traceback (most recent call last)",
      "Cell \u001b[0;32mIn[10], line 5\u001b[0m\n\u001b[1;32m      3\u001b[0m \u001b[38;5;66;03m#for i in range(20):\u001b[39;00m\n\u001b[1;32m      4\u001b[0m \u001b[38;5;28;01mfor\u001b[39;00m i \u001b[38;5;129;01min\u001b[39;00m s:\n\u001b[0;32m----> 5\u001b[0m     \u001b[38;5;28mprint\u001b[39m(\u001b[43mmath\u001b[49m\u001b[38;5;241;43m.\u001b[39;49m\u001b[43msqrt\u001b[49m\u001b[43m(\u001b[49m\u001b[43mi\u001b[49m\u001b[43m)\u001b[49m) \n",
      "\u001b[0;31mValueError\u001b[0m: math domain error"
     ]
    }
   ],
   "source": [
    "import math #sqrt(square root)関数を使うための1行\n",
    "s = [1,4,16,-25,36,49,64,81,100,121,144]\n",
    "#for i in range(20):\n",
    "for i in s:\n",
    "    print(math.sqrt(i)) "
   ]
  },
  {
   "attachments": {},
   "cell_type": "markdown",
   "metadata": {},
   "source": [
    "ここで、「```i```の値が正なら平方根を表示して、負の場合はエラーメッセージだけを表示する」という作業が必要な場合は以下のように"
   ]
  },
  {
   "cell_type": "code",
   "execution_count": 45,
   "metadata": {},
   "outputs": [
    {
     "name": "stdout",
     "output_type": "stream",
     "text": [
      "1.0\n",
      "2.0\n",
      "4.0\n",
      "値が-25になったのでsqrtが計算できません\n",
      "6.0\n",
      "7.0\n",
      "8.0\n",
      "9.0\n",
      "10.0\n",
      "11.0\n",
      "12.0\n"
     ]
    }
   ],
   "source": [
    "import math\n",
    "s = [1,4,16,-25,36,49,64,81,100,121,144]\n",
    "for i in s:\n",
    "    try:\n",
    "        print(math.sqrt(i)) \n",
    "    except :    \n",
    "        print(\"値が\"+str(i)+\"になったのでsqrtが計算できません\")"
   ]
  },
  {
   "attachments": {},
   "cell_type": "markdown",
   "metadata": {},
   "source": [
    "````{tab-set}\n",
    "```{tab-item} 実習問題\n",
    "被除数が100である場合、リストの値を除数とする割り算の結果を順番に計算するプログラムを実装してください。\n",
    "- 計算結果を```print```で表示してください\n",
    "- 計算不可能の場合、ラーメッセージだけを表示してエラーが起きた回数をカウントし、計算を続けてください\n",
    "```\n",
    "````"
   ]
  },
  {
   "cell_type": "code",
   "execution_count": 46,
   "metadata": {},
   "outputs": [],
   "source": [
    "#答え\n",
    "import math\n",
    "s = [1,0,10,-25,-2,50,200]\n",
    "error_count = 0 "
   ]
  },
  {
   "attachments": {},
   "cell_type": "markdown",
   "metadata": {},
   "source": [
    "## enumerate\n",
    "\n",
    "```for```文の繰り返し処理では、要素の順序を把握したいことがあります。\n",
    "\n",
    "```enumerate()```関数を利用することで、```for```文内のループ処理にインデックス番号を付与できるのです。\n",
    "\n",
    "2つの変数 ```i```, ```d``` が指定されています。 ```i``` には $0, 1, 2, …$ が順に代入されます。 ```val``` にはリストの要素が順に代入されます。\n",
    "\n"
   ]
  },
  {
   "cell_type": "code",
   "execution_count": 30,
   "metadata": {},
   "outputs": [
    {
     "name": "stdout",
     "output_type": "stream",
     "text": [
      "インデックス: 0 内容: 1番目\n",
      "インデックス: 1 内容: 2番目\n",
      "インデックス: 2 内容: 3番目\n"
     ]
    }
   ],
   "source": [
    "my_array = [ '1番目', '2番目', '3番目']\n",
    "for i, d in enumerate(my_array):\n",
    "    print('インデックス: ' + str(i) + ' 内容: ' + d )"
   ]
  },
  {
   "attachments": {},
   "cell_type": "markdown",
   "metadata": {},
   "source": [
    "````{tab-set}\n",
    "```{tab-item} 実習問題\n",
    "以下にリストに基づいて、リストの要素を値、そのインデックスをキーとする辞書を作ってくだい。\n",
    "```\n",
    "````"
   ]
  },
  {
   "cell_type": "code",
   "execution_count": 31,
   "metadata": {},
   "outputs": [],
   "source": [
    "#答え\n",
    "l = ['Marx', 'Weber', 'Durkheim', 'Parsons', 'Merton']"
   ]
  },
  {
   "attachments": {},
   "cell_type": "markdown",
   "metadata": {},
   "source": [
    "## zip\n"
   ]
  },
  {
   "attachments": {},
   "cell_type": "markdown",
   "metadata": {},
   "source": [
    "```zip()```関数は、複数のイテラブル（リスト、タプル、セット、文字列など）から、要素をまとめて取り出すために使用される組み込み関数です。\n",
    "\n",
    "具体的に言えば、対応する位置の要素をタプルにまとめ、新しいイテラブルなオブジェクトを作成します。\n",
    "\n",
    "各タプルは、元のイテラブルの要素の数に基づいて作成されます。要素の数が一致しない場合は、最短のイテラブルに基づいてzipオブジェクトが作成されます。\n"
   ]
  },
  {
   "cell_type": "code",
   "execution_count": 35,
   "metadata": {},
   "outputs": [
    {
     "name": "stdout",
     "output_type": "stream",
     "text": [
      "(1, 'a')\n",
      "(2, 'b')\n",
      "(3, 'c')\n"
     ]
    }
   ],
   "source": [
    "numbers = [1, 2, 3]\n",
    "letters = ['a', 'b', 'c']\n",
    "zipped = zip(numbers, letters)\n",
    "for pair in zipped:\n",
    "    print(pair)"
   ]
  },
  {
   "attachments": {},
   "cell_type": "markdown",
   "metadata": {},
   "source": [
    "```zip()```関数は、新しいタプルを生成するために、各イテラブルの要素を1つずつ取り出し、ループをすることができます。\n",
    "\n",
    "例えば、```zip()```関数を使用して、複数のリストでループを実行することができます。"
   ]
  },
  {
   "cell_type": "code",
   "execution_count": null,
   "metadata": {},
   "outputs": [],
   "source": [
    "numbers = [1, 2, 3]\n",
    "letters = ['a', 'b', 'c']"
   ]
  },
  {
   "cell_type": "code",
   "execution_count": 47,
   "metadata": {},
   "outputs": [
    {
     "name": "stdout",
     "output_type": "stream",
     "text": [
      "1 a\n",
      "2 b\n",
      "3 c\n"
     ]
    }
   ],
   "source": [
    "for i, j in zip(numbers, letters):\n",
    "    print(i, j)"
   ]
  },
  {
   "cell_type": "code",
   "execution_count": 48,
   "metadata": {},
   "outputs": [
    {
     "name": "stdout",
     "output_type": "stream",
     "text": [
      "a 1\n",
      "b 2\n",
      "c 3\n"
     ]
    }
   ],
   "source": [
    "for i, j in zip(numbers, letters):\n",
    "    print(j, i)"
   ]
  },
  {
   "attachments": {},
   "cell_type": "markdown",
   "metadata": {},
   "source": [
    "````{tab-set}\n",
    "```{tab-item} 実習問題\n",
    "2つのリストをzip関数を使ってループし、各リストの要素を合計し、その結果を新しいリストに格納するプログラムを作成してください。\n",
    "```\n",
    "````"
   ]
  },
  {
   "cell_type": "code",
   "execution_count": 1,
   "metadata": {},
   "outputs": [],
   "source": [
    "#答え\n",
    "list_a = [1, 2, 3, 4, 5]\n",
    "list_b = [6, 7, 8, 9, 10]\n",
    "sum_list = []"
   ]
  },
  {
   "attachments": {},
   "cell_type": "markdown",
   "metadata": {},
   "source": [
    "## 辞書のループ処理"
   ]
  },
  {
   "attachments": {},
   "cell_type": "markdown",
   "metadata": {},
   "source": [
    "辞書の要素にわたって操作はよくあります。"
   ]
  },
  {
   "attachments": {},
   "cell_type": "markdown",
   "metadata": {},
   "source": [
    "- 辞書 の全てのキーを変数```key```に代入しながら、実行文を繰り返すには次のように書きます。"
   ]
  },
  {
   "cell_type": "code",
   "execution_count": 5,
   "metadata": {},
   "outputs": [],
   "source": [
    "nation={'Marx': 'German',\n",
    " 'Weber': 'German',\n",
    " 'Durkheim': 'France',\n",
    " 'Parsons': 'America',\n",
    " 'Merton': 'America',\n",
    " 'Goffman': 'America',\n",
    " 'Habermas': 'Germany'}"
   ]
  },
  {
   "cell_type": "code",
   "execution_count": 7,
   "metadata": {},
   "outputs": [
    {
     "name": "stdout",
     "output_type": "stream",
     "text": [
      "Name: Marx , Nationality: German\n",
      "Name: Weber , Nationality: German\n",
      "Name: Durkheim , Nationality: France\n",
      "Name: Parsons , Nationality: America\n",
      "Name: Merton , Nationality: America\n",
      "Name: Goffman , Nationality: America\n",
      "Name: Habermas , Nationality: Germany\n"
     ]
    }
   ],
   "source": [
    "for key in nation:\n",
    "    print('Name:', key, ', Nationality:', nation[key])"
   ]
  },
  {
   "attachments": {},
   "cell_type": "markdown",
   "metadata": {},
   "source": [
    "- ```values```メソッドを使えば（キーを使わずに）値を1つずつ取り出すこともできます。"
   ]
  },
  {
   "cell_type": "code",
   "execution_count": 8,
   "metadata": {},
   "outputs": [
    {
     "name": "stdout",
     "output_type": "stream",
     "text": [
      "Nationality: German\n",
      "Nationality: German\n",
      "Nationality: France\n",
      "Nationality: America\n",
      "Nationality: America\n",
      "Nationality: America\n",
      "Nationality: Germany\n"
     ]
    }
   ],
   "source": [
    "for value in nation.values():\n",
    "    print('Nationality:', value)"
   ]
  },
  {
   "attachments": {},
   "cell_type": "markdown",
   "metadata": {},
   "source": [
    "- ```items```メソッドを使えばキーと値を一度に取り出すこともできます。 "
   ]
  },
  {
   "cell_type": "code",
   "execution_count": 9,
   "metadata": {},
   "outputs": [
    {
     "name": "stdout",
     "output_type": "stream",
     "text": [
      "Name: Marx Nationality: German\n",
      "Name: Weber Nationality: German\n",
      "Name: Durkheim Nationality: France\n",
      "Name: Parsons Nationality: America\n",
      "Name: Merton Nationality: America\n",
      "Name: Goffman Nationality: America\n",
      "Name: Habermas Nationality: Germany\n"
     ]
    }
   ],
   "source": [
    "for key, value in nation.items():\n",
    "    print('Name:', key, 'Nationality:', value)"
   ]
  },
  {
   "attachments": {},
   "cell_type": "markdown",
   "metadata": {},
   "source": [
    "````{tab-set}\n",
    "```{tab-item} 入れ子のリストを平らにする\n",
    "入れ子になったリストを平らにしててくだい。\n",
    "\n",
    "list1=[1, [2, 3], [4, [5]]]\n",
    "```\n",
    "````"
   ]
  }
 ],
 "metadata": {
  "kernelspec": {
   "display_name": "jupyterbook",
   "language": "python",
   "name": "python3"
  },
  "language_info": {
   "codemirror_mode": {
    "name": "ipython",
    "version": 3
   },
   "file_extension": ".py",
   "mimetype": "text/x-python",
   "name": "python",
   "nbconvert_exporter": "python",
   "pygments_lexer": "ipython3",
   "version": "3.10.9"
  }
 },
 "nbformat": 4,
 "nbformat_minor": 2
}