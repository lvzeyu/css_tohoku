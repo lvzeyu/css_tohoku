{
 "cells": [
  {
   "attachments": {},
   "cell_type": "markdown",
   "metadata": {},
   "source": [
    "# Git\n",
    "\n",
    "## 紹介\n",
    "\n",
    "[Git](https://git-scm.com/)は「**パージョン管理システム(Version Control System)**」と呼ばれるものの一つです。\n",
    "\n",
    "パージョン管理システム(（Version Control System)とは、プログラムやドキュメントなどのファイルに対して、時間とともに加えられた変更を記録するシステムです。\n",
    "\n",
    "具体的に言えば、ファイルの「パージョン(変更履歴)」を記録して、いつでも過去の状況に戻したり、過去の変更履歴を比較したり、またはどのタイミングで問題が起こっていたかを確認したり、様々なことができるプログラム開発やファイル管理を補助するシステムです。\n",
    "\n",
    "```{margin}\n",
    "様々な方法でGitを使うことができますが、この授業では、コマンドラインツールとVSCodeでGitを使います。コマンドラインツールを利用する際、Macの場合はターミナル、Windowsの場合はコマンド・プロンプトやPowerShellを使います。\n",
    "```\n",
    "\n",
    "パージョン管理システムはたくさんの種類がありますが、現在最も利用されているのはGitです。さらに、[**GitHub**](https://github.com/)などの**リモートリポジトリ**と組み合わせることで、クラウドでデータと進捗を管理したり、他のメンバーとコードと情報を共有したり、個人のプロジェクトだけでなく、共同開発するときも強力なツールとなります。\n"
   ]
  },
  {
   "attachments": {},
   "cell_type": "markdown",
   "metadata": {},
   "source": [
    "## インストール\n",
    "\n",
    "### Gitインストール\n",
    "\n",
    "[公式サイト](https://git-scm.com/downloads)からGitをインストールする。\n",
    "\n",
    "### VSCodeのインストール\n",
    "\n",
    "- [公式サイト](https://code.visualstudio.com/)からVSCodeをインストールする。\n",
    "- 必要な拡張機能をインストールします。左側のサイドバーで「拡張機能」をクリックして、検索欄で以下の拡張機能を検索し、インストールしてください。\n",
    "    - Git History\n",
    "    - Git Graph\n",
    "    - GitLens\n",
    "    - GitHub Pull Requests and Issues\n",
    "    - Python\n",
    "    - Jupyter\n",
    "\n",
    "```{note}\n",
    "VSCodeは強力なコードエディターであり、様々なプログラミング言語に機能を提供する幅広い拡張機能を備えた軽量の汎用統合開発環境 (IDE) です。VSCodeでより簡単的に・効率的にGitを操作できます。また、VSCodeでは便利な機能が豊富に搭載されている[Python拡張機能](https://learn.microsoft.com/ja-jp/training/modules/python-install-vscode/5-exercise-install-python-extension?pivots=linux)もたくさんあります。\n",
    "```"
   ]
  },
  {
   "cell_type": "markdown",
   "metadata": {},
   "source": [
    "## ターミナルの基本操作\n",
    "\n",
    "ターミナルは、コンピューターシステムとテキストベースのインターフェースを介して対話するためのツールです。ターミナルを使用すると、ユーザーはコマンドを入力し、それをオペレーティングシステムに送信することができ、システムはそのコマンドを実行して結果をユーザーにテキストとして返します。\n",
    "\n",
    "この方法で、ソフトウェアの実行、ファイル管理、システム設定の変更などが行えます。"
   ]
  },
  {
   "cell_type": "markdown",
   "metadata": {},
   "source": [
    "<pre>\n",
    "ls  #カレントディレクトリにあるファイルやディレクトリを表示する\n",
    "ls -l  #ファイルやディレクトリの詳細も同時に表示する\n",
    "ls -a  #隠しファイルも含めファイルやディレクトリを全て表示する\n",
    "ls −la  #隠しファイルを含む全てのファイルやディレクトリの詳細を表示する\n",
    "</pre>"
   ]
  },
  {
   "cell_type": "markdown",
   "metadata": {},
   "source": [
    "<pre>\n",
    "mkdir test #testというファイルを作る\n",
    "</pre>"
   ]
  },
  {
   "cell_type": "markdown",
   "metadata": {},
   "source": [
    "<pre>\n",
    "cd test  # testというファイルに移動する\n",
    "cd ~/  #ホームディレクトリに移動する\n",
    "cd ..  #一つ上の階層のファイルに移動する\n",
    "</pre>"
   ]
  },
  {
   "cell_type": "markdown",
   "metadata": {},
   "source": [
    "<pre>\n",
    "echo This is some text > myfile.txt\n",
    "</pre>"
   ]
  },
  {
   "cell_type": "markdown",
   "metadata": {},
   "source": [
    "<pre>\n",
    "rm myfile.txt  #test.htmlを削除する\n",
    "</pre>"
   ]
  },
  {
   "cell_type": "markdown",
   "metadata": {},
   "source": [
    "```{margin}\n",
    "プログラミング言語における`#`はコメントを表すために使います。つまり、# 以降のコメントは実行されません。\n",
    "```"
   ]
  },
  {
   "attachments": {},
   "cell_type": "markdown",
   "metadata": {},
   "source": [
    "## Gitの基本操作"
   ]
  },
  {
   "attachments": {},
   "cell_type": "markdown",
   "metadata": {},
   "source": [
    "\n",
    "Git プロジェクトを取得するには、大きく二通りの方法があります。 \n",
    "- 既存のプロジェクトやディレクトリを Git にインポートする方法。\n",
    "- 既存の Git リポジトリを別のサーバーからクローンする方法です。\n",
    "\n",
    "まず、既存のプロジェクトやディレクトリを Git にインポートし、ファイルをコミットと履歴の管理を説明します。\n",
    "\n",
    "#### 既存のディレクトリでのリポジトリの初期化\n",
    "\n",
    "```{margin}\n",
    "空のディレクトリではなくすでに存在するファイルのバージョン管理を始めたい場合は、まずそのファイルを監視対象に追加する。例えば、すでに存在する```myfile.txt```を以下のコマンドで追加します。```git add myfile.txt```\n",
    "```\n",
    "````{tab-set}\n",
    "\n",
    "```{tab-item} ターミナル操作\n",
    "\n",
    "- ディレクトリを作ろう\n",
    "<pre>\n",
    "mkdir test\n",
    "cd test\n",
    "</pre>\n",
    "- **リポジトリの初期化** \n",
    "<pre>\n",
    "git init\n",
    "</pre>\n",
    "```\n",
    "\n",
    "```{tab-item} VSCode操作\n",
    "\n",
    "- 「ファイル」→「フォルダーを開く』→　ディレクトリを選択。VSCode左側の『エクスプローラー』に、開いたフォルダ名が表示されます。\n",
    "-  サイドバーの「ソース管理」(Source Control)を表示して，「リポジトリの初期化」(Initialize Rspository)をクリックします。\n",
    "\n",
    "![](./Figure/git_init.png)\n",
    "\n",
    "```\n",
    "````"
   ]
  },
  {
   "attachments": {},
   "cell_type": "markdown",
   "metadata": {},
   "source": [
    "#### コミット(commit)\n",
    "\n",
    "リポジトリを作成すると、そこに対する**ファイルの変更履歴を登録すること**ができます。その操作を<ins>**コミット(commit)**<ins>といいます。\n",
    "\n",
    "コミットを実行すると、リポジトリの内では、前回コミットした時の状態から現在の状態までの差分を記録したリビジョン(Revision)と呼ばれるものが作成されます。\n",
    "\n",
    "コミットによって、ディレクトリ中の全てのファイルのスナップショットを記録します。\n",
    "\n",
    "![](./Figure/commit1.png)\n",
    "\n",
    "- Gitの管理下に置かれた、みなさんが実際に作業をしているディレクトリのことを**ワークツリー**と呼びます。\n",
    "- Gitでは、コミットを実行した時にワークツリーから直接リポジトリ内に状態を記録するのでなく、その間に設けられている**インデックス**の設定された状態を記録するようになっています。\n",
    "   - インデックスとは、リポジトリにコミットする準備をするための場所のことです。\n",
    "   - コミットでファイルの状態を記録するためには、<ins>まずインデックスにファイルを登録する必要があります。<ins>\n",
    "   - このようにインデックスを間に挟むことで、ワークツリー内の必要ないファイルを含めずにコミットを行ったり、ファイルの一部の変更だけをインデックスに登録してコミットすることができます。\n",
    "- まとめると、コミットのプロセスは以下になります:\n",
    "    1. ワークツリー（作業している場所）で編集、変更を行います\n",
    "    2. インデックス（一時登録場所）へ編集・変更内容を登録\n",
    "    3. リポジトリへ変更内容を登録（コミット）"
   ]
  },
  {
   "attachments": {},
   "cell_type": "markdown",
   "metadata": {},
   "source": [
    "````{tab-set}\n",
    "\n",
    "```{tab-item} ターミナル操作\n",
    "\n",
    "- ディレクトリで任意のファイルを作る。例えば、\n",
    "<pre>\n",
    "echo This is some text > myfile.txt\n",
    "</pre>\n",
    "\n",
    "\n",
    "- ```git status```というコマンドでステータスを確認すると、```myfile.txt```は```Untracked file```であり、つまり、また追跡対象になっていないです。\n",
    "<pre>\n",
    "git status\n",
    "</pre>\n",
    "![](./Figure/git_status_1.png)\n",
    "- ```git add myfile.txt```で```myfile.txt```を追跡対象に追加し、再び```git status```でステータスを確認すると、```Changes to be committed```、すなわち、コミット待ちと表示されています。\n",
    "<pre>\n",
    "git add myfile.txt\n",
    "git status\n",
    "</pre>\n",
    "![](./Figure/git_status_2.png)\n",
    "- コミットをするには```git commit```というコマンドを使います。コミットをする際、コミットの内容を説明するメッセージを記入する必要があります。```-m``` というオプションを付加して、その後メッセージを入れましょう。例えば、\n",
    "<pre>\n",
    "git commit -m \"myfileを作成ました\"\n",
    "</pre>\n",
    "![](./Figure/git_status_3.png)\n",
    "\n",
    "```\n",
    "\n",
    "```{tab-item} VSCode操作\n",
    "\n",
    "- ファイルを作成すると、VSCodeが自動的に変更を検出し、ソース管理サイドバーで数字が表示されます。\n",
    "\n",
    "![](./Figure/commit_example4.png)\n",
    "- ソース管理に更新ファイルの一覧が表示されます。```+```アイコンでステージング操作を行います(```git add```と相当する)。\n",
    "- ステージングした状態からコミットメッセージを入力して、```コミット(Commit)```アイコンでコミットが完了します。\n",
    "\n",
    "![](./Figure/commit_example5.png)\n",
    "```\n",
    "````"
   ]
  },
  {
   "attachments": {},
   "cell_type": "markdown",
   "metadata": {},
   "source": [
    "#### コミットリセット(reset)\n",
    "\n",
    "どんな作業であっても、何かをやり直したくなることはあります。 ここでは、行った変更を取り消すための基本的なツールについて説明します。\n",
    "\n",
    "仮に、```myfile.txt```を削除し、コミットした操作を行いましたが、実はこのファイルは捨ててはいけないファイルだったと気ついたとします。\n",
    "\n",
    "Gitで間違えた変更を元に戻していきましょう。\n",
    "\n",
    "````{tab-set}\n",
    "```{tab-item} 実習問題\n",
    "- ```myfile.txt```を削除し、```delete myfile```というコメントでコミットします。\n",
    "```\n",
    "````"
   ]
  },
  {
   "attachments": {},
   "cell_type": "markdown",
   "metadata": {},
   "source": [
    "```{margin}\n",
    "\n",
    "\n",
    "```HEAD```は現在使用しているブランチの先頭を表す、つまり、今自分が作業をしているブランチの最新のコミットを示すことです。\n",
    "\n",
    "\n",
    "```\n",
    "````{tab-set}\n",
    "\n",
    "```{tab-item} ターミナル操作\n",
    "\n",
    "-  ```git log```でコミットの情報を確認します。コミットを特定するためには、```5d5277156bfef81535e8938f4e9f71b1db2eacf8```のような形のハッシュを使います。\n",
    "\n",
    "<pre>\n",
    "git log\n",
    "</pre>\n",
    "\n",
    "![](./Figure/git_log.png)\n",
    "\n",
    "- 特定のコミットまで戻す場合、以下のコマンドのような形でコミットIDを指定できます。\n",
    "\n",
    "<pre>\n",
    "git reset 8983e71d981c204a92d417c0301b8e9c5f99b7f9\n",
    "</pre>\n",
    "\n",
    "-「特定のコミットまで戻す」とは、コミットにおけるワークツーリ、インデックス、リポジトリのどちらに戻すでも可能です。コマンドにオプションを付加することでresetの方法を指定できます。デフォルトの場合は、コミットとステージングが元の状態に戻ります。\n",
    "\n",
    "```\n",
    "\n",
    "```{tab-item} VSCode操作\n",
    "\n",
    "- [Git Graph](https://marketplace.visualstudio.com/items?itemName=mhutchie.git-graph)という拡張機能をインストールします。\n",
    "- サイドバーの「Source Control」→「View Commit Graph」をクリックすると、ログを確認できます。\n",
    "- 戻すそうのコミットを見つけて、マウスの右クリックし、表示されるメニュで「```Reset Current Branch to Commit```」→ 「```Reset```」を選ぶと、指定したコミットに戻ります。\n",
    "```\n",
    "````"
   ]
  },
  {
   "attachments": {},
   "cell_type": "markdown",
   "metadata": {},
   "source": [
    "```{note}\n",
    "リセットはオプションを指定できます。\n",
    "- ```--soft``` 「ワークツーリでの変更」→「ステージング」→「リポジトリへコミット」の作業のうち、最後の「コミット」だけをリセットする方法です。ファイルがステージングされた状態まで戻されます。\n",
    "- ```--mixed``` 「ワークツーリでの変更」→「ステージング」→「リポジトリへコミット」の作業のうち、「ステージング」までをリセットする方法です(default オプション)。インデックスが空の状態に戻すので、ここでステージングをやり直してコミットできます。\n",
    "- ```--hard```　「ワークツーリでの変更」→「ステージング」→「リポジトリへコミット」の作業のうち、「ワークツーリでの変更」までをリセットする方法です。この方法の場合、ファイルの変更などを含めて破棄されます。つまり、指定したミットまでまるごと消す操作になります。\n",
    "```"
   ]
  },
  {
   "attachments": {},
   "cell_type": "markdown",
   "metadata": {},
   "source": [
    "````{tab-set}\n",
    "```{tab-item} 実習問題\n",
    "- ```git reset```で一つ前のコミットに戻す、```git status```でコミット状態を確認してください。\n",
    "- ファイルの変更状態を確認できましたら、「ステージング」→「リポジトリへコミット」の操作でワークツーリにおけるファイルの変更を行います。\n",
    "```\n",
    "````"
   ]
  },
  {
   "attachments": {},
   "cell_type": "markdown",
   "metadata": {},
   "source": [
    "`````{admonition} Advanced\n",
    ":class: important\n",
    "\n",
    "```git checkout```でも元の状態に戻すことができます。ただ、この操作はワークツリーまで変更するので、場合による```checkout```は作業ディレクトリを破壊する(上書きなど)可能性もありますので、十分に注意してください。一方、```git reset```は```--hard```オプションではないなら、作業ディレクトリにファイルに直接に変更は加えられていません。\n",
    "\n",
    "`````"
   ]
  },
  {
   "attachments": {},
   "cell_type": "markdown",
   "metadata": {},
   "source": [
    "#### ブランチ(branch)\n",
    "\n",
    "ブランチとは、開発の本流から分岐し、それぞれ状態ごとに作業を進める機能のことです。\n",
    "\n",
    "ブランチ機能を使うことで、複数の状態を同時に保つことができます。個人作業での試行錯誤もグールプの共同作業も非常に役を立っています。\n",
    "\n",
    "![](./Figure/branch.png)\n",
    "\n"
   ]
  },
  {
   "attachments": {},
   "cell_type": "markdown",
   "metadata": {},
   "source": [
    "````{tab-set}\n",
    "```{tab-item} 実習問題\n",
    "- ```myfile2.txt```という新しいファイルを作成し、```add myfile2```というコメントでコミットします。\n",
    "- コミットの履歴を確認します。\n",
    "```\n",
    "````"
   ]
  },
  {
   "attachments": {},
   "cell_type": "markdown",
   "metadata": {},
   "source": [
    "````{tab-set}\n",
    "\n",
    "```{tab-item} ターミナル操作\n",
    "\n",
    "- 新しいブランチを作ってみましょう。例えば、以下のコマンドで```develop```という名前のブランチを作成します。\n",
    "<pre>\n",
    "git branch develop\n",
    "</pre>\n",
    "\n",
    "- 特定のコミットからブランチを作る際、```git checkout```コマンドを使います。例えば、コミットID```3be9fa7```から```renewal```という名前のブランチを作るなら、以下のコマンドを実行します。\n",
    "\n",
    "<pre>\n",
    "git checkout 8983e71 -b renewal\n",
    "</pre>\n",
    "\n",
    "- ```git branch```で現在作られるブランチの一覧を確認できます。\n",
    "- ```git checkout```で切り替えます。例えば、以下のコマンドで```develop```に切り替えます。\n",
    "\n",
    "<pre>\n",
    "git checkout develop\n",
    "</pre>\n",
    "\n",
    "```\n",
    "\n",
    "\n",
    "```{tab-item} VSCode操作\n",
    "\n",
    "- 画面の左下のブランチ名（main/master）が表示されている個所をクリックし、新しいブランチを作成を実行します。手順で作成するブランチ名を入力してブランチを作成します。\n",
    "- Git Graphを開けて、分岐を作成したいコミットで右クリックし、表示される表示されるメニュで```Create Branch```を選ぶ、手順で作成するブランチ名を入力してブランチを作成します。\n",
    "```\n",
    "````"
   ]
  },
  {
   "attachments": {},
   "cell_type": "markdown",
   "metadata": {},
   "source": [
    "![](./Figure/git_branch1.svg)"
   ]
  },
  {
   "attachments": {},
   "cell_type": "markdown",
   "metadata": {},
   "source": [
    "#### マージ(merge)\n",
    "\n",
    "\n",
    "ブランチを分けて作業を進めると、各ブランチでの内容がバラバラになります。そんな時に、各ブランチでの変更をまとめる機能は「マージ」です。\n",
    "\n",
    "仮に、```develop branch```で```myfile3.txt```を追加する作業を行います。\n",
    "\n",
    "```\n",
    "git checkout develop\n",
    "echo some text >> myfile3.txt\n",
    "git add myfile3.txt\n",
    "git commit -a -m \"add myfile3.txt\"\n",
    "```"
   ]
  },
  {
   "attachments": {},
   "cell_type": "markdown",
   "metadata": {},
   "source": [
    "```{margin}\n",
    "\n",
    "```git diff [ブランチ名A] [ブランチ名B]```でブランチ間の差分を確認できます。\n",
    "\n",
    "```\n",
    "![](./Figure/git_merge_1.svg)"
   ]
  },
  {
   "attachments": {},
   "cell_type": "markdown",
   "metadata": {},
   "source": [
    "````{tab-set}\n",
    "```{tab-item} 実習問題\n",
    "- ```main/master```ブランチに切り替えます。\n",
    "- ```main/master```ブランチで```myfile4.txt```を作成し、 \"add myfile4.txt\" というメッセージでコミットします。\n",
    "```\n",
    "````"
   ]
  },
  {
   "attachments": {},
   "cell_type": "markdown",
   "metadata": {},
   "source": [
    "```develop```ブランチと```main/master```ブランチの間に差分を確認できます。\n",
    "![](./Figure/git_merge_2.svg)\n",
    "ここで、```develop```ブランチを```main/master``ブランチにマージします。\n",
    "\n",
    "````{tab-set}\n",
    "\n",
    "```{tab-item} ターミナル操作\n",
    "\n",
    "- ```git branch```で現在```main/master```ブランチにいることを確認します。\n",
    "- マージを実行します。\n",
    "\n",
    "<pre>\n",
    "git merge develop -m \"merge develop branch\"\n",
    "</pre>\n",
    "\n",
    "```\n",
    "\n",
    "```{tab-item} VSCode操作\n",
    "-  ステータスバーの左下端に表示されているブランチが「```main/master```」になっていることを確認します。\n",
    "- ```Ctrl+Shift+P```（```Command+Shift+P```）でコマンドパレットを開く、入力欄に```Git:merge```と入力するとマージの項目が表示されます。\n",
    "- マージしたいブランチを選択します。これで、現在のブランチに選択したブランチがマージされます。\n",
    "\n",
    "```\n",
    "````"
   ]
  },
  {
   "attachments": {},
   "cell_type": "markdown",
   "metadata": {},
   "source": [
    "再び```develop```ブランチと```main/master```ブランチの間に差分を確認すると、```develop```での変更は```main/master```ブランチに反映できたことがわかりました。\n",
    "![](./Figure/git_merge_3.svg)"
   ]
  },
  {
   "attachments": {},
   "cell_type": "markdown",
   "metadata": {},
   "source": [
    "ブランチの履歴も確認できます。\n",
    "<pre>\n",
    "git log --graph --decorate --oneline\n",
    "</pre>\n",
    "\n",
    "![](./Figure/git_merge_4.png)\n"
   ]
  },
  {
   "attachments": {},
   "cell_type": "markdown",
   "metadata": {},
   "source": [
    "````{tab-set}\n",
    "```{tab-item} 課題\n",
    "以下の指示に従って操作を行ってくだい。\n",
    "- ```chss2024_practices```という名前のフォルダを作成し、その中でGitを初期化します。\n",
    "- ```README.md```というファイルを作成し、\"README.mdを作成しました\" というメッセージでコミットしてください。\n",
    "- \"README.mdを作成しました\" のコミットに基づく、```develop```というブランチを作成してくだい。\n",
    "- ```master/main```ブランチで```practice1.txt```というファイルを作成し、\"practice1.txtを作成しました\" というメッセージでコミットしてください。\n",
    "- ```develop```ブランチで```practice2.txt```というファイルを作成し、\"practice2.txtを作成しました\" というメッセージでコミットしてください。\n",
    "- ```master/main```ブランチに```develop```ブランチをマージします。メッセージは\"merge develop branch\" で入力してください。\n",
    "- 「ソース管理」→「Show Commit Graph」でコミット履歴を確認してくだい。表示されるCommit Graphをスクリーンショットして、課題として提出してください。\n",
    "```\n",
    "````"
   ]
  },
  {
   "cell_type": "markdown",
   "metadata": {},
   "source": []
  }
 ],
 "metadata": {
  "kernelspec": {
   "display_name": "Python 3",
   "language": "python",
   "name": "python3"
  },
  "language_info": {
   "codemirror_mode": {
    "name": "ipython",
    "version": 3
   },
   "file_extension": ".py",
   "mimetype": "text/x-python",
   "name": "python",
   "nbconvert_exporter": "python",
   "pygments_lexer": "ipython3",
   "version": "3.10.9"
  },
  "vscode": {
   "interpreter": {
    "hash": "31f2aee4e71d21fbe5cf8b01ff0e069b9275f58929596ceb00d14d90e3e16cd6"
   }
  }
 },
 "nbformat": 4,
 "nbformat_minor": 2
}