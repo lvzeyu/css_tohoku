{
 "cells": [
  {
   "cell_type": "markdown",
   "metadata": {},
   "source": [
    "# 練習課題"
   ]
  },
  {
   "cell_type": "markdown",
   "metadata": {},
   "source": [
    "## 問題 1 ある数字が素数かどうかをチェック\n",
    "\n",
    "素数とは、2 以上の自然数で、正の約数が 1 と自分自身のみであるもののことである。\n",
    "\n",
    "例えば、2, 3, 5, 7は素数である。一方で、$2\\times3=6$のため、6は素数ではない。\n",
    "\n",
    "以下の文字列は素数かどうかをチェックするプログラムを書いてください。\n",
    "\n",
    "- 素数である場合、「The number is a prime number」を出力する\n",
    "- 素数ではない場合、「The string is not a prime number」を出力する"
   ]
  },
  {
   "cell_type": "code",
   "execution_count": 1,
   "metadata": {},
   "outputs": [],
   "source": [
    "num = 39\n",
    "# num = 29"
   ]
  },
  {
   "cell_type": "markdown",
   "metadata": {},
   "source": [
    "## 問題2 区間内のすべての素数を表示する\n",
    "\n",
    "900から1000の間に素数である数字をリストに格納しなさい"
   ]
  },
  {
   "cell_type": "code",
   "execution_count": 2,
   "metadata": {},
   "outputs": [],
   "source": [
    "prime_nums=[]"
   ]
  },
  {
   "cell_type": "markdown",
   "metadata": {},
   "source": [
    "## 問題3 フィボナッチ数列（Fibonacci sequence）\n",
    "\n",
    "フィボナッチ数列は、先頭の2項目以外、一般項は前の2項目の和で表れることができる数列です。\n",
    "定義は以下になります\n",
    "\n",
    "$$\n",
    "fib(0)=0\\\\\n",
    "\n",
    "fib(1)=1\\\\\n",
    "\n",
    "fib(n+2) = fib(n) + fib(n+1) (n ≥ 0)\n",
    "$$\n",
    "\n",
    "つまり、$0, 1, 1, 2, 3, 5, 8, 13, 21, 34, 55, 89, 144, 233, 377$という規則の数列になります。\n",
    "\n",
    "$nterms$個のフィボナッチ数列が格納されるリストを作成しなさい。"
   ]
  },
  {
   "cell_type": "code",
   "execution_count": 3,
   "metadata": {},
   "outputs": [],
   "source": [
    "nterms=20\n",
    "n1, n2 = 0, 1\n",
    "#　続きを書く"
   ]
  },
  {
   "cell_type": "code",
   "execution_count": null,
   "metadata": {},
   "outputs": [],
   "source": []
  },
  {
   "cell_type": "code",
   "execution_count": null,
   "metadata": {},
   "outputs": [],
   "source": []
  }
 ],
 "metadata": {
  "kernelspec": {
   "display_name": "Python 3",
   "language": "python",
   "name": "python3"
  },
  "language_info": {
   "codemirror_mode": {
    "name": "ipython",
    "version": 3
   },
   "file_extension": ".py",
   "mimetype": "text/x-python",
   "name": "python",
   "nbconvert_exporter": "python",
   "pygments_lexer": "ipython3",
   "version": "3.9.16"
  }
 },
 "nbformat": 4,
 "nbformat_minor": 2
}