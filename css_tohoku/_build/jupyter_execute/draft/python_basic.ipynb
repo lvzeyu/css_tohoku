{
 "cells": [
  {
   "attachments": {},
   "cell_type": "markdown",
   "metadata": {},
   "source": [
    "# Pythonの基礎"
   ]
  },
  {
   "attachments": {},
   "cell_type": "markdown",
   "metadata": {},
   "source": [
    "## オブジェクト\n",
    "\n",
    "Pythonにおいて**すべての数、文字列、データ構造、関数、クラス、モジュールがオブジェクト**です。初心者にとってやや理解しにくいかもしれませんが、ここではさしあたり、オブジェクトのイメージを簡単に説明します。"
   ]
  },
  {
   "attachments": {},
   "cell_type": "markdown",
   "metadata": {},
   "source": [
    "# 変数\n",
    "\n",
    "## 変数の命名\n",
    "\n",
    "Pythonで変数を定義できます。変数とは、プログラムで使いたいメモリ上の値に名前を付けたものです。\n",
    "Pythonで変数の作成は、いくつかのルールがあります。\n",
    "\n",
    "- 大文字と小文字を区別する：```chss```,```Chss```, ```CHSS```はすべて異なる名前です。\n",
    "- 先頭で数字は使えないです。例えば、```1a```は無効な変数名です。\n",
    "- Pythonの予約語を避けます。"
   ]
  },
  {
   "cell_type": "code",
   "execution_count": 1,
   "metadata": {},
   "outputs": [
    {
     "name": "stdout",
     "output_type": "stream",
     "text": [
      "\n",
      "Here is a list of the Python keywords.  Enter any keyword to get more help.\n",
      "\n",
      "False               class               from                or\n",
      "None                continue            global              pass\n",
      "True                def                 if                  raise\n",
      "and                 del                 import              return\n",
      "as                  elif                in                  try\n",
      "assert              else                is                  while\n",
      "async               except              lambda              with\n",
      "await               finally             nonlocal            yield\n",
      "break               for                 not                 \n",
      "\n"
     ]
    }
   ],
   "source": [
    "# 予約語の一覧を表示\n",
    "help(\"keywords\")"
   ]
  },
  {
   "attachments": {},
   "cell_type": "markdown",
   "metadata": {},
   "source": [
    "```{note}\n",
    "強制ではないですが、可読性を向上するために、できるだけ推奨される変数の命名規則にしたがった方が良いです。\n",
    "<table class=\"table2\">\n",
    "    <thead>\n",
    "<tr>\n",
    "<th style=\"text-align: center\">対象</th>\n",
    "<th style=\"text-align: center\">ルール</th>\n",
    "<th style=\"text-align: center\">例</th>\n",
    "</tr>\n",
    "</thead>\n",
    "<tbody>\n",
    "<tr>\n",
    "<td style=\"text-align: center\">パッケージ</td>\n",
    "<td style=\"text-align: center\">全小文字 なるべく短くアンダースコア非推奨</td>\n",
    "<td style=\"text-align: center\">tqdm, requests ...</td>\n",
    "</tr>\n",
    "<tr>\n",
    "<td style=\"text-align: center\">モジュール</td>\n",
    "<td style=\"text-align: center\">全小文字 なるべく短くアンダースコア可</td>\n",
    "<td style=\"text-align: center\">sys, os,...</td>\n",
    "</tr>\n",
    "<tr>\n",
    "<td style=\"text-align: center\">クラス</td>\n",
    "<td style=\"text-align: center\">最初大文字 + 大文字区切り</td>\n",
    "<td style=\"text-align: center\">MyFavoriteClass</td>\n",
    "</tr>\n",
    "<tr>\n",
    "<td style=\"text-align: center\">例外</td>\n",
    "<td style=\"text-align: center\">最初大文字 + 大文字区切り</td>\n",
    "<td style=\"text-align: center\">MyFuckingError</td>\n",
    "</tr>\n",
    "<tr>\n",
    "<td style=\"text-align: center\">型変数</td>\n",
    "<td style=\"text-align: center\">最初大文字 + 大文字区切り</td>\n",
    "<td style=\"text-align: center\">MyFavoriteType</td>\n",
    "</tr>\n",
    "<tr>\n",
    "<td style=\"text-align: center\">メソッド</td>\n",
    "<td style=\"text-align: center\">全小文字 + アンダースコア区切り</td>\n",
    "<td style=\"text-align: center\">my_favorite_method</td>\n",
    "</tr>\n",
    "<tr>\n",
    "<td style=\"text-align: center\">関数</td>\n",
    "<td style=\"text-align: center\">全小文字 + アンダースコア区切り</td>\n",
    "<td style=\"text-align: center\">my_favorite_funcion</td>\n",
    "</tr>\n",
    "<tr>\n",
    "<td style=\"text-align: center\">変数</td>\n",
    "<td style=\"text-align: center\">全小文字 + アンダースコア区切り</td>\n",
    "<td style=\"text-align: center\">my_favorite_instance</td>\n",
    "</tr>\n",
    "<tr>\n",
    "<td style=\"text-align: center\">定数</td>\n",
    "<td style=\"text-align: center\">\n",
    "<strong>全大文字</strong> + アンダースコア区切り</td>\n",
    "<td style=\"text-align: center\">MY_FAVORITE_CONST</td>\n",
    "</tr>\n",
    "</tbody>\n",
    "</table>\n",
    "```"
   ]
  },
  {
   "attachments": {},
   "cell_type": "markdown",
   "metadata": {},
   "source": [
    "## 代入"
   ]
  },
  {
   "attachments": {},
   "cell_type": "markdown",
   "metadata": {},
   "source": [
    "```=```を使って変数に値を代入する。"
   ]
  },
  {
   "cell_type": "code",
   "execution_count": 2,
   "metadata": {},
   "outputs": [
    {
     "name": "stdout",
     "output_type": "stream",
     "text": [
      "5\n",
      "10\n"
     ]
    }
   ],
   "source": [
    "a=5\n",
    "print(a)\n",
    "print(a+5)"
   ]
  },
  {
   "attachments": {},
   "cell_type": "markdown",
   "metadata": {},
   "source": [
    "`````{admonition} Advanced\n",
    ":class: important\n",
    "多くのプログラミング言語では、変数自体が型を持ち、メモリ位置が固定されているが、Pythonの場合、**変数はただの名前です**。\n",
    "```{figure} ./Figure/immutable.png\n",
    "---\n",
    "scale: 50%\n",
    "align: left\n",
    "---\n",
    "```\n",
    "つまり、代入は値をコピーするわけではない、**データを入れてあるオブジェクトに名前を付けるだけです**。名前はものの**参照手段**であり、もの自体ではないです。\n",
    "\n",
    "変数の代入は、メモリ内のどこかにあるオブジェクトに長いヒモで繋がるというイメージです。そのため、$C$や$JAVA$のような静的言語では変数の型を明確的に指定しなければないが、Pythonでは型を指定する必要はありません。\n",
    "\n",
    "```{figure} ./Figure/immutable2.png\n",
    "---\n",
    "scale: 40%\n",
    "align: left\n",
    "---\n",
    "```\n",
    "\n",
    "```{figure} ./Figure/immutable3.png\n",
    "---\n",
    "scale: 40%\n",
    "align: right\n",
    "---\n",
    "```\n",
    "`````"
   ]
  },
  {
   "cell_type": "code",
   "execution_count": 3,
   "metadata": {},
   "outputs": [
    {
     "name": "stdout",
     "output_type": "stream",
     "text": [
      "a:4482990448,b:4482990448,5:4482990448\n"
     ]
    }
   ],
   "source": [
    "#新たに生成したように見えるbは同じ値を指しているので、変数も値そのものもIDは同じになります。\n",
    "a=5\n",
    "b=5\n",
    "print(\"a:{},b:{},5:{}\".format(id(a),id(b),id(5)))"
   ]
  },
  {
   "attachments": {},
   "cell_type": "markdown",
   "metadata": {},
   "source": [
    "# データ型\n",
    "\n",
    "## 数値"
   ]
  },
  {
   "attachments": {},
   "cell_type": "markdown",
   "metadata": {},
   "source": [
    "### ブール値\n",
    "\n",
    "Pythonでは、bool型の値は```True```と```False```の2種類です。**条件式**や**論理演算**でよく使われます。\n",
    "\n",
    "組込み関数```bool()``` は、オブジェクトや演算式等を真理値判定に基づいて、任意のPythonデータ型を```bool```に変換できます。"
   ]
  },
  {
   "attachments": {},
   "cell_type": "markdown",
   "metadata": {},
   "source": [
    "```{note}\n",
    "**関数**の詳細については今後の授業で学びますので、さしあたり今は、関数に引数を渡すと、その値に応じた何らかの処理結果を返すということを知っておけば良いです。\n",
    "```"
   ]
  },
  {
   "attachments": {},
   "cell_type": "markdown",
   "metadata": {},
   "source": [
    "- $0$ではない数値は```True```と見されます。"
   ]
  },
  {
   "cell_type": "code",
   "execution_count": 4,
   "metadata": {},
   "outputs": [
    {
     "data": {
      "text/plain": [
       "True"
      ]
     },
     "execution_count": 4,
     "metadata": {},
     "output_type": "execute_result"
    }
   ],
   "source": [
    "bool(10)"
   ]
  },
  {
   "cell_type": "markdown",
   "metadata": {},
   "source": [
    "- $0$は```False```と見されます。"
   ]
  },
  {
   "cell_type": "code",
   "execution_count": 5,
   "metadata": {},
   "outputs": [
    {
     "data": {
      "text/plain": [
       "False"
      ]
     },
     "execution_count": 5,
     "metadata": {},
     "output_type": "execute_result"
    }
   ],
   "source": [
    "bool(0)"
   ]
  },
  {
   "attachments": {},
   "cell_type": "markdown",
   "metadata": {},
   "source": [
    "### 整数\n",
    "整数は、小数点以下がなく数値です。"
   ]
  },
  {
   "cell_type": "code",
   "execution_count": 6,
   "metadata": {},
   "outputs": [
    {
     "data": {
      "text/plain": [
       "123"
      ]
     },
     "execution_count": 6,
     "metadata": {},
     "output_type": "execute_result"
    }
   ],
   "source": [
    "123"
   ]
  },
  {
   "cell_type": "code",
   "execution_count": 7,
   "metadata": {},
   "outputs": [
    {
     "data": {
      "text/plain": [
       "-123"
      ]
     },
     "execution_count": 7,
     "metadata": {},
     "output_type": "execute_result"
    }
   ],
   "source": [
    "-123"
   ]
  },
  {
   "attachments": {},
   "cell_type": "markdown",
   "metadata": {},
   "source": [
    "大きな数値のセパレータとしてアンダースコア(```_```)を使えます。"
   ]
  },
  {
   "cell_type": "code",
   "execution_count": 8,
   "metadata": {},
   "outputs": [
    {
     "data": {
      "text/plain": [
       "1000000"
      ]
     },
     "execution_count": 8,
     "metadata": {},
     "output_type": "execute_result"
    }
   ],
   "source": [
    "1_000_000"
   ]
  },
  {
   "attachments": {},
   "cell_type": "markdown",
   "metadata": {},
   "source": [
    "電卓の代わりにPythonを使うことができます。色々な数学演算子が実装されています。\n",
    "\n",
    "<table class=\"table2\">\n",
    "    <thead>\n",
    "        <tr><th>演算子</th><th>演算</th><th>例</th></tr>\n",
    "    </thead>\n",
    "    <tbody>  \n",
    "        <tr><td>+</td><td>加算</td><td>a + b</td></tr>\n",
    "        <tr><td>-</td><td>減算</td><td>a - b</td></tr>\n",
    "        <tr><td>*</td><td>乗算</td><td>a * b</td></tr> \n",
    "        <tr><td>/</td><td>除算</td><td>a / b</td></tr> \n",
    "        <tr><td>%</td><td>剰余</td><td>a % b</td></tr>\n",
    "        <tr><td>//</td><td>切り捨て除算</td><td>a // b</td></tr>\n",
    "        <tr><td>**</td><td>べき乗</td><td>a ** b</td></tr>\n",
    "    </tbody>\n",
    "</table>\n",
    "\n",
    "少し注意する必要があるのは、\n",
    "- 演算子 ```//``` は小数部を切り捨てた整数値（商）を返します。\n",
    "- 演算子 ```%```は整数除算の余り（剰余）を返します。"
   ]
  },
  {
   "cell_type": "code",
   "execution_count": 9,
   "metadata": {},
   "outputs": [
    {
     "data": {
      "text/plain": [
       "2"
      ]
     },
     "execution_count": 9,
     "metadata": {},
     "output_type": "execute_result"
    }
   ],
   "source": [
    "13//5"
   ]
  },
  {
   "cell_type": "code",
   "execution_count": 10,
   "metadata": {},
   "outputs": [
    {
     "data": {
      "text/plain": [
       "3"
      ]
     },
     "execution_count": 10,
     "metadata": {},
     "output_type": "execute_result"
    }
   ],
   "source": [
    "13%5"
   ]
  },
  {
   "attachments": {},
   "cell_type": "markdown",
   "metadata": {},
   "source": [
    "```{note}\n",
    "整数の先頭に$0b$,$0o$,$0x$がつくのは、通常の10進数以外の基数であることを指します。\n",
    "```"
   ]
  },
  {
   "attachments": {},
   "cell_type": "markdown",
   "metadata": {},
   "source": [
    "### 浮動小数点数\n",
    "\n",
    "Pythonでは、整数と小数点のある数（実数）は浮動小数点数といいます。\n",
    "\n",
    "ここで注意する必要があるのは、整数と実数が数学的に同じ数を表す場合でも、コンピュータの中で異なる形式で記憶されますので、表示は異なります。 "
   ]
  },
  {
   "cell_type": "code",
   "execution_count": 11,
   "metadata": {},
   "outputs": [
    {
     "data": {
      "text/plain": [
       "5.0"
      ]
     },
     "execution_count": 11,
     "metadata": {},
     "output_type": "execute_result"
    }
   ],
   "source": [
    "5."
   ]
  },
  {
   "cell_type": "code",
   "execution_count": 12,
   "metadata": {},
   "outputs": [
    {
     "data": {
      "text/plain": [
       "5.0"
      ]
     },
     "execution_count": 12,
     "metadata": {},
     "output_type": "execute_result"
    }
   ],
   "source": [
    "5.0"
   ]
  },
  {
   "attachments": {},
   "cell_type": "markdown",
   "metadata": {},
   "source": [
    "浮動小数点数は文字```e```の後ろに$10$進の桁数を入れて指定することもできます。"
   ]
  },
  {
   "cell_type": "code",
   "execution_count": 13,
   "metadata": {},
   "outputs": [
    {
     "data": {
      "text/plain": [
       "500.0"
      ]
     },
     "execution_count": 13,
     "metadata": {},
     "output_type": "execute_result"
    }
   ],
   "source": [
    "5e2"
   ]
  },
  {
   "attachments": {},
   "cell_type": "markdown",
   "metadata": {},
   "source": [
    "ここで注意する必要があるのは、整数と実数が数学的に同じ数を表す場合でも、コンピュータの中で異なる形式で記憶されますので、表示は異なります。 "
   ]
  },
  {
   "cell_type": "code",
   "execution_count": 14,
   "metadata": {},
   "outputs": [
    {
     "name": "stdout",
     "output_type": "stream",
     "text": [
      "<class 'float'>\n",
      "<class 'int'>\n"
     ]
    }
   ],
   "source": [
    "print(type(5.0))\n",
    "print(type(5))"
   ]
  },
  {
   "attachments": {},
   "cell_type": "markdown",
   "metadata": {},
   "source": [
    "浮動小数点数も算術演算子を使えます。\n",
    "\n",
    "また、整数と実数が混ざって計算も可能です。ただ、その場合、結果は実数になります。"
   ]
  },
  {
   "cell_type": "code",
   "execution_count": 15,
   "metadata": {},
   "outputs": [
    {
     "data": {
      "text/plain": [
       "7.0"
      ]
     },
     "execution_count": 15,
     "metadata": {},
     "output_type": "execute_result"
    }
   ],
   "source": [
    "2+5.0"
   ]
  },
  {
   "attachments": {},
   "cell_type": "markdown",
   "metadata": {},
   "source": [
    "```int()```関数で、浮動小数点数を整数に変換できます。"
   ]
  },
  {
   "cell_type": "code",
   "execution_count": 16,
   "metadata": {},
   "outputs": [
    {
     "data": {
      "text/plain": [
       "98"
      ]
     },
     "execution_count": 16,
     "metadata": {},
     "output_type": "execute_result"
    }
   ],
   "source": [
    "int(98.5)"
   ]
  },
  {
   "attachments": {},
   "cell_type": "markdown",
   "metadata": {},
   "source": [
    "```float()```関数で、整数を浮動小数点数に変換できます。"
   ]
  },
  {
   "cell_type": "code",
   "execution_count": 17,
   "metadata": {},
   "outputs": [
    {
     "data": {
      "text/plain": [
       "98.0"
      ]
     },
     "execution_count": 17,
     "metadata": {},
     "output_type": "execute_result"
    }
   ],
   "source": [
    "float(98)"
   ]
  },
  {
   "cell_type": "markdown",
   "metadata": {},
   "source": []
  }
 ],
 "metadata": {
  "kernelspec": {
   "display_name": "base",
   "language": "python",
   "name": "python3"
  },
  "language_info": {
   "codemirror_mode": {
    "name": "ipython",
    "version": 3
   },
   "file_extension": ".py",
   "mimetype": "text/x-python",
   "name": "python",
   "nbconvert_exporter": "python",
   "pygments_lexer": "ipython3",
   "version": "3.10.9"
  }
 },
 "nbformat": 4,
 "nbformat_minor": 2
}