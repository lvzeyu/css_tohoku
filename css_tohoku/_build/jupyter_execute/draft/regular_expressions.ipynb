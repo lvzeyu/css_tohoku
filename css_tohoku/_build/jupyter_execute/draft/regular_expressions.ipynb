{
 "cells": [
  {
   "attachments": {},
   "cell_type": "markdown",
   "metadata": {},
   "source": [
    "# 正規表現\n",
    "\n",
    "正規表現とは、文字列のパターンを表す式です。 文字列が正規表現にマッチするとは、文字列が正規表現の表すパターンに適合していることを意味します。\n",
    "\n",
    "大抵の正規表現操作は、コンパイル済み正規表現のメソッドとしても利用できます。\n",
    "\n",
    "## *re* モジュール\n",
    "```re```モジュールで、文字列に対する正規表現操作を行います。"
   ]
  },
  {
   "attachments": {},
   "cell_type": "markdown",
   "metadata": {},
   "source": [
    "### ```match```\n",
    "\n",
    "```match``` は、指定した 正規表現A が 文字列B（の先頭部分）にマッチするかどうか調べます。\n",
    "マッチが成立している場合、**matchオブジェクト**と呼ばれる特殊なデータを返します。マッチが成立しない場合、 ```None``` を返します。"
   ]
  },
  {
   "cell_type": "code",
   "execution_count": 1,
   "metadata": {},
   "outputs": [
    {
     "name": "stdout",
     "output_type": "stream",
     "text": [
      "<re.Match object; span=(0, 3), match='abc'>\n",
      "None\n"
     ]
    }
   ],
   "source": [
    "import re\n",
    "match1 = re.match('abc', 'abcde') #マッチする\n",
    "print(match1)\n",
    "match2 = re.match('abc', 'ababc') #マッチしない\n",
    "print(match2)"
   ]
  },
  {
   "cell_type": "code",
   "execution_count": 25,
   "metadata": {},
   "outputs": [],
   "source": []
  },
  {
   "cell_type": "code",
   "execution_count": null,
   "metadata": {},
   "outputs": [],
   "source": []
  }
 ],
 "metadata": {
  "kernelspec": {
   "display_name": "base",
   "language": "python",
   "name": "python3"
  },
  "language_info": {
   "codemirror_mode": {
    "name": "ipython",
    "version": 3
   },
   "file_extension": ".py",
   "mimetype": "text/x-python",
   "name": "python",
   "nbconvert_exporter": "python",
   "pygments_lexer": "ipython3",
   "version": "3.9.7"
  },
  "vscode": {
   "interpreter": {
    "hash": "40d3a090f54c6569ab1632332b64b2c03c39dcf918b08424e98f38b5ae0af88f"
   }
  }
 },
 "nbformat": 4,
 "nbformat_minor": 2
}