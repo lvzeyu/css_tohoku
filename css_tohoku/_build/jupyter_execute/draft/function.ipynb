{
 "cells": [
  {
   "attachments": {},
   "cell_type": "markdown",
   "metadata": {},
   "source": [
    "# 関数"
   ]
  },
  {
   "attachments": {},
   "cell_type": "markdown",
   "metadata": {},
   "source": [
    "関数は処理をまとめた再利用可能なコードです。\n",
    "\n",
    "関数を使うことで、同じ処理を複数回実行する必要がある場合に、コードを簡潔に保ち、修正や更新も容易になります。\n",
    "\n",
    "```len()```や```dict()```などの組み込み関数は関数の例です。\n",
    "\n"
   ]
  },
  {
   "attachments": {},
   "cell_type": "markdown",
   "metadata": {},
   "source": [
    "## 関数の定義\n",
    "\n",
    "関数を定義するには、\n",
    "\n",
    "- ```def```を使って、関数を定義することを示します。その後、関数名を指定し、関数に対する引数を括弧に囲んで書き、最後にコロン(```:```)を書きます。\n",
    "- 関数本体では、処理を実行するためのコードを書きます。関数内で変数を宣言することもできますが、関数外で定義された変数を使用することもできます。\n",
    "- ```return```キーワードを使用して、関数が返す値を指定します。```return```を省略すると、関数は何も返しません。"
   ]
  },
  {
   "attachments": {},
   "cell_type": "markdown",
   "metadata": {},
   "source": [
    "```\n",
    "def 関数名(引数1, 引数2, ...):\n",
    "    処理1\n",
    "    処理2\n",
    "    ...\n",
    "    return 戻り値\n",
    "```"
   ]
  },
  {
   "attachments": {},
   "cell_type": "markdown",
   "metadata": {},
   "source": [
    "以下は、引数として2つの数値を受け取り、その和を返す関数の例です。"
   ]
  },
  {
   "cell_type": "code",
   "execution_count": 1,
   "metadata": {},
   "outputs": [],
   "source": [
    "def add_numbers(x, y):\n",
    "    result = x + y\n",
    "    return result"
   ]
  },
  {
   "attachments": {},
   "cell_type": "markdown",
   "metadata": {},
   "source": [
    "この関数を呼び出すには、以下のようにします。"
   ]
  },
  {
   "cell_type": "code",
   "execution_count": 2,
   "metadata": {},
   "outputs": [
    {
     "name": "stdout",
     "output_type": "stream",
     "text": [
      "8\n"
     ]
    }
   ],
   "source": [
    "result = add_numbers(3, 5)\n",
    "print(result) # 8が出力される"
   ]
  },
  {
   "attachments": {},
   "cell_type": "markdown",
   "metadata": {},
   "source": [
    "```{note} 関数の命名規則\n",
    "関数の命名は基本的には自由ですが、以下のような慣習があります。\n",
    "- 関数名は、その関数が何を行うかを明確にするために、できるだけ短く、分かりやすくするように心がけます。\n",
    "- 関数名は、英小文字で始めます。\n",
    "- 複数の単語を含む関数名の場合、単語の間にはアンダースコア```_```を使用します。\n",
    "- **Pythonの組み込み関数と同じ名前を使用しないようにします。**\n",
    "```"
   ]
  },
  {
   "attachments": {},
   "cell_type": "markdown",
   "metadata": {},
   "source": [
    "## 返値\n",
    "\n",
    "関数は受け取った引数を元に処理を行い、その結果の返値を返すことができます。\n",
    "\n",
    "返値は、```return``` で定義します。 ```return``` が実行されると、関数の処理はそこで終了するため、次に文があっても実行はされません。 \n",
    "\n",
    "戻り値```return```は単一の値や文字列に限らず、複数の値でも可能ですし、リストを返すことも出来ます。\n",
    "\n",
    "関数の返値がない場合は、```None``` が返されます。"
   ]
  },
  {
   "cell_type": "markdown",
   "metadata": {},
   "source": [
    "## ローカル変数とグローバル変数"
   ]
  },
  {
   "attachments": {},
   "cell_type": "markdown",
   "metadata": {},
   "source": [
    "### スコープ"
   ]
  },
  {
   "attachments": {},
   "cell_type": "markdown",
   "metadata": {},
   "source": [
    "```{margin}\n",
    "変数のスコープは、命名空間とも呼ばれます。\n",
    "```\n",
    "\n",
    "```{note} 変数のスコープについて\n",
    "一般に、プログラミングでは**グローバル変数**と**ローカル変数**と呼ばれるものがあります。\n",
    "\n",
    "その名(global/local)が示すとおりグローバル変数とはどこからでも参照できる変数で、ローカル変数とは、ある有効範囲のみで参照できる変数です。\n",
    "```"
   ]
  },
  {
   "attachments": {},
   "cell_type": "markdown",
   "metadata": {},
   "source": [
    "関数で代入される変数は、どれもローカルスコープに代入されます。\n",
    "\n",
    "ローカルスコープは、関数が呼び出された時に生成され、関数の引数から値を受け取ります。関数が終了するとローカルスコープは消します。\n",
    "\n",
    "```testfunc```の中で定義されている```a=10```は、関数の内部で定義(代入)される変数であるため、ローカル変数とみなされて処理が行われるので、グローバル変数である```a=2```に影響しないです。"
   ]
  },
  {
   "cell_type": "code",
   "execution_count": 3,
   "metadata": {},
   "outputs": [
    {
     "name": "stdout",
     "output_type": "stream",
     "text": [
      "関数の実行前 2 4483711248\n",
      "関数の内部 10 4483711504\n",
      "関数の実行後 2 4483711248\n"
     ]
    }
   ],
   "source": [
    "def testfunc():\n",
    "    a = 10\n",
    "    print(\"関数の内部\", a, id(a))\n",
    "    \n",
    "a= 2 \n",
    "print(\"関数の実行前\", a, id(a))\n",
    "testfunc()\n",
    "print(\"関数の実行後\", a, id(a)) "
   ]
  },
  {
   "cell_type": "markdown",
   "metadata": {},
   "source": [
    "同じモジュールスコープで定義されたグローバル変数は、関数の内側でも参照できます。また、関数の内側では、グローバル変数だけではなく、同じモジュールスコープで定義した別の関数も呼び出せます。\n",
    "\n",
    "次の例では、関数 ```func2()``` は、先に定義された関数 ```func1()``` を呼び出しています。"
   ]
  },
  {
   "cell_type": "code",
   "execution_count": 4,
   "metadata": {},
   "outputs": [
    {
     "name": "stdout",
     "output_type": "stream",
     "text": [
      "Hello func2 , this is func1.\n"
     ]
    }
   ],
   "source": [
    "def func1(name):\n",
    "    print(\"Hello\", name, \", this is func1.\")\n",
    "\n",
    "def func2():\n",
    "    func1(\"func2\")\n",
    "\n",
    "func2()"
   ]
  },
  {
   "cell_type": "markdown",
   "metadata": {},
   "source": [
    "同様に、モジュールスコープで import したモジュールも、そのスコープで定義された関数から参照できます。\n",
    "\n",
    "の例は、モジュールスコープで import した ```time``` モジュールを関数 ```print_time()``` 内で参照し、```time.asctime()``` 関数を呼び出して現在の日付と時間を取得しています。"
   ]
  },
  {
   "cell_type": "code",
   "execution_count": 5,
   "metadata": {},
   "outputs": [
    {
     "name": "stdout",
     "output_type": "stream",
     "text": [
      "It is Wed May 29 12:47:57 2024\n"
     ]
    }
   ],
   "source": [
    "import time\n",
    "\n",
    "def print_time():\n",
    "    # モジュールスコープで import した timeモジュールを利用\n",
    "    now = time.asctime()\n",
    "    print(\"It is\", now)\n",
    "    \n",
    "print_time()"
   ]
  },
  {
   "cell_type": "markdown",
   "metadata": {},
   "source": [
    "## 引数\n",
    "\n",
    "関数を定義する際に、ヘッダの括弧の中に関数へ渡す値を引数と言います。\n",
    "\n",
    "関数を呼び出す際に引数に値を渡すことで、関数は受け取った値を処理することができます。"
   ]
  },
  {
   "attachments": {},
   "cell_type": "markdown",
   "metadata": {},
   "source": [
    "### キーワード引数\n",
    "\n",
    "上記の例では、事前に定義した引数の順番に従って、関数は引数を受け取っています。\n",
    "\n",
    "キーワード付き引数（キーワード引数）を使うと、関数は引数の変数名とその値の組みを受け取ることができます。 その際、引数は順不同で関数に渡すことができます。"
   ]
  },
  {
   "cell_type": "code",
   "execution_count": 6,
   "metadata": {},
   "outputs": [],
   "source": [
    "def minus_numbers(x, y):\n",
    "    result = x - y\n",
    "    return result"
   ]
  },
  {
   "cell_type": "code",
   "execution_count": 7,
   "metadata": {},
   "outputs": [
    {
     "name": "stdout",
     "output_type": "stream",
     "text": [
      "5\n"
     ]
    }
   ],
   "source": [
    "print(minus_numbers(10, 5))"
   ]
  },
  {
   "cell_type": "code",
   "execution_count": 8,
   "metadata": {},
   "outputs": [
    {
     "name": "stdout",
     "output_type": "stream",
     "text": [
      "-5\n"
     ]
    }
   ],
   "source": [
    "print(minus_numbers(y=10, x=5))"
   ]
  },
  {
   "attachments": {},
   "cell_type": "markdown",
   "metadata": {},
   "source": [
    "```{margin}\n",
    "位置引数とキーワード引数の両方を使って関数を呼び出す場合には、まず先に位置引数を指定する必要があります。\n",
    "```"
   ]
  },
  {
   "attachments": {},
   "cell_type": "markdown",
   "metadata": {},
   "source": [
    "### デフォルト引数値の指定\n",
    "\n",
    "デフォルト引数値は、関数の定義時に引数に初期値を指定することによって設定できます。これにより、関数を呼び出すときに引数の値を省略することができます。\n",
    "\n",
    "デフォルト引数値を指定するには、引数リスト内で引数の名前の後ろに等号と初期値を指定します。例えば、以下のように関数を定義することができます。"
   ]
  },
  {
   "cell_type": "code",
   "execution_count": 9,
   "metadata": {},
   "outputs": [],
   "source": [
    "def greet(name, message=\"Hello\"):\n",
    "    print(f\"{message}, {name}!\")"
   ]
  },
  {
   "cell_type": "code",
   "execution_count": 10,
   "metadata": {},
   "outputs": [
    {
     "name": "stdout",
     "output_type": "stream",
     "text": [
      "Hello, Alice!\n",
      "Hi, Bob!\n"
     ]
    }
   ],
   "source": [
    "greet(\"Alice\")         # \"Hello, Alice!\"\n",
    "greet(\"Bob\", \"Hi\")     # \"Hi, Bob!\""
   ]
  },
  {
   "attachments": {},
   "cell_type": "markdown",
   "metadata": {},
   "source": [
    "````{tab-set}\n",
    "```{tab-item} 実習問題1\n",
    "被除数と除数を指定し、割り算の結果を順番に計算する関数を作成してください。\n",
    "- 計算結果を返します\n",
    "- 計算不可能の場合、「計算できません」というエラーを表示してください\n",
    "```\n",
    "\n",
    "```{tab-item} 実習問題2\n",
    "ユークリッドの互除法の関数を作成してください。\n",
    "- 除数が$0$によるエラーを制御してください。\n",
    "- 引数に渡す値の大小関係を考慮してください\n",
    "```\n",
    "\n",
    "````"
   ]
  },
  {
   "attachments": {},
   "cell_type": "markdown",
   "metadata": {},
   "source": [
    "### ```*```による位置引数の分解・接合(タプル化)\n",
    "\n",
    "関数定義の中で引数の一部として```*```を使うと、可変個の位置引数がタプルにまとめられてその引数にセットされるようになる。\n",
    "\n",
    "この機能は、関数に異なる数の引数を渡す時に便利です。"
   ]
  },
  {
   "cell_type": "code",
   "execution_count": 11,
   "metadata": {},
   "outputs": [],
   "source": [
    "def sum_all_numbers(*args):\n",
    "    result = 0\n",
    "    for i in args:\n",
    "        print(i) # argsの中身を確認\n",
    "        result += i\n",
    "    return result"
   ]
  },
  {
   "attachments": {},
   "cell_type": "markdown",
   "metadata": {},
   "source": [
    "```{margin}\n",
    "```*args```以外、```*params```など任意の名前を使っても良いですが、```*args```を使う習慣になっています。\n",
    "```"
   ]
  },
  {
   "cell_type": "code",
   "execution_count": 12,
   "metadata": {},
   "outputs": [
    {
     "name": "stdout",
     "output_type": "stream",
     "text": [
      "1\n",
      "2\n",
      "3\n",
      "4\n",
      "5\n"
     ]
    },
    {
     "data": {
      "text/plain": [
       "15"
      ]
     },
     "execution_count": 12,
     "metadata": {},
     "output_type": "execute_result"
    }
   ],
   "source": [
    "sum_all_numbers(1,2,3,4,5)"
   ]
  },
  {
   "attachments": {},
   "cell_type": "markdown",
   "metadata": {},
   "source": [
    "### ```**```によるキーワード引数の分解・接合(辞書化)\n",
    "\n",
    "可変個のキーワード引数は、関数定義の中でキーワード引数の数が可変であることを指定する方法です。\n",
    "\n",
    "２つのアスタリスク(```**```)を使えば、キーワード引数を1個の辞書にまとめることができます。\n",
    "引数の名前は辞書のキー、引数の値は辞書の値になっています。"
   ]
  },
  {
   "cell_type": "code",
   "execution_count": 13,
   "metadata": {},
   "outputs": [],
   "source": [
    "def print_kwargs(**kwargs):\n",
    "    for key, value in kwargs.items():\n",
    "        print(key, value)"
   ]
  },
  {
   "cell_type": "code",
   "execution_count": 14,
   "metadata": {},
   "outputs": [
    {
     "name": "stdout",
     "output_type": "stream",
     "text": [
      "a 1\n",
      "b 2\n",
      "c 3\n"
     ]
    }
   ],
   "source": [
    "print_kwargs(a=1, b=2, c=3)"
   ]
  },
  {
   "attachments": {},
   "cell_type": "markdown",
   "metadata": {},
   "source": [
    "```{note} 引数の順番\n",
    "関数の命名は基本的には自由ですが、以下のような慣習があります。\n",
    "1. 位置引数　: 関数定義で明示的に指定された引数です。位置引数は、引数の順序に基づいて値が関数に渡されます。\n",
    "2. キーワード引数: 引数の名前と値をペアとして指定する引数です。キーワード引数は、引数の名前を指定して値を関数に渡すことができます。\n",
    "3. 可変個の位置引数: 位置引数として渡された値は、タプルとして関数内で利用できます。\n",
    "4. キーワード引数: キーワード引数として渡された値は、辞書として関数内で利用できます。\n",
    "```"
   ]
  },
  {
   "attachments": {},
   "cell_type": "markdown",
   "metadata": {},
   "source": [
    "````{tab-set}\n",
    "```{tab-item} 実習問題\n",
    "複数の商品とその価格を受け取り、価格の合計を計算する関数を作成してください。\n",
    "```\n",
    "````"
   ]
  },
  {
   "attachments": {},
   "cell_type": "markdown",
   "metadata": {},
   "source": [
    "```\n",
    "def calculation():\n",
    "\n",
    "    return total\n",
    "\n",
    "\n",
    "calculate_total(apple=300, orange=400, banana=100)\n",
    "\n",
    "```"
   ]
  },
  {
   "attachments": {},
   "cell_type": "markdown",
   "metadata": {},
   "source": [
    "## ラムダ関数\n",
    "\n",
    "ラムダ関数は、簡潔な関数を一行で定義するための手法です。\n",
    "\n",
    "関数を定義するための従来の```def```キーワードを使用せずに、```lambda```キーワードを用いて直接関数を記述します。\n",
    "\n",
    "ラムダ関数の一般的な構文は以下の通りです：\n",
    "```\n",
    "lambda arguments: expression\n",
    "```\n",
    "ここで、```arguments```関数の引数を表し、```expression```は引数を使って実行する式です。"
   ]
  },
  {
   "cell_type": "code",
   "execution_count": 15,
   "metadata": {},
   "outputs": [
    {
     "name": "stdout",
     "output_type": "stream",
     "text": [
      "8\n"
     ]
    }
   ],
   "source": [
    "# 2つの数値を加算するラムダ関数\n",
    "add = lambda x, y: x + y\n",
    "print(add(3, 5))"
   ]
  },
  {
   "cell_type": "code",
   "execution_count": 16,
   "metadata": {},
   "outputs": [
    {
     "name": "stdout",
     "output_type": "stream",
     "text": [
      "True\n",
      "False\n"
     ]
    }
   ],
   "source": [
    "# 与えられた数が偶数かどうかを判定するラムダ関数:\n",
    "is_even = lambda x: x % 2 == 0\n",
    "print(is_even(4))  # 出力: True\n",
    "print(is_even(7))  # 出力: False"
   ]
  },
  {
   "attachments": {},
   "cell_type": "markdown",
   "metadata": {},
   "source": [
    "````{tab-set}\n",
    "```{tab-item} 実習問題1\n",
    "整数のリストが与えられたとき、そのリストから偶数の要素のみをフィルタリングするラムダ関数を作成してください。\n",
    "```\n",
    "\n",
    "```{tab-item} 実習問題2\n",
    "浮動小数点数のリストが与えられたとき、そのリストの要素の平均値を計算するラムダ関数を作成してください。\n",
    "```\n",
    "````"
   ]
  }
 ],
 "metadata": {
  "kernelspec": {
   "display_name": "jupyterbook",
   "language": "python",
   "name": "python3"
  },
  "language_info": {
   "codemirror_mode": {
    "name": "ipython",
    "version": 3
   },
   "file_extension": ".py",
   "mimetype": "text/x-python",
   "name": "python",
   "nbconvert_exporter": "python",
   "pygments_lexer": "ipython3",
   "version": "3.10.9"
  }
 },
 "nbformat": 4,
 "nbformat_minor": 2
}