{
 "cells": [
  {
   "attachments": {},
   "cell_type": "markdown",
   "metadata": {},
   "source": [
    "# オブジェクトとクラス\n",
    "\n",
    "今までさまざまな箇所で触れたように、Pythonに含まれるすべての要素がオブジェクトとして扱われます。\n",
    "\n",
    "オブジェクトは、**データ**と**メソッド**を持っています。\n",
    "\n",
    "例えば、```num=10```と書けば、値10の**整数型のオブジェクト**を作って、numという名前にオブジェクト参照を代入できます。整数型のオブジェクトは加算や乗算などのメソッドを持つため、```num+10```や```num*10```などの計算は可能です。\n",
    "\n",
    "もちろん、```\"cat\"```や```\"dog\"```などの文字列もオプジェットであり、メソッドを持っています。文字列のオプジェットに定義されるメソッドによる、```\"cat\"+\"dog\"```で文字列の結合のような文字列のオプジェット特有な操作が可能です。\n"
   ]
  },
  {
   "attachments": {},
   "cell_type": "markdown",
   "metadata": {},
   "source": [
    "Pythonのオブジェクトは**クラス**に基づいて作成されます。クラスはオブジェクトの設計図であり、オブジェクトが持つデータとメソッドを定義します。\n",
    "\n",
    "Pythonには、文字列、リスト、辞書などの標準データ型を作るための組み込みクラスがあります。\n",
    "\n",
    "新しいオブジェクトを作成する時、オブジェクトの内容と機能を規定するクラスを作る必要があります。"
   ]
  },
  {
   "attachments": {},
   "cell_type": "markdown",
   "metadata": {},
   "source": [
    "## ```class```によるクラスの定義"
   ]
  },
  {
   "attachments": {},
   "cell_type": "markdown",
   "metadata": {},
   "source": [
    "一般にクラス定義は、以下のような形をしています。\n",
    "\n",
    "```\n",
    "class クラス名:\n",
    "    def __init__(self):\n",
    "        実行文\n",
    "    def メソッド名(self, 引数, ...):\n",
    "        実行文\n",
    "    def メソッド名(self, 引数, ...):\n",
    "        実行文\n",
    "```\n",
    "\n",
    "### 初期化\n",
    "\n",
    "オプジェットを作成する際値を代入する場合は多いです。その場合。```__init__```という特殊なメソッドで、クラスのインスタンス化時に自動的に初期設定を行います。\n",
    "\n",
    "### メソッド\n",
    "\n",
    "ここで示したように、**メソッド**は、クラスの中の関数のことです。\n",
    "\n",
    "メソッド定義は関数定義と同じ形をしていますが、その最初の引数には慣例として```self```という名前を付けます。 この引数には、メソッドが呼び出されたオブジェクト自身が渡されます。メソッド内で自身の属性や他のメソッドにアクセスするために使用されます。"
   ]
  },
  {
   "cell_type": "code",
   "execution_count": 1,
   "metadata": {},
   "outputs": [],
   "source": [
    "class Person:\n",
    "    def __init__(self, name):\n",
    "        self.name = name\n",
    "\n",
    "    def say_hello(self):\n",
    "        print(\"Hello,\", self.name)"
   ]
  },
  {
   "cell_type": "code",
   "execution_count": 2,
   "metadata": {},
   "outputs": [],
   "source": [
    "marx=Person(\"Marx\")"
   ]
  },
  {
   "attachments": {},
   "cell_type": "markdown",
   "metadata": {},
   "source": [
    "上記の例では、\n",
    "- Personというクラスを定義する\n",
    "- ```Person(\"Marx\")```でオブジェクトのインスタンスを生成する\n",
    "- ```self```として新しい作ったオブジェクト、```name```としてもう一つの引数```\"Marx\"```を渡して、オブジェクトの```__init()__```メソッドを呼び出す\n",
    "- ```name```の値をオブジェクトに格納する\n",
    "- 新しいオブジェクトを返す、```Marx```という名前を与える"
   ]
  },
  {
   "attachments": {},
   "cell_type": "markdown",
   "metadata": {},
   "source": [
    "オブジェクトにおける値は、属性としてオブジェクトとともに保存されますので、直接に読み書きできます。"
   ]
  },
  {
   "cell_type": "code",
   "execution_count": 3,
   "metadata": {},
   "outputs": [
    {
     "data": {
      "text/plain": [
       "'Marx'"
      ]
     },
     "execution_count": 3,
     "metadata": {},
     "output_type": "execute_result"
    }
   ],
   "source": [
    "marx.name"
   ]
  },
  {
   "attachments": {},
   "cell_type": "markdown",
   "metadata": {},
   "source": [
    "オブジェクトのメソッドを呼び出します。"
   ]
  },
  {
   "cell_type": "code",
   "execution_count": 4,
   "metadata": {},
   "outputs": [
    {
     "name": "stdout",
     "output_type": "stream",
     "text": [
      "Hello, Marx\n"
     ]
    }
   ],
   "source": [
    "marx.say_hello()"
   ]
  },
  {
   "attachments": {},
   "cell_type": "markdown",
   "metadata": {},
   "source": [
    "- ここで注意してほしいのは、```Personクラス```内部では、```name```属性には```self.name```という形でアクセスできます。"
   ]
  },
  {
   "attachments": {},
   "cell_type": "markdown",
   "metadata": {},
   "source": [
    "異なる値を渡せば、```Personクラス```から新しいオブジェクトを作成できます。"
   ]
  },
  {
   "cell_type": "code",
   "execution_count": 5,
   "metadata": {},
   "outputs": [],
   "source": [
    "webber=Person(\"Webber\")"
   ]
  },
  {
   "cell_type": "code",
   "execution_count": 6,
   "metadata": {},
   "outputs": [
    {
     "data": {
      "text/plain": [
       "'Webber'"
      ]
     },
     "execution_count": 6,
     "metadata": {},
     "output_type": "execute_result"
    }
   ],
   "source": [
    "webber.name"
   ]
  },
  {
   "cell_type": "code",
   "execution_count": 7,
   "metadata": {},
   "outputs": [
    {
     "name": "stdout",
     "output_type": "stream",
     "text": [
      "Hello, Webber\n"
     ]
    }
   ],
   "source": [
    "webber.say_hello()"
   ]
  },
  {
   "attachments": {},
   "cell_type": "markdown",
   "metadata": {},
   "source": [
    "### 属性とメソッドの追加\n",
    "\n",
    "同じような形式で、属性とメソッドの追加しましょう。\n",
    "\n",
    "例えば、```Personクラス```に```birth```属性と```print_birth()```メソッドを追加するなら"
   ]
  },
  {
   "cell_type": "code",
   "execution_count": 35,
   "metadata": {},
   "outputs": [],
   "source": [
    "class Person:\n",
    "    def __init__(self, name, birth):\n",
    "        self.name = name\n",
    "        self.birth = birth\n",
    "\n",
    "    def say_hello(self):\n",
    "        print(\"Hello, my name is\", self.name)\n",
    "    \n",
    "    def print_birth(self):\n",
    "        print(\"{} was born in {}\".format(self.name,self.birth))"
   ]
  },
  {
   "cell_type": "code",
   "execution_count": 36,
   "metadata": {},
   "outputs": [],
   "source": [
    "sato=Person(\"Sato\", 2000)"
   ]
  },
  {
   "cell_type": "code",
   "execution_count": 37,
   "metadata": {},
   "outputs": [
    {
     "name": "stdout",
     "output_type": "stream",
     "text": [
      "Marx was born in 1818\n"
     ]
    }
   ],
   "source": [
    "sato.print_birth()"
   ]
  },
  {
   "attachments": {},
   "cell_type": "markdown",
   "metadata": {},
   "source": [
    "````{tab-set}\n",
    "```{tab-item} 実習問題1\n",
    "```Personクラス```に```current_year```という属性を追加してください。　で没年を受け取って、```print_death()```メソッドを追加する。\n",
    "```\n",
    "\n",
    "```{tab-item} 実習問題2\n",
    "```Personクラス```に```age()```年齢を計算するメソッドを追加してください。\n",
    "```\n",
    "\n",
    "```{tab-item} 実習問題3\n",
    "```Personクラス```をインスタント化にしてくだい。その際、```current_year```の値として2023を受け取って、年齢を計算してください。\n",
    "```\n",
    "\n",
    "````"
   ]
  },
  {
   "attachments": {},
   "cell_type": "markdown",
   "metadata": {},
   "source": [
    "## 親クラスからの継承"
   ]
  },
  {
   "attachments": {},
   "cell_type": "markdown",
   "metadata": {},
   "source": [
    "継承は、既存のクラスをもとにして、変更部分だけを与えることにより、 新たなクラスを定義する機能です。\n",
    "\n",
    "元のクラスは親クラスまたはスーパークラス、基底クラス、新しいクラスは子またはサブクラスと呼ばれます。\n",
    "\n",
    "以下の例では、```Person```クラスをもとにして```Student```クラスを定義しています。"
   ]
  },
  {
   "cell_type": "code",
   "execution_count": 38,
   "metadata": {},
   "outputs": [],
   "source": [
    "class Student(Person):\n",
    "    pass # 何もしない"
   ]
  },
  {
   "attachments": {},
   "cell_type": "markdown",
   "metadata": {},
   "source": [
    "クラスは他のクラスを継承したものかどうかは、```issubclass()```を使えば調べられます。"
   ]
  },
  {
   "cell_type": "code",
   "execution_count": 39,
   "metadata": {},
   "outputs": [
    {
     "data": {
      "text/plain": [
       "True"
      ]
     },
     "execution_count": 39,
     "metadata": {},
     "output_type": "execute_result"
    }
   ],
   "source": [
    "issubclass(Student, Person)"
   ]
  },
  {
   "attachments": {},
   "cell_type": "markdown",
   "metadata": {},
   "source": [
    "次に、継承を使用し、新しいクラスを作成してみよう。"
   ]
  },
  {
   "cell_type": "code",
   "execution_count": 40,
   "metadata": {},
   "outputs": [],
   "source": [
    "class Student(Person):\n",
    "    def __init__(self, name, birth, number):\n",
    "        super().__init__(name, birth)\n",
    "        self.number = number\n",
    "\n",
    "    def introduce(self):\n",
    "        super().say_hello()\n",
    "        print(\"I am a student.\")"
   ]
  },
  {
   "attachments": {},
   "cell_type": "markdown",
   "metadata": {},
   "source": [
    "```Student```クラスが```Person```クラスを継承する際、```__init__```メソッドでは```super()```を使用することにより、```Person```クラスの属性```name```と```birth```を継承できます。\n",
    "\n",
    "- ```super()```が親クラスの```Person```の定義を取り出す\n",
    "- ```super().__init__()```メソッド呼び出しは、```Person.__init__()```メソッドを呼び出す\n",
    "- ```self.number```は```Person```クラスに含まれていなく、```Student```クラスに新しい属性を追加する"
   ]
  },
  {
   "attachments": {},
   "cell_type": "markdown",
   "metadata": {},
   "source": [
    "さらに、```Student```クラスには```say_hello```メソッドなど親クラスである```Person```クラスで定義されたメソッドが追加されて、```super().say_hello()```という形でを呼び出されます。"
   ]
  },
  {
   "cell_type": "code",
   "execution_count": 41,
   "metadata": {},
   "outputs": [],
   "source": [
    "john = Student(\"John\", 2000, \"S12345\")"
   ]
  },
  {
   "cell_type": "code",
   "execution_count": 42,
   "metadata": {},
   "outputs": [
    {
     "data": {
      "text/plain": [
       "'John Doe'"
      ]
     },
     "execution_count": 42,
     "metadata": {},
     "output_type": "execute_result"
    }
   ],
   "source": [
    "john.name"
   ]
  },
  {
   "cell_type": "code",
   "execution_count": 43,
   "metadata": {},
   "outputs": [
    {
     "data": {
      "text/plain": [
       "2000"
      ]
     },
     "execution_count": 43,
     "metadata": {},
     "output_type": "execute_result"
    }
   ],
   "source": [
    "john.birth"
   ]
  },
  {
   "cell_type": "code",
   "execution_count": 44,
   "metadata": {},
   "outputs": [
    {
     "data": {
      "text/plain": [
       "'S12345'"
      ]
     },
     "execution_count": 44,
     "metadata": {},
     "output_type": "execute_result"
    }
   ],
   "source": [
    "john.number"
   ]
  },
  {
   "attachments": {},
   "cell_type": "markdown",
   "metadata": {},
   "source": [
    "さらに、```Student```クラスには```say_hello```メソッドなど親クラスである```Person```クラスで定義されたメソッドが追加されて、```super().say_hello()```という形でを呼び出されます。"
   ]
  },
  {
   "cell_type": "code",
   "execution_count": 45,
   "metadata": {},
   "outputs": [
    {
     "name": "stdout",
     "output_type": "stream",
     "text": [
      "Hello, my name is John Doe\n"
     ]
    }
   ],
   "source": [
    "john.say_hello()"
   ]
  },
  {
   "cell_type": "code",
   "execution_count": 46,
   "metadata": {},
   "outputs": [
    {
     "name": "stdout",
     "output_type": "stream",
     "text": [
      "Hello, my name is John Doe\n",
      "I am a student.\n"
     ]
    }
   ],
   "source": [
    "john.introduce()"
   ]
  },
  {
   "attachments": {},
   "cell_type": "markdown",
   "metadata": {},
   "source": [
    "````{tab-set}\n",
    "```{tab-item} 実習問題1\n",
    "```Student```クラスが```Person```クラスを継承する際、```current_year```という属性も継承してくだい。\n",
    "\n",
    "```{tab-item} 実習問題2\n",
    "```Student```クラスに```print_age()```というメソッドを追加してくだい。```print_age()```は、親クラスで定義された```age()```メソッドで年齢を計算し、```{name} is {age} years old```という形でプリントしてください。例えば、名前は```sato```, 年齢は```23```の場合、```sato is 23 years old```が表示されるようにしてください。\n",
    "```\n",
    "\n",
    "````"
   ]
  },
  {
   "cell_type": "code",
   "execution_count": null,
   "metadata": {},
   "outputs": [],
   "source": []
  }
 ],
 "metadata": {
  "kernelspec": {
   "display_name": "jupyterbook",
   "language": "python",
   "name": "python3"
  },
  "language_info": {
   "codemirror_mode": {
    "name": "ipython",
    "version": 3
   },
   "file_extension": ".py",
   "mimetype": "text/x-python",
   "name": "python",
   "nbconvert_exporter": "python",
   "pygments_lexer": "ipython3",
   "version": "3.10.9"
  },
  "orig_nbformat": 4
 },
 "nbformat": 4,
 "nbformat_minor": 2
}
