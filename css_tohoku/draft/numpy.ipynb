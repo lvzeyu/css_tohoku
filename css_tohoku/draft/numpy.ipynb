{
 "cells": [
  {
   "attachments": {},
   "cell_type": "markdown",
   "metadata": {},
   "source": [
    "# NumPy"
   ]
  },
  {
   "attachments": {},
   "cell_type": "markdown",
   "metadata": {},
   "source": [
    "計算社会科学の研究は、テキスト、画像、ビデオや数値測定結果など幅広いデータセットとソースを扱っています。\n",
    "\n",
    "形式に違いがあるにも関わらず、基本的に全てのデータは数値の配列として扱うのに適しています。\n",
    "\n",
    "- テキストデータは文字のシーケンスであり、それぞれの文字には数値の表現があります（通常はUnicode）。テキスト処理や自然言語処理のために、テキストデータは数値の配列として表現されることがあります。一般的な手法には、文字を数値にエンコードする方法（例：ASCII、UTF-8）、単語や文字の出現頻度を数える方法、単語の埋め込み（Word2Vec、GloVe）などがあります。\n",
    "- 画像は、各ピクセルに対して数値の輝度や色情報が割り当てられています。カラー画像の場合、各ピクセルはRGB（赤、緑、青）の値で表され、グレースケール画像の場合は単一の輝度値で表されます。\n",
    "\n",
    "![](https://nbviewer.org/github/fastai/numerical-linear-algebra/blob/master/nbs/images/digit.gif)\n",
    "\n",
    "どのようなデータであっても、それらを分析可能にする最初のステップは、数値の配列に変換することです。\n",
    "\n",
    "このため、数値配列の効率的な格納と操作は、データ分析にとって欠かせない要素です。\n",
    "\n",
    "```NumPy```は、多次元配列や行列演算を効率的に処理する機能を提供し、科学技術計算やデータ解析に広く利用されています。"
   ]
  },
  {
   "cell_type": "code",
   "execution_count": 2,
   "metadata": {},
   "outputs": [
    {
     "name": "stdout",
     "output_type": "stream",
     "text": [
      "1.21.6\n"
     ]
    }
   ],
   "source": [
    "import numpy as np\n",
    "print(np.__version__)"
   ]
  },
  {
   "attachments": {},
   "cell_type": "markdown",
   "metadata": {},
   "source": [
    "## NumPy配列の作成"
   ]
  },
  {
   "attachments": {},
   "cell_type": "markdown",
   "metadata": {},
   "source": [
    "### Pythonリストから作る配列"
   ]
  },
  {
   "attachments": {},
   "cell_type": "markdown",
   "metadata": {},
   "source": [
    "```np.array```を使って、PythonリストからNumPy配列（```ndarray```）を作成します。"
   ]
  },
  {
   "attachments": {},
   "cell_type": "markdown",
   "metadata": {},
   "source": [
    "```{margin}\n",
    "NumPy配列とPythonの組み込みリストと似ていますが、NumPy配列はより効率的な格納とデータ操作を提供しています。\n",
    "```"
   ]
  },
  {
   "cell_type": "code",
   "execution_count": 5,
   "metadata": {},
   "outputs": [
    {
     "data": {
      "text/plain": [
       "array([1, 2, 3, 4, 5, 6])"
      ]
     },
     "execution_count": 5,
     "metadata": {},
     "output_type": "execute_result"
    }
   ],
   "source": [
    "np.array([1, 2, 3, 4, 5, 6])"
   ]
  },
  {
   "attachments": {},
   "cell_type": "markdown",
   "metadata": {},
   "source": [
    "Pythonリストとは異なり、NumPy配列の要素は全て同じ型という制約がります。作成する際、型が一致しない場合、可能であればNumPyは自動的に調整してくれます。"
   ]
  },
  {
   "cell_type": "code",
   "execution_count": 6,
   "metadata": {},
   "outputs": [
    {
     "data": {
      "text/plain": [
       "array([1.  , 2.  , 3.14, 4.  , 5.  , 6.  ])"
      ]
     },
     "execution_count": 6,
     "metadata": {},
     "output_type": "execute_result"
    }
   ],
   "source": [
    "np.array([1, 2, 3.14, 4, 5, 6]) # upcasting: all elements are converted to float"
   ]
  },
  {
   "attachments": {},
   "cell_type": "markdown",
   "metadata": {},
   "source": [
    "```dtype```キーワードで配列のデータ型を明示的に設定できます。"
   ]
  },
  {
   "cell_type": "code",
   "execution_count": 7,
   "metadata": {},
   "outputs": [
    {
     "data": {
      "text/plain": [
       "array([1., 2., 3., 4., 5., 6.], dtype=float32)"
      ]
     },
     "execution_count": 7,
     "metadata": {},
     "output_type": "execute_result"
    }
   ],
   "source": [
    "np.array([1, 2, 3, 4, 5, 6],dtype='float32') # specify data type"
   ]
  },
  {
   "attachments": {},
   "cell_type": "markdown",
   "metadata": {},
   "source": [
    "### 配列の構築"
   ]
  },
  {
   "attachments": {},
   "cell_type": "markdown",
   "metadata": {},
   "source": [
    "```NumPy```の組み込み関数で配列を作成できます。"
   ]
  },
  {
   "cell_type": "code",
   "execution_count": 8,
   "metadata": {},
   "outputs": [
    {
     "data": {
      "text/plain": [
       "array([0, 0, 0, 0, 0, 0, 0, 0, 0, 0])"
      ]
     },
     "execution_count": 8,
     "metadata": {},
     "output_type": "execute_result"
    }
   ],
   "source": [
    "np.zeros(10, dtype=int) # create an array of 10 zeros"
   ]
  },
  {
   "cell_type": "code",
   "execution_count": 9,
   "metadata": {},
   "outputs": [
    {
     "data": {
      "text/plain": [
       "array([[1., 1., 1., 1., 1.],\n",
       "       [1., 1., 1., 1., 1.],\n",
       "       [1., 1., 1., 1., 1.]])"
      ]
     },
     "execution_count": 9,
     "metadata": {},
     "output_type": "execute_result"
    }
   ],
   "source": [
    "np.ones((3, 5), dtype=float) # create a 3x5 array of floating-point ones"
   ]
  },
  {
   "cell_type": "code",
   "execution_count": 10,
   "metadata": {},
   "outputs": [
    {
     "data": {
      "text/plain": [
       "array([[3.14, 3.14, 3.14, 3.14, 3.14],\n",
       "       [3.14, 3.14, 3.14, 3.14, 3.14],\n",
       "       [3.14, 3.14, 3.14, 3.14, 3.14]])"
      ]
     },
     "execution_count": 10,
     "metadata": {},
     "output_type": "execute_result"
    }
   ],
   "source": [
    "np.full((3, 5), 3.14) # create a 3x5 array filled with 3.14"
   ]
  },
  {
   "cell_type": "code",
   "execution_count": 11,
   "metadata": {},
   "outputs": [
    {
     "data": {
      "text/plain": [
       "array([ 0,  2,  4,  6,  8, 10, 12, 14, 16, 18])"
      ]
     },
     "execution_count": 11,
     "metadata": {},
     "output_type": "execute_result"
    }
   ],
   "source": [
    "np.arange(0, 20, 2) # create an array filled with a linear sequence"
   ]
  },
  {
   "cell_type": "code",
   "execution_count": 12,
   "metadata": {},
   "outputs": [
    {
     "data": {
      "text/plain": [
       "array([0.  , 0.25, 0.5 , 0.75, 1.  ])"
      ]
     },
     "execution_count": 12,
     "metadata": {},
     "output_type": "execute_result"
    }
   ],
   "source": [
    "np.linspace(0, 1, 5) # create an array of five values evenly spaced between 0 and 1"
   ]
  },
  {
   "cell_type": "code",
   "execution_count": 8,
   "metadata": {},
   "outputs": [
    {
     "data": {
      "text/plain": [
       "array([[1., 0., 0.],\n",
       "       [0., 1., 0.],\n",
       "       [0., 0., 1.]])"
      ]
     },
     "execution_count": 8,
     "metadata": {},
     "output_type": "execute_result"
    }
   ],
   "source": [
    "np.eye(3) # create a 3x3 identity matrix"
   ]
  },
  {
   "attachments": {},
   "cell_type": "markdown",
   "metadata": {},
   "source": [
    "```NumPy```は、様々な種類の確率分布関数に基づく乱数値を生成できます。"
   ]
  },
  {
   "cell_type": "code",
   "execution_count": 13,
   "metadata": {},
   "outputs": [
    {
     "data": {
      "text/plain": [
       "array([[0.36579342, 0.76095774, 0.07205473],\n",
       "       [0.31024773, 0.00222749, 0.9856833 ],\n",
       "       [0.01970763, 0.43404357, 0.69199397]])"
      ]
     },
     "execution_count": 13,
     "metadata": {},
     "output_type": "execute_result"
    }
   ],
   "source": [
    "np.random.random((3, 3)) # create a 3x3 array of uniformly distributed random values between 0 and 1"
   ]
  },
  {
   "cell_type": "code",
   "execution_count": 14,
   "metadata": {},
   "outputs": [
    {
     "data": {
      "text/plain": [
       "array([[ 1.41254891,  1.09519349, -0.02647384],\n",
       "       [-0.56460741,  1.02713599,  0.78014369],\n",
       "       [-0.10387547, -0.32206181,  1.26381486]])"
      ]
     },
     "execution_count": 14,
     "metadata": {},
     "output_type": "execute_result"
    }
   ],
   "source": [
    "np.random.normal(0, 1, (3, 3)) # create a 3x3 array of normally distributed random values with mean 0 and standard deviation 1"
   ]
  },
  {
   "cell_type": "code",
   "execution_count": 15,
   "metadata": {},
   "outputs": [
    {
     "data": {
      "text/plain": [
       "array([[2, 6, 6],\n",
       "       [5, 8, 6],\n",
       "       [6, 4, 9]])"
      ]
     },
     "execution_count": 15,
     "metadata": {},
     "output_type": "execute_result"
    }
   ],
   "source": [
    "np.random.randint(0, 10, (3, 3)) # create a 3x3 array of random integers in the interval [0, 10)"
   ]
  },
  {
   "attachments": {},
   "cell_type": "markdown",
   "metadata": {},
   "source": [
    "```{note}\n",
    "配列作成方法の一覧は、[公式チュートリアル](https://numpy.org/doc/stable/reference/routines.array-creation.html)を参照してください。\n",
    "```"
   ]
  },
  {
   "attachments": {},
   "cell_type": "markdown",
   "metadata": {},
   "source": [
    "## NumPy配列の属性"
   ]
  },
  {
   "cell_type": "code",
   "execution_count": 96,
   "metadata": {},
   "outputs": [],
   "source": [
    "import numpy as np\n",
    "np.random.seed(0) # seed for reproducibility\n",
    "x1 = np.random.randint(10, size=6) # one-dimensional array\n",
    "x2 = np.random.randint(10, size=(3, 4)) # two-dimensional array\n",
    "x3 = np.random.randint(10, size=(3, 4, 5)) # three-dimensional array"
   ]
  },
  {
   "attachments": {},
   "cell_type": "markdown",
   "metadata": {},
   "source": [
    "NumPy配列には、ndim(次元数)、shape(各次元のサイズ)、size(配列の合計サイズ)、dtype(配列のデータ型)などの属性を持ちます。"
   ]
  },
  {
   "cell_type": "code",
   "execution_count": 97,
   "metadata": {},
   "outputs": [
    {
     "name": "stdout",
     "output_type": "stream",
     "text": [
      "x3 ndim:  3\n",
      "x3 shape: (3, 4, 5)\n",
      "x3 size:  60\n",
      "dtype: int64\n"
     ]
    }
   ],
   "source": [
    "print(\"x3 ndim: \", x3.ndim) # number of dimensions\n",
    "print(\"x3 shape:\", x3.shape) # the size of each dimension\n",
    "print(\"x3 size: \", x3.size) # total size of the array\n",
    "print(\"dtype:\", x3.dtype) # data type of the array"
   ]
  },
  {
   "attachments": {},
   "cell_type": "markdown",
   "metadata": {},
   "source": [
    "配列の形状は、```reshape()``` メソッドによって変更することができます。"
   ]
  },
  {
   "cell_type": "code",
   "execution_count": 100,
   "metadata": {},
   "outputs": [
    {
     "data": {
      "text/plain": [
       "array([5, 0, 3, 3, 7, 9])"
      ]
     },
     "execution_count": 100,
     "metadata": {},
     "output_type": "execute_result"
    }
   ],
   "source": [
    "x1"
   ]
  },
  {
   "cell_type": "code",
   "execution_count": 101,
   "metadata": {},
   "outputs": [
    {
     "data": {
      "text/plain": [
       "array([[5, 0, 3],\n",
       "       [3, 7, 9]])"
      ]
     },
     "execution_count": 101,
     "metadata": {},
     "output_type": "execute_result"
    }
   ],
   "source": [
    "x1.reshape((2, 3)) # reshape"
   ]
  },
  {
   "attachments": {},
   "cell_type": "markdown",
   "metadata": {},
   "source": [
    "## 配列のインデクス"
   ]
  },
  {
   "attachments": {},
   "cell_type": "markdown",
   "metadata": {},
   "source": [
    "１次元```ndarray```では、Pythonリストと同様に、$i$番目($0$から)の値にアクセスできます。"
   ]
  },
  {
   "cell_type": "code",
   "execution_count": 37,
   "metadata": {},
   "outputs": [],
   "source": [
    "x1= np.array([1,2,3,4,5,6,7,8,9])"
   ]
  },
  {
   "cell_type": "code",
   "execution_count": 38,
   "metadata": {},
   "outputs": [
    {
     "data": {
      "text/plain": [
       "2"
      ]
     },
     "execution_count": 38,
     "metadata": {},
     "output_type": "execute_result"
    }
   ],
   "source": [
    "x1[1]"
   ]
  },
  {
   "cell_type": "code",
   "execution_count": 39,
   "metadata": {},
   "outputs": [
    {
     "data": {
      "text/plain": [
       "array([4, 5, 6])"
      ]
     },
     "execution_count": 39,
     "metadata": {},
     "output_type": "execute_result"
    }
   ],
   "source": [
    "x1[3:6]"
   ]
  },
  {
   "attachments": {},
   "cell_type": "markdown",
   "metadata": {},
   "source": [
    "```ndarray```から切り出した一部にの値を指定することができます。\n",
    "\n",
    "Pythonのリストとは**異なって**,　```ndarray```のスライスは元の```ndarray```のビューであり、```ndarray```のコピーではないことを注意する必要があります。\n",
    "\n",
    "つまり、スライスへの変更は、元の```ndarray```に反映されます。"
   ]
  },
  {
   "cell_type": "code",
   "execution_count": 40,
   "metadata": {},
   "outputs": [
    {
     "data": {
      "text/plain": [
       "array([4, 5, 6])"
      ]
     },
     "execution_count": 40,
     "metadata": {},
     "output_type": "execute_result"
    }
   ],
   "source": [
    "x1_slice = x1[3:6]\n",
    "x1_slice"
   ]
  },
  {
   "cell_type": "code",
   "execution_count": 41,
   "metadata": {},
   "outputs": [],
   "source": [
    "x1_slice[0]=12345"
   ]
  },
  {
   "cell_type": "code",
   "execution_count": 42,
   "metadata": {},
   "outputs": [
    {
     "data": {
      "text/plain": [
       "array([    1,     2,     3, 12345,     5,     6,     7,     8,     9])"
      ]
     },
     "execution_count": 42,
     "metadata": {},
     "output_type": "execute_result"
    }
   ],
   "source": [
    "x1"
   ]
  },
  {
   "attachments": {},
   "cell_type": "markdown",
   "metadata": {},
   "source": [
    "多次元配列では、カンマで区切ったインデクスで要素にアクセスします。"
   ]
  },
  {
   "cell_type": "code",
   "execution_count": 69,
   "metadata": {},
   "outputs": [
    {
     "data": {
      "image/png": "[encoded data removed]",
      "text/plain": [
       "<Figure size 400x400 with 1 Axes>"
      ]
     },
     "metadata": {
      "image/png": {
       "height": 400,
       "width": 400
      }
     },
     "output_type": "display_data"
    }
   ],
   "source": [
    "import matplotlib.pyplot as plt\n",
    "import numpy as np\n",
    "\n",
    "# Create a 3x3 matrix\n",
    "matrix = np.arange(9).reshape(3, 3)\n",
    "\n",
    "# Set the background color for all cells\n",
    "background_color = '#E0E0E0'  # Light gray\n",
    "\n",
    "# Create a figure and axis\n",
    "fig, ax = plt.subplots()\n",
    "\n",
    "# Create a heatmap plot with the specified background color\n",
    "heatmap = ax.imshow(matrix, cmap='Blues', vmin=0, vmax=8)\n",
    "\n",
    "# Loop over each cell and add the index value as text\n",
    "for i in range(matrix.shape[0]):\n",
    "    for j in range(matrix.shape[1]):\n",
    "        ax.text(j, i, f'({i},{j})', ha='center', va='center', color='black')\n",
    "\n",
    "# Set axis labels\n",
    "ax.set_xticks(np.arange(matrix.shape[1]))\n",
    "ax.set_yticks(np.arange(matrix.shape[0]))\n",
    "ax.set_xticklabels([])\n",
    "ax.set_yticklabels([])\n",
    "ax.tick_params(length=0)\n",
    "ax.set_xlabel('axis 1')\n",
    "ax.set_ylabel('axis 0')\n",
    "\n",
    "# Set the title\n",
    "ax.set_title('Index of 3x3 Matrix')\n",
    "\n",
    "# Remove the colorbar\n",
    "plt.colorbar(heatmap).remove()\n",
    "\n",
    "# Show the plot\n",
    "plt.show()"
   ]
  },
  {
   "cell_type": "code",
   "execution_count": 77,
   "metadata": {},
   "outputs": [],
   "source": [
    "x2= np.array([[1,2,3],[4,5,6],[7,8,9]])"
   ]
  },
  {
   "cell_type": "code",
   "execution_count": 78,
   "metadata": {},
   "outputs": [
    {
     "data": {
      "text/plain": [
       "5"
      ]
     },
     "execution_count": 78,
     "metadata": {},
     "output_type": "execute_result"
    }
   ],
   "source": [
    "x2[1,1]"
   ]
  },
  {
   "cell_type": "code",
   "execution_count": 79,
   "metadata": {},
   "outputs": [
    {
     "data": {
      "text/plain": [
       "6"
      ]
     },
     "execution_count": 79,
     "metadata": {},
     "output_type": "execute_result"
    }
   ],
   "source": [
    "x2[1,-1]"
   ]
  },
  {
   "attachments": {},
   "cell_type": "markdown",
   "metadata": {},
   "source": [
    "インデクスを指定し、要素の値を変更するもできます。"
   ]
  },
  {
   "cell_type": "code",
   "execution_count": 80,
   "metadata": {},
   "outputs": [],
   "source": [
    "x2[1,-1]=12"
   ]
  },
  {
   "cell_type": "code",
   "execution_count": 81,
   "metadata": {},
   "outputs": [
    {
     "data": {
      "text/plain": [
       "array([[ 1,  2,  3],\n",
       "       [ 4,  5, 12],\n",
       "       [ 7,  8,  9]])"
      ]
     },
     "execution_count": 81,
     "metadata": {},
     "output_type": "execute_result"
    }
   ],
   "source": [
    "x2"
   ]
  },
  {
   "attachments": {},
   "cell_type": "markdown",
   "metadata": {},
   "source": [
    "```ndarray```における、比較演算子もベクトル演算子として定義されていますので、真偽値配列をインデックス参照として渡すことができます。"
   ]
  },
  {
   "cell_type": "code",
   "execution_count": 82,
   "metadata": {},
   "outputs": [
    {
     "data": {
      "text/plain": [
       "array([[False, False, False],\n",
       "       [False, False,  True],\n",
       "       [False, False, False]])"
      ]
     },
     "execution_count": 82,
     "metadata": {},
     "output_type": "execute_result"
    }
   ],
   "source": [
    "x2>10"
   ]
  },
  {
   "cell_type": "code",
   "execution_count": 83,
   "metadata": {},
   "outputs": [
    {
     "data": {
      "text/plain": [
       "array([[  1,   2,   3],\n",
       "       [  4,   5, 100],\n",
       "       [  7,   8,   9]])"
      ]
     },
     "execution_count": 83,
     "metadata": {},
     "output_type": "execute_result"
    }
   ],
   "source": [
    "x2[x2>10]=100\n",
    "x2"
   ]
  },
  {
   "attachments": {},
   "cell_type": "markdown",
   "metadata": {},
   "source": [
    "## 数学演算"
   ]
  },
  {
   "attachments": {},
   "cell_type": "markdown",
   "metadata": {},
   "source": [
    "### 配列の算術演算"
   ]
  },
  {
   "attachments": {},
   "cell_type": "markdown",
   "metadata": {},
   "source": [
    "```NumPy```はベクトル演算の機能を提供しています。\n",
    "\n",
    "- 同じサイズの```ndarray```同士の算術演算は、同位置の要素同士で計算されます。"
   ]
  },
  {
   "cell_type": "code",
   "execution_count": 19,
   "metadata": {},
   "outputs": [
    {
     "data": {
      "text/plain": [
       "array([[1, 2, 3],\n",
       "       [4, 5, 6]])"
      ]
     },
     "execution_count": 19,
     "metadata": {},
     "output_type": "execute_result"
    }
   ],
   "source": [
    "arr=np.array([[1,2,3],[4,5,6]])\n",
    "arr"
   ]
  },
  {
   "cell_type": "code",
   "execution_count": 20,
   "metadata": {},
   "outputs": [
    {
     "data": {
      "text/plain": [
       "array([[ 1,  4,  9],\n",
       "       [16, 25, 36]])"
      ]
     },
     "execution_count": 20,
     "metadata": {},
     "output_type": "execute_result"
    }
   ],
   "source": [
    "arr*arr"
   ]
  },
  {
   "cell_type": "code",
   "execution_count": 21,
   "metadata": {},
   "outputs": [
    {
     "data": {
      "text/plain": [
       "array([[ 2,  4,  6],\n",
       "       [ 8, 10, 12]])"
      ]
     },
     "execution_count": 21,
     "metadata": {},
     "output_type": "execute_result"
    }
   ],
   "source": [
    "arr+arr"
   ]
  },
  {
   "cell_type": "code",
   "execution_count": 22,
   "metadata": {},
   "outputs": [
    {
     "data": {
      "text/plain": [
       "array([[0, 0, 0],\n",
       "       [0, 0, 0]])"
      ]
     },
     "execution_count": 22,
     "metadata": {},
     "output_type": "execute_result"
    }
   ],
   "source": [
    "arr-arr"
   ]
  },
  {
   "attachments": {},
   "cell_type": "markdown",
   "metadata": {},
   "source": [
    "- スカラーと```ndarray```との算術演算の場合、要素ごとに計算されます。"
   ]
  },
  {
   "cell_type": "code",
   "execution_count": 23,
   "metadata": {},
   "outputs": [
    {
     "data": {
      "text/plain": [
       "array([[1.        , 0.5       , 0.33333333],\n",
       "       [0.25      , 0.2       , 0.16666667]])"
      ]
     },
     "execution_count": 23,
     "metadata": {},
     "output_type": "execute_result"
    }
   ],
   "source": [
    "1/arr"
   ]
  },
  {
   "cell_type": "code",
   "execution_count": 24,
   "metadata": {},
   "outputs": [
    {
     "data": {
      "text/plain": [
       "array([[1.        , 1.41421356, 1.73205081],\n",
       "       [2.        , 2.23606798, 2.44948974]])"
      ]
     },
     "execution_count": 24,
     "metadata": {},
     "output_type": "execute_result"
    }
   ],
   "source": [
    "arr**0.5"
   ]
  },
  {
   "attachments": {},
   "cell_type": "markdown",
   "metadata": {},
   "source": [
    "## ユニバーサル関数: すべての要素への関数適用\n",
    "\n",
    "ユニバーサル関数は、NumPy配列の各要素に対して要素ごとの演算を行うための関数です。これにより、繰り返し処理を書く必要なく、高速かつ効率的な計算が可能になります。\n",
    "\n",
    "例えば、```sqrt```(平方根)```exp```（指数）を計算する:"
   ]
  },
  {
   "cell_type": "code",
   "execution_count": 84,
   "metadata": {},
   "outputs": [
    {
     "data": {
      "text/plain": [
       "array([0, 1, 2, 3, 4, 5, 6, 7, 8, 9])"
      ]
     },
     "execution_count": 84,
     "metadata": {},
     "output_type": "execute_result"
    }
   ],
   "source": [
    "arr= np.arange(10)\n",
    "arr"
   ]
  },
  {
   "cell_type": "code",
   "execution_count": 85,
   "metadata": {},
   "outputs": [
    {
     "data": {
      "text/plain": [
       "array([0.        , 1.        , 1.41421356, 1.73205081, 2.        ,\n",
       "       2.23606798, 2.44948974, 2.64575131, 2.82842712, 3.        ])"
      ]
     },
     "execution_count": 85,
     "metadata": {},
     "output_type": "execute_result"
    }
   ],
   "source": [
    "np.sqrt(arr)"
   ]
  },
  {
   "cell_type": "code",
   "execution_count": 86,
   "metadata": {},
   "outputs": [
    {
     "data": {
      "text/plain": [
       "array([1.00000000e+00, 2.71828183e+00, 7.38905610e+00, 2.00855369e+01,\n",
       "       5.45981500e+01, 1.48413159e+02, 4.03428793e+02, 1.09663316e+03,\n",
       "       2.98095799e+03, 8.10308393e+03])"
      ]
     },
     "execution_count": 86,
     "metadata": {},
     "output_type": "execute_result"
    }
   ],
   "source": [
    "np.exp(arr)"
   ]
  },
  {
   "attachments": {},
   "cell_type": "markdown",
   "metadata": {},
   "source": [
    "このような引数に一つの```ndarray```を取ることから単項ufuncと呼ばれます。一方、複数な```ndarray```を引数として受け取る関数もあります。"
   ]
  },
  {
   "cell_type": "code",
   "execution_count": 88,
   "metadata": {},
   "outputs": [
    {
     "data": {
      "text/plain": [
       "array([3, 7, 5, 5, 0, 1])"
      ]
     },
     "execution_count": 88,
     "metadata": {},
     "output_type": "execute_result"
    }
   ],
   "source": [
    "x1= np.random.randint(10, size=6)\n",
    "x1"
   ]
  },
  {
   "cell_type": "code",
   "execution_count": 89,
   "metadata": {},
   "outputs": [
    {
     "data": {
      "text/plain": [
       "array([5, 9, 3, 0, 5, 0])"
      ]
     },
     "execution_count": 89,
     "metadata": {},
     "output_type": "execute_result"
    }
   ],
   "source": [
    "x2= np.random.randint(10, size=6)\n",
    "x2"
   ]
  },
  {
   "cell_type": "code",
   "execution_count": 90,
   "metadata": {},
   "outputs": [
    {
     "data": {
      "text/plain": [
       "array([5, 9, 5, 5, 5, 1])"
      ]
     },
     "execution_count": 90,
     "metadata": {},
     "output_type": "execute_result"
    }
   ],
   "source": [
    "np.maximum(x1,x2)"
   ]
  },
  {
   "attachments": {},
   "cell_type": "markdown",
   "metadata": {},
   "source": [
    "| 関数名                 | 説明                                        |\n",
    "|----------------------|-------------------------------------------|\n",
    "| `numpy.abs(x)`        | 配列の各要素の絶対値を計算します。                    |\n",
    "| `numpy.sqrt(x)`       | 配列の各要素の平方根を計算します。                    |\n",
    "| `numpy.exp(x)`        | 配列の各要素の指数関数を計算します。                    |\n",
    "| `numpy.log(x)`        | 配列の各要素の自然対数を計算します。                    |\n",
    "| `numpy.sin(x)`        | 配列の各要素の正弦を計算します。                       |\n",
    "| `numpy.cos(x)`        | 配列の各要素の余弦を計算します。                       |\n",
    "| `numpy.add(x1, x2)`   | 2つの配列の要素ごとの加算を行います。                  |\n",
    "| `numpy.subtract(x1, x2)` | 2つの配列の要素ごとの減算を行います。                  |\n",
    "| `numpy.multiply(x1, x2)` | 2つの配列の要素ごとの乗算を行います。                  |\n",
    "| `numpy.divide(x1, x2)`   | 2つの配列の要素ごとの除算を行います。                  |\n",
    "| `numpy.power(x1, x2)`    | 2つの配列の要素ごとのべき乗を計算します。               |\n"
   ]
  },
  {
   "attachments": {},
   "cell_type": "markdown",
   "metadata": {},
   "source": [
    "```{note}\n",
    "[公式ドキュメンタリー](https://numpy.org/doc/stable/reference/ufuncs.html#)でユニバーサル関数一覧を確認できます。\n",
    "```"
   ]
  },
  {
   "attachments": {},
   "cell_type": "markdown",
   "metadata": {},
   "source": [
    "````{tab-set}\n",
    "```{tab-item} 実習問題\n",
    "与えられた二つのサイズが (5,2) の配列の各要素は、二次元空間での位置を表しています。二つの配列における同じ行である要素で表示する点間のユークリッド距離を計算してください。\n",
    "```\n",
    "````"
   ]
  },
  {
   "cell_type": "code",
   "execution_count": 93,
   "metadata": {},
   "outputs": [],
   "source": [
    "array1 = np.array([[1, 2],\n",
    "                   [0, 4],\n",
    "                   [5, 6],\n",
    "                   [-2,2],\n",
    "                   [3, 6]])\n",
    "\n",
    "array2 = np.array([[6, 3],\n",
    "                   [7, 0],\n",
    "                   [5, 5],\n",
    "                   [9, 1],\n",
    "                   [5, 6]])"
   ]
  },
  {
   "attachments": {},
   "cell_type": "markdown",
   "metadata": {},
   "source": [
    "### 統計関数\n",
    "\n",
    "NumPyの統計関数は、```ndarray```配列全体、あるいは特定の軸を中心とした統計処理を提供します。\n",
    "\n",
    "いくつかの統計値を計算してみましょう。"
   ]
  },
  {
   "cell_type": "code",
   "execution_count": 105,
   "metadata": {},
   "outputs": [
    {
     "data": {
      "text/plain": [
       "array([[ 0,  1,  2,  3],\n",
       "       [ 4,  5,  6,  7],\n",
       "       [ 8,  9, 10, 11],\n",
       "       [12, 13, 14, 15],\n",
       "       [16, 17, 18, 19]])"
      ]
     },
     "execution_count": 105,
     "metadata": {},
     "output_type": "execute_result"
    }
   ],
   "source": [
    "arr=np.arange(20).reshape(5,4)\n",
    "arr"
   ]
  },
  {
   "cell_type": "code",
   "execution_count": 106,
   "metadata": {},
   "outputs": [
    {
     "data": {
      "text/plain": [
       "9.5"
      ]
     },
     "execution_count": 106,
     "metadata": {},
     "output_type": "execute_result"
    }
   ],
   "source": [
    "arr.mean()"
   ]
  },
  {
   "cell_type": "code",
   "execution_count": 107,
   "metadata": {},
   "outputs": [
    {
     "data": {
      "text/plain": [
       "190"
      ]
     },
     "execution_count": 107,
     "metadata": {},
     "output_type": "execute_result"
    }
   ],
   "source": [
    "arr.sum()"
   ]
  },
  {
   "attachments": {},
   "cell_type": "markdown",
   "metadata": {},
   "source": [
    "```mean()```や```sum```はどの軸を中心に処理することを引数```axis```で指定することができます。\n",
    "- ```axis=0```は列ごとの計算\n",
    "- ```axis=1```は行ごとの計算"
   ]
  },
  {
   "cell_type": "code",
   "execution_count": 109,
   "metadata": {},
   "outputs": [
    {
     "data": {
      "text/plain": [
       "array([ 8.,  9., 10., 11.])"
      ]
     },
     "execution_count": 109,
     "metadata": {},
     "output_type": "execute_result"
    }
   ],
   "source": [
    "arr.mean(axis=0)"
   ]
  },
  {
   "cell_type": "code",
   "execution_count": 110,
   "metadata": {},
   "outputs": [
    {
     "data": {
      "text/plain": [
       "array([ 6, 22, 38, 54, 70])"
      ]
     },
     "execution_count": 110,
     "metadata": {},
     "output_type": "execute_result"
    }
   ],
   "source": [
    "arr.sum(axis=1)"
   ]
  },
  {
   "attachments": {},
   "cell_type": "markdown",
   "metadata": {},
   "source": [
    "| 関数名                    | 説明                                               |\n",
    "|------------------------|--------------------------------------------------|\n",
    "| `numpy.mean(x)`         | 配列の平均値を計算します。                                |\n",
    "| `numpy.median(x)`       | 配列の中央値を計算します。                                |\n",
    "| `numpy.min(x)`          | 配列の最小値を取得します。                                |\n",
    "| `numpy.max(x)`          | 配列の最大値を取得します。                                |\n",
    "| `numpy.sum(x)`          | 配列の要素の合計値を計算します。                            |\n",
    "| `numpy.prod(x)`         | 配列の要素の積を計算します。                               |\n",
    "| `numpy.std(x)`          | 配列の標準偏差を計算します。                               |\n",
    "| `numpy.var(x)`          | 配列の分散を計算します。                                 |\n",
    "| `numpy.percentile(x, q)` | 配列のパーセンタイル値を計算します。                           |"
   ]
  },
  {
   "attachments": {},
   "cell_type": "markdown",
   "metadata": {},
   "source": [
    "````{tab-set}\n",
    "```{tab-item} 実習問題\n",
    "- 平均5、標準偏差1の正規分布に従う乱数を生成してください。\n",
    "- 生成された配列の平均と標準偏差を計算しよう。\n",
    "```\n",
    "````"
   ]
  },
  {
   "attachments": {},
   "cell_type": "markdown",
   "metadata": {},
   "source": [
    "## 行列計算\n",
    "\n",
    "NumPyは、高度な行列計算を効率的に行うための多くの機能を提供しています。"
   ]
  },
  {
   "attachments": {},
   "cell_type": "markdown",
   "metadata": {},
   "source": [
    "NumPyで内積(ドット積)を計算するために関数```dot```を提供します。\n",
    "\n",
    "```{margin}\n",
    "MATLABなどの言語で*を内積として用いますが、NumPyでは対応する要素ごとを掛け合わせることを意味します。\n",
    "```"
   ]
  },
  {
   "cell_type": "code",
   "execution_count": 112,
   "metadata": {},
   "outputs": [],
   "source": [
    "x= np.array([[1,2,3],\n",
    "             [4,5,6]])\n",
    "y= np.array([[6,23],\n",
    "             [-1,7],\n",
    "             [8,9]])"
   ]
  },
  {
   "cell_type": "code",
   "execution_count": 113,
   "metadata": {},
   "outputs": [
    {
     "data": {
      "text/plain": [
       "array([[ 28,  64],\n",
       "       [ 67, 181]])"
      ]
     },
     "execution_count": 113,
     "metadata": {},
     "output_type": "execute_result"
    }
   ],
   "source": [
    "x.dot(y)"
   ]
  },
  {
   "cell_type": "code",
   "execution_count": 114,
   "metadata": {},
   "outputs": [
    {
     "data": {
      "text/plain": [
       "array([[ 28,  64],\n",
       "       [ 67, 181]])"
      ]
     },
     "execution_count": 114,
     "metadata": {},
     "output_type": "execute_result"
    }
   ],
   "source": [
    "np.dot(x,y)"
   ]
  },
  {
   "attachments": {},
   "cell_type": "markdown",
   "metadata": {},
   "source": [
    "標準的な行列の分解、逆、行列式の計算といった機能は[```numpy.linalg```](https://numpy.org/doc/stable/reference/routines.linalg.html)モジュールで提供されています。"
   ]
  },
  {
   "cell_type": "code",
   "execution_count": 126,
   "metadata": {},
   "outputs": [
    {
     "data": {
      "text/plain": [
       "array([[ 1.00000000e+00,  0.00000000e+00,  7.10542736e-15],\n",
       "       [ 1.42108547e-14,  1.00000000e+00,  0.00000000e+00],\n",
       "       [ 0.00000000e+00, -3.55271368e-15,  1.00000000e+00]])"
      ]
     },
     "execution_count": 126,
     "metadata": {},
     "output_type": "execute_result"
    }
   ],
   "source": [
    "from numpy.linalg import inv, qr\n",
    "\n",
    "x= np.array([[1,2,3],\n",
    "             [6,4,9],\n",
    "             [1,12,5]])\n",
    "mat= x.T.dot(x)\n",
    "mat.dot(inv(mat))"
   ]
  },
  {
   "cell_type": "code",
   "execution_count": 128,
   "metadata": {},
   "outputs": [
    {
     "name": "stdout",
     "output_type": "stream",
     "text": [
      "The dot product is equal to the identity matrix.\n"
     ]
    }
   ],
   "source": [
    "# Create the identity matrix\n",
    "identity_matrix = np.eye(mat.shape[0])\n",
    "\n",
    "# Check if the dot product is close to the identity matrix\n",
    "if np.allclose(mat.dot(inv(mat)), identity_matrix):\n",
    "    print(\"The dot product is equal to the identity matrix.\")\n",
    "else:\n",
    "    print(\"The dot product is not equal to the identity matrix.\")"
   ]
  },
  {
   "attachments": {},
   "cell_type": "markdown",
   "metadata": {},
   "source": [
    "```{margin}\n",
    "NumPyの内積計算において、数学的な演算結果と完全に一致しない場合が生じる可能性があるのは、数値計算における丸め誤差（round-off error）と呼ばれる現象が関係しています。NumPyは浮動小数点数を使用して数値計算を行います。浮動小数点数は有限のビット数で実数を表現するため、厳密な実数値を表現できない場合があります。内積計算では、浮動小数点数の丸め誤差が蓄積されることで、数学的な期待値と微小な差異が生じることがあります。これは浮動小数点数の精度限界によるものであり、NumPyに限らず他のプログラミング言語や数値計算ライブラリでも同様の現象が見られます。\n",
    "```"
   ]
  },
  {
   "attachments": {},
   "cell_type": "markdown",
   "metadata": {},
   "source": [
    "| 関数名                          | 説明                                                                |\n",
    "|--------------------------------|-------------------------------------------------------------------|\n",
    "| `numpy.linalg.inv()`           | 行列の逆行列を計算します。                                                      |\n",
    "| `numpy.linalg.det()`           | 行列の行列式を計算します。                                                      |\n",
    "| `numpy.linalg.eig()`           | 行列の固有値と固有ベクトルを計算します。                                               |\n",
    "| `numpy.linalg.solve()`         | 線形方程式を解きます。                                                         |\n",
    "| `numpy.linalg.lstsq()`         | 最小二乗法を用いて線形方程式を解きます。                                               |\n",
    "| `numpy.linalg.qr()`            | 行列のQR分解を計算します。                                                       |\n",
    "| `numpy.linalg.svd()`           | 特異値分解（SVD）を計算します。                                                     |\n",
    "| `numpy.linalg.matrix_power()`  | 行列のべき乗を計算します。                                                       |\n",
    "| `numpy.linalg.norm()`          | ベクトルまたは行列のノルムを計算します。                                          |\n",
    "| `numpy.linalg.inv()`           | 行列の逆行列を計算します。                                                      |\n",
    "| `numpy.linalg.matrix_rank()`   | 行列のランクを計算します。                                                      |"
   ]
  },
  {
   "attachments": {},
   "cell_type": "markdown",
   "metadata": {},
   "source": [
    "````{tab-set}\n",
    "```{tab-item} 実習問題\n",
    "特定のベクトル($v$)を他のベクトル($u$)に射影する結果を計算しよう。\n",
    "```\n",
    "````"
   ]
  },
  {
   "attachments": {},
   "cell_type": "markdown",
   "metadata": {},
   "source": [
    "<details><summary>ヒント</summary>\n",
    "射影の公式は以下になります：\n",
    "\n",
    "$$\n",
    "\\text{Proj}(\\mathbf{v}) = \\frac{\\mathbf{v} \\cdot \\mathbf{u}}{\\|\\mathbf{u}\\|^2} \\cdot \\mathbf{u}\n",
    "$$\n",
    "</details>"
   ]
  },
  {
   "attachments": {},
   "cell_type": "markdown",
   "metadata": {},
   "source": [
    "```{margin}\n",
    "NumPyでは、次元が一致しない場合でも自動的に配列のサイズを調整して内積計算を行います。\n",
    "```"
   ]
  },
  {
   "attachments": {},
   "cell_type": "markdown",
   "metadata": {},
   "source": [
    "## NumPyの応用例:線型回帰モデル"
   ]
  },
  {
   "attachments": {},
   "cell_type": "markdown",
   "metadata": {},
   "source": [
    "### 単回帰モデル"
   ]
  },
  {
   "attachments": {},
   "cell_type": "markdown",
   "metadata": {},
   "source": [
    "$n$個のデータ$(x_1,y_1),...(x_n,y_n)$が観測され、各$y_i$が\n",
    "\n",
    "$$\n",
    "y_i=\\alpha +\\beta x_i+u_i,\\ i=1,...,n\n",
    "$$\n",
    "\n",
    "が得られます。"
   ]
  },
  {
   "attachments": {},
   "cell_type": "markdown",
   "metadata": {},
   "source": [
    "### 最小二乗法\n",
    "\n",
    "最小二乗法の目標は、与えられたデータセットに対して予測された値（モデルの出力）と実際の値（データセットの出力）の差を最小化することである。\n",
    "\n",
    "$$\n",
    "h(\\alpha,\\beta)= \\sum_{i=1}^n (y_i-\\alpha-\\beta x_i)^2\n",
    "$$\n"
   ]
  },
  {
   "attachments": {},
   "cell_type": "markdown",
   "metadata": {},
   "source": [
    "$E[h(\\alpha,\\beta)]=0$から,母集団における$\\alpha$と$\\beta$を求めるが、これはあくまでも母集団の概念である。実際に持っているのは母集団に対応する標本であって、母集団そのもののは手に入りません。\n",
    "\n",
    "$$\n",
    "\\frac{1}{n} \\sum_{i=1}^n (y_i-\\hat{\\alpha}-\\hat{\\beta}x_i)=0\n",
    "$$\n",
    "\n",
    "データから得られる推定値を$\\hat{\\alpha}, \\hat{\\beta}$で定義する。\n",
    "\n",
    "$$\n",
    "\\frac{1}{n} \\sum_{i=1}^n (y_i-\\hat{\\alpha}-\\hat{\\beta}x_i)\n",
    "\\\\\n",
    "=\\frac{1}{n} \\sum_{i=1}^n (y_i)-\\frac{1}{n} \\sum_{i=1}^n \\hat{\\alpha}- \\frac{1}{n} \\sum_{i=1}^n \\hat{\\beta}x_i \n",
    "\\\\\n",
    "=\\frac{1}{n} \\sum_{i=1}^n (y_i)- \\hat{\\alpha}- \\hat{\\beta} \\frac{1}{n} \\sum_{i=1}^n x_i\n",
    "\\\\\n",
    "= \\bar{y} - \\hat{\\alpha} - \\hat{\\beta}\\bar{x}\n",
    "$$"
   ]
  },
  {
   "attachments": {},
   "cell_type": "markdown",
   "metadata": {},
   "source": [
    "ここで、$\\bar{y}$は標本平均と呼ぶ。この式を切片について書き直すと、\n",
    "\n",
    "$$\\hat{\\alpha}　= \\bar{y}  - \\hat{\\beta}\\bar{x}$$"
   ]
  },
  {
   "attachments": {},
   "cell_type": "markdown",
   "metadata": {},
   "source": [
    "この式を条件付き期待値ゼロ仮定　$E(u|x)=0$ より、\n",
    "\n",
    "$$\n",
    "\\frac{1}{n} \\sum_{i=1}^n x_i(y_i-\\hat{\\alpha}-\\hat{\\beta}x_i)=0\n",
    "$$\n",
    "\n",
    "に代入すると"
   ]
  },
  {
   "attachments": {},
   "cell_type": "markdown",
   "metadata": {},
   "source": [
    "$$\n",
    "\\sum_{i=1}^n x_i(y_i-(\\bar{y}  - \\hat{\\beta}\\bar{x})-\\hat{\\beta}x_i)=0\n",
    "$$\n",
    "\n",
    "$$\n",
    "\\sum_{i=1}^n x_i(y_i-\\bar{y})=\\hat{\\beta} \\sum_{i=1}^n x_i(\\bar{x}-x_i)\n",
    "$$"
   ]
  },
  {
   "attachments": {},
   "cell_type": "markdown",
   "metadata": {},
   "source": [
    "ここで、\n",
    "\n",
    "$$\n",
    "\\sum_{i=1}^n (x_i-\\bar{x})(y_i-\\bar{y}) = \\sum_{i=1}^n x_i(y_i-\\bar{y}) = \\sum_{i=1}^n y_i(x_i-\\bar{x})\n",
    "$$\n",
    "\n",
    "$$\n",
    "\\sum_{i=1}^n (x_i-\\bar{x})^2 = \\sum_{i=1}^n x_i^2-n(\\bar{x})^2\n",
    "$$\n",
    "\n",
    "のため"
   ]
  },
  {
   "attachments": {},
   "cell_type": "markdown",
   "metadata": {},
   "source": [
    "この式から$\\hat{\\beta}$を解くと、\n",
    "\n",
    "$$\n",
    "\\hat{\\beta}=\\frac{\\sum_{i=1}^n (x_i-\\bar{x})(y_i-\\bar{y})}{\\sum_{i=1}^n (x_i-\\bar{x})^2}=\\frac{標本共分散(x_i,y_i)}{標本分散(x_i)}\n",
    "\n",
    "$$\n",
    "そして、$ \\hat{\\alpha} $も得られる\n",
    "\n",
    "$$\n",
    "\\hat{\\alpha}=\\hat{y}-\\hat{\\beta}\\bar{x}\n",
    "$$"
   ]
  },
  {
   "attachments": {},
   "cell_type": "markdown",
   "metadata": {},
   "source": [
    "任意の推定値$\\hat{\\alpha},\\hat{\\beta}$に関して、$i$に関する当てはめる値(fitted value)を\n",
    "\n",
    "$$\n",
    "\\hat{y_i}=\\hat{\\alpha} +\\hat{\\beta} x_i\n",
    "\n",
    "$$\n",
    "と定義する。\n",
    "\n",
    "回帰直線と観測値との差\n",
    "\n",
    "$$\n",
    "\\hat{u_i}=y_i-\\hat{y_i}\n",
    "$$\n",
    "\n",
    "を残差(residual)といいます。\n",
    "\n",
    "残差の二乗の和をとったもの\n",
    "\n",
    "$$\n",
    "RSS=\\sum_{i=1}^n \\hat{u_i}^2\n",
    "$$\n",
    "\n",
    "を残差平方和(residual sum of squares, RSS)といいます。"
   ]
  },
  {
   "attachments": {},
   "cell_type": "markdown",
   "metadata": {},
   "source": [
    "ここで、残差平方和を最小にするような$\\hat{\\alpha}$と$\\hat{\\beta}$を選びます。"
   ]
  },
  {
   "cell_type": "code",
   "execution_count": 3,
   "metadata": {},
   "outputs": [],
   "source": [
    "import numpy as np\n",
    "\n",
    "# サンプルデータ\n",
    "# パラメータ\n",
    "beta_0 = 2.5  # 切片\n",
    "beta_1 = 0.8  # 傾き\n",
    "n = 100  # データ数\n",
    "\n",
    "# 説明変数を一様分布から生成\n",
    "x = np.random.uniform(low=0, high=10, size=n)\n",
    "\n",
    "# ノイズ項を標準正規分布から生成\n",
    "epsilon = np.random.normal(loc=0, scale=1, size=n)\n",
    "\n",
    "# 目的変数を生成\n",
    "y = beta_0 + beta_1 * x + epsilon"
   ]
  },
  {
   "cell_type": "code",
   "execution_count": 4,
   "metadata": {},
   "outputs": [
    {
     "name": "stdout",
     "output_type": "stream",
     "text": [
      "beta:  0.8088329848403857\n",
      "alpha:  2.2939837952691526\n"
     ]
    }
   ],
   "source": [
    "# パラメータの推定\n",
    "x_mean = np.mean(x)\n",
    "y_mean = np.mean(y)\n",
    "\n",
    "# β₁の推定\n",
    "numerator = np.sum((x - x_mean) * (y - y_mean))\n",
    "denominator = np.sum((x - x_mean) ** 2)\n",
    "beta = numerator / denominator\n",
    "print(\"beta: \", beta)\n",
    "# β₀の推定\n",
    "alpha = y_mean - beta * x_mean\n",
    "\n",
    "print(\"alpha: \", alpha)"
   ]
  },
  {
   "cell_type": "code",
   "execution_count": 5,
   "metadata": {},
   "outputs": [
    {
     "name": "stdout",
     "output_type": "stream",
     "text": [
      "残差の合計: -3.064215547965432e-14\n"
     ]
    }
   ],
   "source": [
    "# 予測値の計算\n",
    "y_pred = alpha + beta * x\n",
    "\n",
    "# 残差の計算\n",
    "residuals = y - y_pred\n",
    "\n",
    "# 残差の合計の確認\n",
    "residual_sum = np.sum(residuals)\n",
    "\n",
    "print(\"残差の合計:\", residual_sum)"
   ]
  },
  {
   "cell_type": "code",
   "execution_count": 6,
   "metadata": {},
   "outputs": [
    {
     "data": {
      "image/png": "[encoded data removed]",
      "text/plain": [
       "Figure(nrows=1, ncols=1, refwidth=4.0)"
      ]
     },
     "metadata": {
      "image/png": {
       "height": 468,
       "width": 459
      }
     },
     "output_type": "display_data"
    }
   ],
   "source": [
    "{\n",
    "    \"tags\": [\n",
    "        \"hide-cell\"\n",
    "    ]\n",
    "}\n",
    "import numpy as np\n",
    "import proplot as plt\n",
    "\n",
    "\n",
    "# Creating a figure and axes\n",
    "fig, ax = plt.subplots(refwidth=4)\n",
    "\n",
    "# Scatter plot of the data points\n",
    "ax.scatter(x, y, color='blue', label='Data Points',alpha=0.6)\n",
    "\n",
    "# Regression line\n",
    "x_line = np.linspace(0, 10, 100)\n",
    "y_line = beta_0 + beta_1 * x_line\n",
    "ax.plot(x_line, y_line, color='red', label='Regression Line')\n",
    "\n",
    "# Vertical lines and residuals\n",
    "for i in range(n):\n",
    "    x_i = x[i]\n",
    "    y_i = y[i]\n",
    "    y_pred_i = beta_0 + beta_1 * x_i\n",
    "    ax.vlines(x_i, y_i, y_pred_i, color='gray', linestyle='dotted')\n",
    "\n",
    "# Plot settings\n",
    "ax.format(xlabel='x', ylabel='y', title='Linear Regression')\n",
    "ax.legend(loc=\"lower right\")\n",
    "\n",
    "# Display the plot\n",
    "plt.show()"
   ]
  },
  {
   "attachments": {},
   "cell_type": "markdown",
   "metadata": {},
   "source": [
    "### 重回帰モデル"
   ]
  },
  {
   "attachments": {},
   "cell_type": "markdown",
   "metadata": {},
   "source": [
    "$k$個の説明変数$x_1,...,x_k$が考えられ、$y$との間に\n",
    "\n",
    "$$\n",
    "y_j=\\beta_0+\\beta_1 x_{1j}+...+\\beta_k x_{kj}+ u_j\n",
    "$$\n",
    "\n",
    "なる線型関係が想定されます。これを重回帰モデルといいます。\n",
    "\n",
    "$\\beta_1,....,\\beta_k$は偏回帰係数(partial regression coefficient)と呼びます。\n",
    "\n",
    "重回帰モデルを行列を用いて\n",
    "\n",
    "$$\n",
    "\\begin{bmatrix} y_1 \\\\ y_2 \\\\ \\vdots \\\\ y_n \\end{bmatrix}= \\begin{bmatrix} \n",
    "1 & x_{11} & x_{12} & \\ldots & x_{1k} \\\\\n",
    "1 & x_{21} & x_{22} & \\ldots & x_{2k} \\\\\n",
    "\\vdots & \\vdots & \\vdots & \\ddots & \\vdots \\\\\n",
    "1 & x_{n1} & x_{n2} & \\ldots & x_{nk} \\\\\n",
    "\\end{bmatrix} \\begin{bmatrix} \\beta_0 \\\\ \\beta_1 \\\\ \\beta_2 \\\\ \\vdots \\\\ \\beta_p \\end{bmatrix}+\\begin{bmatrix} u_1 \\\\ u_2 \\\\ \\vdots \\\\ u_n \\end{bmatrix}\n",
    "$$\n",
    "\n",
    "と表されます。それぞれの対応するベクトル及び行列とおくと、\n",
    "\n",
    "$$\n",
    "\\mathbf{y} =\\mathbf{X} \\mathbf{\\beta}+\\mathbf{u}\n",
    "$$"
   ]
  },
  {
   "attachments": {},
   "cell_type": "markdown",
   "metadata": {},
   "source": [
    "ここで、誤差$\\mathbf{u}$について、\n",
    "- 不偏性: $E(\\mathbf{u})=0$\n",
    "- 等分散性、無相関性: 平均ベクトル$E(\\mathbf{u})=0$年、$Cov(\\mathbf{u})=E[\\mathbf{u} \\mathbf{u}^T]=\\sigma^2 \\mathbf{I}$と仮定する"
   ]
  },
  {
   "attachments": {},
   "cell_type": "markdown",
   "metadata": {},
   "source": [
    "回帰係数ベクトル$\\mathbf{\\beta}$の最小二乗推定量は、\n",
    "\n",
    "$$\n",
    "h(\\mathbf{\\beta})=\\sum_{j=1}^n [y_j-(\\beta_0+\\beta_{1}x_{1j}+... +\\beta_k x_{kj})]^2\n",
    "$$\n",
    "\n",
    "を最小化することより得られる。\n",
    "\n",
    "この式を行列を用いて表すと、\n",
    "\n",
    "$$\n",
    "h(\\mathbf{\\beta})=(\\mathbf{y}-\\mathbf{X}\\mathbf{\\beta})^T(\\mathbf{y}-\\mathbf{X}\\mathbf{\\beta})\n",
    "$$\n"
   ]
  },
  {
   "attachments": {},
   "cell_type": "markdown",
   "metadata": {},
   "source": [
    "$min\\ h(\\mathbf{\\beta})$という最小化問題を解くために、\n",
    "\n",
    "$$\n",
    "\\frac{\\partial}{\\partial\\beta} (y - X\\beta)^T(y - X\\beta) = \\frac{\\partial}{\\partial\\beta} (Y^TY - 2\\beta^TX^TY + \\beta^TX^TX\\beta)= -2X^T y + 2X^T X\\beta = 0\n",
    "$$\n",
    "\n",
    "を得ることができます。ここで、$X^T X\\beta=X^T Y$のため、\n",
    "\n",
    "$$\n",
    "X^TX\\beta = X^TY\n",
    "$$\n",
    "\n",
    "$\\mathbf{X}$はフル・ランクであるとすると、$X^TX$の逆行列が存在しますので、\n",
    "\n",
    "$$\n",
    "\\beta = (X^TX)^{-1}X^TY\n",
    "$$"
   ]
  },
  {
   "cell_type": "code",
   "execution_count": null,
   "metadata": {},
   "outputs": [],
   "source": []
  }
 ],
 "metadata": {
  "kernelspec": {
   "display_name": "base",
   "language": "python",
   "name": "python3"
  },
  "language_info": {
   "codemirror_mode": {
    "name": "ipython",
    "version": 3
   },
   "file_extension": ".py",
   "mimetype": "text/x-python",
   "name": "python",
   "nbconvert_exporter": "python",
   "pygments_lexer": "ipython3",
   "version": "3.9.7"
  },
  "orig_nbformat": 4
 },
 "nbformat": 4,
 "nbformat_minor": 2
}
