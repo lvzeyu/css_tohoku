{
 "cells": [
  {
   "attachments": {},
   "cell_type": "markdown",
   "metadata": {},
   "source": [
    "# Pythonの基礎"
   ]
  },
  {
   "attachments": {},
   "cell_type": "markdown",
   "metadata": {},
   "source": [
    "## オブジェクト\n",
    "\n",
    "Pythonにおいて**すべての数、文字列、データ構造、関数、クラス、モジュールがオブジェクト**です。初心者にとってやや理解しにくいかもしれませんが、ここではさしあたり、オブジェクトのイメージを簡単に説明します。"
   ]
  },
  {
   "attachments": {},
   "cell_type": "markdown",
   "metadata": {},
   "source": [
    "# 変数\n",
    "\n",
    "## 変数の命名\n",
    "\n",
    "Pythonで変数を定義できます。変数とは、プログラムで使いたいメモリ上の値に名前を付けたものです。\n",
    "Pythonで変数の作成は、いくつかのルールがあります。\n",
    "\n",
    "- 大文字と小文字を区別する：chss, Chss, CHSSはすべて異なる名前です。\n",
    "- 先頭で数字は使えないです。例えば、```1a```は無効な変数名です。\n",
    "- Pythonの予約語を避けます。"
   ]
  },
  {
   "cell_type": "code",
   "execution_count": 9,
   "metadata": {},
   "outputs": [
    {
     "name": "stdout",
     "output_type": "stream",
     "text": [
      "\n",
      "Here is a list of the Python keywords.  Enter any keyword to get more help.\n",
      "\n",
      "False               break               for                 not\n",
      "None                class               from                or\n",
      "True                continue            global              pass\n",
      "__peg_parser__      def                 if                  raise\n",
      "and                 del                 import              return\n",
      "as                  elif                in                  try\n",
      "assert              else                is                  while\n",
      "async               except              lambda              with\n",
      "await               finally             nonlocal            yield\n",
      "\n"
     ]
    }
   ],
   "source": [
    "# 予約語の一覧を表示\n",
    "help(\"keywords\")"
   ]
  },
  {
   "attachments": {},
   "cell_type": "markdown",
   "metadata": {},
   "source": [
    "```{note}\n",
    "強制ではないですが、可読性を向上するために、できるだけ推奨される変数の命名規則にしたがった方が良いです。\n",
    "<table class=\"table2\">\n",
    "    <thead>\n",
    "<tr>\n",
    "<th style=\"text-align: center\">対象</th>\n",
    "<th style=\"text-align: center\">ルール</th>\n",
    "<th style=\"text-align: center\">例</th>\n",
    "</tr>\n",
    "</thead>\n",
    "<tbody>\n",
    "<tr>\n",
    "<td style=\"text-align: center\">パッケージ</td>\n",
    "<td style=\"text-align: center\">全小文字 なるべく短くアンダースコア非推奨</td>\n",
    "<td style=\"text-align: center\">tqdm, requests ...</td>\n",
    "</tr>\n",
    "<tr>\n",
    "<td style=\"text-align: center\">モジュール</td>\n",
    "<td style=\"text-align: center\">全小文字 なるべく短くアンダースコア可</td>\n",
    "<td style=\"text-align: center\">sys, os,...</td>\n",
    "</tr>\n",
    "<tr>\n",
    "<td style=\"text-align: center\">クラス</td>\n",
    "<td style=\"text-align: center\">最初大文字 + 大文字区切り</td>\n",
    "<td style=\"text-align: center\">MyFavoriteClass</td>\n",
    "</tr>\n",
    "<tr>\n",
    "<td style=\"text-align: center\">例外</td>\n",
    "<td style=\"text-align: center\">最初大文字 + 大文字区切り</td>\n",
    "<td style=\"text-align: center\">MyFuckingError</td>\n",
    "</tr>\n",
    "<tr>\n",
    "<td style=\"text-align: center\">型変数</td>\n",
    "<td style=\"text-align: center\">最初大文字 + 大文字区切り</td>\n",
    "<td style=\"text-align: center\">MyFavoriteType</td>\n",
    "</tr>\n",
    "<tr>\n",
    "<td style=\"text-align: center\">メソッド</td>\n",
    "<td style=\"text-align: center\">全小文字 + アンダースコア区切り</td>\n",
    "<td style=\"text-align: center\">my_favorite_method</td>\n",
    "</tr>\n",
    "<tr>\n",
    "<td style=\"text-align: center\">関数</td>\n",
    "<td style=\"text-align: center\">全小文字 + アンダースコア区切り</td>\n",
    "<td style=\"text-align: center\">my_favorite_funcion</td>\n",
    "</tr>\n",
    "<tr>\n",
    "<td style=\"text-align: center\">変数</td>\n",
    "<td style=\"text-align: center\">全小文字 + アンダースコア区切り</td>\n",
    "<td style=\"text-align: center\">my_favorite_instance</td>\n",
    "</tr>\n",
    "<tr>\n",
    "<td style=\"text-align: center\">定数</td>\n",
    "<td style=\"text-align: center\">\n",
    "<strong>全大文字</strong> + アンダースコア区切り</td>\n",
    "<td style=\"text-align: center\">MY_FAVORITE_CONST</td>\n",
    "</tr>\n",
    "</tbody>\n",
    "</table>\n",
    "```"
   ]
  },
  {
   "attachments": {},
   "cell_type": "markdown",
   "metadata": {},
   "source": [
    "## 代入"
   ]
  },
  {
   "attachments": {},
   "cell_type": "markdown",
   "metadata": {},
   "source": [
    "```=```を使って変数に値を代入する。"
   ]
  },
  {
   "cell_type": "code",
   "execution_count": 19,
   "metadata": {},
   "outputs": [
    {
     "name": "stdout",
     "output_type": "stream",
     "text": [
      "5\n",
      "10\n"
     ]
    }
   ],
   "source": [
    "a=5\n",
    "print(a)\n",
    "print(a+5)"
   ]
  },
  {
   "attachments": {},
   "cell_type": "markdown",
   "metadata": {},
   "source": [
    "`````{admonition} Advanced\n",
    ":class: important\n",
    "多くのプログラミング言語では、変数自体が型を持ち、メモリ位置が固定されているが、Pythonの場合、**変数はただの名前です**。\n",
    "```{figure} ./Figure/immutable.png\n",
    "---\n",
    "scale: 50%\n",
    "align: left\n",
    "---\n",
    "```\n",
    "つまり、代入は値をコピーするわけではない、**データを入れてあるオブジェクトに名前を付けるだけです**。名前はものの**参照手段**であり、もの自体ではないです。\n",
    "\n",
    "変数の代入は、メモリ内のどこかにあるオブジェクトに長いヒモで繋がるというイメージです。そのため、静的言語では変数の型を指定しなければないが、Pythonでは型を指定する必要はありません。\n",
    "\n",
    "```{figure} ./Figure/immutable2.png\n",
    "---\n",
    "scale: 40%\n",
    "align: left\n",
    "---\n",
    "```\n",
    "\n",
    "```{figure} ./Figure/immutable3.png\n",
    "---\n",
    "scale: 40%\n",
    "align: right\n",
    "---\n",
    "```\n",
    "`````"
   ]
  },
  {
   "cell_type": "code",
   "execution_count": 21,
   "metadata": {},
   "outputs": [
    {
     "name": "stdout",
     "output_type": "stream",
     "text": [
      "a:140698431187376,b:140698431187376,5:140698431187376\n"
     ]
    }
   ],
   "source": [
    "#新たに生成したように見えるbは同じ値を指しているので、変数も値そのものもIDは同じになります。\n",
    "a=5\n",
    "b=5\n",
    "print(\"a:{},b:{},5:{}\".format(id(a),id(b),id(5)))"
   ]
  },
  {
   "attachments": {},
   "cell_type": "markdown",
   "metadata": {},
   "source": [
    "# データ型\n",
    "\n",
    "## 数値"
   ]
  },
  {
   "attachments": {},
   "cell_type": "markdown",
   "metadata": {},
   "source": [
    "### ブール値\n",
    "\n",
    "Pythonでは、bool型の値は```True```と```False```の2種類です。**条件式**や**論理演算**でよく使われます。\n",
    "\n",
    "組込み関数```bool()``` は、オブジェクトや演算式等を真理値判定に基づいて、任意のPythonデータ型を```bool```に変換できます。"
   ]
  },
  {
   "attachments": {},
   "cell_type": "markdown",
   "metadata": {},
   "source": [
    "```{note}\n",
    "**関数**の詳細については今後の授業で学びますので、さしあたり今は、関数に引数を渡すと、その値に応じた何らかの処理結果を返すということを知っておけば良いです。\n",
    "```"
   ]
  },
  {
   "attachments": {},
   "cell_type": "markdown",
   "metadata": {},
   "source": [
    "- $0$ではない数値は```True```と見されます。"
   ]
  },
  {
   "cell_type": "code",
   "execution_count": 22,
   "metadata": {},
   "outputs": [
    {
     "data": {
      "text/plain": [
       "True"
      ]
     },
     "execution_count": 22,
     "metadata": {},
     "output_type": "execute_result"
    }
   ],
   "source": [
    "bool(10)"
   ]
  },
  {
   "cell_type": "markdown",
   "metadata": {},
   "source": [
    "- $0$は```False```と見されます。"
   ]
  },
  {
   "cell_type": "code",
   "execution_count": 24,
   "metadata": {},
   "outputs": [
    {
     "data": {
      "text/plain": [
       "False"
      ]
     },
     "execution_count": 24,
     "metadata": {},
     "output_type": "execute_result"
    }
   ],
   "source": [
    "bool(0)"
   ]
  },
  {
   "cell_type": "markdown",
   "metadata": {},
   "source": []
  }
 ],
 "metadata": {
  "kernelspec": {
   "display_name": "base",
   "language": "python",
   "name": "python3"
  },
  "language_info": {
   "codemirror_mode": {
    "name": "ipython",
    "version": 3
   },
   "file_extension": ".py",
   "mimetype": "text/x-python",
   "name": "python",
   "nbconvert_exporter": "python",
   "pygments_lexer": "ipython3",
   "version": "3.9.7"
  },
  "orig_nbformat": 4
 },
 "nbformat": 4,
 "nbformat_minor": 2
}
