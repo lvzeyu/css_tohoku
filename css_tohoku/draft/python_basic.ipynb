{
 "cells": [
  {
   "attachments": {},
   "cell_type": "markdown",
   "metadata": {},
   "source": [
    "# Pythonの基礎"
   ]
  },
  {
   "attachments": {},
   "cell_type": "markdown",
   "metadata": {},
   "source": [
    "## オブジェクト\n",
    "\n",
    "Pythonにおいて**すべての数、文字列、データ構造、関数、クラス、モジュールがオブジェクト**です。初心者にとってやや理解しにくいかもしれませんが、ここではさしあたり、オブジェクトのイメージを簡単に説明します。"
   ]
  },
  {
   "attachments": {},
   "cell_type": "markdown",
   "metadata": {},
   "source": [
    "# 変数\n",
    "\n",
    "## 変数の命名\n",
    "\n",
    "Pythonで変数を定義できます。変数とは、プログラムで使いたいメモリ上の値に名前を付けたものです。\n",
    "Pythonで変数の作成は、いくつかのルールがあります。\n",
    "\n",
    "- 大文字と小文字を区別する：```chss```,```Chss```, ```CHSS```はすべて異なる名前です。\n",
    "- 先頭で数字は使えないです。例えば、```1a```は無効な変数名です。\n",
    "- Pythonの予約語を避けます。"
   ]
  },
  {
   "cell_type": "code",
   "execution_count": 9,
   "metadata": {},
   "outputs": [
    {
     "name": "stdout",
     "output_type": "stream",
     "text": [
      "\n",
      "Here is a list of the Python keywords.  Enter any keyword to get more help.\n",
      "\n",
      "False               break               for                 not\n",
      "None                class               from                or\n",
      "True                continue            global              pass\n",
      "__peg_parser__      def                 if                  raise\n",
      "and                 del                 import              return\n",
      "as                  elif                in                  try\n",
      "assert              else                is                  while\n",
      "async               except              lambda              with\n",
      "await               finally             nonlocal            yield\n",
      "\n"
     ]
    }
   ],
   "source": [
    "# 予約語の一覧を表示\n",
    "help(\"keywords\")"
   ]
  },
  {
   "attachments": {},
   "cell_type": "markdown",
   "metadata": {},
   "source": [
    "```{note}\n",
    "強制ではないですが、可読性を向上するために、できるだけ推奨される変数の命名規則にしたがった方が良いです。\n",
    "<table class=\"table2\">\n",
    "    <thead>\n",
    "<tr>\n",
    "<th style=\"text-align: center\">対象</th>\n",
    "<th style=\"text-align: center\">ルール</th>\n",
    "<th style=\"text-align: center\">例</th>\n",
    "</tr>\n",
    "</thead>\n",
    "<tbody>\n",
    "<tr>\n",
    "<td style=\"text-align: center\">パッケージ</td>\n",
    "<td style=\"text-align: center\">全小文字 なるべく短くアンダースコア非推奨</td>\n",
    "<td style=\"text-align: center\">tqdm, requests ...</td>\n",
    "</tr>\n",
    "<tr>\n",
    "<td style=\"text-align: center\">モジュール</td>\n",
    "<td style=\"text-align: center\">全小文字 なるべく短くアンダースコア可</td>\n",
    "<td style=\"text-align: center\">sys, os,...</td>\n",
    "</tr>\n",
    "<tr>\n",
    "<td style=\"text-align: center\">クラス</td>\n",
    "<td style=\"text-align: center\">最初大文字 + 大文字区切り</td>\n",
    "<td style=\"text-align: center\">MyFavoriteClass</td>\n",
    "</tr>\n",
    "<tr>\n",
    "<td style=\"text-align: center\">例外</td>\n",
    "<td style=\"text-align: center\">最初大文字 + 大文字区切り</td>\n",
    "<td style=\"text-align: center\">MyFuckingError</td>\n",
    "</tr>\n",
    "<tr>\n",
    "<td style=\"text-align: center\">型変数</td>\n",
    "<td style=\"text-align: center\">最初大文字 + 大文字区切り</td>\n",
    "<td style=\"text-align: center\">MyFavoriteType</td>\n",
    "</tr>\n",
    "<tr>\n",
    "<td style=\"text-align: center\">メソッド</td>\n",
    "<td style=\"text-align: center\">全小文字 + アンダースコア区切り</td>\n",
    "<td style=\"text-align: center\">my_favorite_method</td>\n",
    "</tr>\n",
    "<tr>\n",
    "<td style=\"text-align: center\">関数</td>\n",
    "<td style=\"text-align: center\">全小文字 + アンダースコア区切り</td>\n",
    "<td style=\"text-align: center\">my_favorite_funcion</td>\n",
    "</tr>\n",
    "<tr>\n",
    "<td style=\"text-align: center\">変数</td>\n",
    "<td style=\"text-align: center\">全小文字 + アンダースコア区切り</td>\n",
    "<td style=\"text-align: center\">my_favorite_instance</td>\n",
    "</tr>\n",
    "<tr>\n",
    "<td style=\"text-align: center\">定数</td>\n",
    "<td style=\"text-align: center\">\n",
    "<strong>全大文字</strong> + アンダースコア区切り</td>\n",
    "<td style=\"text-align: center\">MY_FAVORITE_CONST</td>\n",
    "</tr>\n",
    "</tbody>\n",
    "</table>\n",
    "```"
   ]
  },
  {
   "attachments": {},
   "cell_type": "markdown",
   "metadata": {},
   "source": [
    "## 代入"
   ]
  },
  {
   "attachments": {},
   "cell_type": "markdown",
   "metadata": {},
   "source": [
    "```=```を使って変数に値を代入する。"
   ]
  },
  {
   "cell_type": "code",
   "execution_count": 19,
   "metadata": {},
   "outputs": [
    {
     "name": "stdout",
     "output_type": "stream",
     "text": [
      "5\n",
      "10\n"
     ]
    }
   ],
   "source": [
    "a=5\n",
    "print(a)\n",
    "print(a+5)"
   ]
  },
  {
   "attachments": {},
   "cell_type": "markdown",
   "metadata": {},
   "source": [
    "`````{admonition} Advanced\n",
    ":class: important\n",
    "多くのプログラミング言語では、変数自体が型を持ち、メモリ位置が固定されているが、Pythonの場合、**変数はただの名前です**。\n",
    "```{figure} ./Figure/immutable.png\n",
    "---\n",
    "scale: 50%\n",
    "align: left\n",
    "---\n",
    "```\n",
    "つまり、代入は値をコピーするわけではない、**データを入れてあるオブジェクトに名前を付けるだけです**。名前はものの**参照手段**であり、もの自体ではないです。\n",
    "\n",
    "変数の代入は、メモリ内のどこかにあるオブジェクトに長いヒモで繋がるというイメージです。そのため、```C```や```JAVA```のような静的言語では変数の型を明確的に指定しなければないが、Pythonでは型を指定する必要はありません。\n",
    "\n",
    "```{figure} ./Figure/immutable2.png\n",
    "---\n",
    "scale: 40%\n",
    "align: left\n",
    "---\n",
    "```\n",
    "\n",
    "```{figure} ./Figure/immutable3.png\n",
    "---\n",
    "scale: 40%\n",
    "align: right\n",
    "---\n",
    "```\n",
    "`````"
   ]
  },
  {
   "cell_type": "code",
   "execution_count": 21,
   "metadata": {},
   "outputs": [
    {
     "name": "stdout",
     "output_type": "stream",
     "text": [
      "a:140698431187376,b:140698431187376,5:140698431187376\n"
     ]
    }
   ],
   "source": [
    "#新たに生成したように見えるbは同じ値を指しているので、変数も値そのものもIDは同じになります。\n",
    "a=5\n",
    "b=5\n",
    "print(\"a:{},b:{},5:{}\".format(id(a),id(b),id(5)))"
   ]
  },
  {
   "attachments": {},
   "cell_type": "markdown",
   "metadata": {},
   "source": [
    "# データ型\n",
    "\n",
    "## 数値"
   ]
  },
  {
   "attachments": {},
   "cell_type": "markdown",
   "metadata": {},
   "source": [
    "### ブール値\n",
    "\n",
    "Pythonでは、bool型の値は```True```と```False```の2種類です。**条件式**や**論理演算**でよく使われます。\n",
    "\n",
    "組込み関数```bool()``` は、オブジェクトや演算式等を真理値判定に基づいて、任意のPythonデータ型を```bool```に変換できます。"
   ]
  },
  {
   "attachments": {},
   "cell_type": "markdown",
   "metadata": {},
   "source": [
    "```{note}\n",
    "**関数**の詳細については今後の授業で学びますので、さしあたり今は、関数に引数を渡すと、その値に応じた何らかの処理結果を返すということを知っておけば良いです。\n",
    "```"
   ]
  },
  {
   "attachments": {},
   "cell_type": "markdown",
   "metadata": {},
   "source": [
    "- $0$ではない数値は```True```と見されます。"
   ]
  },
  {
   "cell_type": "code",
   "execution_count": 22,
   "metadata": {},
   "outputs": [
    {
     "data": {
      "text/plain": [
       "True"
      ]
     },
     "execution_count": 22,
     "metadata": {},
     "output_type": "execute_result"
    }
   ],
   "source": [
    "bool(10)"
   ]
  },
  {
   "cell_type": "markdown",
   "metadata": {},
   "source": [
    "- $0$は```False```と見されます。"
   ]
  },
  {
   "cell_type": "code",
   "execution_count": 24,
   "metadata": {},
   "outputs": [
    {
     "data": {
      "text/plain": [
       "False"
      ]
     },
     "execution_count": 24,
     "metadata": {},
     "output_type": "execute_result"
    }
   ],
   "source": [
    "bool(0)"
   ]
  },
  {
   "attachments": {},
   "cell_type": "markdown",
   "metadata": {},
   "source": [
    "### 整数\n",
    "整数は、小数点以下がなく数値です。"
   ]
  },
  {
   "cell_type": "code",
   "execution_count": 1,
   "metadata": {},
   "outputs": [
    {
     "data": {
      "text/plain": [
       "123"
      ]
     },
     "execution_count": 1,
     "metadata": {},
     "output_type": "execute_result"
    }
   ],
   "source": [
    "123"
   ]
  },
  {
   "cell_type": "code",
   "execution_count": 2,
   "metadata": {},
   "outputs": [
    {
     "data": {
      "text/plain": [
       "-123"
      ]
     },
     "execution_count": 2,
     "metadata": {},
     "output_type": "execute_result"
    }
   ],
   "source": [
    "-123"
   ]
  },
  {
   "attachments": {},
   "cell_type": "markdown",
   "metadata": {},
   "source": [
    "大きな数値のセパレータとしてアンダースコア(```_```)を使えます。"
   ]
  },
  {
   "attachments": {},
   "cell_type": "markdown",
   "metadata": {},
   "source": [
    "```{margin}\n",
    "整数の先頭に$0b$,$0o$,$0x$がつくのは、通常の10進数以外の基数であることを指します。\n",
    "```"
   ]
  },
  {
   "cell_type": "code",
   "execution_count": 3,
   "metadata": {},
   "outputs": [
    {
     "data": {
      "text/plain": [
       "1000000"
      ]
     },
     "execution_count": 3,
     "metadata": {},
     "output_type": "execute_result"
    }
   ],
   "source": [
    "1_000_000"
   ]
  },
  {
   "attachments": {},
   "cell_type": "markdown",
   "metadata": {},
   "source": [
    "Pythonでは数値の計算もできます。数学演算子は表のように定義されています。\n",
    "\n",
    "演算の優先順位は通常の数学と同様に定義されています。通常の数学と同様に、()を使えば、演算の順番を決めることもできます。\n",
    "<table class=\"table2\">\n",
    "    <thead>\n",
    "        <tr><th>演算子</th><th>演算</th><th>例</th></tr>\n",
    "    </thead>\n",
    "    <tbody>  \n",
    "        <tr><td>+</td><td>加算</td><td>a + b</td></tr>\n",
    "        <tr><td>-</td><td>減算</td><td>a - b</td></tr>\n",
    "        <tr><td>*</td><td>乗算</td><td>a * b</td></tr> \n",
    "        <tr><td>/</td><td>除算</td><td>a / b</td></tr> \n",
    "        <tr><td>%</td><td>剰余</td><td>a % b</td></tr>\n",
    "        <tr><td>//</td><td>切り捨て除算</td><td>a // b</td></tr>\n",
    "        <tr><td>**</td><td>べき乗</td><td>a ** b</td></tr>\n",
    "    </tbody>\n",
    "</table>\n",
    "\n",
    "少し馴染みのない演算子のは、\n",
    "- 演算子 ```//``` は小数部を切り捨てた整数値（商）を返します。\n",
    "- 演算子 ```%```は整数除算の余り（剰余）を返します。"
   ]
  },
  {
   "cell_type": "code",
   "execution_count": 9,
   "metadata": {},
   "outputs": [
    {
     "data": {
      "text/plain": [
       "2"
      ]
     },
     "execution_count": 9,
     "metadata": {},
     "output_type": "execute_result"
    }
   ],
   "source": [
    "13//5"
   ]
  },
  {
   "cell_type": "code",
   "execution_count": 10,
   "metadata": {},
   "outputs": [
    {
     "data": {
      "text/plain": [
       "3"
      ]
     },
     "execution_count": 10,
     "metadata": {},
     "output_type": "execute_result"
    }
   ],
   "source": [
    "13%5"
   ]
  },
  {
   "attachments": {},
   "cell_type": "markdown",
   "metadata": {},
   "source": [
    "### 浮動小数点数\n",
    "\n",
    "Pythonでは、整数と小数点のある数（実数）は浮動小数点数といいます。\n",
    "\n",
    "ここで注意する必要があるのは、整数と実数が数学的に同じ数を表す場合でも、コンピュータの中で異なる形式で記憶されますので、表示は異なります。 "
   ]
  },
  {
   "cell_type": "code",
   "execution_count": 18,
   "metadata": {},
   "outputs": [
    {
     "data": {
      "text/plain": [
       "5.0"
      ]
     },
     "execution_count": 18,
     "metadata": {},
     "output_type": "execute_result"
    }
   ],
   "source": [
    "5."
   ]
  },
  {
   "cell_type": "code",
   "execution_count": 19,
   "metadata": {},
   "outputs": [
    {
     "data": {
      "text/plain": [
       "5.0"
      ]
     },
     "execution_count": 19,
     "metadata": {},
     "output_type": "execute_result"
    }
   ],
   "source": [
    "5.0"
   ]
  },
  {
   "attachments": {},
   "cell_type": "markdown",
   "metadata": {},
   "source": [
    "浮動小数点数は文字```e```の後ろに$10$進の桁数を入れて指定することもできます。"
   ]
  },
  {
   "cell_type": "code",
   "execution_count": 20,
   "metadata": {},
   "outputs": [
    {
     "data": {
      "text/plain": [
       "500.0"
      ]
     },
     "execution_count": 20,
     "metadata": {},
     "output_type": "execute_result"
    }
   ],
   "source": [
    "5e2"
   ]
  },
  {
   "attachments": {},
   "cell_type": "markdown",
   "metadata": {},
   "source": [
    "ここで注意する必要があるのは、整数と実数が数学的に同じ数を表す場合でも、コンピュータの中で異なる形式で記憶されますので、表示は異なります。 \n",
    "```{margin}\n",
    "プログラムの中で扱う変数には様々な\"型\"(```type```)があります。変数の型は```type()```という関数を使うことで調べることができる。\n",
    "```"
   ]
  },
  {
   "cell_type": "code",
   "execution_count": 17,
   "metadata": {},
   "outputs": [
    {
     "name": "stdout",
     "output_type": "stream",
     "text": [
      "<class 'float'>\n",
      "<class 'int'>\n"
     ]
    }
   ],
   "source": [
    "print(type(5.0))\n",
    "print(type(5))"
   ]
  },
  {
   "attachments": {},
   "cell_type": "markdown",
   "metadata": {},
   "source": [
    "浮動小数点数も算術演算子を使えます。\n",
    "\n",
    "また、整数と実数が混ざって計算も可能です。ただ、その場合、結果は実数になります。"
   ]
  },
  {
   "cell_type": "code",
   "execution_count": 22,
   "metadata": {},
   "outputs": [
    {
     "data": {
      "text/plain": [
       "7.0"
      ]
     },
     "execution_count": 22,
     "metadata": {},
     "output_type": "execute_result"
    }
   ],
   "source": [
    "2+5.0"
   ]
  },
  {
   "attachments": {},
   "cell_type": "markdown",
   "metadata": {},
   "source": [
    "```int()```関数で、浮動小数点数を整数に変換できます。"
   ]
  },
  {
   "cell_type": "code",
   "execution_count": 24,
   "metadata": {},
   "outputs": [
    {
     "data": {
      "text/plain": [
       "98"
      ]
     },
     "execution_count": 24,
     "metadata": {},
     "output_type": "execute_result"
    }
   ],
   "source": [
    "int(98.5)"
   ]
  },
  {
   "attachments": {},
   "cell_type": "markdown",
   "metadata": {},
   "source": [
    "```float()```関数で、整数を浮動小数点数に変換できます。"
   ]
  },
  {
   "cell_type": "code",
   "execution_count": 33,
   "metadata": {},
   "outputs": [
    {
     "data": {
      "text/plain": [
       "98.0"
      ]
     },
     "execution_count": 33,
     "metadata": {},
     "output_type": "execute_result"
    }
   ],
   "source": [
    "float(98)"
   ]
  },
  {
   "attachments": {},
   "cell_type": "markdown",
   "metadata": {},
   "source": [
    "````{tab-set}\n",
    "```{tab-item} 練習問題1\n",
    "一日は何秒だを計算してみよう。\n",
    "```\n",
    "\n",
    "```{tab-item} 練習問題2\n",
    "$1$年$365$日といいますが、厳密的に言えば、$1$年を$366$日とする閏年を$400$年間に$97$回設けることによって、$1$年の平均日数を$365.2425$日とする。\n",
    "\n",
    "今度は一年は何分何秒かを計算しよう。一年$=()$分$()$秒で回答してください。\n",
    "```\n",
    "````"
   ]
  },
  {
   "cell_type": "code",
   "execution_count": null,
   "metadata": {},
   "outputs": [],
   "source": []
  },
  {
   "attachments": {},
   "cell_type": "markdown",
   "metadata": {},
   "source": [
    "### 文字列\n",
    "\n",
    "文字列は数値とは異なるデータ型の一つで、文字通り文字を扱います。\n",
    "\n",
    "#### 作成\n",
    "\n",
    "文字列は、**シーケンス**型という広義の型に属しています。シーケンス型とは順番のある要素の集まりを指します。インデックスで要素を指定して取り出すことができます。インデックスは$R$などとは違い、$1$ではなく、$0$から始まります。例えば、\n",
    "- ```0:3```とすると、$0$から$2$までの要素を取り出します。\n",
    "- ```1:```とすると$1$以降のすべての要素を取り出します。"
   ]
  },
  {
   "attachments": {},
   "cell_type": "markdown",
   "metadata": {},
   "source": [
    "文字列は、 クォートで文字を囲んで作ります。"
   ]
  },
  {
   "cell_type": "code",
   "execution_count": 51,
   "metadata": {},
   "outputs": [
    {
     "name": "stdout",
     "output_type": "stream",
     "text": [
      "Hello!\n"
     ]
    }
   ],
   "source": [
    "text=\"Hello!\"\n",
    "print(text)"
   ]
  },
  {
   "cell_type": "code",
   "execution_count": 58,
   "metadata": {},
   "outputs": [
    {
     "name": "stdout",
     "output_type": "stream",
     "text": [
      "Hello!\n"
     ]
    }
   ],
   "source": [
    "text='Hello!'\n",
    "print(text)"
   ]
  },
  {
   "cell_type": "code",
   "execution_count": 52,
   "metadata": {},
   "outputs": [
    {
     "data": {
      "text/plain": [
       "'\"ダブル\" クォートを埋め込むことができます'"
      ]
     },
     "execution_count": 52,
     "metadata": {},
     "output_type": "execute_result"
    }
   ],
   "source": [
    "'\"ダブル\" クォートを埋め込むことができます'"
   ]
  },
  {
   "cell_type": "code",
   "execution_count": 53,
   "metadata": {},
   "outputs": [
    {
     "data": {
      "text/plain": [
       "\"'シングル' クォートを埋め込むことができます\""
      ]
     },
     "execution_count": 53,
     "metadata": {},
     "output_type": "execute_result"
    }
   ],
   "source": [
    "\"'シングル' クォートを埋め込むことができます\""
   ]
  },
  {
   "cell_type": "code",
   "execution_count": 57,
   "metadata": {},
   "outputs": [
    {
     "data": {
      "text/plain": [
       "'三つのシングルクォート'"
      ]
     },
     "execution_count": 57,
     "metadata": {},
     "output_type": "execute_result"
    }
   ],
   "source": [
    "'''三つのシングルクォート'''"
   ]
  },
  {
   "cell_type": "code",
   "execution_count": 47,
   "metadata": {},
   "outputs": [],
   "source": [
    "text='Hello!'"
   ]
  },
  {
   "attachments": {},
   "cell_type": "markdown",
   "metadata": {},
   "source": [
    "特定の文字の前にバックスラッシュをつけると、その文字を特殊な意味として扱うことができます。もっともよく使われるのは改行を意味する```\\n```です。\n",
    "\n",
    "```{margin}\n",
    "Pythonには、小数の特殊なタイプの文字列があり、それらは最初クォートの前に文字を付けて示す。例えば、先頭が```r```の*raw文字列*では、 文字内の```\\n``` は改行を表すエスケープシーケンスをエスケープシーケンスとして解釈されないようにする。特に説明しない限り、ここで取り上げるのは普通のUnicode文字列です。\n",
    "```"
   ]
  },
  {
   "cell_type": "code",
   "execution_count": 48,
   "metadata": {},
   "outputs": [
    {
     "name": "stdout",
     "output_type": "stream",
     "text": [
      "Hello\n",
      "World\n"
     ]
    }
   ],
   "source": [
    "print(\"Hello\\nWorld\")"
   ]
  },
  {
   "attachments": {},
   "cell_type": "markdown",
   "metadata": {},
   "source": [
    "#### $+$による連結"
   ]
  },
  {
   "cell_type": "code",
   "execution_count": 42,
   "metadata": {},
   "outputs": [
    {
     "data": {
      "text/plain": [
       "'HelloWorld'"
      ]
     },
     "execution_count": 42,
     "metadata": {},
     "output_type": "execute_result"
    }
   ],
   "source": [
    "\"Hello\"+\"World\""
   ]
  },
  {
   "attachments": {},
   "cell_type": "markdown",
   "metadata": {},
   "source": [
    "#### $*$による繰り返し"
   ]
  },
  {
   "cell_type": "code",
   "execution_count": 43,
   "metadata": {},
   "outputs": [
    {
     "data": {
      "text/plain": [
       "'HelloHelloHello'"
      ]
     },
     "execution_count": 43,
     "metadata": {},
     "output_type": "execute_result"
    }
   ],
   "source": [
    "\"Hello\"*3"
   ]
  },
  {
   "cell_type": "markdown",
   "metadata": {},
   "source": []
  }
 ],
 "metadata": {
  "kernelspec": {
   "display_name": "Python 3",
   "language": "python",
   "name": "python3"
  },
  "language_info": {
   "codemirror_mode": {
    "name": "ipython",
    "version": 3
   },
   "file_extension": ".py",
   "mimetype": "text/x-python",
   "name": "python",
   "nbconvert_exporter": "python",
   "pygments_lexer": "ipython3",
   "version": "3.10.6"
  },
  "orig_nbformat": 4,
  "vscode": {
   "interpreter": {
    "hash": "31f2aee4e71d21fbe5cf8b01ff0e069b9275f58929596ceb00d14d90e3e16cd6"
   }
  }
 },
 "nbformat": 4,
 "nbformat_minor": 2
}
