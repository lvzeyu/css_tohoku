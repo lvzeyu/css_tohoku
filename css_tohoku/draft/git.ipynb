{
 "cells": [
  {
   "attachments": {},
   "cell_type": "markdown",
   "metadata": {},
   "source": [
    "# GitとGitHub\n",
    "\n",
    "## 紹介\n",
    "\n",
    "[Git](https://git-scm.com/)は「**パージョン管理システム(Version Control System)**」と呼ばれるものの一つです。\n",
    "\n",
    "パージョン管理システムとは、一つのファイル、または複数のファイルの集合に対して、時間とともに加えられた変更を記録するシステムで、後から特定のバージョンを呼び出すことが、できるようにするためのものです。\n",
    "\n",
    "ファイルの「パージョン(変更履歴)」を記録して、いつでも過去の状況に戻したり、過去の変更履歴を比較したり、またはどのタイミングで問題が起こっていたかを確認したり、様々なことができるプログラム開発やファイル管理を補助するシステムです。\n",
    "\n",
    "```{margin}\n",
    "様々な方法でGitを使うことができますが、この授業では、コマンドラインツールとVSCodeでGitを使います。コマンドラインツールを利用する際、Macの場合はターミナル、Windowsの場合はコマンド・プロンプトやPowerShellを使います。\n",
    "```\n",
    "\n",
    "パージョン管理システムはたくさんの種類がありますが、現在最も利用されているのはGitです。さらに、[**GitHub**](https://github.com/)などの**リモートリポジトリ**と組み合わせることで、クラウドでデータを管理したり、プロジェクトを共同開発するとき強力なツールとなります。\n",
    "\n",
    "![](./Figure/remote.png)"
   ]
  },
  {
   "attachments": {},
   "cell_type": "markdown",
   "metadata": {},
   "source": [
    "## インストール\n",
    "\n",
    "### Git\n",
    "\n",
    "#### Gitインストール\n",
    "\n",
    "[公式サイト](https://git-scm.com/downloads)からGitをインストールする。\n",
    "\n",
    "#### GitHubの初期設定\n",
    "- GitHubアカウントを作成します。\n",
    "- ターミナルを開きます。\n",
    "- 次の git コマンドでユーザー情報を設定する。\n",
    "```\n",
    "git config --global user.name \"First-name Family-name\"\n",
    "git config --global user.email \"username@example.com\"\n",
    "```\n",
    "- 次の git コマンドでSSHキーを生成する。\n",
    "```\n",
    "cd ~/.ssh\n",
    "ssh-keygen -t rsa\n",
    "```\n",
    "- 任意のパスフレーズを入力してEnter（2回）。パスフレーズが不要であれば空欄のままEnterでよい。\n",
    "- SSH Keyを格納するディレクトリに移動します。```ls```でファイルを確認します。```id_rsa.pub```というファイルがあるはずです。\n",
    "- ```cat id_rsa.pub```でSSHキーを開く、```ssh-rsa XXX```を全てコピーします。\n",
    "- Githubのページの右上で、プロフィール画像をクリックし、続いてSettings→Access→SSH and GPG keys→ New SSH keyという順番でクリックしてください。\n",
    "- クリップボードの内容を ```Key``` フィールドに貼り付けます。\n",
    "- ```Add SSH key```をクリックしてたら、SSHの登録が完了です。\n",
    "- ターミナルで```ssh -T git@github.com```を実行します。もしGitHubと連携できましたら、以下の内容が表示されます。\n",
    "```\n",
    "Hi USERNAME! You've successfully authenticated, but GitHub does not provide shell access.\n",
    "```\n",
    "### VSCodeのインストール\n",
    "\n",
    "[公式サイト](https://code.visualstudio.com/)からVSCodeをインストールする。\n",
    "\n",
    "```{note}\n",
    "VSCodeは強力なコードエディターであり、様々なプログラミング言語に機能を提供する幅広い拡張機能を備えた軽量の汎用統合開発環境 (IDE) です。VSCodeでより簡単的に・効率的にGitを操作できます。また、VSCodeでは便利な機能が豊富に搭載されている[Python拡張機能](https://learn.microsoft.com/ja-jp/training/modules/python-install-vscode/5-exercise-install-python-extension?pivots=linux)もたくさんあります。\n",
    "```"
   ]
  },
  {
   "attachments": {},
   "cell_type": "markdown",
   "metadata": {},
   "source": [
    "## Gitの基本操作"
   ]
  },
  {
   "attachments": {},
   "cell_type": "markdown",
   "metadata": {},
   "source": [
    "\n",
    "Git プロジェクトを取得するには、大きく二通りの方法があります。 \n",
    "- 既存のプロジェクトやディレクトリを Git にインポートする方法。\n",
    "- 既存の Git リポジトリを別のサーバーからクローンする方法です。\n",
    "\n",
    "まず、既存のプロジェクトやディレクトリを Git にインポートし、ファイルをコミットと履歴の管理を説明します。\n",
    "\n",
    "#### 既存のディレクトリでのリポジトリの初期化\n",
    "\n",
    "```{margin}\n",
    "空のディレクトリではなくすでに存在するファイルのバージョン管理を始めたい場合は、まずそのファイルを監視対象に追加する。例えば、すでに存在する```myfile.txt```を以下のコマンドで追加します。```git add myfile.txt```\n",
    "```\n",
    "````{tab-set}\n",
    "\n",
    "```{tab-item} ターミナル操作\n",
    "\n",
    "- ディレクトリを作ろう\n",
    "<pre>\n",
    "mkdir test\n",
    "cd test\n",
    "</pre>\n",
    "- **リポジトリの初期化** \n",
    "<pre>\n",
    "git init\n",
    "</pre>\n",
    "```\n",
    "\n",
    "```{tab-item} VSCode操作\n",
    "\n",
    "- 「ファイル」→「フォルダーを開く』→　ディレクトリを選択。VSCode左側の『エクスプローラー』に、開いたフォルダ名が表示されます。\n",
    "-  サイドバーの「ソース管理」(Source Control)を表示して，「リポジトリの初期化」(Initialize Rspository)をクリックします。\n",
    "\n",
    "![](./Figure/git_init.png)\n",
    "\n",
    "```\n",
    "````"
   ]
  },
  {
   "attachments": {},
   "cell_type": "markdown",
   "metadata": {},
   "source": [
    "#### コミット(commit)\n",
    "\n",
    "リポジトリを作成すると、そこに対するファイルの変更履歴を登録することができます。その操作をコミット(commit)といいます。\n",
    "\n",
    "コミットを実行すると、リポジトリの内では、前回コミットした時の状態から現在の状態までの差分を記録したリビジョンと呼ばれるものが作成されます。\n",
    "\n",
    "![](./Figure/commit1.png)\n",
    "\n",
    "- Gitの管理下に置かれた、みなさんが実際に作業をしているディレクトリのことをワークツリーと呼びます。\n",
    "- Gitではリポジトリとワークツリーの間にはインデックスというものが存在しています。インデックスとは、リポジトリにコミットする準備をするための場所のことです。\n",
    "- コミットでファイルの状態を記録するためには、まずインデックスにファイルを登録し、そして変更をコミットするプロセスになります。"
   ]
  },
  {
   "attachments": {},
   "cell_type": "markdown",
   "metadata": {},
   "source": [
    "````{tab-set}\n",
    "\n",
    "```{tab-item} ターミナル操作\n",
    "\n",
    "- ディレクトリで任意のファイルを作る。例えば、\n",
    "<pre>\n",
    "echo This is some text > myfile.txt\n",
    "</pre>\n",
    "\n",
    "\n",
    "- ```git status```でステータスを確認すると、```myfile.txt```は```Untracked file```であり、つまり、また追跡対象になっていないです。\n",
    "<pre>\n",
    "git status\n",
    "</pre>\n",
    "![](./Figure/git_status_1.png)\n",
    "- ```git add myfile.txt```で```myfile.txt```を追跡対象に追加し、再び```git status```でステータスを確認すると、```Changes to be committed```、すなわち、コミット待ちと表示されています。\n",
    "<pre>\n",
    "git add myfile.txt\n",
    "git status\n",
    "</pre>\n",
    "![](./Figure/git_status_2.png)\n",
    "- コミットをするには```git commit```というコマンドを使います。コミットをする際、コミットの内容を説明するメッセージを記入する必要があります。```-m``` というオプションを付加して、その後メッセージを入れましょう。例えば、\n",
    "<pre>\n",
    "git commit -m \"myfileを作成ました\"\n",
    "</pre>\n",
    "![](./Figure/git_status_3.png)\n",
    "\n",
    "```\n",
    "\n",
    "```{tab-item} VSCode操作\n",
    "\n",
    "- ファイルを作成すると、VSCodeが自動的に変更を検出し、ソース管理サイドバーで数字が表示されます。\n",
    "\n",
    "![](./Figure/commit_example4.png)\n",
    "- ソース管理に更新ファイルの一覧が表示されます。```+```アイコンでステージング操作を行います(```git add```と相当する)。\n",
    "- ステージングした状態からコミットメッセージを入力して、```コミット(Commit)```アイコンでコミットが完了します。\n",
    "\n",
    "![](./Figure/commit_example5.png)\n",
    "```\n",
    "````"
   ]
  },
  {
   "attachments": {},
   "cell_type": "markdown",
   "metadata": {},
   "source": [
    "#### コミットリセット(reset)\n",
    "\n",
    "どんな作業であっても、何かをやり直したくなることはあります。 ここでは、行った変更を取り消すための基本的なツールについて説明します。\n",
    "\n",
    "仮に、```myfile.txt```を削除し、コミットした操作を行いましたが、実はこのファイルは捨ててはいけないファイルだったと気ついたとします。\n",
    "\n",
    "Gitで間違えた変更を元に戻していきましょう。\n",
    "\n",
    "````{tab-set}\n",
    "```{tab-item} 実習問題\n",
    "- ```myfile.txt```を削除し、```delete myfile```というコメントでコミットします。\n",
    "```\n",
    "````"
   ]
  },
  {
   "attachments": {},
   "cell_type": "markdown",
   "metadata": {},
   "source": [
    "````{tab-set}\n",
    "\n",
    "```{tab-item} ターミナル操作\n",
    "\n",
    "-  ```git log```でコミットの情報を確認します。コミットを特定するためには、```5d5277156bfef81535e8938f4e9f71b1db2eacf8```のような形のハッシュを使います。\n",
    "オレンジ色の部分はコミットIDの情報になります。 \n",
    "\n",
    "<pre>\n",
    "git log\n",
    "</pre>\n",
    "\n",
    "![](./Figure/git_log.png)\n",
    "\n",
    "- 特定のコミットまで戻す場合、以下のコマンドのような形でコミットIDを指定できます。\n",
    "\n",
    "<pre>\n",
    "git reset 8983e71d981c204a92d417c0301b8e9c5f99b7f9\n",
    "</pre>\n",
    "\n",
    "```\n",
    "\n",
    "```{tab-item} VSCode操作\n",
    "\n",
    "- [Git Graph](https://marketplace.visualstudio.com/items?itemName=mhutchie.git-graph)という拡張機能をインストールします。\n",
    "- サイドバーの「Source Control」→「View Commit Graph」をクリックすると、ログを確認できます。\n",
    "- 戻すそうのコミットを見つけて、マウスの右クリックし、表示されるメニュで「```Reset Current Branch to Commit```」→ 「```Reset```」を選ぶと、指定したコミットに戻ります。\n",
    "```\n",
    "````"
   ]
  },
  {
   "attachments": {},
   "cell_type": "markdown",
   "metadata": {},
   "source": [
    "```{note}\n",
    "リセットはオプションを指定できます。\n",
    "- ```--soft``` 「変更」→「ステージング」→「コミット」の作業のうち、最後の「コミット」だけをリセットする方法です。ファイルがステージングされた状態まで戻されます。\n",
    "- ```--mixed``` 「ステージング」までをリセットする方法です(default オプション)。インデックスが空の状態に戻すので、ここでステージングを一からやり直してコミットできます。\n",
    "- ```--hard```「変更」から全て破棄する方法です。この方法の場合、ファイルの変更などを含めて破棄されます。\n",
    "```"
   ]
  },
  {
   "attachments": {},
   "cell_type": "markdown",
   "metadata": {},
   "source": [
    "`````{admonition} Advanced\n",
    ":class: important\n",
    "\n",
    "```git checkout```でも元の状態に戻すことができます。ただ、この操作はワークツリーまで変更するので、場合による```checkout```は作業ディレクトリを破壊する(上書きなど)可能性もありますので、十分に注意してください。一方、```git reset```は```--hard```オプションではないなら、作業ディレクトリにファイルに直接に変更は加えられていません。\n",
    "\n",
    "`````"
   ]
  },
  {
   "attachments": {},
   "cell_type": "markdown",
   "metadata": {},
   "source": [
    "#### ブランチ(branch)\n",
    "\n",
    "ブランチとは、開発の本流から分岐し、それぞれ状態ごとに作業を進める機能のことです。\n",
    "\n",
    "ブランチ機能を使うことで、複数の状態を同時に保つことができます。個人作業での試行錯誤もグールプの共同作業も非常に役を立っています。\n",
    "\n",
    "![](./Figure/branch.png)\n",
    "\n"
   ]
  },
  {
   "attachments": {},
   "cell_type": "markdown",
   "metadata": {},
   "source": [
    "````{tab-set}\n",
    "```{tab-item} 実習問題\n",
    "- ```myfile2.txt```という新しいファイルを作成し、```add myfile2```というコメントでコミットします。\n",
    "- コミットの履歴を確認します。\n",
    "```\n",
    "````"
   ]
  },
  {
   "attachments": {},
   "cell_type": "markdown",
   "metadata": {},
   "source": [
    "````{tab-set}\n",
    "\n",
    "```{tab-item} ターミナル操作\n",
    "\n",
    "- 新しいブランチを作ってみましょう。例えば、以下のコマンドで```develop```という名前のブランチを作成します。\n",
    "<pre>\n",
    "git branch develop\n",
    "</pre>\n",
    "\n",
    "- 特定のコミットからブランチを作る際、```git checkout```コマンドを使います。例えば、コミットID```3be9fa7```から```renewal```という名前のブランチを作るなら、以下のコマンドを実行します。\n",
    "\n",
    "<pre>\n",
    "git checkout 8983e71 -b renewal\n",
    "</pre>\n",
    "\n",
    "![](./Figure/branch2.png)\n",
    "\n",
    "- ```git branch```で現在作られるブランチの一覧を確認できます。\n",
    "- ```git checkout```で切り替えます。例えば、以下のコマンドで```develop```に切り替えます。\n",
    "\n",
    "<pre>\n",
    "git checkout develop\n",
    "</pre>\n",
    "\n",
    "```\n",
    "\n",
    "```{tab-item} VSCode操作\n",
    "\n",
    "- 画面の左下のブランチ名（main/master）が表示されている個所をクリックし、新しいブランチを作成を実行します。手順で作成するブランチ名を入力してブランチを作成します。\n",
    "- Git Graphを開けて、分岐を作成したいコミットで右クリックし、表示される表示されるメニュで```Create Branch```を選ぶ、手順で作成するブランチ名を入力してブランチを作成します。\n",
    "```\n",
    "````"
   ]
  },
  {
   "attachments": {},
   "cell_type": "markdown",
   "metadata": {},
   "source": [
    "ブランチを分けて作業を進めると、各ブランチでの内容がバラバラになります。そんな時に、各ブランチでの変更をまとめる機能は「マージ」です。\n",
    "\n",
    "仮に、```develop branch```で```myfile4.txt```を追加する作業を行います。\n",
    "\n",
    "```\n",
    "git checkout develop\n",
    "echo some text >> myfile4.txt\n",
    "git add myfile4.txt\n",
    "git commit -a -m \"add myfile4.txt\"\n",
    "```"
   ]
  },
  {
   "attachments": {},
   "cell_type": "markdown",
   "metadata": {},
   "source": [
    "````{tab-set}\n",
    "```{tab-item} 実習問題\n",
    "- ```master```ブランチに切り替えます。\n",
    "- ```master```ブランチで```myfile5.txt```を作成し、コミットします。\n",
    "```\n",
    "````"
   ]
  },
  {
   "attachments": {},
   "cell_type": "markdown",
   "metadata": {},
   "source": [
    "ここで、```develop```ブランチを```master```ブランチにマージします。\n",
    "\n",
    "````{tab-set}\n",
    "\n",
    "```{tab-item} ターミナル操作\n",
    "\n",
    "- ```git branch```で現在```master```ブランチにいることを確認します。\n",
    "- ```git merge develop```でマージを実行します。\n",
    "\n",
    "```\n",
    "\n",
    "```{tab-item} VSCode操作\n",
    "-  ステータスバーの左下端に表示されているブランチが「```master```」になっていることを確認します。\n",
    "- ```Ctrl+Shift+P```（```Command+Shift+P```）でコマンドパレットを開く、入力欄に```Git:merge```と入力するとマージの項目が表示されます。\n",
    "- マージしたいブランチを選択します。これで、現在のブランチに選択したブランチがマージされます。\n",
    "\n",
    "```\n",
    "````"
   ]
  },
  {
   "attachments": {},
   "cell_type": "markdown",
   "metadata": {},
   "source": [
    "<pre class=\"brush: python\">\n",
    "import panda as pd\n",
    "</pre>"
   ]
  },
  {
   "attachments": {},
   "cell_type": "markdown",
   "metadata": {},
   "source": [
    "## GitHubの基本操作\n",
    "\n",
    "ここまで、Gitをローカル環境での利用方法をまなびました。Gitは分散型のバージョン管理システムで、同じプロジェクトに関するリポジトリをネットワーク上に複数置くこともできます。この性質を利用すると、色々なことができるようになります。\n",
    "\n",
    "- 複数人で一つのプログラムを編集したり、修正作業を依頼したりすること\n",
    "- 共同作業の進捗を管理すること\n",
    "- リモートリポジトリで作業をバックアップすること\n",
    "\n",
    "Git機能を搭載したプロジェクト管理サービスは数多くありますが、本授業はその中でも一番使われている[Github](https://github.com/)を利用していきます。\n"
   ]
  },
  {
   "attachments": {},
   "cell_type": "markdown",
   "metadata": {},
   "source": [
    "### リモートリポジトリの作成\n",
    "```{margin}\n",
    "Githubの使い方は、公式のチュートリアルを適宜参照してください。\n",
    "```"
   ]
  },
  {
   "attachments": {},
   "cell_type": "markdown",
   "metadata": {},
   "source": [
    "1. ページの右上隅で、[$+$]ドロップダウンメニューを使用して、 [新しいリポジトリ] を選択します。\n",
    "![](https://docs.github.com/assets/cb-11427/mw-1000/images/help/repository/repo-create.webp)\n",
    "\n",
    "2. リポジトリ名を入力します。必要に応じて、リポジトリの説明を追加します。 \n",
    "3. リポジトリの可視性を選択してください。パブリックリポジトリには、インターネット上の誰でもアクセスできます。プライベートリポジトリには、自分や招待した人のみがアクセスできます。\n",
    "4. [Initialize this repository with a README] (このレポジトリを README で初期化する) を選択します。\n",
    "\n",
    "![](https://docs.github.com/assets/cb-49938/mw-1000/images/help/repository/initialize-with-readme.webp)\n",
    "\n",
    "5. [Create repository] (リポジトリの作成) をクリックします。"
   ]
  },
  {
   "cell_type": "markdown",
   "metadata": {},
   "source": []
  }
 ],
 "metadata": {
  "kernelspec": {
   "display_name": "Python 3",
   "language": "python",
   "name": "python3"
  },
  "language_info": {
   "name": "python",
   "version": "3.10.6"
  },
  "orig_nbformat": 4,
  "vscode": {
   "interpreter": {
    "hash": "31f2aee4e71d21fbe5cf8b01ff0e069b9275f58929596ceb00d14d90e3e16cd6"
   }
  }
 },
 "nbformat": 4,
 "nbformat_minor": 2
}
