{
 "cells": [
  {
   "cell_type": "code",
   "execution_count": null,
   "metadata": {},
   "outputs": [],
   "source": []
  },
  {
   "attachments": {},
   "cell_type": "markdown",
   "metadata": {},
   "source": [
    "## Python環境\n",
    "\n",
    "### Anaconda\n",
    "\n",
    "数あるPython の環境を構築する方法の中で、 [Anaconda](https://www.anaconda.com/)を利用することをお勧めします。\n",
    "Anaconda はデータサイエンス向けの環境を提供するプラットフォームです。科学技術計算などを中心とした、多くのモジュールやツールのコンパイル済みバイナリファイルを提供しており、簡単にPythonを利用する環境を構築・管理できます。Windows, Linux, macOS向けのパッケージが提供されています。\n",
    "\n",
    "#### Anacondaのインストール\n",
    "\n",
    "下記の記事を参照してAnacondaをインストールします\n",
    "\n",
    "- [Windows版Anacondaのインストール](https://www.python.jp/install/anaconda/windows/install.html)\n",
    "- [MacOS版Anacondaのインストール](https://www.python.jp/install/anaconda/macos/install.html)\n",
    "- [Linux版Anacondaのインストール](https://www.python.jp/install/anaconda/unix/install.html)\n",
    "\n",
    "#### Conda環境の作成\n",
    "- Conda環境は、```conda create```コマンドでPython環境を作成します。つぎのコマンドは、```chss``` という名前で、```Python 3.10```の環境を作成します。\n",
    "```\n",
    "conda create --name chss python=3.10\n",
    "```\n",
    "- 作成した環境を確認します。\n",
    "```\n",
    "conda info -e\n",
    "```\n",
    "- 作成した環境を有効にする。\n",
    "```\n",
    "conda activate chss\n",
    "```"
   ]
  },
  {
   "cell_type": "markdown",
   "metadata": {},
   "source": []
  }
 ],
 "metadata": {
  "language_info": {
   "name": "python"
  },
  "orig_nbformat": 4
 },
 "nbformat": 4,
 "nbformat_minor": 2
}
