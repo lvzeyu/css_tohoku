{
 "cells": [
  {
   "attachments": {},
   "cell_type": "markdown",
   "metadata": {},
   "source": [
    "# 関数"
   ]
  },
  {
   "attachments": {},
   "cell_type": "markdown",
   "metadata": {},
   "source": [
    "関数は処理をまとめた再利用可能なコードです。\n",
    "\n",
    "関数を使うことで、同じ処理を複数回実行する必要がある場合に、コードを簡潔に保ち、修正や更新も容易になります。\n",
    "\n",
    "```len()```や```dict()```などの組み込み関数は関数の例です。\n",
    "\n"
   ]
  },
  {
   "attachments": {},
   "cell_type": "markdown",
   "metadata": {},
   "source": [
    "## 関数の定義\n",
    "\n",
    "関数を定義するには、\n",
    "\n",
    "- ```def```を使って、関数を定義することを示します。その後、関数名を指定し、関数に対する引数を括弧に囲んで書き、最後にコロン(```:```)を書きます。\n",
    "- 関数本体では、処理を実行するためのコードを書きます。関数内で変数を宣言することもできますが、関数外で定義された変数を使用することもできます。\n",
    "- ```return```キーワードを使用して、関数が返す値を指定します。```return```を省略すると、関数は何も返しません。"
   ]
  },
  {
   "attachments": {},
   "cell_type": "markdown",
   "metadata": {},
   "source": [
    "```\n",
    "def 関数名(引数1, 引数2, ...):\n",
    "    処理1\n",
    "    処理2\n",
    "    ...\n",
    "    return 戻り値\n",
    "```"
   ]
  },
  {
   "attachments": {},
   "cell_type": "markdown",
   "metadata": {},
   "source": [
    "以下は、引数として2つの数値を受け取り、その和を返す関数の例です。"
   ]
  },
  {
   "cell_type": "code",
   "execution_count": 14,
   "metadata": {},
   "outputs": [],
   "source": [
    "def add_numbers(x, y):\n",
    "    result = x + y\n",
    "    return result"
   ]
  },
  {
   "attachments": {},
   "cell_type": "markdown",
   "metadata": {},
   "source": [
    "この関数を呼び出すには、以下のようにします。"
   ]
  },
  {
   "cell_type": "code",
   "execution_count": 15,
   "metadata": {},
   "outputs": [
    {
     "name": "stdout",
     "output_type": "stream",
     "text": [
      "8\n"
     ]
    }
   ],
   "source": [
    "result = add_numbers(3, 5)\n",
    "print(result) # 8が出力される"
   ]
  },
  {
   "attachments": {},
   "cell_type": "markdown",
   "metadata": {},
   "source": [
    "```{note} 関数の命名規則\n",
    "関数の命名は基本的には自由ですが、以下のような慣習があります。\n",
    "- 関数名は、その関数が何を行うかを明確にするために、できるだけ短く、分かりやすくするように心がけます。\n",
    "- 関数名は、英小文字で始めます。\n",
    "- 複数の単語を含む関数名の場合、単語の間にはアンダースコア```_```を使用します。\n",
    "- **Pythonの組み込み関数と同じ名前を使用しないようにします。**\n",
    "```"
   ]
  },
  {
   "attachments": {},
   "cell_type": "markdown",
   "metadata": {},
   "source": [
    "## 返値\n",
    "\n",
    "関数は受け取った引数を元に処理を行い、その結果の返値を返すことができます。\n",
    "\n",
    "返値は、```return``` で定義します。 ```return``` が実行されると、関数の処理はそこで終了するため、次に文があっても実行はされません。 \n",
    "\n",
    "戻り値```return```は単一の値や文字列に限らず、複数の値でも可能ですし、リストを返すことも出来ます。\n",
    "\n",
    "関数の返値がない場合は、```None``` が返されます。"
   ]
  },
  {
   "attachments": {},
   "cell_type": "markdown",
   "metadata": {},
   "source": [
    "## 引数"
   ]
  },
  {
   "attachments": {},
   "cell_type": "markdown",
   "metadata": {},
   "source": [
    "関数を定義する際に、ヘッダの括弧の中に関数へ渡す値を引数と言います。\n",
    "\n",
    "関数を呼び出す際に引数に値を渡すことで、関数は受け取った値を処理することができます。"
   ]
  },
  {
   "attachments": {},
   "cell_type": "markdown",
   "metadata": {},
   "source": [
    "### スコープ"
   ]
  },
  {
   "attachments": {},
   "cell_type": "markdown",
   "metadata": {},
   "source": [
    "```{margin}\n",
    "変数のスコープは、命名空間とも呼ばれます。\n",
    "```\n",
    "\n",
    "```{note} 変数のスコープについて\n",
    "一般に、プログラミングでは**グローバル変数**と**ローカル変数**と呼ばれるものがあります。\n",
    "\n",
    "その名(global/local)が示すとおりグローバル変数とはどこからでも参照できる変数で、ローカル変数とは、ある有効範囲のみで参照できる変数です。\n",
    "```"
   ]
  },
  {
   "attachments": {},
   "cell_type": "markdown",
   "metadata": {},
   "source": [
    "関数で代入される変数は、どれもローカルスコープに代入されます。\n",
    "\n",
    "ローカルスコープは、関数が呼び出された時に生成され、関数の引数から値を受け取ります。関数が終了するとローカルスコープは消します。\n",
    "\n",
    "```testfunc```の中で定義されている```a=10```は、関数の内部で定義(代入)される変数であるため、ローカル変数とみなされて処理が行われるので、グローバル変数である```a=2```に影響しないです。"
   ]
  },
  {
   "cell_type": "code",
   "execution_count": 6,
   "metadata": {},
   "outputs": [
    {
     "name": "stdout",
     "output_type": "stream",
     "text": [
      "関数の実行前 2 4481286416\n",
      "関数の内部 10 4481286672\n",
      "関数の実行後 2 4481286416\n"
     ]
    }
   ],
   "source": [
    "def testfunc():\n",
    "    a = 10\n",
    "    print(\"関数の内部\", a, id(a))\n",
    "    \n",
    "a= 2 \n",
    "print(\"関数の実行前\", a, id(a))\n",
    "testfunc()\n",
    "print(\"関数の実行後\", a, id(a)) "
   ]
  },
  {
   "attachments": {},
   "cell_type": "markdown",
   "metadata": {},
   "source": [
    "### キーワード引数\n",
    "\n",
    "上記の例では、事前に定義した引数の順番に従って、関数は引数を受け取っています。\n",
    "\n",
    "キーワード付き引数（キーワード引数）を使うと、関数は引数の変数名とその値の組みを受け取ることができます。 その際、引数は順不同で関数に渡すことができます。"
   ]
  },
  {
   "cell_type": "code",
   "execution_count": 8,
   "metadata": {},
   "outputs": [],
   "source": [
    "def minus_numbers(x, y):\n",
    "    result = x - y\n",
    "    return result"
   ]
  },
  {
   "cell_type": "code",
   "execution_count": 10,
   "metadata": {},
   "outputs": [
    {
     "name": "stdout",
     "output_type": "stream",
     "text": [
      "5\n"
     ]
    }
   ],
   "source": [
    "print(minus_numbers(10, 5))"
   ]
  },
  {
   "cell_type": "code",
   "execution_count": 11,
   "metadata": {},
   "outputs": [
    {
     "name": "stdout",
     "output_type": "stream",
     "text": [
      "-5\n"
     ]
    }
   ],
   "source": [
    "print(minus_numbers(y=10, x=5))"
   ]
  },
  {
   "attachments": {},
   "cell_type": "markdown",
   "metadata": {},
   "source": [
    "```{margin}\n",
    "位置引数とキーワード引数の両方を使って関数を呼び出す場合には、まず先に位置引数を指定する必要があります。\n",
    "```"
   ]
  },
  {
   "attachments": {},
   "cell_type": "markdown",
   "metadata": {},
   "source": [
    "### デフォルト引数値の指定\n",
    "\n",
    "デフォルト引数値は、関数の定義時に引数に初期値を指定することによって設定できます。これにより、関数を呼び出すときに引数の値を省略することができます。\n",
    "\n",
    "デフォルト引数値を指定するには、引数リスト内で引数の名前の後ろに等号と初期値を指定します。例えば、以下のように関数を定義することができます。"
   ]
  },
  {
   "cell_type": "code",
   "execution_count": 12,
   "metadata": {},
   "outputs": [],
   "source": [
    "def greet(name, message=\"Hello\"):\n",
    "    print(f\"{message}, {name}!\")"
   ]
  },
  {
   "cell_type": "code",
   "execution_count": 13,
   "metadata": {},
   "outputs": [
    {
     "name": "stdout",
     "output_type": "stream",
     "text": [
      "Hello, Alice!\n",
      "Hi, Bob!\n"
     ]
    }
   ],
   "source": [
    "greet(\"Alice\")         # \"Hello, Alice!\"\n",
    "greet(\"Bob\", \"Hi\")     # \"Hi, Bob!\""
   ]
  },
  {
   "attachments": {},
   "cell_type": "markdown",
   "metadata": {},
   "source": [
    "````{tab-set}\n",
    "```{tab-item} 実習問題1\n",
    "被除数と除数を指定し、割り算の結果を順番に計算する関数を作成してください。\n",
    "- 計算結果を返します\n",
    "- 計算不可能の場合、「計算できません」というエラーを表示してください\n",
    "```\n",
    "\n",
    "```{tab-item} 実習問題2\n",
    "ユークリッドの互除法の関数を作成してください。\n",
    "- 除数が$0$によるエラーを制御してください。\n",
    "- 引数に渡す値の大小関係を考慮してください\n",
    "```\n",
    "\n",
    "````"
   ]
  },
  {
   "cell_type": "markdown",
   "metadata": {},
   "source": []
  }
 ],
 "metadata": {
  "kernelspec": {
   "display_name": "jupyterbook",
   "language": "python",
   "name": "python3"
  },
  "language_info": {
   "codemirror_mode": {
    "name": "ipython",
    "version": 3
   },
   "file_extension": ".py",
   "mimetype": "text/x-python",
   "name": "python",
   "nbconvert_exporter": "python",
   "pygments_lexer": "ipython3",
   "version": "3.10.9"
  },
  "orig_nbformat": 4
 },
 "nbformat": 4,
 "nbformat_minor": 2
}
