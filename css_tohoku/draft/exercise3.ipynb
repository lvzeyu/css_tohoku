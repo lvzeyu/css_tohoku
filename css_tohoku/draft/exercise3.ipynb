{
 "cells": [
  {
   "cell_type": "markdown",
   "metadata": {},
   "source": [
    "# 練習課題\n",
    "\n",
    "## 課題1\n",
    "\n",
    "「スイカ割りゲーム」のプログラムを作成する。\n",
    "\n",
    "- スイカとプレイヤーの初期位置をランダムに設定\n",
    "- プレイヤーがスイカの位置に到達するまでに移動を続けて、移動する度にプレイヤーとスイカの距離を計算する\n",
    "- スイカに向かってプレイヤーを移動させる方向を決定する"
   ]
  },
  {
   "cell_type": "code",
   "execution_count": 9,
   "metadata": {},
   "outputs": [
    {
     "name": "stdout",
     "output_type": "stream",
     "text": [
      "スイカまでの距離: 4.47213595499958\n",
      "プレイヤーが移動しました: (3, 1)\n",
      "スイカまでの距離: 3.1622776601683795\n",
      "プレイヤーが移動しました: (2, 2)\n",
      "スイカまでの距離: 2.0\n",
      "プレイヤーが移動しました: (2, 3)\n",
      "スイカまでの距離: 1.0\n",
      "プレイヤーが移動しました: (2, 4)\n",
      "スイカを見つけました！\n"
     ]
    }
   ],
   "source": [
    "import random\n",
    "import math\n",
    "\n",
    "BOARD_SIZE = 5  # ボードサイズを定義\n",
    "\n",
    "def calc_distance(pos1, pos2):\n",
    "    # 二点間のユークリッド距離を計算\n",
    "    diff_x = pos1[0] - pos2[0]\n",
    "    diff_y = pos1[1] - pos2[1]\n",
    "    return math.sqrt(diff_x**2 + diff_y**2)\n",
    "\n",
    "# スイカとプレイヤーの初期位置をランダムに設定\n",
    "suika_pos = (random.randrange(0, BOARD_SIZE), random.randrange(0, BOARD_SIZE))\n",
    "player_pos = (random.randrange(0, BOARD_SIZE), random.randrange(0, BOARD_SIZE))\n",
    "\n",
    "# プレイヤーがスイカの位置に到達するまで処理を続ける\n",
    "while (suika_pos != player_pos):\n",
    "    # スイカまでの距離を表示\n",
    "    distance = calc_distance(suika_pos, player_pos)\n",
    "    print(\"スイカまでの距離:\", distance)\n",
    "\n",
    "    # スイカに向かってプレイヤーを移動させる方向を決定\n",
    "    current_x, current_y = player_pos\n",
    "    target_x, target_y = suika_pos\n",
    "\n",
    "    if current_x < target_x:\n",
    "        current_x += 1\n",
    "    elif current_x > target_x:\n",
    "        current_x -= 1\n",
    "\n",
    "    if current_y < target_y:\n",
    "        current_y += 1\n",
    "    elif current_y > target_y:\n",
    "        current_y -= 1\n",
    "\n",
    "    # プレイヤーの位置を更新\n",
    "    player_pos = (current_x, current_y)\n",
    "    print(\"プレイヤーが移動しました:\", player_pos)\n",
    "\n",
    "print(\"スイカを見つけました！\")\n"
   ]
  },
  {
   "cell_type": "markdown",
   "metadata": {},
   "source": [
    "このプログラムを関数で分割して、再作成してください。\n",
    "\n",
    "- 初期位置の作成の関数```generate_position()```\n",
    "- 移動先を決める関数\n",
    "- 移動処理の関数```move_player()```\n",
    "- ゲームの主なループを実行する関数```play_game()```"
   ]
  },
  {
   "cell_type": "code",
   "execution_count": null,
   "metadata": {},
   "outputs": [],
   "source": []
  },
  {
   "cell_type": "markdown",
   "metadata": {},
   "source": [
    "## 課題2\n",
    "\n",
    "複数のプレイヤーが参加し、最初にスイカに到達したプレイヤーが勝つゲームを想定してください。\n",
    "\n",
    "各プレイヤーはそれぞれ独立してスイカに向かって移動し、ゲームの進行は各ターンで全プレイヤーが一度ずつ移動する。\n",
    "\n",
    "あるプレイヤーがスイカに到達したら、ゲームは終了します。\n",
    "\n",
    "このようなシナリオを実装してください。\n"
   ]
  },
  {
   "cell_type": "code",
   "execution_count": null,
   "metadata": {},
   "outputs": [],
   "source": []
  },
  {
   "cell_type": "markdown",
   "metadata": {},
   "source": []
  }
 ],
 "metadata": {
  "kernelspec": {
   "display_name": "jupyterbook",
   "language": "python",
   "name": "python3"
  },
  "language_info": {
   "codemirror_mode": {
    "name": "ipython",
    "version": 3
   },
   "file_extension": ".py",
   "mimetype": "text/x-python",
   "name": "python",
   "nbconvert_exporter": "python",
   "pygments_lexer": "ipython3",
   "version": "3.12.1"
  }
 },
 "nbformat": 4,
 "nbformat_minor": 2
}
