{
 "cells": [
  {
   "attachments": {},
   "cell_type": "markdown",
   "metadata": {},
   "source": [
    "# GitHub\n",
    "ここまで、Gitをローカル環境での利用方法をまなびました。Gitは分散型のバージョン管理システムで、同じプロジェクトに関するリポジトリをネットワーク上に複数置くこともできます。この性質を利用すると、色々なことができるようになります。\n",
    "\n",
    "- 複数人で一つのプログラムを編集したり、修正作業を依頼したりすること\n",
    "- 共同作業の進捗を管理すること\n",
    "- リモートリポジトリで作業をバックアップすること\n",
    "\n",
    "Git機能を搭載したプロジェクト管理サービスは数多くありますが、本授業はその中でも一番使われている[Github](https://github.com/)を利用していきます。"
   ]
  },
  {
   "attachments": {},
   "cell_type": "markdown",
   "metadata": {},
   "source": [
    "### リモートリポジトリの作成と連携\n",
    "\n",
    "```{margin} \n",
    "GitHubの使い方は、公式のチュートリアルを適宜参照してください。\n",
    "```"
   ]
  },
  {
   "attachments": {},
   "cell_type": "markdown",
   "metadata": {},
   "source": [
    "````{tab-set}\n",
    "\n",
    "```{tab-item} ターミナル操作\n",
    "\n",
    "- ページの右上隅で、[$+$]ドロップダウンメニューを使用して、 [新しいリポジトリ] を選択します。\n",
    "![](https://docs.github.com/assets/cb-11427/mw-1000/images/help/repository/repo-create.webp)\n",
    "- リポジトリ名を入力します。必要に応じて、リポジトリの説明を追加します。 \n",
    "- リポジトリの可視性を選択してください。パブリックリポジトリには、インターネット上の誰でもアクセスできます。プライベートリポジトリには、自分や招待した人のみがアクセスできます。\n",
    "- [Create repository] (リポジトリの作成) をクリックします。\n",
    "- リモートリポジトリのSSHアドレスをコピーしておきます。\n",
    "![](./Figure/github1.png)\n",
    "- 以下のコマンドでリモートリポジトリとローカルリポジトリに対応づけます。各自のSSHアドレスを入れ替えてください。\n",
    "<pre>\n",
    "git remote add origin git@github.com:lvzeyu/test.git\n",
    "</pre>\n",
    "- ```git remote```でリモートリポジトリの一覧を確認します。正しく追加されたら、```origin```というリモートリポジトリが表示されます。\n",
    "```\n",
    "\n",
    "```{tab-item} VSCode操作\n",
    "- 新しいリモートリポジトリの作成\n",
    "    -「ソース管理」→「Branchの発行」をクリックします。\n",
    "    - 初回はGitHubとの連携認証を行います。指示に従って認証処理を行ってください。\n",
    "    - リモートリポジトリの名前を入力し、可視性を選択してください。\n",
    "![](./Figure/github2.png)\n",
    "- 既存リモートブランチの連携\n",
    "    - 「ソース管理」→ 「```...```」→ 「リモート追加」→「GitHubからリモートを追加」でクリックしてください。\n",
    "    -　連携したいリモートリポジトリの名前またはURLで検索してください。\n",
    "    - リモート名を入力します。ここで```origin```にしておきましょう。\n",
    "```"
   ]
  },
  {
   "attachments": {},
   "cell_type": "markdown",
   "metadata": {},
   "source": [
    "### プッシュ\n",
    "\n",
    "リモートリポジトリにローカルリポジトリでの変更を反映する操作は「プッシュ」といいます。\n"
   ]
  },
  {
   "attachments": {},
   "cell_type": "markdown",
   "metadata": {},
   "source": [
    "````{tab-set}\n",
    "\n",
    "```{tab-item} ターミナル操作\n",
    "- ```git remote```でリモートリポジトリとの連携状況を確認します。\n",
    "- 以下のコマンドでローカルの```main```ブランチ変更をリモートの```origin```ブランチに送ります。\n",
    "<pre>\n",
    "git push -u origin main\n",
    "</pre>\n",
    "![](./Figure/git_push.png)\n",
    "\n",
    "```\n",
    "\n",
    "```{tab-item} VSCode操作\n",
    "- 「ソース管理」→ 「REMOTES」でリモートリポジトリとの連携状況を確認します。\n",
    "- 「ソース管理」→ 「```...```」→ 「プル、プッシュ」→「プッシュ」でクリックします。\n",
    "![](./Figure/git_push2.png)\n",
    "```"
   ]
  },
  {
   "cell_type": "markdown",
   "metadata": {},
   "source": []
  }
 ],
 "metadata": {
  "kernelspec": {
   "display_name": "Python 3",
   "language": "python",
   "name": "python3"
  },
  "language_info": {
   "name": "python",
   "version": "3.9.6"
  },
  "orig_nbformat": 4,
  "vscode": {
   "interpreter": {
    "hash": "31f2aee4e71d21fbe5cf8b01ff0e069b9275f58929596ceb00d14d90e3e16cd6"
   }
  }
 },
 "nbformat": 4,
 "nbformat_minor": 2
}
