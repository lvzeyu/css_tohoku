{
 "cells": [
  {
   "attachments": {},
   "cell_type": "markdown",
   "metadata": {},
   "source": [
    "# GitHub\n",
    "ここまで、Gitをローカル環境での利用方法をまなびました。Gitは分散型のバージョン管理システムで、同じプロジェクトに関するリポジトリをネットワーク上に複数置くこともできます。この性質を利用すると、色々なことができるようになります。\n",
    "\n",
    "- 複数人で一つのプログラムを編集したり、修正作業を依頼したりすること\n",
    "- 共同作業の進捗を管理すること\n",
    "- リモートリポジトリで作業をバックアップすること\n",
    "\n",
    "Git機能を搭載したプロジェクト管理サービスは数多くありますが、本授業はその中でも一番使われている[Github](https://github.com/)を利用していきます。"
   ]
  },
  {
   "attachments": {},
   "cell_type": "markdown",
   "metadata": {},
   "source": [
    "## GitHubの初期設定\n",
    "- GitHubアカウントを作成します。\n",
    "- ターミナルを開きます。\n",
    "- 次の git コマンドでユーザー情報を設定する。ここで、```user.name```はGitHubのユーザ名、```user.email```はGitHub登録用のメールを使ってください。\n",
    "```\n",
    "git config --global user.name \"First-name Family-name\"\n",
    "git config --global user.email \"username@example.com\"\n",
    "```\n",
    "- SSH (Secure Shell プロトコル) を使用して、GitHubのリポジトリ内のデータにアクセスして書き込むことができます。 SSH経由で接続する場合は、ローカルコンピューター上の秘密キーファイルを使用して認証します。SSH を設定するときは、新しいプライベート SSH キーを生成し、SSH エージェントに追加する必要があります。次のコマンドでSSHキーを生成する。\n",
    "```\n",
    "cd ~/.ssh\n",
    "ssh-keygen -t rsa\n",
    "```\n",
    "- 任意のパスフレーズを入力してEnter（2回）。パスフレーズが不要であれば**空欄のまま**Enterでよい。\n",
    "- SSH Keyを格納するディレクトリに移動します。```ls```でファイルを確認します。```id_rsa.pub```というファイルがあるはずです。\n",
    "- ```cat id_rsa.pub```でSSHキーのファイルを開く、表示された```ssh-rsa XXX```という形の内容はSSHキーになります。SHHキーをコピーします。\n",
    "- GitHub のアカウントにパブリック SSH キーを追加する必要もあります。Githubのページの右上で、プロフィール画像をクリックし、続いてSettings→Access→SSH and GPG keys→ New SSH keyという順番でクリックしてください。\n",
    "- クリップボードの内容を ```Key``` フィールドに貼り付けます。\n",
    "- ```Add SSH key```をクリックしてたら、SSHの登録が完了です。\n",
    "- ターミナルで```ssh -T git@github.com```を実行します。もしGitHubと連携できましたら、以下の内容が表示されます。\n",
    "```\n",
    "Hi USERNAME! You've successfully authenticated, but GitHub does not provide shell access.\n",
    "```\n"
   ]
  },
  {
   "attachments": {},
   "cell_type": "markdown",
   "metadata": {},
   "source": [
    "## リモートリポジトリに関する操作"
   ]
  },
  {
   "attachments": {},
   "cell_type": "markdown",
   "metadata": {},
   "source": [
    "### リモートリポジトリの作成と連携\n",
    "\n",
    "```{margin} \n",
    "GitHubの使い方は、公式のチュートリアルを適宜参照してください。\n",
    "```"
   ]
  },
  {
   "attachments": {},
   "cell_type": "markdown",
   "metadata": {},
   "source": [
    "````{tab-set}\n",
    "\n",
    "```{tab-item} ターミナル操作\n",
    "\n",
    "- ページの右上隅で、[$+$]ドロップダウンメニューを使用して、 [新しいリポジトリ] を選択します。\n",
    "![](https://docs.github.com/assets/cb-11427/mw-1000/images/help/repository/repo-create.webp)\n",
    "- リポジトリ名を入力します。必要に応じて、リポジトリの説明を追加します。 \n",
    "- リポジトリの可視性を選択してください。パブリックリポジトリには、インターネット上の誰でもアクセスできます。プライベートリポジトリには、自分や招待した人のみがアクセスできます。\n",
    "- [Create repository] (リポジトリの作成) をクリックします。\n",
    "- リモートリポジトリのSSHアドレスをコピーしておきます。\n",
    "![](./Figure/github1.png)\n",
    "- 以下のコマンドでリモートリポジトリとローカルリポジトリに対応づけます。各自のSSHアドレスを入れ替えてください。\n",
    "<pre>\n",
    "git remote add origin git@github.com:lvzeyu/test.git\n",
    "</pre>\n",
    "- ```git remote```でリモートリポジトリの一覧を確認します。正しく追加されたら、```origin```というリモートリポジトリが表示されます。\n",
    "```\n",
    "\n",
    "```{tab-item} VSCode操作\n",
    "- 新しいリモートリポジトリの作成\n",
    "    -「ソース管理」→「Branchの発行」をクリックします。\n",
    "    - 初回はGitHubとの連携認証を行います。指示に従って認証処理を行ってください。\n",
    "    - リモートリポジトリの名前を入力し、可視性を選択してください。\n",
    "![](./Figure/github2.png)\n",
    "- 既存リモートブランチの連携\n",
    "    - 「ソース管理」→ 「```...```」→ 「リモート追加」→「GitHubからリモートを追加」でクリックしてください。\n",
    "    -　連携したいリモートリポジトリの名前またはURLで検索してください。\n",
    "    - リモート名を入力します。ここで```origin```にしておきましょう。\n",
    "```"
   ]
  },
  {
   "attachments": {},
   "cell_type": "markdown",
   "metadata": {},
   "source": [
    "### プッシュ(Push)\n",
    "\n",
    "リモートリポジトリにローカルリポジトリでの変更を反映する操作は「プッシュ」といいます。"
   ]
  },
  {
   "attachments": {},
   "cell_type": "markdown",
   "metadata": {},
   "source": [
    "````{tab-set}\n",
    "\n",
    "```{tab-item} ターミナル操作\n",
    "- ```git remote```でリモートリポジトリとの連携状況を確認します。\n",
    "- 以下のコマンドでローカルの```main```ブランチ変更をリモートの```origin```ブランチに送ります。\n",
    "<pre>\n",
    "git push -u origin main\n",
    "</pre>\n",
    "![](./Figure/git_push.png)\n",
    "\n",
    "```\n",
    "\n",
    "```{tab-item} VSCode操作\n",
    "- 「ソース管理」→ 「REMOTES」でリモートリポジトリとの連携状況を確認します。\n",
    "- 「ソース管理」→ 「```...```」→ 「プル、プッシュ」→「プッシュ」でクリックします。\n",
    "![](./Figure/git_push2.png)\n",
    "```"
   ]
  },
  {
   "attachments": {},
   "cell_type": "markdown",
   "metadata": {},
   "source": [
    "### フェッチ(Fetch)"
   ]
  },
  {
   "attachments": {},
   "cell_type": "markdown",
   "metadata": {},
   "source": [
    "リモートリポジトリとローカルリポジトリ、それぞれの状況に違いがあるかを調べる操作は、フェッチ(Fetch)といいます。"
   ]
  },
  {
   "attachments": {},
   "cell_type": "markdown",
   "metadata": {},
   "source": [
    "````{tab-set}\n",
    "```{tab-item} 実習問題1\n",
    "- GitHubでリモートリポジトリのREADMEファイルを作成し、適宜内容を加えて、その変更をコミットします。\n",
    "```\n",
    "```{tab-item} 実習問題2\n",
    "- ローカルリポジトリの```myfile.txt```に任意の変更を加えて、その変更をコミットします。\n",
    "```\n",
    "````"
   ]
  },
  {
   "attachments": {},
   "cell_type": "markdown",
   "metadata": {},
   "source": [
    "```{margin}\n",
    "ログが途中までして表示されおらず、プロンプトが```「：」```となっている場合、```q```キーを押してください。\n",
    "```\n",
    "````{tab-set}\n",
    "\n",
    "```{tab-item} ターミナル操作\n",
    "- ```git fetch```でリモートリポジトリの状況を取ってきます。\n",
    "- ```git log origin/main```で確認すると、リモートリポジトリの状態が反映されたはずです。\n",
    "![](./Figure/git_fetch.png)\n",
    "\n",
    "```\n",
    "\n",
    "```{tab-item} VSCode操作\n",
    "- 「ソース管理」→ 「```...```」→ 「fetch」でフェッチを行います。\n",
    "- 「ソース管理」→ 「REMOTES」でリモートリポジトリとの最新状況を確認できます。\n",
    "![](./Figure/git_fetch2.png)\n",
    "```"
   ]
  },
  {
   "attachments": {},
   "cell_type": "markdown",
   "metadata": {},
   "source": [
    "### プル(Pull)"
   ]
  },
  {
   "attachments": {},
   "cell_type": "markdown",
   "metadata": {},
   "source": [
    "リモートリポジトリに加えられた変更がローカルリポジトリに取り込まれる操作は「プル(Pull)」といいます。"
   ]
  },
  {
   "attachments": {},
   "cell_type": "markdown",
   "metadata": {},
   "source": [
    "````{tab-set}\n",
    "\n",
    "```{tab-item} ターミナル操作\n",
    "- ```git pull```でプル操作を行います。\n",
    "- ローカルリポジトリの内容が更新されることを確認できます。\n",
    "\n",
    "```\n",
    "\n",
    "```{tab-item} VSCode操作\n",
    "- 「ソース管理」→ 「```...```」→ 「pull」でフェッチを行います。\n",
    "```"
   ]
  },
  {
   "attachments": {},
   "cell_type": "markdown",
   "metadata": {},
   "source": [
    "基本的に、リモートリポジトリで作業する場合、<ins>**作業前は必ずプルしよう**<ins>ことを覚えてください。\n",
    "\n",
    "最新の状態をプルを忘れ、古いファイルをしてしまった結果、プッシュをするときにエラーが発生し、そこでプルをするとコンフリクトが起きます。特に他のメンバーと共同作業をしているときコンフリクトが発生すると、解決するのはなかなか困難です。\n",
    "\n",
    "普段から作業を始まる前にプルを行い、1日中でに作業が一段落ついたときもプルするなど、できるだけ頻繁に最新の状態に保っておくと良いでしょう。"
   ]
  },
  {
   "attachments": {},
   "cell_type": "markdown",
   "metadata": {},
   "source": [
    "### revert\n",
    "\n",
    "ローカルリポジトリでは、コミットをした後間違いに気づいたときは、リセットをしてやり直すことができます。\n",
    "\n",
    "リモートリポジトリにプッシュしてしまった後で間違いに気づいたら、```revert```でコミットを取り消せることができます。"
   ]
  },
  {
   "attachments": {},
   "cell_type": "markdown",
   "metadata": {},
   "source": [
    "````{tab-set}\n",
    "```{tab-item} 実習問題\n",
    "- ```myfile.txt```での変更をリモートリポジトリにプッシュします。\n",
    "- GitHubでプッシュした変更を確認します。\n",
    "\n",
    "![](./Figure/revert1.png)\n",
    "```\n",
    "````"
   ]
  },
  {
   "attachments": {},
   "cell_type": "markdown",
   "metadata": {},
   "source": [
    "````{tab-set}\n",
    "\n",
    "```{tab-item} ターミナル操作\n",
    "- ```git revert```コマンドで打ち消したいコミットを指定します。例えば、\n",
    "<pre>\n",
    "git revert 1453d39\n",
    "</pre>\n",
    "- これで、コミットが打ち消されました。そのままプッシュします。\n",
    "<pre>\n",
    "git push\n",
    "</pre>\n",
    "- GitHubで、この前のコミットで変更した内容が取り消されたことを確認できました。\n",
    "\n",
    "![](./Figure/revert2.png)\n",
    "\n",
    "```\n",
    "```{tab-item} VSCode操作\n",
    "- 「ソース管理」→ 「COMMITS」でコミットの一覧を確認します。\n",
    "- 打ち消したいコミットを選択し、右クリックし、表示されたメニューに「Revert Commit」をクリックします。\n",
    "- プッシュします。\n",
    "- GitHubで、この前のコミットで変更した内容が取り消されたことを確認できました。\n",
    "```"
   ]
  },
  {
   "attachments": {},
   "cell_type": "markdown",
   "metadata": {},
   "source": [
    "```revert```は「打ち消し」を機能していますが、```reset```とは違って元に戻すのではなく<ins>「間違ったところを訂正する内容のコミットをする」</ins>といった作業を行なっています(revert→push)。\n",
    "\n",
    "なぜこのような設計になるといえば、共同作業の場合、他のメンバーがすでにプルして、変更などをしてしまっているかもしれません。その状態でリモートリポジトリの内容を後戻りさせてしまうと、その差分を埋めるのは困難です。つまり、本質的には、プッシュした内容を「なかったこと」にすることはできません。"
   ]
  },
  {
   "attachments": {},
   "cell_type": "markdown",
   "metadata": {},
   "source": [
    "### プルリクエスト(Pull request)\n",
    "\n",
    "ここまでに説明した通り、間違えた内容をプッシュすると、他のメンバーが知らねうちに間違えた内容を適用しまって、不具合の原因になります。\n",
    "\n",
    "このようなリスクを回避するために、通常はプッシュは慎重に行いながら、「プルリクエスト(Pull request)」を使うことが推奨されます。\n",
    "\n",
    "プルプルリクエストとは、マージを実行する際に、他のメンバーへの変更通知や変更箇所の比較表示など様々の確認を行うことができる機能です。この機能を使えば、プッシュする前にメンバーにレビューを依頼し、問題がない場合だけブランチにマージをして、変更を確定することができるようになります。"
   ]
  },
  {
   "attachments": {},
   "cell_type": "markdown",
   "metadata": {},
   "source": [
    "#### プルリクエストの実例\n",
    "ここで、```develop```ブランチで作業を行い、```main```ブランチにプルリクエストをして、確認する上でマージを実行する処理を行いましょう。"
   ]
  },
  {
   "attachments": {},
   "cell_type": "markdown",
   "metadata": {},
   "source": [
    "- ```develop```ブランチに切り替えて、適宜内容を変更した後、リモートリポジトリに変更内容をプッシュします。\n",
    "<pre>\n",
    "git checkout develop\n",
    "git push --set-upstream origin develop\n",
    "</pre>\n",
    "\n",
    "- GitHubで、ブランチの一覧で```main```と```develop```があることを確認できました。そして、```develop had recent pushes```というリマインドも表示されています。\n",
    "\n",
    "![](./Figure/pullrequest.png)\n",
    "\n",
    "- 「```Compare&pull request```」ボタンをクリックすると、プルリクエストの作成画面に切り替えます。適宜タイトルと説明を編集して、「```Create pull request```」ボタンを押します。\n",
    "\n",
    "![](./Figure/pullrequest2.png)\n",
    "\n",
    "- プルリクエストの画面では、プルリクエストが送られたブランチで行われたコミットの履歴を確認できます。\n",
    "\n",
    "![](./Figure/pullrequest3.png)\n",
    "\n",
    "- コミットをクリックすると、具体的な変更内容をチェックすることができます。もし気になる箇所があれば、マウスカーソルを近付けると「```+```」ボタンが表示されます。ボタンをクリックすると、コメント欄が開くので、コメントを記入し、「```Start a review```」をクリックします。\n",
    "\n",
    "![](./Figure/pullrequest4.png)\n",
    "\n",
    "- 右上の「```Finish your review```」ボタンをクリックすると、レニューの種類を選択できます。次に、「```Sumbit your review```」ボタンをクリックします。\n",
    "- 再びプルリクエストの画面を表示すると、コメントの履歴も表示されます。ここで引き続き議論することができます。このように、コメントをしたり、コミットとプッシュをしたり、作業を進めていくことができます。\n",
    "- 確認と修正が完了すると、「```Merge pull request```」ボタンをクリックします。次に、必要に応じてコミットメッセージを入力し、「```Confirm merge```」ボタンをクリックしたらマージ完了です。\n",
    "- ```main```ブランチにおける```develop```での変更が反映されますことを確認できます。"
   ]
  },
  {
   "attachments": {},
   "cell_type": "markdown",
   "metadata": {},
   "source": [
    "```{note} レビューの種類\n",
    "- コメント(Comment): コメントだけを送信します。\n",
    "- 承認(Approve): pull request で提案された変更のマージを承認します。\n",
    "- 変更依頼(Request changes): pull request をマージする前に対処する必要があることを見つけた際に、変更や確認を依頼します。\n",
    "```"
   ]
  },
  {
   "attachments": {},
   "cell_type": "markdown",
   "metadata": {},
   "source": [
    "### クローン(Clone)"
   ]
  },
  {
   "attachments": {},
   "cell_type": "markdown",
   "metadata": {},
   "source": [
    "リモートリポジトリをコピーしてローカルリポジトリを作る操作は、クローン(Clone)といいます。\n",
    "クローンをすると、リモートリポジトリの内容が丸ごと新しく作られたローカルリポジトリに複製され、そのリポジトリはクローン元のリモートリポジトリと紐ついた状態になります。\n",
    "\n",
    "こうして、複数の環境でプログラムの開発が行えるようになります。\n",
    "\n",
    "#### クローンのやり方\n",
    "\n",
    "ここで、この授業のリモートリポジトリをクローンしてみましょう。\n",
    "\n",
    "- クローンをするためには、まずは目的のリモートリポジトリのアドレスを手に入れる必要があります。リモートリポジトリの画面の右上の「Code」ボタンをクリクリします。\n",
    "- 「Clone」というエリアにアドレスで、「SSH」を選択し、リモートリポジトリのアドレスをコピーしておきます。``` git@github.com:lvzeyu/chss_2023_assignment.git```\n",
    "-  自分のPCでターミナルを開く、```git clone```コマンドにリモートリポジトリのアドレスを指定すると、そのコピーはディレクトリとしてローカルに作られます。\n",
    "\n",
    "```git clone  git@github.com:lvzeyu/chss_2023_assignment.git```\n"
   ]
  },
  {
   "attachments": {},
   "cell_type": "markdown",
   "metadata": {},
   "source": [
    "## GitHubでの共同作業\n",
    "\n",
    "### GitHub Flow"
   ]
  },
  {
   "attachments": {},
   "cell_type": "markdown",
   "metadata": {},
   "source": [
    "ここまで紹介したように、GitとGitHubは豊富な機能が備え、スムーズに開発と共同作業に資することができます。一方で、運用する場合にはルールを定めないとき様々な問題が起こりうるです。\n",
    "\n",
    "GitHubはプルリクエストを中心とした「GitHub Flow」というワークフローを提唱しています。\n",
    "\n",
    "### mainブランチでは開発しない\n",
    "- mainブランチは常に最新で正しい状態にしておく、<ins>直接mainブランチで作業などは行ってはいけません。</ins>\n",
    "\n",
    "### 開発する内容ごとに「トピックブランチ」を作成する\n",
    "- 機能の追加・変更、バグフィックスの際には、<ins>作業の内容ごとに「トピックブランチ」を分けます</ins>。トピックブランチの名前はできるだけ作業内容がわかるものとします。<ins>必ずmainブランチからトピックブランチを切って作業を行います。</ins>\n",
    "\n",
    "### ブランチは定期的にPushする\n",
    "- 定期的にローカルリポジトリからリモートリポジトリにPushして、ローカルでの作業内容をメンバーと共有しましょう。できるだけマージする際に生じる変更箇所のコンフリクトを回避します。\n",
    "\n",
    "### プルリクエストを使って作業に関するやりとりをする\n",
    "\n",
    "- プルリクエスト機能を活用して他のメンバーとコミュニケーションをとりましょう。何かコミュニケーションをしたいことがある場合、プルリクエストのコメント欄でやりとりをします。\n",
    "\n",
    "### プルリクエストを使ってにコードレビューを行う\n",
    "\n",
    "- トピックブランチでの作業が終わったら、レビュアーを指定してプルリクエストのレビューを依頼します。レビュアーは内容を確認して、承認またはコメントをします。\n",
    "\n",
    "### レビューが承認されたらmainブランチにマージする\n",
    "\n",
    "- コードレビューが承認されたらmainブランチにマージします。マージ後には、できるだけ早く動作検証を行います。問題がなければ、トピックブランチを削除してもよいでしょう。\n"
   ]
  },
  {
   "attachments": {},
   "cell_type": "markdown",
   "metadata": {},
   "source": [
    "![](./Figure/flow.png)\n"
   ]
  },
  {
   "attachments": {},
   "cell_type": "markdown",
   "metadata": {},
   "source": [
    "### GitHub Issues\n",
    "\n",
    "Issueとは「課題」という意味で、開発メンバー間で共有が必要な事項をスレッド形式で立てられる機能です。\n",
    "\n",
    "見つけた問題点を報告することはもちろん、それ以外にも作業の計画やコードに関する質問を手軽に投稿して、チームメンバーとコミュニケーションすることができます。\n",
    "\n",
    "Issueは共同作業のため豊富な機能が備えています。具体的には、[公式チュトリアル](https://docs.github.com/ja/issues/tracking-your-work-with-issues/about-issues)をご参照ください。\n",
    "\n",
    "- コミットまたPull RequestにIssueをリンクすることができます。\n",
    "- 他のメンバーにIssueおよびプルリクエストをアサインすることで、誰が特定の Issue やPull Requestで作業しているかが明確になります。\n",
    "- ラベルでIssueを分類します。"
   ]
  },
  {
   "attachments": {},
   "cell_type": "markdown",
   "metadata": {},
   "source": [
    "## GitHubに関する課題\n",
    "\n",
    "以下の手順に従って、課題提出するための[リポジトリ](https://github.com/lvzeyu/chss_2023_assignment)に課題を提出しましょう。\n",
    "\n",
    "- 最新の状況を取得するために、```git pull```を行なってください。 \n",
    "- ```main```ブランチに基づく、各自のブランチを作ってください。 ```git branch [name]```,[name]では誰なのかわかるように名前付けください。\n",
    "- 自分のブランチに移動してください(**ここ重要!**)。VSCodeの左下で自分のブランチにいるかどうかを確認してください。\n",
    "- ```課題0426```というフォルダの中に、```[name].txt```というファイルを作成してください([name]では誰なのかわかるように名前付けください。\n",
    "- ```git commit```で操作をコミットしてください。メッセージは```XXXが課題を提出しました```で書いてください。\n",
    "- コミットが終わりましたら、操作をリモートリポジトリにプッシュします。「VScode」→「ソース管理」→「Branchの発行」を押してください。\n",
    "- GitHubのリモートリポジトリでファイルが同期されたかどうかを確認してください。「 XXX had recent pushes less than a minute ago」のようなメッセージが表示されるはずです。\n",
    "- mainブランチにマージするのpull requestを行います。「Compare&pull request」を押して、次の画面でタイトルとコメントを適宜入力し、```Create pull request```を押してください。\n",
    "- 教員がpull requestを確認するから承認しますので、承認まで待ってください。"
   ]
  },
  {
   "cell_type": "markdown",
   "metadata": {},
   "source": []
  }
 ],
 "metadata": {
  "kernelspec": {
   "display_name": "Python 3",
   "language": "python",
   "name": "python3"
  },
  "language_info": {
   "name": "python",
   "version": "3.9.6"
  },
  "orig_nbformat": 4,
  "vscode": {
   "interpreter": {
    "hash": "31f2aee4e71d21fbe5cf8b01ff0e069b9275f58929596ceb00d14d90e3e16cd6"
   }
  }
 },
 "nbformat": 4,
 "nbformat_minor": 2
}
