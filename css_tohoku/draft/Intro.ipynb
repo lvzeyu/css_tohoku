{
 "cells": [
  {
   "attachments": {},
   "cell_type": "markdown",
   "metadata": {},
   "source": [
    "# Pythonの基本"
   ]
  },
  {
   "attachments": {},
   "cell_type": "markdown",
   "metadata": {},
   "source": [
    "## Pythonとは？"
   ]
  },
  {
   "attachments": {},
   "cell_type": "markdown",
   "metadata": {},
   "source": [
    "Pythonはデータ解析・機械学習のためのライブラリが充実しており、データ解析や機械学習の分野で最もよく使われている言語である。"
   ]
  },
  {
   "attachments": {},
   "cell_type": "markdown",
   "metadata": {},
   "source": [
    "### NumPy\n",
    "[**NumPy**](https://numpy.org/doc/)は、プログラミング言語Pythonにおいて数値計算を効率的に行うための拡張モジュールである。効率的な数値計算を行うための型付きの多次元配列（numpy.ndarray）のサポートをPythonに加えるとともに、それらを操作するための大規模な高水準の数学関数ライブラリを提供する。\n",
    "\n",
    "### pandas\n",
    "\n",
    "[**pandas**](https://pandas.pydata.org/docs/)とは、データ解析を容易にする機能を提供するPythonのデータ解析ライブラリです。\n",
    "Pandasの特徴には、データ操作のための高速で効率的なデータフレーム (DataFrame) という独自のデータ構造が提供されており、データの調整や変形など様々な処理が可能です。\n",
    "\n",
    "### matplotlib\n",
    "\n",
    " [**matplotlib**](https://matplotlib.org/stable/index.html)は、グラフ描画ライブラリである。オブジェクト指向のAPIを提供しており、様々な種類のグラフを描画する能力を持つ。\n",
    "\n",
    "### scikit-learn\n",
    "\n",
    "[**scikit-learn**](https://scikit-learn.org/stable/)は機械学習ライブラリである。教師あり学習、教師なし学習に関するアルゴリズム(SVM、Random Forest、回帰、クラスタリングなど)が一通り利用出来る上、データセットが豊富に揃っている。\n"
   ]
  },
  {
   "attachments": {},
   "cell_type": "markdown",
   "metadata": {},
   "source": [
    "## Python環境構築\n",
    "\n",
    "### Anaconda\n",
    "\n",
    "Python の環境を構築するもう一つの方法として [Anaconda](https://www.anaconda.com/)を利用することもできます。\n",
    "Anaconda はデータサイエンス向けの環境を提供するプラットフォームです。科学技術計算などを中心とした、多くのモジュールやツールのコンパイル済みバイナリファイルを提供しており、簡単にPythonを利用する環境を構築・管理できます。\n"
   ]
  },
  {
   "attachments": {},
   "cell_type": "markdown",
   "metadata": {},
   "source": [
    "### Anacondaのインストール\n",
    "\n",
    "下記の記事を参照してAnacondaをインストールします\n",
    "\n",
    "- [Windows版Anacondaのインストール](https://www.python.jp/install/anaconda/windows/install.html)\n",
    "- [MacOS版Anacondaのインストール](https://www.python.jp/install/anaconda/macos/install.html)\n",
    "- [Linux版Anacondaのインストール](https://www.python.jp/install/anaconda/unix/install.html)"
   ]
  },
  {
   "attachments": {},
   "cell_type": "markdown",
   "metadata": {},
   "source": [
    "### Conda環境の作成\n",
    "- Conda環境は、```conda create```コマンドでPython環境を作成します。つぎのコマンドは、```chss``` という名前で、```Python 3.10```の環境を作成します。\n",
    "```\n",
    "conda create --name chss python=3.10\n",
    "```\n",
    "- 作成した環境を確認します。\n",
    "```\n",
    "conda info -e\n",
    "```\n",
    "- 作成した環境を有効にする。\n",
    "```\n",
    "conda activate chss\n",
    "```"
   ]
  },
  {
   "attachments": {},
   "cell_type": "markdown",
   "metadata": {},
   "source": [
    "```{note}\n",
    "````{tab-item} python\n",
    "\n",
    "```{code-block} python\n",
    "\n",
    "!conda activate chss\n",
    "```\n",
    "````\n",
    "\n",
    "````{tab-item} terminal\n",
    "\n",
    "```{code-block} bash\n",
    "\n",
    "conda activate chss\n",
    "```\n",
    "````\n",
    "```"
   ]
  },
  {
   "attachments": {},
   "cell_type": "markdown",
   "metadata": {},
   "source": [
    "````{tab-item} c++\n",
    "\n",
    "```{code-block} c++\n",
    "\n",
    "int main(const int argc, const char **argv) {\n",
    "  return 0;\n",
    "}\n",
    "```\n",
    "````\n",
    "\n",
    "````{tab-item} python\n",
    "\n",
    "```{code-block} python\n",
    "\n",
    "def main():\n",
    "    return\n",
    "```\n",
    "````\n",
    "\n",
    "````{tab-item} java\n",
    "\n",
    "```{code-block} java\n",
    "\n",
    "class Main {\n",
    "    public static void main(String[] args) {\n",
    "    }\n",
    "}\n",
    "```\n",
    "````\n",
    "\n",
    "````{tab-item} julia\n",
    "\n",
    "```{code-block} julia\n",
    "\n",
    "function main()\n",
    "end\n",
    "```\n",
    "````\n",
    "\n",
    "````{tab-item} fortran\n",
    "\n",
    "```{code-block} fortran\n",
    "\n",
    "PROGRAM main\n",
    "END PROGRAM main\n",
    "```\n",
    "````"
   ]
  },
  {
   "attachments": {},
   "cell_type": "markdown",
   "metadata": {},
   "source": [
    "```{note}\n",
    "[Google Colaboratory](https://colab.research.google.com/)を通じて、ブラウザで簡単にPythonの実行環境を構築し、コードを記述、実行できる。\n",
    "本授業のノートブックは、Colaboratoryによる操作することは可能である。\n",
    "```"
   ]
  },
  {
   "cell_type": "markdown",
   "metadata": {},
   "source": []
  }
 ],
 "metadata": {
  "kernelspec": {
   "display_name": "base",
   "language": "python",
   "name": "python3"
  },
  "language_info": {
   "codemirror_mode": {
    "name": "ipython",
    "version": 3
   },
   "file_extension": ".py",
   "mimetype": "text/x-python",
   "name": "python",
   "nbconvert_exporter": "python",
   "pygments_lexer": "ipython3",
   "version": "3.9.12"
  },
  "orig_nbformat": 4,
  "vscode": {
   "interpreter": {
    "hash": "40d3a090f54c6569ab1632332b64b2c03c39dcf918b08424e98f38b5ae0af88f"
   }
  }
 },
 "nbformat": 4,
 "nbformat_minor": 2
}
