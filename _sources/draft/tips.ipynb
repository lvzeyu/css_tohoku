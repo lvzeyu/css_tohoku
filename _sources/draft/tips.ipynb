{
 "cells": [
  {
   "attachments": {},
   "cell_type": "markdown",
   "metadata": {},
   "source": [
    "# Tips"
   ]
  },
  {
   "attachments": {},
   "cell_type": "markdown",
   "metadata": {},
   "source": [
    "## VSCode"
   ]
  },
  {
   "attachments": {},
   "cell_type": "markdown",
   "metadata": {},
   "source": [
    "### 作業リポジトリを指定する\n",
    "\n",
    "gitリポジトリ内で複数のgitリポジトリの履歴を管理することができますが、場合による混乱になることもありますので、作業リポジトリを指定して、VSCodeを使う方がいいです。"
   ]
  },
  {
   "attachments": {},
   "cell_type": "markdown",
   "metadata": {},
   "source": [
    "- メニュー　→　ファイル　→ 新しいウィンドウ\n",
    "- 新しいウィンドウで、左側のツールバー　→　エクスプローラー　→ フォルダーを開く\n",
    "- 子ディレクトリを選択"
   ]
  },
  {
   "attachments": {},
   "cell_type": "markdown",
   "metadata": {},
   "source": [
    "## Git/GitHub\n"
   ]
  },
  {
   "attachments": {},
   "cell_type": "markdown",
   "metadata": {},
   "source": [
    "### 指定するリポジトリから```git pull```をする方法\n"
   ]
  },
  {
   "attachments": {},
   "cell_type": "markdown",
   "metadata": {},
   "source": [
    "```git pull <original_repository>```という形で、指定するリポジトリから```git pull```をすることができます。\n",
    "\n",
    "```https://github.com/lvzeyu/chss_2023_assignment```から最新の状況を同期する操作を例として説明します。"
   ]
  },
  {
   "attachments": {},
   "cell_type": "markdown",
   "metadata": {},
   "source": [
    "- ```cd ~/chss_2023_assignment```\n",
    "- ```git remote -v```でgitリポジトリに関連付けられたリモートリポジトリの一覧とそのURLを表示する\n",
    "- ```origin/upstream  git@github.com:lvzeyu/chss_2023_assignment.git```というリモートリポジトリが表示されることを確認\n",
    "- ```git branch <branch_name>```で自分のブランチを作成・移動\n",
    "- ```git pull origin main```または ```git pull upstream main```でローカルリポジトリブランチをリポジトリの最新状態に更新します。\n"
   ]
  },
  {
   "attachments": {},
   "cell_type": "markdown",
   "metadata": {},
   "source": [
    "````{tab-set}\n",
    "\n",
    "```{tab-item} ターミナル操作\n",
    "\n",
    "- ```cd ~/chss_2023_assignment```\n",
    "- ```git remote -v```でgitリポジトリに関連付けられたリモートリポジトリの一覧とそのURLを表示する\n",
    "- ```origin/upstream  git@github.com:lvzeyu/chss_2023_assignment.git```というリモートリポジトリが表示されることを確認\n",
    "- ```git branch <branch_name>```で自分のブランチを作成・移動\n",
    "- ```git pull origin main```または ```git pull upstream main```でローカルリポジトリブランチをリポジトリの最新状態に更新します。\n",
    "```\n",
    "\n",
    "```{tab-item} VSCode操作\n",
    "-「ソース管理」→「...」をクリックします。\n",
    "- 「プル、プッシュ」→ 「指定元からプル」\n",
    "- リモートリポジトリのブランチを指定してください。基本的には```origin main```または```upstream main```であるはずです。\n",
    "\n",
    "```"
   ]
  },
  {
   "attachments": {},
   "cell_type": "markdown",
   "metadata": {},
   "source": []
  }
 ],
 "metadata": {
  "language_info": {
   "name": "python"
  },
  "orig_nbformat": 4
 },
 "nbformat": 4,
 "nbformat_minor": 2
}
