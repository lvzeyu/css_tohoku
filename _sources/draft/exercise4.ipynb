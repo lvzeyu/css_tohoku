{
 "cells": [
  {
   "cell_type": "markdown",
   "metadata": {},
   "source": [
    "# 練習課題\n",
    "\n",
    "## 課題1\n",
    "以下の指示に従って、```Sphere```というクラスを作成しなさい。\n",
    "\n",
    "- インスタンス化時に```radius```という値を受け取る\n",
    "- ```surface_area```というメソッドで表面積を計算する\n",
    "\n",
    "$$ S = 4 \\pi r^2 \\$$\n",
    "\n",
    "- ```volume```というメソッドで体積を計算する\n",
    "\n",
    "$$ V = \\frac{4}{3} \\pi r^3 \\$$\n"
   ]
  },
  {
   "cell_type": "code",
   "execution_count": null,
   "metadata": {},
   "outputs": [],
   "source": [
    "class Sphere():\n",
    "    pass"
   ]
  },
  {
   "cell_type": "code",
   "execution_count": null,
   "metadata": {},
   "outputs": [],
   "source": [
    "s = Sphere(1)"
   ]
  },
  {
   "cell_type": "code",
   "execution_count": null,
   "metadata": {},
   "outputs": [],
   "source": [
    "s.surface_area()"
   ]
  },
  {
   "cell_type": "code",
   "execution_count": null,
   "metadata": {},
   "outputs": [],
   "source": [
    "s.volume()"
   ]
  },
  {
   "cell_type": "markdown",
   "metadata": {},
   "source": [
    "## 課題2\n",
    "\n",
    "「スイカ割りゲーム」のプログラムをクラスの形に整理してください。"
   ]
  },
  {
   "cell_type": "code",
   "execution_count": 1,
   "metadata": {},
   "outputs": [
    {
     "name": "stdout",
     "output_type": "stream",
     "text": [
      "プレイヤーが移動しました: (3, 4)\n",
      "プレイヤーが移動しました: (2, 4)\n",
      "プレイヤーが移動しました: (1, 4)\n",
      "プレイヤーが移動しました: (0, 4)\n",
      "スイカを見つけました！\n"
     ]
    }
   ],
   "source": [
    "import random\n",
    "import math\n",
    "\n",
    "BOARD_SIZE = 5  # ボードサイズを定義\n",
    "\n",
    "def generate_position(board_size):\n",
    "    # スイカとプレイヤーの初期位置をランダムに生成\n",
    "    return (random.randrange(0, board_size), random.randrange(0, board_size))\n",
    "\n",
    "def determine_move(player_pos, target_pos):\n",
    "    # スイカに向かってプレイヤーを移動させる方向を決定\n",
    "    current_x, current_y = player_pos\n",
    "    target_x, target_y = target_pos\n",
    "\n",
    "    move_x = 1 if current_x < target_x else -1 if current_x > target_x else 0\n",
    "    move_y = 1 if current_y < target_y else -1 if current_y > target_y else 0\n",
    "\n",
    "    return (move_x, move_y)\n",
    "\n",
    "def move_player(player_pos, move_x, move_y):\n",
    "    # プレイヤーの位置を更新\n",
    "    new_x = player_pos[0] + move_x\n",
    "    new_y = player_pos[1] + move_y\n",
    "    return (new_x, new_y)\n",
    "\n",
    "def play_game(board_size):\n",
    "    suika_pos = generate_position(board_size)\n",
    "    player_pos = generate_position(board_size)\n",
    "\n",
    "    while suika_pos != player_pos:\n",
    "        move_x, move_y = determine_move(player_pos, suika_pos)\n",
    "        player_pos = move_player(player_pos, move_x, move_y)\n",
    "        print(\"プレイヤーが移動しました:\", player_pos)\n",
    "\n",
    "    print(\"スイカを見つけました！\")\n",
    "\n",
    "# ゲームを開始\n",
    "play_game(BOARD_SIZE)"
   ]
  },
  {
   "cell_type": "markdown",
   "metadata": {},
   "source": [
    "- 属性\n",
    "    - ```board_size```\n",
    "    - ```suika_pos```\n",
    "    - ```player_pos```\n",
    "- メソッド\n",
    "    - ```calc_distance```: 二点間のユークリッド距離を計算\n",
    "    - ```move_player```: プレイヤーをスイカに向かって一歩移動させます。プレイヤーの位置を更新します。\n",
    "    - ```play_game```: ゲームのループを実行します。プレイヤーがスイカの位置に到達するまで、プレイヤーを移動させます。"
   ]
  },
  {
   "cell_type": "code",
   "execution_count": null,
   "metadata": {},
   "outputs": [],
   "source": [
    "class WatermelonHunt:\n",
    "    pass"
   ]
  },
  {
   "cell_type": "code",
   "execution_count": null,
   "metadata": {
    "tags": [
     "hide-input"
    ]
   },
   "outputs": [],
   "source": [
    "class WatermelonHunt:\n",
    "    def __init__(self, board_size=5):\n",
    "        self.board_size = _\n",
    "        self.suika_pos = _\n",
    "        self.player_pos = _\n",
    "    \n",
    "    def calc_distance(self, pos1, pos2):\n",
    "        pass\n",
    "    def move_player(self):\n",
    "        current_x, current_y = _\n",
    "        target_x, target_y =_\n",
    "\n",
    "        pass\n",
    "    \n",
    "    def play_game(self):\n",
    "        while self.suika_pos != self.player_pos:\n",
    "            pass"
   ]
  },
  {
   "cell_type": "markdown",
   "metadata": {},
   "source": [
    "## 課題3\n",
    "\n",
    "```verbose```という属性を追加する。\n",
    "\n",
    "verboseがTrueの場合、プレイヤーの移動やスイカまでの距離などの情報(```print(...)```)が出力されます。逆にverboseがFalseの場合、これらの情報は出力されません。"
   ]
  },
  {
   "cell_type": "code",
   "execution_count": null,
   "metadata": {},
   "outputs": [],
   "source": []
  },
  {
   "cell_type": "markdown",
   "metadata": {},
   "source": [
    "## 課題4\n",
    "\n",
    "クラスに移動数をカウントするメソッドを追加する。\n",
    "\n",
    "そのメソッドは、指定された回数のゲームをプレイし、それぞれのゲームでの移動回数の平均を計算します。これにより、ボードのサイズに応じてプレイヤーがスイカに到達するまでに必要な平均移動回数を推定することができます。"
   ]
  },
  {
   "cell_type": "code",
   "execution_count": null,
   "metadata": {},
   "outputs": [],
   "source": []
  },
  {
   "cell_type": "markdown",
   "metadata": {},
   "source": [
    "## 課題5\n",
    "\n",
    "複数のプレイヤーが参加し、最初にスイカに到達したプレイヤーが勝つゲームを想定します。\n",
    "\n",
    "```player_num```という属性を追加し、プレイヤーの数を制御します。\n",
    "\n",
    "各プレイヤーはそれぞれ独立してスイカに向かって移動し、ゲームの進行は各ターンで全プレイヤーが一度ずつ移動する。あるプレイヤーがスイカに到達したら、ゲームは終了します。\n",
    "\n",
    "optional: ```calculate_average_moves```メソッドも修正して、各プレイヤーの平均移動数を計算します。"
   ]
  },
  {
   "cell_type": "markdown",
   "metadata": {},
   "source": []
  },
  {
   "cell_type": "code",
   "execution_count": 1,
   "metadata": {
    "tags": [
     "hide-input"
    ]
   },
   "outputs": [],
   "source": [
    "class WatermelonHunt:\n",
    "  def __init__(self, player_num, board_size=5, verbose=True):\n",
    "    self.player_num = player_num\n",
    "    self.board_size = board_size\n",
    "    self.suika_pos = (random.randrange(0, self.board_size), random.randrange(0, self.board_size))\n",
    "    self.player_pos = [(random.randrange(0, self.board_size), random.randrange(0, self.board_size)) for _ in range(player_num)]\n",
    "    self.move_count = [0]*player_num"
   ]
  },
  {
   "cell_type": "code",
   "execution_count": null,
   "metadata": {},
   "outputs": [],
   "source": []
  }
 ],
 "metadata": {
  "kernelspec": {
   "display_name": "jupyterbook",
   "language": "python",
   "name": "python3"
  },
  "language_info": {
   "codemirror_mode": {
    "name": "ipython",
    "version": 3
   },
   "file_extension": ".py",
   "mimetype": "text/x-python",
   "name": "python",
   "nbconvert_exporter": "python",
   "pygments_lexer": "ipython3",
   "version": "3.12.1"
  }
 },
 "nbformat": 4,
 "nbformat_minor": 2
}
