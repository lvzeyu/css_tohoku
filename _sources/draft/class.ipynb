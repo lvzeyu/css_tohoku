{
 "cells": [
  {
   "attachments": {},
   "cell_type": "markdown",
   "metadata": {},
   "source": [
    "# オブジェクトとクラス\n",
    "\n",
    "今までさまざまな箇所で触れたように、Pythonに含まれるすべての要素がオブジェクトとして扱われます。\n",
    "\n",
    "オブジェクトは、**データ**と**メソッド**を持っています。\n",
    "\n",
    "例えば、```num=10```と書けば、値10の**整数型のオブジェクト**を作って、numという名前にオブジェクト参照を代入できます。整数型のオブジェクトは加算や乗算などのメソッドを持つため、```num+10```や```num*10```などの計算は可能です。\n",
    "\n",
    "もちろん、```\"cat\"```や```\"dog\"```などの文字列もオプジェットであり、メソッドを持っています。文字列のオプジェットに定義されるメソッドによる、```\"cat\"+\"dog\"```で文字列の結合のような文字列のオプジェット特有な操作が可能です。\n"
   ]
  },
  {
   "attachments": {},
   "cell_type": "markdown",
   "metadata": {},
   "source": [
    "Pythonのオブジェクトは**クラス**に基づいて作成されます。クラスはオブジェクトの設計図であり、オブジェクトが持つデータとメソッドを定義します。\n",
    "\n",
    "Pythonには、文字列、リスト、辞書などの標準データ型を作るための組み込みクラスがあります。\n",
    "\n",
    "新しいオブジェクトを作成する時、オブジェクトの内容と機能を規定するクラスを作る必要があります。"
   ]
  },
  {
   "attachments": {},
   "cell_type": "markdown",
   "metadata": {},
   "source": [
    "## ```class```によるクラスの定義"
   ]
  },
  {
   "attachments": {},
   "cell_type": "markdown",
   "metadata": {},
   "source": [
    "一般にクラス定義は、以下のような形をしています。\n",
    "\n",
    "```\n",
    "class クラス名:\n",
    "    def __init__(self):\n",
    "        実行文\n",
    "    def メソッド名(self, 引数, ...):\n",
    "        実行文\n",
    "    def メソッド名(self, 引数, ...):\n",
    "        実行文\n",
    "```\n",
    "\n",
    "### 初期化\n",
    "\n",
    "オプジェットを作成する際値を代入する場合は多いです。その場合。```__init__```という特殊なメソッドで、クラスのインスタンス化時に自動的に初期設定を行います。\n",
    "\n",
    "### メソッド\n",
    "\n",
    "ここで示したように、**メソッド**は、クラスの中の関数のことです。\n",
    "\n",
    "メソッド定義は関数定義と同じ形をしていますが、その最初の引数には慣例として```self```という名前を付けます。 この引数には、メソッドが呼び出されたオブジェクト自身が渡されます。メソッド内で自身の属性や他のメソッドにアクセスするために使用されます。"
   ]
  },
  {
   "cell_type": "code",
   "execution_count": 36,
   "metadata": {},
   "outputs": [],
   "source": [
    "class Person:\n",
    "    def __init__(self, name):\n",
    "        self.name = name\n",
    "\n",
    "    def say_hello(self):\n",
    "        print(\"Hello,\", self.name)"
   ]
  },
  {
   "cell_type": "code",
   "execution_count": 37,
   "metadata": {},
   "outputs": [],
   "source": [
    "marx=Person(\"Marx\")"
   ]
  },
  {
   "attachments": {},
   "cell_type": "markdown",
   "metadata": {},
   "source": [
    "上記の例では、\n",
    "- Personというクラスを定義する\n",
    "- ```Person(\"Marx\")```でオブジェクトのインスタンスを生成する\n",
    "- ```self```として新しい作ったオブジェクト、```name```としてもう一つの引数```\"Marx\"```を渡して、オブジェクトの```__init()__```メソッドを呼び出す\n",
    "- ```name```の値をオブジェクトに格納する\n",
    "- 新しいオブジェクトを返す、```Marx```という名前を与える"
   ]
  },
  {
   "attachments": {},
   "cell_type": "markdown",
   "metadata": {},
   "source": [
    "オブジェクトにおける値は、属性としてオブジェクトとともに保存されますので、直接に読み書きできます。"
   ]
  },
  {
   "cell_type": "code",
   "execution_count": 38,
   "metadata": {},
   "outputs": [
    {
     "data": {
      "text/plain": [
       "'Marx'"
      ]
     },
     "execution_count": 38,
     "metadata": {},
     "output_type": "execute_result"
    }
   ],
   "source": [
    "marx.name"
   ]
  },
  {
   "attachments": {},
   "cell_type": "markdown",
   "metadata": {},
   "source": [
    "オブジェクトのメソッドを呼び出します。"
   ]
  },
  {
   "cell_type": "code",
   "execution_count": 39,
   "metadata": {},
   "outputs": [
    {
     "name": "stdout",
     "output_type": "stream",
     "text": [
      "Hello, Marx\n"
     ]
    }
   ],
   "source": [
    "marx.say_hello()"
   ]
  },
  {
   "attachments": {},
   "cell_type": "markdown",
   "metadata": {},
   "source": [
    "- ここで注意してほしいのは、```Personクラス```内部では、```name```属性には```self.name```という形でアクセスできます。"
   ]
  },
  {
   "attachments": {},
   "cell_type": "markdown",
   "metadata": {},
   "source": [
    "異なる値を渡せば、```Personクラス```から新しいオブジェクトを作成できます。"
   ]
  },
  {
   "cell_type": "code",
   "execution_count": 40,
   "metadata": {},
   "outputs": [],
   "source": [
    "webber=Person(\"Webber\")"
   ]
  },
  {
   "cell_type": "code",
   "execution_count": 41,
   "metadata": {},
   "outputs": [
    {
     "data": {
      "text/plain": [
       "'Webber'"
      ]
     },
     "execution_count": 41,
     "metadata": {},
     "output_type": "execute_result"
    }
   ],
   "source": [
    "webber.name"
   ]
  },
  {
   "cell_type": "code",
   "execution_count": 42,
   "metadata": {},
   "outputs": [
    {
     "name": "stdout",
     "output_type": "stream",
     "text": [
      "Hello, Webber\n"
     ]
    }
   ],
   "source": [
    "webber.say_hello()"
   ]
  },
  {
   "attachments": {},
   "cell_type": "markdown",
   "metadata": {},
   "source": [
    "### 属性とメソッドの追加\n",
    "\n",
    "同じような形式で、属性とメソッドの追加しましょう。\n",
    "\n",
    "例えば、```Personクラス```に```birth```属性と```print_birth()```メソッドを追加するなら"
   ]
  },
  {
   "cell_type": "code",
   "execution_count": 43,
   "metadata": {},
   "outputs": [],
   "source": [
    "class Person:\n",
    "    def __init__(self, name, birth):\n",
    "        self.name = name\n",
    "        self.birth = birth\n",
    "\n",
    "    def say_hello(self):\n",
    "        print(\"Hello, my name is\", self.name)\n",
    "    \n",
    "    def print_birth(self):\n",
    "        print(\"{} was born in {}\".format(self.name,self.birth))"
   ]
  },
  {
   "cell_type": "code",
   "execution_count": 44,
   "metadata": {},
   "outputs": [],
   "source": [
    "sato=Person(\"Sato\", 2000)"
   ]
  },
  {
   "cell_type": "code",
   "execution_count": 45,
   "metadata": {},
   "outputs": [
    {
     "name": "stdout",
     "output_type": "stream",
     "text": [
      "Sato was born in 2000\n"
     ]
    }
   ],
   "source": [
    "sato.print_birth()"
   ]
  },
  {
   "attachments": {},
   "cell_type": "markdown",
   "metadata": {},
   "source": [
    "````{tab-set}\n",
    "```{tab-item} 実習問題1\n",
    "```Personクラス```に```current_year```という属性を追加してください。```death```で没年を受け取って、```print_death()```メソッドを追加する。\n",
    "```\n",
    "\n",
    "```{tab-item} 実習問題2\n",
    "```Personクラス```に```age()```年齢を計算するメソッドを追加してください。\n",
    "```\n",
    "\n",
    "```{tab-item} 実習問題3\n",
    "```Personクラス```をインスタント化にしてくだい。その際、```current_year```の値として2023を受け取って、年齢を計算してください。\n",
    "```\n",
    "\n",
    "````"
   ]
  },
  {
   "attachments": {},
   "cell_type": "markdown",
   "metadata": {},
   "source": [
    "## 親クラスからの継承"
   ]
  },
  {
   "attachments": {},
   "cell_type": "markdown",
   "metadata": {},
   "source": [
    "継承は、既存のクラスをもとにして、変更部分だけを与えることにより、 新たなクラスを定義する機能です。\n",
    "\n",
    "元のクラスは親クラスまたはスーパークラス、基底クラス、新しいクラスは子またはサブクラスと呼ばれます。\n",
    "\n",
    "以下の例では、```Person```クラスをもとにして```Student```クラスを定義しています。"
   ]
  },
  {
   "cell_type": "code",
   "execution_count": 46,
   "metadata": {},
   "outputs": [],
   "source": [
    "class Student(Person):\n",
    "    pass # 何もしない"
   ]
  },
  {
   "attachments": {},
   "cell_type": "markdown",
   "metadata": {},
   "source": [
    "クラスは他のクラスを継承したものかどうかは、```issubclass()```を使えば調べられます。"
   ]
  },
  {
   "cell_type": "code",
   "execution_count": 47,
   "metadata": {},
   "outputs": [
    {
     "data": {
      "text/plain": [
       "True"
      ]
     },
     "execution_count": 47,
     "metadata": {},
     "output_type": "execute_result"
    }
   ],
   "source": [
    "issubclass(Student, Person)"
   ]
  },
  {
   "attachments": {},
   "cell_type": "markdown",
   "metadata": {},
   "source": [
    "次に、継承を使用し、新しいクラスを作成してみよう。"
   ]
  },
  {
   "cell_type": "code",
   "execution_count": 48,
   "metadata": {},
   "outputs": [],
   "source": [
    "class Student(Person):\n",
    "    def __init__(self, name, birth, number):\n",
    "        super().__init__(name, birth)\n",
    "        self.number = number\n",
    "\n",
    "    def introduce(self):\n",
    "        super().say_hello()\n",
    "        print(\"I am a student.\")"
   ]
  },
  {
   "attachments": {},
   "cell_type": "markdown",
   "metadata": {},
   "source": [
    "```Student```クラスが```Person```クラスを継承する際、```__init__```メソッドでは```super()```を使用することにより、```Person```クラスの属性```name```と```birth```を継承できます。\n",
    "\n",
    "- ```super()```が親クラスの```Person```の定義を取り出す\n",
    "- ```super().__init__()```メソッド呼び出しは、```Person.__init__()```メソッドを呼び出す\n",
    "- ```self.number```は```Person```クラスに含まれていなく、```Student```クラスに新しい属性を追加する"
   ]
  },
  {
   "attachments": {},
   "cell_type": "markdown",
   "metadata": {},
   "source": [
    "さらに、```Student```クラスには```say_hello```メソッドなど親クラスである```Person```クラスで定義されたメソッドが追加されて、```super().say_hello()```という形でを呼び出されます。"
   ]
  },
  {
   "cell_type": "code",
   "execution_count": 49,
   "metadata": {},
   "outputs": [],
   "source": [
    "john = Student(\"John\", 2000, \"S12345\")"
   ]
  },
  {
   "cell_type": "code",
   "execution_count": 50,
   "metadata": {},
   "outputs": [
    {
     "data": {
      "text/plain": [
       "'John'"
      ]
     },
     "execution_count": 50,
     "metadata": {},
     "output_type": "execute_result"
    }
   ],
   "source": [
    "john.name"
   ]
  },
  {
   "cell_type": "code",
   "execution_count": 51,
   "metadata": {},
   "outputs": [
    {
     "data": {
      "text/plain": [
       "2000"
      ]
     },
     "execution_count": 51,
     "metadata": {},
     "output_type": "execute_result"
    }
   ],
   "source": [
    "john.birth"
   ]
  },
  {
   "cell_type": "code",
   "execution_count": 52,
   "metadata": {},
   "outputs": [
    {
     "data": {
      "text/plain": [
       "'S12345'"
      ]
     },
     "execution_count": 52,
     "metadata": {},
     "output_type": "execute_result"
    }
   ],
   "source": [
    "john.number"
   ]
  },
  {
   "attachments": {},
   "cell_type": "markdown",
   "metadata": {},
   "source": [
    "さらに、```Student```クラスには```say_hello```メソッドなど親クラスである```Person```クラスで定義されたメソッドが追加されて、```super().say_hello()```という形でを呼び出されます。"
   ]
  },
  {
   "cell_type": "code",
   "execution_count": 53,
   "metadata": {},
   "outputs": [
    {
     "name": "stdout",
     "output_type": "stream",
     "text": [
      "Hello, my name is John\n"
     ]
    }
   ],
   "source": [
    "john.say_hello()"
   ]
  },
  {
   "cell_type": "code",
   "execution_count": 54,
   "metadata": {},
   "outputs": [
    {
     "name": "stdout",
     "output_type": "stream",
     "text": [
      "Hello, my name is John\n",
      "I am a student.\n"
     ]
    }
   ],
   "source": [
    "john.introduce()"
   ]
  },
  {
   "attachments": {},
   "cell_type": "markdown",
   "metadata": {},
   "source": [
    "````{tab-set}\n",
    "```{tab-item} 実習問題1\n",
    "```Student```クラスが```Person```クラスを継承する際、```current_year```という属性も継承してくだい。\n",
    "\n",
    "```{tab-item} 実習問題2\n",
    "```Student```クラスに```print_age()```というメソッドを追加してくだい。```print_age()```は、親クラスで定義された```age()```メソッドで年齢を計算し、```{name} is {age} years old```という形でプリントしてください。例えば、名前は```sato```, 年齢は```23```の場合、```sato is 23 years old```が表示されるようにしてください。\n",
    "```\n",
    "\n",
    "````"
   ]
  },
  {
   "attachments": {},
   "cell_type": "markdown",
   "metadata": {},
   "source": [
    "## 特殊メソッド"
   ]
  },
  {
   "attachments": {},
   "cell_type": "markdown",
   "metadata": {},
   "source": [
    "- ```num=1+9```のようなコードを実行する際、値1と値9を持つ整数オブジェクトは、```+```が数学の足し算の意味で使われています\n",
    "\n",
    "- ```name='Karl'+'Marx'```のようなコードを実行する際、```+```が文字列の結合の意味で使われています。\n",
    "\n",
    "なぜPythonがどの使い方にすべきことを知るといえば、**特殊メソッド**で演算子の機能を定義しているわけです。"
   ]
  },
  {
   "attachments": {},
   "cell_type": "markdown",
   "metadata": {},
   "source": [
    "特殊メソッドは、クラスの振る舞いや組み込みの言語機能をカスタマイズするために使用されます。\n",
    "\n",
    "メソッド名の前後に2つのアンダースコア（ダブルアンダースコア）が付いていることが特徴です。\n",
    "\n",
    "既に紹介した```__init()__```は、初期化ための特殊メソッドとして知られており、オブジェクトが作成される際に自動的に呼び出されます。オブジェクトの初期化やインスタンス変数の設定など、初期化に必要な処理を実行します。"
   ]
  },
  {
   "attachments": {},
   "cell_type": "markdown",
   "metadata": {},
   "source": [
    "```{margin}\n",
    "特殊メソッドはPythonの言語機能と密接に関連しており、それらを正しく動作させるためには予約された名前が必要です。\n",
    "\n",
    "アンダースコアによって、これらの特殊メソッドが明示的に区別され、特殊メソッドと一般的なメソッドや変数名との間で名前の衝突を回避することができます。。\n",
    "```"
   ]
  },
  {
   "attachments": {},
   "cell_type": "markdown",
   "metadata": {},
   "source": [
    "次のコードは、```equal()```という通常のメソッドを定義します。\n",
    "\n",
    "このメソッドにより、文字列を小文字へ変換してから比較します。"
   ]
  },
  {
   "cell_type": "code",
   "execution_count": 55,
   "metadata": {},
   "outputs": [],
   "source": [
    "class Word:\n",
    "    def __init__(self, text):\n",
    "        self.text = text\n",
    "\n",
    "    def equal(self,word2):\n",
    "        return self.text.lower() == word2.text.lower()"
   ]
  },
  {
   "cell_type": "code",
   "execution_count": 56,
   "metadata": {},
   "outputs": [],
   "source": [
    "sendai=Word(\"Sendai\")\n",
    "sendai2=Word(\"sendai\")\n",
    "tokyo=Word(\"Tokyo\")"
   ]
  },
  {
   "cell_type": "code",
   "execution_count": 57,
   "metadata": {},
   "outputs": [
    {
     "data": {
      "text/plain": [
       "False"
      ]
     },
     "execution_count": 57,
     "metadata": {},
     "output_type": "execute_result"
    }
   ],
   "source": [
    "sendai.equal(tokyo)"
   ]
  },
  {
   "cell_type": "code",
   "execution_count": 58,
   "metadata": {},
   "outputs": [
    {
     "data": {
      "text/plain": [
       "True"
      ]
     },
     "execution_count": 58,
     "metadata": {},
     "output_type": "execute_result"
    }
   ],
   "source": [
    "sendai.equal(sendai2)"
   ]
  },
  {
   "cell_type": "code",
   "execution_count": 59,
   "metadata": {},
   "outputs": [
    {
     "data": {
      "text/plain": [
       "False"
      ]
     },
     "execution_count": 59,
     "metadata": {},
     "output_type": "execute_result"
    }
   ],
   "source": [
    "sendai == sendai2"
   ]
  },
  {
   "attachments": {},
   "cell_type": "markdown",
   "metadata": {},
   "source": [
    "ここで、組み込み型と同じように、```==```を使いたいときは、```equal()```メソッドを```__eq__```という特殊メソッドに変更します。"
   ]
  },
  {
   "cell_type": "code",
   "execution_count": 60,
   "metadata": {},
   "outputs": [],
   "source": [
    "class Word:\n",
    "    def __init__(self, text):\n",
    "        self.text = text\n",
    "\n",
    "    def __eq__(self,word2):\n",
    "        return self.text.lower() == word2.text.lower()"
   ]
  },
  {
   "cell_type": "code",
   "execution_count": 61,
   "metadata": {},
   "outputs": [],
   "source": [
    "sendai=Word(\"Sendai\")\n",
    "sendai2=Word(\"sendai\")\n",
    "tokyo=Word(\"Tokyo\")"
   ]
  },
  {
   "cell_type": "code",
   "execution_count": 62,
   "metadata": {},
   "outputs": [
    {
     "data": {
      "text/plain": [
       "True"
      ]
     },
     "execution_count": 62,
     "metadata": {},
     "output_type": "execute_result"
    }
   ],
   "source": [
    "sendai == sendai2"
   ]
  },
  {
   "cell_type": "code",
   "execution_count": 63,
   "metadata": {},
   "outputs": [
    {
     "data": {
      "text/plain": [
       "False"
      ]
     },
     "execution_count": 63,
     "metadata": {},
     "output_type": "execute_result"
    }
   ],
   "source": [
    "sendai == tokyo"
   ]
  },
  {
   "attachments": {},
   "cell_type": "markdown",
   "metadata": {},
   "source": [
    "| メソッド名              | 説明                                                                            |\n",
    "|----------------------|---------------------------------------------------------------------------------|\n",
    "| `__eq__(self, other)`  | `==`         |\n",
    "| `__ne__(self, other)`  | `!=`        |\n",
    "| `__lt__(self, other)`  | `<`          |\n",
    "| `__le__(self, other)`  | `<=`        |\n",
    "| `__gt__(self, other)`  | `>`          |\n",
    "| `__ge__(self, other)`  | `>=`          |\n",
    "\n"
   ]
  },
  {
   "attachments": {},
   "cell_type": "markdown",
   "metadata": {},
   "source": [
    "| メソッド名             | 説明                                                                                        |\n",
    "|----------------------|-----------------------------------------------------------------------------------------|\n",
    "| `__add__(self, other)`   | `+`                      |\n",
    "| `__sub__(self, other)`   | `-`                       |\n",
    "| `__mul__(self, other)`   | `*`                  |\n",
    "| `__truediv__(self, other)` |`/`                |\n",
    "| `__floordiv__(self, other)` | `//`                  |\n",
    "| `__mod__(self, other)`   | `%`                      |\n",
    "| `__pow__(self, other)`   | `**`                          |"
   ]
  },
  {
   "attachments": {},
   "cell_type": "markdown",
   "metadata": {},
   "source": [
    "| メソッド名             | 説明                                                                                        |\n",
    "|----------------------|-----------------------------------------------------------------------------------------|\n",
    "| `__str__(self)`   | オブジェクトの文字列表現を返す。```str()```                      |\n",
    "| `__repr__(self)`   | オブジェクトの公式な表現を返すために使用されます。```repr()```                       |\n",
    "| `__len__(self)`   | オブジェクトの長さ（要素数）を返すために使用されます。```len()```                 |\n"
   ]
  },
  {
   "cell_type": "code",
   "execution_count": 64,
   "metadata": {},
   "outputs": [],
   "source": [
    "class Word:\n",
    "    def __init__(self, text):\n",
    "        self.text = text\n",
    "    def __eq__(self,word2):\n",
    "        return self.text.lower() == word2.text.lower()\n",
    "    def __repr__(self):\n",
    "        return \"The word is {}\".format(self.text)\n",
    "    def __str__(self):\n",
    "        return self.text.upper()"
   ]
  },
  {
   "cell_type": "code",
   "execution_count": 65,
   "metadata": {},
   "outputs": [],
   "source": [
    "sendai=Word(\"Sendai\")"
   ]
  },
  {
   "cell_type": "code",
   "execution_count": 66,
   "metadata": {},
   "outputs": [
    {
     "data": {
      "text/plain": [
       "The word is Sendai"
      ]
     },
     "execution_count": 66,
     "metadata": {},
     "output_type": "execute_result"
    }
   ],
   "source": [
    "sendai"
   ]
  },
  {
   "cell_type": "code",
   "execution_count": 67,
   "metadata": {},
   "outputs": [
    {
     "name": "stdout",
     "output_type": "stream",
     "text": [
      "SENDAI\n"
     ]
    }
   ],
   "source": [
    "print(sendai)"
   ]
  },
  {
   "attachments": {},
   "cell_type": "markdown",
   "metadata": {},
   "source": [
    "````{tab-set}\n",
    "```{tab-item} 実習問題\n",
    "```クラスPersonに二人の年齢は等しいか、異なるか、より小さいか、より大きいか、を判断する演算を特殊メソッドで定義してください。\n",
    "````"
   ]
  },
  {
   "cell_type": "code",
   "execution_count": null,
   "metadata": {},
   "outputs": [],
   "source": []
  }
 ],
 "metadata": {
  "kernelspec": {
   "display_name": "jupyterbook",
   "language": "python",
   "name": "python3"
  },
  "language_info": {
   "codemirror_mode": {
    "name": "ipython",
    "version": 3
   },
   "file_extension": ".py",
   "mimetype": "text/x-python",
   "name": "python",
   "nbconvert_exporter": "python",
   "pygments_lexer": "ipython3",
   "version": "3.10.9"
  },
  "orig_nbformat": 4
 },
 "nbformat": 4,
 "nbformat_minor": 2
}
